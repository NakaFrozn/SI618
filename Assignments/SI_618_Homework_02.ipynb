{
 "cells": [
  {
   "cell_type": "markdown",
   "metadata": {
    "tags": []
   },
   "source": [
    "# SI 618 - Homework #2: More Data Manipulation"
   ]
  },
  {
   "cell_type": "markdown",
   "metadata": {},
   "source": [
    "# Background\n",
    "You're a Data Science Consultant for an eCommerce retail company, they've asked you to analyze their sales database. Unfortunately, they did nothing to prepare or clean their data, only exporting their 3 database tables as JSON files. It's up to you to clean their data, analyze it and answer questions to help drive business value!\n",
    "\n",
    "### The below files have been provided via the URLs shown:\n",
    "- invoices.json https://github.com/umsi-data-science/data/raw/main/invoices.json\n",
    "- items.json https://github.com/umsi-data-science/data/raw/main/items.json\n",
    "- purchases.json https://github.com/umsi-data-science/data/raw/main/purchases.json\n",
    "\n",
    "### They provided this data dictionary:\n",
    "\n",
    "**InvoiceNo:** Invoice number. Nominal, a 6-digit integral number uniquely assigned to each transaction.  \n",
    "**StockCode:** Product (item) code. Nominal, a 5-digit integral number uniquely assigned to each distinct product.  \n",
    "**Description:** Product (item) name. Nominal.   \n",
    "**Quantity:** The quantities of each product (item) per transaction. Numeric.  \n",
    "**InvoiceDate:** Invoice Date and time. Numeric, the day and time when each transaction was generated.  \n",
    "**UnitPrice:** Unit price. Numeric, Product price per unit in sterling.  \n",
    "**CustomerID:** Customer number. Nominal, a 5-digit integral number uniquely assigned to each customer.  \n",
    "**Country:** Country name. Nominal, the name of the country where each customer resides.  \n",
    "\n",
    "### A few notes from the company:\n",
    "* If the InvoiceNo starts with the letter 'c', it indicates a cancellation. When conducting this analysis we only want to analyze invoices that were shipped. (ie. not canceled)\n",
    "* The datasets should be able to be merged, each row in the invoice table corresponds to multiple rows in the purchases table.\n",
    "* To find out the description or unit cost of an item in the purchase table, the StockCode should be used to match up the product in the items table. \n",
    "* They mentioned that they've been having a difficult time lately joining the items and purchases table, maybe there's something wrong with the columns?"
   ]
  },
  {
   "cell_type": "markdown",
   "metadata": {},
   "source": [
    "### The total score for this assignment will be 100 points, consisting of:\n",
    "- 10 pt: Overall quality of spelling, grammar, punctuation, etc. of written sentences. ([Guide](https://drive.google.com/file/d/1L0P7xJwjUGBvyb49mL3dw1Bt7hzRTiTl/view ))\n",
    "- 10 pt: Codes are written in [PEP 8](https://www.python.org/dev/peps/pep-0008/) style.\n",
    "- 80 pt: Homework questions. \n",
    "\n",
    "Version 2024.01.23.2.CT"
   ]
  },
  {
   "cell_type": "markdown",
   "metadata": {},
   "source": [
    "# Answer the questions below.\n",
    "- write your Python code that can answer the following questions \n",
    "- explain **ALL** your answers in plain English. \n",
    "- you can use as many code and markdown cells as you need for each question (i.e. don't limit yourself to just one of each if you feel you need more)."
   ]
  },
  {
   "cell_type": "code",
   "execution_count": 94,
   "metadata": {},
   "outputs": [],
   "source": [
    "MY_UNIQNAME = 'jonasxie'  # replace this with your uniqname"
   ]
  },
  {
   "cell_type": "markdown",
   "metadata": {},
   "source": [
    "### <span style=\"color:magenta\"> Q1. [5 points] Describe the dataset. </span>\n",
    "1. Load the data. \n",
    "1. How many total invoices have been placed?\n",
    "1. How many unique customers are there?\n",
    "1. What is the total number of unique items?\n",
    "1. Are there any columns with null values?\n",
    "1. Thinking ahead, how do you think you would join the different tables? Please share 2-3 sentences about your approach."
   ]
  },
  {
   "cell_type": "code",
   "execution_count": 95,
   "metadata": {},
   "outputs": [],
   "source": [
    "# Dependencies\n",
    "import pandas as pd\n",
    "import numpy as np"
   ]
  },
  {
   "cell_type": "code",
   "execution_count": 96,
   "metadata": {},
   "outputs": [],
   "source": [
    "# load the json data from the link\n",
    "DATA_INVOICES = pd.read_json(\"https://github.com/umsi-data-science/data/raw/main/invoices.json\")\n",
    "DATA_ITEMS = pd.read_json(\"https://raw.githubusercontent.com/umsi-data-science/data/main/items.json\")\n",
    "DATA_PURCHASES = pd.read_json(\"https://raw.githubusercontent.com/umsi-data-science/data/main/purchases.json\")"
   ]
  },
  {
   "cell_type": "code",
   "execution_count": 97,
   "metadata": {},
   "outputs": [
    {
     "name": "stdout",
     "output_type": "stream",
     "text": [
      "<class 'pandas.core.frame.DataFrame'>\n",
      "RangeIndex: 25943 entries, 0 to 25942\n",
      "Data columns (total 4 columns):\n",
      " #   Column       Non-Null Count  Dtype  \n",
      "---  ------       --------------  -----  \n",
      " 0   InvoiceNo    25943 non-null  object \n",
      " 1   InvoiceDate  25943 non-null  object \n",
      " 2   CustomerID   22221 non-null  float64\n",
      " 3   Country      25943 non-null  object \n",
      "dtypes: float64(1), object(3)\n",
      "memory usage: 810.8+ KB\n"
     ]
    }
   ],
   "source": [
    "# Describe the datasets to have a basic sense of the datasets\n",
    "DATA_INVOICES.info()"
   ]
  },
  {
   "cell_type": "code",
   "execution_count": 98,
   "metadata": {},
   "outputs": [
    {
     "name": "stdout",
     "output_type": "stream",
     "text": [
      "<class 'pandas.core.frame.DataFrame'>\n",
      "RangeIndex: 4070 entries, 0 to 4069\n",
      "Data columns (total 3 columns):\n",
      " #   Column       Non-Null Count  Dtype  \n",
      "---  ------       --------------  -----  \n",
      " 0   StockCode    4070 non-null   object \n",
      " 1   Description  3894 non-null   object \n",
      " 2   UnitPrice    4070 non-null   float64\n",
      "dtypes: float64(1), object(2)\n",
      "memory usage: 95.5+ KB\n"
     ]
    }
   ],
   "source": [
    "DATA_ITEMS.info()"
   ]
  },
  {
   "cell_type": "code",
   "execution_count": 99,
   "metadata": {},
   "outputs": [
    {
     "name": "stdout",
     "output_type": "stream",
     "text": [
      "<class 'pandas.core.frame.DataFrame'>\n",
      "RangeIndex: 541909 entries, 0 to 541908\n",
      "Data columns (total 3 columns):\n",
      " #   Column       Non-Null Count   Dtype \n",
      "---  ------       --------------   ----- \n",
      " 0   InvoiceNo    541909 non-null  object\n",
      " 1   StockCodeSC  541909 non-null  object\n",
      " 2   Quantity     541909 non-null  int64 \n",
      "dtypes: int64(1), object(2)\n",
      "memory usage: 12.4+ MB\n"
     ]
    }
   ],
   "source": [
    "DATA_PURCHASES.info()"
   ]
  },
  {
   "cell_type": "code",
   "execution_count": 100,
   "metadata": {},
   "outputs": [
    {
     "data": {
      "text/plain": [
       "25943"
      ]
     },
     "execution_count": 100,
     "metadata": {},
     "output_type": "execute_result"
    }
   ],
   "source": [
    "# Calculate the number of the invoices\n",
    "num_invoices = DATA_INVOICES.shape[0]\n",
    "num_invoices"
   ]
  },
  {
   "cell_type": "markdown",
   "metadata": {},
   "source": [
    "**Q1.2**: There are 25943 invoices in the dataset."
   ]
  },
  {
   "cell_type": "code",
   "execution_count": 101,
   "metadata": {},
   "outputs": [
    {
     "data": {
      "text/plain": [
       "4372"
      ]
     },
     "execution_count": 101,
     "metadata": {},
     "output_type": "execute_result"
    }
   ],
   "source": [
    "# Q1.3 Calculate the number of unique customers\n",
    "num_unique_customers = DATA_INVOICES['CustomerID'].nunique()\n",
    "num_unique_customers"
   ]
  },
  {
   "cell_type": "markdown",
   "metadata": {},
   "source": [
    "**Q1.3**: There are 4372 unique customers in the dataset."
   ]
  },
  {
   "cell_type": "code",
   "execution_count": 102,
   "metadata": {},
   "outputs": [
    {
     "data": {
      "text/plain": [
       "4070"
      ]
     },
     "execution_count": 102,
     "metadata": {},
     "output_type": "execute_result"
    }
   ],
   "source": [
    "# Q1.4 Calculate the number of unique items\n",
    "num_unique_items = DATA_ITEMS['StockCode'].nunique()\n",
    "num_unique_items"
   ]
  },
  {
   "cell_type": "markdown",
   "metadata": {},
   "source": [
    "**Q1.4**: There are 4070 unique items in the dataset."
   ]
  },
  {
   "cell_type": "code",
   "execution_count": 103,
   "metadata": {},
   "outputs": [
    {
     "name": "stdout",
     "output_type": "stream",
     "text": [
      "Missing values in Invoice Dataset:\n",
      "InvoiceNo         0\n",
      "InvoiceDate       0\n",
      "CustomerID     3722\n",
      "Country           0\n",
      "dtype: int64\n",
      "\n",
      "\n",
      "Missing values in Items Dataset:\n",
      "StockCode        0\n",
      "Description    176\n",
      "UnitPrice        0\n",
      "dtype: int64\n",
      "\n",
      "\n",
      "Missing values in Purchases Dataset:\n",
      "InvoiceNo      0\n",
      "StockCodeSC    0\n",
      "Quantity       0\n",
      "dtype: int64\n"
     ]
    }
   ],
   "source": [
    "# Q1.5 Check the null values in each dataset\n",
    "print(\"Missing values in Invoice Dataset:\")\n",
    "print(DATA_INVOICES.isnull().sum())\n",
    "print(\"\\n\")\n",
    "print(\"Missing values in Items Dataset:\")\n",
    "print(DATA_ITEMS.isnull().sum())\n",
    "print(\"\\n\")\n",
    "print(\"Missing values in Purchases Dataset:\")\n",
    "print(DATA_PURCHASES.isnull().sum())"
   ]
  },
  {
   "cell_type": "markdown",
   "metadata": {},
   "source": [
    "**Q1.5**: There are 3722 null values in the `CustomerID` column of the invoice dataset. There are 176 null values in the `Description` column of the items dataset."
   ]
  },
  {
   "cell_type": "markdown",
   "metadata": {},
   "source": [
    "**Q1.6**: To join the datasets, I will first join the `Items` table to the `Purchases` by using the `StockCode` column in the `items` dataset and `StockCodeSC` in `Purchases` to match up products, add their `UnitPrice` and calculate the total spending for each product in the new `Purchase_Items` dataset. Then, I will use the `InvoiceNo` column in the `invoices` dataset to merge to the `Purchase_Items` dataset."
   ]
  },
  {
   "cell_type": "markdown",
   "metadata": {},
   "source": [
    "### <span style=\"color:magenta\"> Q2. [10 points] Invoice Analysis </span>\n",
    "1. For each customer calculate how many total invoices they have placed. List the top 10 customers who have placed an invoice in descending order.\n",
    "2. Perform a similar calculation but instead of the number of invoices, calculate the total quantity of items ordered for each customer. List the top 10 customers in descending order.\n",
    "3. Compare the top 10 customers, does it appear that the more invoices a customer have, the greater the total quantity of items? Explain your reasoning.\n",
    "\n",
    "_Hint: For 2.2, you may need to join two datasets together to answer the question._"
   ]
  },
  {
   "cell_type": "code",
   "execution_count": 104,
   "metadata": {},
   "outputs": [
    {
     "data": {
      "text/plain": [
       "CustomerID\n",
       "14911.0    249\n",
       "12748.0    225\n",
       "17841.0    169\n",
       "14606.0    130\n",
       "13089.0    118\n",
       "15311.0    118\n",
       "12971.0     89\n",
       "14527.0     86\n",
       "13408.0     81\n",
       "14646.0     77\n",
       "Name: count, dtype: int64"
      ]
     },
     "execution_count": 104,
     "metadata": {},
     "output_type": "execute_result"
    }
   ],
   "source": [
    "# Q2.1 List the top ten customers have placed most invoices\n",
    "DATA_INVOICES['CustomerID'].value_counts().head(10)"
   ]
  },
  {
   "cell_type": "code",
   "execution_count": 105,
   "metadata": {},
   "outputs": [
    {
     "data": {
      "text/plain": [
       "CustomerID\n",
       "17841.0    7983\n",
       "14911.0    5942\n",
       "14096.0    5128\n",
       "12748.0    4731\n",
       "14606.0    2840\n",
       "15311.0    2491\n",
       "14646.0    2085\n",
       "13089.0    1857\n",
       "13263.0    1677\n",
       "14298.0    1640\n",
       "Name: count, dtype: int64"
      ]
     },
     "execution_count": 105,
     "metadata": {},
     "output_type": "execute_result"
    }
   ],
   "source": [
    "# Q2.2 List the top ten customers have purchased the most items\n",
    "## left join purchase to the invoice dataset on the invoice number\n",
    "data_invoices_purchase = pd.merge(DATA_INVOICES, DATA_PURCHASES, on='InvoiceNo', how='left')\n",
    "\n",
    "## calculate the number of items purchased by each customer and list the top ten customers\n",
    "data_invoices_purchase['CustomerID'].value_counts().head(10)"
   ]
  },
  {
   "cell_type": "markdown",
   "metadata": {},
   "source": [
    "**Q2.3**: The top 10 customers who have placed the most invoices are not the same as the top 10 customers with most items. This could be due to the fact that some customers place more orders with less items for each order, while others place fewer but larger orders. It weakens the correlation between the quantities of invoices placed and the quantities of items ordered."
   ]
  },
  {
   "cell_type": "markdown",
   "metadata": {},
   "source": [
    "### <span style=\"color:magenta\"> Q3. [10 points] Item Analysis </span>\n",
    "1. What is the average item-unit price? \n",
    "1. What % of items are under $25?\n",
    "1. Generate a histogram of the unit prices. Select reasonable min/max values for the x-axis. Why did you pick those values? What do you notice about the histogram? "
   ]
  },
  {
   "cell_type": "code",
   "execution_count": 106,
   "metadata": {},
   "outputs": [
    {
     "data": {
      "text/plain": [
       "np.float64(6.91)"
      ]
     },
     "execution_count": 106,
     "metadata": {},
     "output_type": "execute_result"
    }
   ],
   "source": [
    "# Q3.1 Calculate the average item-unit price\n",
    "average_item_unit_price = DATA_ITEMS['UnitPrice'].mean()\n",
    "round(average_item_unit_price,2)"
   ]
  },
  {
   "cell_type": "markdown",
   "metadata": {},
   "source": [
    "**Q3.1**: The average item-unit price is about $6.91."
   ]
  },
  {
   "cell_type": "code",
   "execution_count": 107,
   "metadata": {},
   "outputs": [
    {
     "data": {
      "text/plain": [
       "0.987"
      ]
     },
     "execution_count": 107,
     "metadata": {},
     "output_type": "execute_result"
    }
   ],
   "source": [
    "# Q3.2 Calculate the percentage of items with price under $25\n",
    "round(DATA_ITEMS[DATA_ITEMS['UnitPrice'] < 25].shape[0] / DATA_ITEMS.shape[0],3)"
   ]
  },
  {
   "cell_type": "markdown",
   "metadata": {},
   "source": [
    "**Q3.2**: About 98.7% of the items that are under $25."
   ]
  },
  {
   "cell_type": "code",
   "execution_count": 108,
   "metadata": {},
   "outputs": [
    {
     "data": {
      "text/plain": [
       "<Axes: ylabel='Frequency'>"
      ]
     },
     "execution_count": 108,
     "metadata": {},
     "output_type": "execute_result"
    },
    {
     "data": {
      "image/png": "[encoded data removed]",
      "text/plain": [
       "<Figure size 640x480 with 1 Axes>"
      ]
     },
     "metadata": {},
     "output_type": "display_data"
    }
   ],
   "source": [
    "# Q3.3\n",
    "## Generate a histogram of the item prices\n",
    "DATA_ITEMS['UnitPrice'].plot(kind='hist', bins=10, range=(0,30), color='skyblue')"
   ]
  },
  {
   "cell_type": "code",
   "execution_count": 109,
   "metadata": {},
   "outputs": [
    {
     "data": {
      "text/plain": [
       "count     4070.000000\n",
       "mean         6.905278\n",
       "std        173.775142\n",
       "min          0.000000\n",
       "25%          1.250000\n",
       "50%          2.510000\n",
       "75%          4.250000\n",
       "max      11062.060000\n",
       "Name: UnitPrice, dtype: float64"
      ]
     },
     "execution_count": 109,
     "metadata": {},
     "output_type": "execute_result"
    }
   ],
   "source": [
    "DATA_ITEMS['UnitPrice'].describe() # check the descriptive statistics of the item prices\n",
    "# The quartile values show that 75% of the items have prices less than 4.25."
   ]
  },
  {
   "cell_type": "code",
   "execution_count": 110,
   "metadata": {},
   "outputs": [
    {
     "data": {
      "text/plain": [
       "0.992"
      ]
     },
     "execution_count": 110,
     "metadata": {},
     "output_type": "execute_result"
    }
   ],
   "source": [
    "# Check the percentage of items with price under $30\n",
    "round(DATA_ITEMS[DATA_ITEMS['UnitPrice'] <= 30].shape[0] / DATA_ITEMS.shape[0],3)\n",
    "# 99.2% of the items have prices less than $30."
   ]
  },
  {
   "cell_type": "markdown",
   "metadata": {},
   "source": [
    "**Q3.3**: I picked the min value as 0 and max value as 30 for the x-axis of the histogram. Setting min as 0 because a unit price cannot be negative. Also, the quartile shows that there are 25% of the items with a price below $1.25. Setting max as 30 is mainly because most of the items (99%) are priced under $30. Setting the max value as 30 allows us to see the detailed distribution of most of the items."
   ]
  },
  {
   "cell_type": "markdown",
   "metadata": {},
   "source": [
    "### <span style=\"color:magenta\"> Q4. [25 points] Order Trends </span>\n",
    "1. What are the top 10 most ordered items? Describe them. Do you see any trends?  \n",
    "1. What are the top 5 invoices that generated the most revenue? (Revenue is calculated by \"marking up\" the unit price by 25%.) \n",
    "1. Do the top 5 invoices contain any of the top 10 most ordered items?\n",
    "\n",
    "_Hint: When calculating the revenue we suggest adding a new column on the dataframe._"
   ]
  },
  {
   "cell_type": "code",
   "execution_count": 111,
   "metadata": {},
   "outputs": [],
   "source": [
    "# Q4.1 List the top 10 most ordered items.\n",
    "## Add \"SC\" to each StockCode in the item dataset to match the StockCode in the item dataset\n",
    "DATA_ITEMS['StockCodeSC'] =  'SC' + DATA_ITEMS['StockCode'].str.upper()"
   ]
  },
  {
   "cell_type": "code",
   "execution_count": 112,
   "metadata": {},
   "outputs": [
    {
     "name": "stdout",
     "output_type": "stream",
     "text": [
      "<class 'pandas.core.frame.DataFrame'>\n",
      "RangeIndex: 562799 entries, 0 to 562798\n",
      "Data columns (total 6 columns):\n",
      " #   Column       Non-Null Count   Dtype  \n",
      "---  ------       --------------   -----  \n",
      " 0   InvoiceNo    562799 non-null  object \n",
      " 1   StockCodeSC  562799 non-null  object \n",
      " 2   Quantity     562799 non-null  int64  \n",
      " 3   StockCode    560822 non-null  object \n",
      " 4   Description  559366 non-null  object \n",
      " 5   UnitPrice    560822 non-null  float64\n",
      "dtypes: float64(1), int64(1), object(4)\n",
      "memory usage: 25.8+ MB\n"
     ]
    }
   ],
   "source": [
    "## Join the item data to the purchase data to get the item description\n",
    "\n",
    "data_purchase_item = pd.merge(DATA_PURCHASES, DATA_ITEMS, on='StockCodeSC', how='left')\n",
    "data_purchase_item.info()"
   ]
  },
  {
   "cell_type": "code",
   "execution_count": 113,
   "metadata": {},
   "outputs": [
    {
     "data": {
      "text/html": [
       "<div>\n",
       "<style scoped>\n",
       "    .dataframe tbody tr th:only-of-type {\n",
       "        vertical-align: middle;\n",
       "    }\n",
       "\n",
       "    .dataframe tbody tr th {\n",
       "        vertical-align: top;\n",
       "    }\n",
       "\n",
       "    .dataframe thead th {\n",
       "        text-align: right;\n",
       "    }\n",
       "</style>\n",
       "<table border=\"1\" class=\"dataframe\">\n",
       "  <thead>\n",
       "    <tr style=\"text-align: right;\">\n",
       "      <th></th>\n",
       "      <th>Quantity</th>\n",
       "      <th>UnitPrice</th>\n",
       "    </tr>\n",
       "  </thead>\n",
       "  <tbody>\n",
       "    <tr>\n",
       "      <th>count</th>\n",
       "      <td>562799.000000</td>\n",
       "      <td>560822.000000</td>\n",
       "    </tr>\n",
       "    <tr>\n",
       "      <th>mean</th>\n",
       "      <td>9.505330</td>\n",
       "      <td>4.187066</td>\n",
       "    </tr>\n",
       "    <tr>\n",
       "      <th>std</th>\n",
       "      <td>214.246117</td>\n",
       "      <td>32.972881</td>\n",
       "    </tr>\n",
       "    <tr>\n",
       "      <th>min</th>\n",
       "      <td>-80995.000000</td>\n",
       "      <td>0.000000</td>\n",
       "    </tr>\n",
       "    <tr>\n",
       "      <th>25%</th>\n",
       "      <td>1.000000</td>\n",
       "      <td>1.250000</td>\n",
       "    </tr>\n",
       "    <tr>\n",
       "      <th>50%</th>\n",
       "      <td>3.000000</td>\n",
       "      <td>2.100000</td>\n",
       "    </tr>\n",
       "    <tr>\n",
       "      <th>75%</th>\n",
       "      <td>10.000000</td>\n",
       "      <td>4.150000</td>\n",
       "    </tr>\n",
       "    <tr>\n",
       "      <th>max</th>\n",
       "      <td>80995.000000</td>\n",
       "      <td>11062.060000</td>\n",
       "    </tr>\n",
       "  </tbody>\n",
       "</table>\n",
       "</div>"
      ],
      "text/plain": [
       "            Quantity      UnitPrice\n",
       "count  562799.000000  560822.000000\n",
       "mean        9.505330       4.187066\n",
       "std       214.246117      32.972881\n",
       "min    -80995.000000       0.000000\n",
       "25%         1.000000       1.250000\n",
       "50%         3.000000       2.100000\n",
       "75%        10.000000       4.150000\n",
       "max     80995.000000   11062.060000"
      ]
     },
     "execution_count": 113,
     "metadata": {},
     "output_type": "execute_result"
    }
   ],
   "source": [
    "## Check the descriptive statistics\n",
    "data_purchase_item.describe()\n",
    "## Found abnormal values in the Quantity column"
   ]
  },
  {
   "cell_type": "code",
   "execution_count": 114,
   "metadata": {},
   "outputs": [],
   "source": [
    "## Replace the negative values in the Quantity column with NA\n",
    "data_purchase_item['Quantity'] = data_purchase_item['Quantity'].apply(lambda x: x if x > 0 else np.nan)"
   ]
  },
  {
   "cell_type": "code",
   "execution_count": 115,
   "metadata": {},
   "outputs": [
    {
     "data": {
      "text/html": [
       "<div>\n",
       "<style scoped>\n",
       "    .dataframe tbody tr th:only-of-type {\n",
       "        vertical-align: middle;\n",
       "    }\n",
       "\n",
       "    .dataframe tbody tr th {\n",
       "        vertical-align: top;\n",
       "    }\n",
       "\n",
       "    .dataframe thead th {\n",
       "        text-align: right;\n",
       "    }\n",
       "</style>\n",
       "<table border=\"1\" class=\"dataframe\">\n",
       "  <thead>\n",
       "    <tr style=\"text-align: right;\">\n",
       "      <th></th>\n",
       "      <th>StockCodeSC</th>\n",
       "      <th>Description</th>\n",
       "      <th>order_count</th>\n",
       "    </tr>\n",
       "  </thead>\n",
       "  <tbody>\n",
       "    <tr>\n",
       "      <th>3279</th>\n",
       "      <td>SC85123A</td>\n",
       "      <td>WHITE HANGING HEART T-LIGHT HOLDER</td>\n",
       "      <td>4626</td>\n",
       "    </tr>\n",
       "    <tr>\n",
       "      <th>1289</th>\n",
       "      <td>SC22423</td>\n",
       "      <td>REGENCY CAKESTAND 3 TIER</td>\n",
       "      <td>2203</td>\n",
       "    </tr>\n",
       "    <tr>\n",
       "      <th>3263</th>\n",
       "      <td>SC85099B</td>\n",
       "      <td>JUMBO BAG RED RETROSPOT</td>\n",
       "      <td>2159</td>\n",
       "    </tr>\n",
       "    <tr>\n",
       "      <th>2818</th>\n",
       "      <td>SC82494L</td>\n",
       "      <td>WOODEN FRAME ANTIQUE WHITE</td>\n",
       "      <td>1886</td>\n",
       "    </tr>\n",
       "    <tr>\n",
       "      <th>2634</th>\n",
       "      <td>SC47566</td>\n",
       "      <td>PARTY BUNTING</td>\n",
       "      <td>1727</td>\n",
       "    </tr>\n",
       "    <tr>\n",
       "      <th>3265</th>\n",
       "      <td>SC85099F</td>\n",
       "      <td>JUMBO BAG STRAWBERRY</td>\n",
       "      <td>1684</td>\n",
       "    </tr>\n",
       "    <tr>\n",
       "      <th>168</th>\n",
       "      <td>SC20725</td>\n",
       "      <td>LUNCH BAG RED RETROSPOT</td>\n",
       "      <td>1639</td>\n",
       "    </tr>\n",
       "    <tr>\n",
       "      <th>3099</th>\n",
       "      <td>SC84879</td>\n",
       "      <td>ASSORTED COLOUR BIRD ORNAMENT</td>\n",
       "      <td>1502</td>\n",
       "    </tr>\n",
       "    <tr>\n",
       "      <th>1572</th>\n",
       "      <td>SC22720</td>\n",
       "      <td>SET OF 3 CAKE TINS PANTRY DESIGN</td>\n",
       "      <td>1477</td>\n",
       "    </tr>\n",
       "    <tr>\n",
       "      <th>1089</th>\n",
       "      <td>SC22197</td>\n",
       "      <td>SMALL POPCORN HOLDER</td>\n",
       "      <td>1476</td>\n",
       "    </tr>\n",
       "  </tbody>\n",
       "</table>\n",
       "</div>"
      ],
      "text/plain": [
       "     StockCodeSC                         Description  order_count\n",
       "3279    SC85123A  WHITE HANGING HEART T-LIGHT HOLDER         4626\n",
       "1289     SC22423            REGENCY CAKESTAND 3 TIER         2203\n",
       "3263    SC85099B             JUMBO BAG RED RETROSPOT         2159\n",
       "2818    SC82494L         WOODEN FRAME ANTIQUE WHITE          1886\n",
       "2634     SC47566                       PARTY BUNTING         1727\n",
       "3265    SC85099F                JUMBO BAG STRAWBERRY         1684\n",
       "168      SC20725             LUNCH BAG RED RETROSPOT         1639\n",
       "3099     SC84879       ASSORTED COLOUR BIRD ORNAMENT         1502\n",
       "1572     SC22720   SET OF 3 CAKE TINS PANTRY DESIGN          1477\n",
       "1089     SC22197                SMALL POPCORN HOLDER         1476"
      ]
     },
     "execution_count": 115,
     "metadata": {},
     "output_type": "execute_result"
    }
   ],
   "source": [
    "## Calculate the number of orders for each item, list the top 10 items and their descriptions\n",
    "item_orders = data_purchase_item.groupby(['StockCodeSC', 'Description']).size().reset_index(name='order_count')\n",
    "item_orders.sort_values('order_count', ascending=False).head(10)"
   ]
  },
  {
   "cell_type": "markdown",
   "metadata": {},
   "source": [
    "**Q4.1**: The top 10 most ordered items are mostly small necessities and party supplies. The most ordered items include holder and bags, such as \"Jumbo Bag Red Retrospot\". Party supplies are also very popular, such as cake stands and \"party bunting\". "
   ]
  },
  {
   "cell_type": "code",
   "execution_count": 116,
   "metadata": {},
   "outputs": [],
   "source": [
    "# Q4.2 Calculate the top 5 invoices with the highest revenue\n",
    "## Join Calculate the total revenue for each purchase\n",
    "data_purchase_item['Revenue'] = data_purchase_item['Quantity'] * data_purchase_item['UnitPrice'] * 0.25"
   ]
  },
  {
   "cell_type": "code",
   "execution_count": 117,
   "metadata": {},
   "outputs": [],
   "source": [
    "# Group the data by invoice number and calculate the total revenue for each invoice\n",
    "top_invoices = data_purchase_item.groupby('InvoiceNo')['Revenue'].sum().reset_index(name='total_revenue')\n",
    "top_invoices = top_invoices.sort_values('total_revenue', ascending=False).head(5)"
   ]
  },
  {
   "cell_type": "markdown",
   "metadata": {},
   "source": [
    "The top 5 invoices that generated the most revenue are 547966, 581583, 541431, 556231 and 550461. The invoice with the most revenue generated 142442.5 in total."
   ]
  },
  {
   "cell_type": "code",
   "execution_count": 118,
   "metadata": {},
   "outputs": [
    {
     "data": {
      "text/html": [
       "<div>\n",
       "<style scoped>\n",
       "    .dataframe tbody tr th:only-of-type {\n",
       "        vertical-align: middle;\n",
       "    }\n",
       "\n",
       "    .dataframe tbody tr th {\n",
       "        vertical-align: top;\n",
       "    }\n",
       "\n",
       "    .dataframe thead th {\n",
       "        text-align: right;\n",
       "    }\n",
       "</style>\n",
       "<table border=\"1\" class=\"dataframe\">\n",
       "  <thead>\n",
       "    <tr style=\"text-align: right;\">\n",
       "      <th></th>\n",
       "      <th>InvoiceNo</th>\n",
       "      <th>Description</th>\n",
       "      <th>Quantity</th>\n",
       "      <th>UnitPrice</th>\n",
       "      <th>Revenue</th>\n",
       "    </tr>\n",
       "  </thead>\n",
       "  <tbody>\n",
       "    <tr>\n",
       "      <th>64843</th>\n",
       "      <td>541431</td>\n",
       "      <td>MEDIUM CERAMIC TOP STORAGE JAR</td>\n",
       "      <td>74215.0</td>\n",
       "      <td>1.04</td>\n",
       "      <td>19295.900</td>\n",
       "    </tr>\n",
       "    <tr>\n",
       "      <th>143119</th>\n",
       "      <td>547966</td>\n",
       "      <td>DOTCOM POSTAGE</td>\n",
       "      <td>1000.0</td>\n",
       "      <td>569.77</td>\n",
       "      <td>142442.500</td>\n",
       "    </tr>\n",
       "    <tr>\n",
       "      <th>168181</th>\n",
       "      <td>550461</td>\n",
       "      <td>WHITE HANGING HEART T-LIGHT HOLDER</td>\n",
       "      <td>1930.0</td>\n",
       "      <td>2.55</td>\n",
       "      <td>1230.375</td>\n",
       "    </tr>\n",
       "    <tr>\n",
       "      <th>168182</th>\n",
       "      <td>550461</td>\n",
       "      <td>WHITE HANGING HEART T-LIGHT HOLDER</td>\n",
       "      <td>1930.0</td>\n",
       "      <td>6.77</td>\n",
       "      <td>3266.525</td>\n",
       "    </tr>\n",
       "    <tr>\n",
       "      <th>168183</th>\n",
       "      <td>550461</td>\n",
       "      <td>None</td>\n",
       "      <td>1300.0</td>\n",
       "      <td>0.00</td>\n",
       "      <td>0.000</td>\n",
       "    </tr>\n",
       "    <tr>\n",
       "      <th>168184</th>\n",
       "      <td>550461</td>\n",
       "      <td>DOORMAT FAIRY CAKE</td>\n",
       "      <td>670.0</td>\n",
       "      <td>7.95</td>\n",
       "      <td>1331.625</td>\n",
       "    </tr>\n",
       "    <tr>\n",
       "      <th>168185</th>\n",
       "      <td>550461</td>\n",
       "      <td>GIN + TONIC DIET METAL SIGN</td>\n",
       "      <td>2000.0</td>\n",
       "      <td>2.10</td>\n",
       "      <td>1050.000</td>\n",
       "    </tr>\n",
       "    <tr>\n",
       "      <th>168186</th>\n",
       "      <td>550461</td>\n",
       "      <td>FAIRY CAKE FLANNEL ASSORTED COLOUR</td>\n",
       "      <td>3114.0</td>\n",
       "      <td>2.55</td>\n",
       "      <td>1985.175</td>\n",
       "    </tr>\n",
       "    <tr>\n",
       "      <th>230855</th>\n",
       "      <td>556231</td>\n",
       "      <td>WHITE HANGING HEART T-LIGHT HOLDER</td>\n",
       "      <td>4000.0</td>\n",
       "      <td>2.55</td>\n",
       "      <td>2550.000</td>\n",
       "    </tr>\n",
       "    <tr>\n",
       "      <th>230856</th>\n",
       "      <td>556231</td>\n",
       "      <td>WHITE HANGING HEART T-LIGHT HOLDER</td>\n",
       "      <td>4000.0</td>\n",
       "      <td>6.77</td>\n",
       "      <td>6770.000</td>\n",
       "    </tr>\n",
       "    <tr>\n",
       "      <th>561273</th>\n",
       "      <td>581483</td>\n",
       "      <td>PAPER CRAFT , LITTLE BIRDIE</td>\n",
       "      <td>80995.0</td>\n",
       "      <td>2.08</td>\n",
       "      <td>42117.400</td>\n",
       "    </tr>\n",
       "  </tbody>\n",
       "</table>\n",
       "</div>"
      ],
      "text/plain": [
       "       InvoiceNo                         Description  Quantity  UnitPrice  \\\n",
       "64843     541431      MEDIUM CERAMIC TOP STORAGE JAR   74215.0       1.04   \n",
       "143119    547966                      DOTCOM POSTAGE    1000.0     569.77   \n",
       "168181    550461  WHITE HANGING HEART T-LIGHT HOLDER    1930.0       2.55   \n",
       "168182    550461  WHITE HANGING HEART T-LIGHT HOLDER    1930.0       6.77   \n",
       "168183    550461                                None    1300.0       0.00   \n",
       "168184    550461                  DOORMAT FAIRY CAKE     670.0       7.95   \n",
       "168185    550461         GIN + TONIC DIET METAL SIGN    2000.0       2.10   \n",
       "168186    550461  FAIRY CAKE FLANNEL ASSORTED COLOUR    3114.0       2.55   \n",
       "230855    556231  WHITE HANGING HEART T-LIGHT HOLDER    4000.0       2.55   \n",
       "230856    556231  WHITE HANGING HEART T-LIGHT HOLDER    4000.0       6.77   \n",
       "561273    581483         PAPER CRAFT , LITTLE BIRDIE   80995.0       2.08   \n",
       "\n",
       "           Revenue  \n",
       "64843    19295.900  \n",
       "143119  142442.500  \n",
       "168181    1230.375  \n",
       "168182    3266.525  \n",
       "168183       0.000  \n",
       "168184    1331.625  \n",
       "168185    1050.000  \n",
       "168186    1985.175  \n",
       "230855    2550.000  \n",
       "230856    6770.000  \n",
       "561273   42117.400  "
      ]
     },
     "execution_count": 118,
     "metadata": {},
     "output_type": "execute_result"
    }
   ],
   "source": [
    "## List out the purchased items for the top 5 invoices\n",
    "top_invoices_index = top_invoices['InvoiceNo'].head(5) # retrieve the index of the top 5 invoices\n",
    "data_purchase_item[data_purchase_item['InvoiceNo'].isin(top_invoices_index)][['InvoiceNo',\n",
    "                                                                            'Description',\n",
    "                                                                            'Quantity',\n",
    "                                                                            'UnitPrice',\n",
    "                                                                            'Revenue']]"
   ]
  },
  {
   "cell_type": "markdown",
   "metadata": {},
   "source": [
    "**Q4.3**: The top 5 invoices include the \"WHITE HANGING HEART T-LIGHT HOLDER\" which is also one of the top 10 most ordered items."
   ]
  },
  {
   "cell_type": "markdown",
   "metadata": {},
   "source": [
    "### <span style=\"color:magenta\"> Q5. [30 points] Customer Analysis </span>\n",
    "1. Classify customers into segments based on the total revenue they have generated for the company.\n",
    " * low value: less than \\$1750  \n",
    " * medium value: between 1750 and 8250 dollars\n",
    " * high value: greater than \\$8250\n",
    "1. How many customers are in each segment? \n",
    "1. Using the pivot table function, create a table that displays the average order quantity of each stock code for a given segment.\n",
    "1. Are the items with the highest average order quantity generally the same across segments? Explain your reasoning. \n",
    "1. Choose three items and discuss any trends/differences you notice across the three segments.\n",
    "\n",
    "_Hint: When calculating the segment, we suggest constructing a new dataframe as an intermediary step with the columns: CustomerID, Revenue, Segment._"
   ]
  },
  {
   "cell_type": "code",
   "execution_count": 128,
   "metadata": {},
   "outputs": [],
   "source": [
    "# Q5.1 Classify customers into segments based on the total revenue\n",
    "## Join the purchase data to the invoice data to get the total revenue for each invoice\n",
    "data_invoice_purchase = pd.merge(DATA_INVOICES, data_purchase_item, on='InvoiceNo', how='left')"
   ]
  },
  {
   "cell_type": "code",
   "execution_count": 129,
   "metadata": {},
   "outputs": [],
   "source": [
    "## Calculate the total revenue for each customer and save the data to a new dataframe\n",
    "customer_revenue = data_invoice_purchase.groupby('CustomerID')['Revenue'].sum().reset_index(name='Revenue')"
   ]
  },
  {
   "cell_type": "code",
   "execution_count": 130,
   "metadata": {},
   "outputs": [
    {
     "data": {
      "text/html": [
       "<div>\n",
       "<style scoped>\n",
       "    .dataframe tbody tr th:only-of-type {\n",
       "        vertical-align: middle;\n",
       "    }\n",
       "\n",
       "    .dataframe tbody tr th {\n",
       "        vertical-align: top;\n",
       "    }\n",
       "\n",
       "    .dataframe thead th {\n",
       "        text-align: right;\n",
       "    }\n",
       "</style>\n",
       "<table border=\"1\" class=\"dataframe\">\n",
       "  <thead>\n",
       "    <tr style=\"text-align: right;\">\n",
       "      <th></th>\n",
       "      <th>CustomerID</th>\n",
       "      <th>Revenue</th>\n",
       "    </tr>\n",
       "  </thead>\n",
       "  <tbody>\n",
       "    <tr>\n",
       "      <th>count</th>\n",
       "      <td>4372.000000</td>\n",
       "      <td>4372.000000</td>\n",
       "    </tr>\n",
       "    <tr>\n",
       "      <th>mean</th>\n",
       "      <td>15299.677722</td>\n",
       "      <td>678.575868</td>\n",
       "    </tr>\n",
       "    <tr>\n",
       "      <th>std</th>\n",
       "      <td>1722.390705</td>\n",
       "      <td>3098.569605</td>\n",
       "    </tr>\n",
       "    <tr>\n",
       "      <th>min</th>\n",
       "      <td>12346.000000</td>\n",
       "      <td>0.000000</td>\n",
       "    </tr>\n",
       "    <tr>\n",
       "      <th>25%</th>\n",
       "      <td>13812.750000</td>\n",
       "      <td>96.670000</td>\n",
       "    </tr>\n",
       "    <tr>\n",
       "      <th>50%</th>\n",
       "      <td>15300.500000</td>\n",
       "      <td>215.861250</td>\n",
       "    </tr>\n",
       "    <tr>\n",
       "      <th>75%</th>\n",
       "      <td>16778.250000</td>\n",
       "      <td>542.380625</td>\n",
       "    </tr>\n",
       "    <tr>\n",
       "      <th>max</th>\n",
       "      <td>18287.000000</td>\n",
       "      <td>107339.175000</td>\n",
       "    </tr>\n",
       "  </tbody>\n",
       "</table>\n",
       "</div>"
      ],
      "text/plain": [
       "         CustomerID        Revenue\n",
       "count   4372.000000    4372.000000\n",
       "mean   15299.677722     678.575868\n",
       "std     1722.390705    3098.569605\n",
       "min    12346.000000       0.000000\n",
       "25%    13812.750000      96.670000\n",
       "50%    15300.500000     215.861250\n",
       "75%    16778.250000     542.380625\n",
       "max    18287.000000  107339.175000"
      ]
     },
     "execution_count": 130,
     "metadata": {},
     "output_type": "execute_result"
    }
   ],
   "source": [
    "## Check the descriptive statistics of the total revenue for each customer\n",
    "customer_revenue.describe()"
   ]
  },
  {
   "cell_type": "code",
   "execution_count": 131,
   "metadata": {},
   "outputs": [],
   "source": [
    "def classify_customer(revenue):\n",
    "    ''' This function takes in the revenue to classify customers into three segments based on the total revenue '''\n",
    "    if revenue < 1700:\n",
    "        return 'Low Value'\n",
    "    elif revenue <= 8250:\n",
    "        return 'Medium Value'\n",
    "    elif revenue > 8250:\n",
    "        return 'High Value'\n",
    "    else:\n",
    "        return None"
   ]
  },
  {
   "cell_type": "code",
   "execution_count": 133,
   "metadata": {},
   "outputs": [],
   "source": [
    "## Classify customers into three segments based on the total revenue\n",
    "customer_revenue['Segment'] = customer_revenue['Revenue'].apply(classify_customer)"
   ]
  },
  {
   "cell_type": "code",
   "execution_count": 134,
   "metadata": {},
   "outputs": [
    {
     "data": {
      "text/plain": [
       "Segment\n",
       "Low Value       4113\n",
       "Medium Value     220\n",
       "High Value        39\n",
       "Name: count, dtype: int64"
      ]
     },
     "execution_count": 134,
     "metadata": {},
     "output_type": "execute_result"
    }
   ],
   "source": [
    "## Count the customers in each segment\n",
    "customer_revenue['Segment'].value_counts()"
   ]
  },
  {
   "cell_type": "markdown",
   "metadata": {},
   "source": [
    "**Q5.1**: There are 4113 low value customers, 220 medium value customers, and 39 high value customer."
   ]
  },
  {
   "cell_type": "code",
   "execution_count": 139,
   "metadata": {},
   "outputs": [],
   "source": [
    "# Q5.2 Create the pivot table\n",
    "## Join the segment data to the invoice_purchase data to get the segment for each customer\n",
    "data_invoice_segment = pd.merge(data_invoice_purchase, customer_revenue, on='CustomerID', how='left')"
   ]
  },
  {
   "cell_type": "code",
   "execution_count": 141,
   "metadata": {},
   "outputs": [
    {
     "name": "stdout",
     "output_type": "stream",
     "text": [
      "<class 'pandas.core.frame.DataFrame'>\n",
      "RangeIndex: 566276 entries, 0 to 566275\n",
      "Data columns (total 12 columns):\n",
      " #   Column       Non-Null Count   Dtype  \n",
      "---  ------       --------------   -----  \n",
      " 0   InvoiceNo    566276 non-null  object \n",
      " 1   InvoiceDate  566276 non-null  object \n",
      " 2   CustomerID   424399 non-null  float64\n",
      " 3   Country      566276 non-null  object \n",
      " 4   StockCodeSC  566276 non-null  object \n",
      " 5   Quantity     555123 non-null  float64\n",
      " 6   StockCode    564282 non-null  object \n",
      " 7   Description  562817 non-null  object \n",
      " 8   UnitPrice    564282 non-null  float64\n",
      " 9   Revenue_x    553129 non-null  float64\n",
      " 10  Revenue_y    424399 non-null  float64\n",
      " 11  Segment      424399 non-null  object \n",
      "dtypes: float64(5), object(7)\n",
      "memory usage: 51.8+ MB\n"
     ]
    }
   ],
   "source": [
    "data_invoice_segment.info()"
   ]
  },
  {
   "cell_type": "code",
   "execution_count": 148,
   "metadata": {},
   "outputs": [
    {
     "data": {
      "text/html": [
       "<div>\n",
       "<style scoped>\n",
       "    .dataframe tbody tr th:only-of-type {\n",
       "        vertical-align: middle;\n",
       "    }\n",
       "\n",
       "    .dataframe tbody tr th {\n",
       "        vertical-align: top;\n",
       "    }\n",
       "\n",
       "    .dataframe thead th {\n",
       "        text-align: right;\n",
       "    }\n",
       "</style>\n",
       "<table border=\"1\" class=\"dataframe\">\n",
       "  <thead>\n",
       "    <tr style=\"text-align: right;\">\n",
       "      <th>Segment</th>\n",
       "      <th>High Value</th>\n",
       "      <th>Low Value</th>\n",
       "      <th>Medium Value</th>\n",
       "    </tr>\n",
       "    <tr>\n",
       "      <th>StockCode</th>\n",
       "      <th></th>\n",
       "      <th></th>\n",
       "      <th></th>\n",
       "    </tr>\n",
       "  </thead>\n",
       "  <tbody>\n",
       "    <tr>\n",
       "      <th>10002</th>\n",
       "      <td>13.0</td>\n",
       "      <td>315.0</td>\n",
       "      <td>510.0</td>\n",
       "    </tr>\n",
       "    <tr>\n",
       "      <th>10080</th>\n",
       "      <td>0.0</td>\n",
       "      <td>277.0</td>\n",
       "      <td>14.0</td>\n",
       "    </tr>\n",
       "    <tr>\n",
       "      <th>10120</th>\n",
       "      <td>6.0</td>\n",
       "      <td>185.0</td>\n",
       "      <td>2.0</td>\n",
       "    </tr>\n",
       "    <tr>\n",
       "      <th>10123C</th>\n",
       "      <td>0.0</td>\n",
       "      <td>5.0</td>\n",
       "      <td>0.0</td>\n",
       "    </tr>\n",
       "    <tr>\n",
       "      <th>10124A</th>\n",
       "      <td>0.0</td>\n",
       "      <td>16.0</td>\n",
       "      <td>0.0</td>\n",
       "    </tr>\n",
       "    <tr>\n",
       "      <th>10124G</th>\n",
       "      <td>0.0</td>\n",
       "      <td>17.0</td>\n",
       "      <td>0.0</td>\n",
       "    </tr>\n",
       "    <tr>\n",
       "      <th>10125</th>\n",
       "      <td>60.0</td>\n",
       "      <td>556.0</td>\n",
       "      <td>610.0</td>\n",
       "    </tr>\n",
       "    <tr>\n",
       "      <th>10133</th>\n",
       "      <td>88.0</td>\n",
       "      <td>1958.0</td>\n",
       "      <td>338.0</td>\n",
       "    </tr>\n",
       "    <tr>\n",
       "      <th>10135</th>\n",
       "      <td>255.0</td>\n",
       "      <td>1336.0</td>\n",
       "      <td>347.0</td>\n",
       "    </tr>\n",
       "    <tr>\n",
       "      <th>11001</th>\n",
       "      <td>532.0</td>\n",
       "      <td>656.0</td>\n",
       "      <td>64.0</td>\n",
       "    </tr>\n",
       "  </tbody>\n",
       "</table>\n",
       "</div>"
      ],
      "text/plain": [
       "Segment    High Value  Low Value  Medium Value\n",
       "StockCode                                     \n",
       "10002            13.0      315.0         510.0\n",
       "10080             0.0      277.0          14.0\n",
       "10120             6.0      185.0           2.0\n",
       "10123C            0.0        5.0           0.0\n",
       "10124A            0.0       16.0           0.0\n",
       "10124G            0.0       17.0           0.0\n",
       "10125            60.0      556.0         610.0\n",
       "10133            88.0     1958.0         338.0\n",
       "10135           255.0     1336.0         347.0\n",
       "11001           532.0      656.0          64.0"
      ]
     },
     "execution_count": 148,
     "metadata": {},
     "output_type": "execute_result"
    }
   ],
   "source": [
    "## Create the pivot table\n",
    "pivot_table = pd.pivot_table(data_invoice_segment, values='Quantity', index='StockCode', columns='Segment', aggfunc='sum', fill_value=0)\n",
    "pivot_table.head(10)"
   ]
  },
  {
   "cell_type": "code",
   "execution_count": 147,
   "metadata": {},
   "outputs": [
    {
     "data": {
      "text/html": [
       "<div>\n",
       "<style scoped>\n",
       "    .dataframe tbody tr th:only-of-type {\n",
       "        vertical-align: middle;\n",
       "    }\n",
       "\n",
       "    .dataframe tbody tr th {\n",
       "        vertical-align: top;\n",
       "    }\n",
       "\n",
       "    .dataframe thead th {\n",
       "        text-align: right;\n",
       "    }\n",
       "</style>\n",
       "<table border=\"1\" class=\"dataframe\">\n",
       "  <thead>\n",
       "    <tr style=\"text-align: right;\">\n",
       "      <th>Segment</th>\n",
       "      <th>High Value</th>\n",
       "      <th>Low Value</th>\n",
       "      <th>Medium Value</th>\n",
       "    </tr>\n",
       "    <tr>\n",
       "      <th>StockCode</th>\n",
       "      <th></th>\n",
       "      <th></th>\n",
       "      <th></th>\n",
       "    </tr>\n",
       "  </thead>\n",
       "  <tbody>\n",
       "    <tr>\n",
       "      <th>84077</th>\n",
       "      <td>13735.0</td>\n",
       "      <td>27139.0</td>\n",
       "      <td>13590.0</td>\n",
       "    </tr>\n",
       "    <tr>\n",
       "      <th>84879</th>\n",
       "      <td>8299.0</td>\n",
       "      <td>18396.0</td>\n",
       "      <td>8719.0</td>\n",
       "    </tr>\n",
       "    <tr>\n",
       "      <th>22197</th>\n",
       "      <td>21990.0</td>\n",
       "      <td>17317.0</td>\n",
       "      <td>10043.0</td>\n",
       "    </tr>\n",
       "    <tr>\n",
       "      <th>85099B</th>\n",
       "      <td>20853.0</td>\n",
       "      <td>15960.0</td>\n",
       "      <td>9492.0</td>\n",
       "    </tr>\n",
       "    <tr>\n",
       "      <th>85123a</th>\n",
       "      <td>15730.0</td>\n",
       "      <td>13692.0</td>\n",
       "      <td>7486.0</td>\n",
       "    </tr>\n",
       "    <tr>\n",
       "      <th>85123A</th>\n",
       "      <td>15730.0</td>\n",
       "      <td>13692.0</td>\n",
       "      <td>7486.0</td>\n",
       "    </tr>\n",
       "    <tr>\n",
       "      <th>21212</th>\n",
       "      <td>10720.0</td>\n",
       "      <td>13559.0</td>\n",
       "      <td>9430.0</td>\n",
       "    </tr>\n",
       "    <tr>\n",
       "      <th>16014</th>\n",
       "      <td>22.0</td>\n",
       "      <td>13125.0</td>\n",
       "      <td>181.0</td>\n",
       "    </tr>\n",
       "    <tr>\n",
       "      <th>15036</th>\n",
       "      <td>4896.0</td>\n",
       "      <td>12575.0</td>\n",
       "      <td>4417.0</td>\n",
       "    </tr>\n",
       "    <tr>\n",
       "      <th>17003</th>\n",
       "      <td>10569.0</td>\n",
       "      <td>11945.0</td>\n",
       "      <td>449.0</td>\n",
       "    </tr>\n",
       "  </tbody>\n",
       "</table>\n",
       "</div>"
      ],
      "text/plain": [
       "Segment    High Value  Low Value  Medium Value\n",
       "StockCode                                     \n",
       "84077         13735.0    27139.0       13590.0\n",
       "84879          8299.0    18396.0        8719.0\n",
       "22197         21990.0    17317.0       10043.0\n",
       "85099B        20853.0    15960.0        9492.0\n",
       "85123a        15730.0    13692.0        7486.0\n",
       "85123A        15730.0    13692.0        7486.0\n",
       "21212         10720.0    13559.0        9430.0\n",
       "16014            22.0    13125.0         181.0\n",
       "15036          4896.0    12575.0        4417.0\n",
       "17003         10569.0    11945.0         449.0"
      ]
     },
     "execution_count": 147,
     "metadata": {},
     "output_type": "execute_result"
    }
   ],
   "source": [
    "# Q5.3 \n",
    "## List the top 10 items in the low segment\n",
    "pivot_table.sort_values('Low Value', ascending=False).head(10)"
   ]
  },
  {
   "cell_type": "code",
   "execution_count": 163,
   "metadata": {},
   "outputs": [
    {
     "data": {
      "text/html": [
       "<div>\n",
       "<style scoped>\n",
       "    .dataframe tbody tr th:only-of-type {\n",
       "        vertical-align: middle;\n",
       "    }\n",
       "\n",
       "    .dataframe tbody tr th {\n",
       "        vertical-align: top;\n",
       "    }\n",
       "\n",
       "    .dataframe thead th {\n",
       "        text-align: right;\n",
       "    }\n",
       "</style>\n",
       "<table border=\"1\" class=\"dataframe\">\n",
       "  <thead>\n",
       "    <tr style=\"text-align: right;\">\n",
       "      <th></th>\n",
       "      <th>StockCode</th>\n",
       "      <th>Description</th>\n",
       "      <th>UnitPrice</th>\n",
       "      <th>Low Value</th>\n",
       "      <th>Medium Value</th>\n",
       "      <th>High Value</th>\n",
       "    </tr>\n",
       "  </thead>\n",
       "  <tbody>\n",
       "    <tr>\n",
       "      <th>0</th>\n",
       "      <td>84077</td>\n",
       "      <td>WORLD WAR 2 GLIDERS ASSTD DESIGNS</td>\n",
       "      <td>0.29</td>\n",
       "      <td>27139.0</td>\n",
       "      <td>13590.0</td>\n",
       "      <td>13735.0</td>\n",
       "    </tr>\n",
       "    <tr>\n",
       "      <th>1</th>\n",
       "      <td>84879</td>\n",
       "      <td>ASSORTED COLOUR BIRD ORNAMENT</td>\n",
       "      <td>1.69</td>\n",
       "      <td>18396.0</td>\n",
       "      <td>8719.0</td>\n",
       "      <td>8299.0</td>\n",
       "    </tr>\n",
       "    <tr>\n",
       "      <th>2</th>\n",
       "      <td>22197</td>\n",
       "      <td>SMALL POPCORN HOLDER</td>\n",
       "      <td>0.72</td>\n",
       "      <td>17317.0</td>\n",
       "      <td>10043.0</td>\n",
       "      <td>21990.0</td>\n",
       "    </tr>\n",
       "    <tr>\n",
       "      <th>3</th>\n",
       "      <td>85099B</td>\n",
       "      <td>JUMBO BAG RED RETROSPOT</td>\n",
       "      <td>1.65</td>\n",
       "      <td>15960.0</td>\n",
       "      <td>9492.0</td>\n",
       "      <td>20853.0</td>\n",
       "    </tr>\n",
       "    <tr>\n",
       "      <th>4</th>\n",
       "      <td>85123a</td>\n",
       "      <td>WHITE HANGING HEART T-LIGHT HOLDER</td>\n",
       "      <td>6.77</td>\n",
       "      <td>13692.0</td>\n",
       "      <td>7486.0</td>\n",
       "      <td>15730.0</td>\n",
       "    </tr>\n",
       "    <tr>\n",
       "      <th>5</th>\n",
       "      <td>85123A</td>\n",
       "      <td>WHITE HANGING HEART T-LIGHT HOLDER</td>\n",
       "      <td>2.55</td>\n",
       "      <td>13692.0</td>\n",
       "      <td>7486.0</td>\n",
       "      <td>15730.0</td>\n",
       "    </tr>\n",
       "    <tr>\n",
       "      <th>6</th>\n",
       "      <td>21212</td>\n",
       "      <td>PACK OF 72 RETROSPOT CAKE CASES</td>\n",
       "      <td>0.42</td>\n",
       "      <td>13559.0</td>\n",
       "      <td>9430.0</td>\n",
       "      <td>10720.0</td>\n",
       "    </tr>\n",
       "    <tr>\n",
       "      <th>7</th>\n",
       "      <td>16014</td>\n",
       "      <td>SMALL CHINESE STYLE SCISSOR</td>\n",
       "      <td>0.42</td>\n",
       "      <td>13125.0</td>\n",
       "      <td>181.0</td>\n",
       "      <td>22.0</td>\n",
       "    </tr>\n",
       "    <tr>\n",
       "      <th>8</th>\n",
       "      <td>15036</td>\n",
       "      <td>ASSORTED COLOURS SILK FAN</td>\n",
       "      <td>0.75</td>\n",
       "      <td>12575.0</td>\n",
       "      <td>4417.0</td>\n",
       "      <td>4896.0</td>\n",
       "    </tr>\n",
       "    <tr>\n",
       "      <th>9</th>\n",
       "      <td>17003</td>\n",
       "      <td>BROCADE RING PURSE</td>\n",
       "      <td>0.43</td>\n",
       "      <td>11945.0</td>\n",
       "      <td>449.0</td>\n",
       "      <td>10569.0</td>\n",
       "    </tr>\n",
       "  </tbody>\n",
       "</table>\n",
       "</div>"
      ],
      "text/plain": [
       "  StockCode                         Description  UnitPrice  Low Value  \\\n",
       "0     84077   WORLD WAR 2 GLIDERS ASSTD DESIGNS       0.29    27139.0   \n",
       "1     84879       ASSORTED COLOUR BIRD ORNAMENT       1.69    18396.0   \n",
       "2     22197                SMALL POPCORN HOLDER       0.72    17317.0   \n",
       "3    85099B             JUMBO BAG RED RETROSPOT       1.65    15960.0   \n",
       "4    85123a  WHITE HANGING HEART T-LIGHT HOLDER       6.77    13692.0   \n",
       "5    85123A  WHITE HANGING HEART T-LIGHT HOLDER       2.55    13692.0   \n",
       "6     21212     PACK OF 72 RETROSPOT CAKE CASES       0.42    13559.0   \n",
       "7     16014         SMALL CHINESE STYLE SCISSOR       0.42    13125.0   \n",
       "8     15036           ASSORTED COLOURS SILK FAN       0.75    12575.0   \n",
       "9     17003                 BROCADE RING PURSE        0.43    11945.0   \n",
       "\n",
       "   Medium Value  High Value  \n",
       "0       13590.0     13735.0  \n",
       "1        8719.0      8299.0  \n",
       "2       10043.0     21990.0  \n",
       "3        9492.0     20853.0  \n",
       "4        7486.0     15730.0  \n",
       "5        7486.0     15730.0  \n",
       "6        9430.0     10720.0  \n",
       "7         181.0        22.0  \n",
       "8        4417.0      4896.0  \n",
       "9         449.0     10569.0  "
      ]
     },
     "execution_count": 163,
     "metadata": {},
     "output_type": "execute_result"
    }
   ],
   "source": [
    "## List the top 10 items in the low segment and their descriptions\n",
    "top_low_items = pivot_table.sort_values('Low Value', ascending=False).head(10).reset_index()\n",
    "top_low_items = top_low_items.merge(DATA_ITEMS, on='StockCode', how='left')\n",
    "top_low_items[['StockCode', 'Description','UnitPrice', 'Low Value', 'Medium Value', 'High Value']]"
   ]
  },
  {
   "cell_type": "code",
   "execution_count": 157,
   "metadata": {},
   "outputs": [
    {
     "data": {
      "text/html": [
       "<div>\n",
       "<style scoped>\n",
       "    .dataframe tbody tr th:only-of-type {\n",
       "        vertical-align: middle;\n",
       "    }\n",
       "\n",
       "    .dataframe tbody tr th {\n",
       "        vertical-align: top;\n",
       "    }\n",
       "\n",
       "    .dataframe thead th {\n",
       "        text-align: right;\n",
       "    }\n",
       "</style>\n",
       "<table border=\"1\" class=\"dataframe\">\n",
       "  <thead>\n",
       "    <tr style=\"text-align: right;\">\n",
       "      <th>Segment</th>\n",
       "      <th>High Value</th>\n",
       "      <th>Low Value</th>\n",
       "      <th>Medium Value</th>\n",
       "    </tr>\n",
       "    <tr>\n",
       "      <th>StockCode</th>\n",
       "      <th></th>\n",
       "      <th></th>\n",
       "      <th></th>\n",
       "    </tr>\n",
       "  </thead>\n",
       "  <tbody>\n",
       "    <tr>\n",
       "      <th>22616</th>\n",
       "      <td>1238.0</td>\n",
       "      <td>8067.0</td>\n",
       "      <td>16052.0</td>\n",
       "    </tr>\n",
       "    <tr>\n",
       "      <th>84077</th>\n",
       "      <td>13735.0</td>\n",
       "      <td>27139.0</td>\n",
       "      <td>13590.0</td>\n",
       "    </tr>\n",
       "    <tr>\n",
       "      <th>84826</th>\n",
       "      <td>60.0</td>\n",
       "      <td>922.0</td>\n",
       "      <td>12720.0</td>\n",
       "    </tr>\n",
       "    <tr>\n",
       "      <th>21977</th>\n",
       "      <td>5105.0</td>\n",
       "      <td>8218.0</td>\n",
       "      <td>10956.0</td>\n",
       "    </tr>\n",
       "    <tr>\n",
       "      <th>22197</th>\n",
       "      <td>21990.0</td>\n",
       "      <td>17317.0</td>\n",
       "      <td>10043.0</td>\n",
       "    </tr>\n",
       "    <tr>\n",
       "      <th>23084</th>\n",
       "      <td>7777.0</td>\n",
       "      <td>9633.0</td>\n",
       "      <td>9792.0</td>\n",
       "    </tr>\n",
       "    <tr>\n",
       "      <th>85099B</th>\n",
       "      <td>20853.0</td>\n",
       "      <td>15960.0</td>\n",
       "      <td>9492.0</td>\n",
       "    </tr>\n",
       "    <tr>\n",
       "      <th>21212</th>\n",
       "      <td>10720.0</td>\n",
       "      <td>13559.0</td>\n",
       "      <td>9430.0</td>\n",
       "    </tr>\n",
       "    <tr>\n",
       "      <th>84879</th>\n",
       "      <td>8299.0</td>\n",
       "      <td>18396.0</td>\n",
       "      <td>8719.0</td>\n",
       "    </tr>\n",
       "    <tr>\n",
       "      <th>21137</th>\n",
       "      <td>1531.0</td>\n",
       "      <td>2377.0</td>\n",
       "      <td>7498.0</td>\n",
       "    </tr>\n",
       "  </tbody>\n",
       "</table>\n",
       "</div>"
      ],
      "text/plain": [
       "Segment    High Value  Low Value  Medium Value\n",
       "StockCode                                     \n",
       "22616          1238.0     8067.0       16052.0\n",
       "84077         13735.0    27139.0       13590.0\n",
       "84826            60.0      922.0       12720.0\n",
       "21977          5105.0     8218.0       10956.0\n",
       "22197         21990.0    17317.0       10043.0\n",
       "23084          7777.0     9633.0        9792.0\n",
       "85099B        20853.0    15960.0        9492.0\n",
       "21212         10720.0    13559.0        9430.0\n",
       "84879          8299.0    18396.0        8719.0\n",
       "21137          1531.0     2377.0        7498.0"
      ]
     },
     "execution_count": 157,
     "metadata": {},
     "output_type": "execute_result"
    }
   ],
   "source": [
    "## List the top 10 items in the low segment\n",
    "pivot_table.sort_values('Medium Value', ascending=False).head(10)"
   ]
  },
  {
   "cell_type": "code",
   "execution_count": 161,
   "metadata": {},
   "outputs": [
    {
     "data": {
      "text/html": [
       "<div>\n",
       "<style scoped>\n",
       "    .dataframe tbody tr th:only-of-type {\n",
       "        vertical-align: middle;\n",
       "    }\n",
       "\n",
       "    .dataframe tbody tr th {\n",
       "        vertical-align: top;\n",
       "    }\n",
       "\n",
       "    .dataframe thead th {\n",
       "        text-align: right;\n",
       "    }\n",
       "</style>\n",
       "<table border=\"1\" class=\"dataframe\">\n",
       "  <thead>\n",
       "    <tr style=\"text-align: right;\">\n",
       "      <th></th>\n",
       "      <th>StockCode</th>\n",
       "      <th>Description</th>\n",
       "      <th>UnitPrice</th>\n",
       "      <th>Low Value</th>\n",
       "      <th>Medium Value</th>\n",
       "      <th>High Value</th>\n",
       "    </tr>\n",
       "  </thead>\n",
       "  <tbody>\n",
       "    <tr>\n",
       "      <th>0</th>\n",
       "      <td>22616</td>\n",
       "      <td>PACK OF 12 LONDON TISSUES</td>\n",
       "      <td>0.29</td>\n",
       "      <td>8067.0</td>\n",
       "      <td>16052.0</td>\n",
       "      <td>1238.0</td>\n",
       "    </tr>\n",
       "    <tr>\n",
       "      <th>1</th>\n",
       "      <td>84077</td>\n",
       "      <td>WORLD WAR 2 GLIDERS ASSTD DESIGNS</td>\n",
       "      <td>0.29</td>\n",
       "      <td>27139.0</td>\n",
       "      <td>13590.0</td>\n",
       "      <td>13735.0</td>\n",
       "    </tr>\n",
       "    <tr>\n",
       "      <th>2</th>\n",
       "      <td>84826</td>\n",
       "      <td>ASSTD DESIGN 3D PAPER STICKERS</td>\n",
       "      <td>0.85</td>\n",
       "      <td>922.0</td>\n",
       "      <td>12720.0</td>\n",
       "      <td>60.0</td>\n",
       "    </tr>\n",
       "    <tr>\n",
       "      <th>3</th>\n",
       "      <td>21977</td>\n",
       "      <td>PACK OF 60 PINK PAISLEY CAKE CASES</td>\n",
       "      <td>0.55</td>\n",
       "      <td>8218.0</td>\n",
       "      <td>10956.0</td>\n",
       "      <td>5105.0</td>\n",
       "    </tr>\n",
       "    <tr>\n",
       "      <th>4</th>\n",
       "      <td>22197</td>\n",
       "      <td>SMALL POPCORN HOLDER</td>\n",
       "      <td>0.72</td>\n",
       "      <td>17317.0</td>\n",
       "      <td>10043.0</td>\n",
       "      <td>21990.0</td>\n",
       "    </tr>\n",
       "    <tr>\n",
       "      <th>5</th>\n",
       "      <td>23084</td>\n",
       "      <td>RABBIT NIGHT LIGHT</td>\n",
       "      <td>2.08</td>\n",
       "      <td>9633.0</td>\n",
       "      <td>9792.0</td>\n",
       "      <td>7777.0</td>\n",
       "    </tr>\n",
       "    <tr>\n",
       "      <th>6</th>\n",
       "      <td>85099B</td>\n",
       "      <td>JUMBO BAG RED RETROSPOT</td>\n",
       "      <td>1.65</td>\n",
       "      <td>15960.0</td>\n",
       "      <td>9492.0</td>\n",
       "      <td>20853.0</td>\n",
       "    </tr>\n",
       "    <tr>\n",
       "      <th>7</th>\n",
       "      <td>21212</td>\n",
       "      <td>PACK OF 72 RETROSPOT CAKE CASES</td>\n",
       "      <td>0.42</td>\n",
       "      <td>13559.0</td>\n",
       "      <td>9430.0</td>\n",
       "      <td>10720.0</td>\n",
       "    </tr>\n",
       "    <tr>\n",
       "      <th>8</th>\n",
       "      <td>84879</td>\n",
       "      <td>ASSORTED COLOUR BIRD ORNAMENT</td>\n",
       "      <td>1.69</td>\n",
       "      <td>18396.0</td>\n",
       "      <td>8719.0</td>\n",
       "      <td>8299.0</td>\n",
       "    </tr>\n",
       "    <tr>\n",
       "      <th>9</th>\n",
       "      <td>21137</td>\n",
       "      <td>BLACK RECORD COVER FRAME</td>\n",
       "      <td>3.39</td>\n",
       "      <td>2377.0</td>\n",
       "      <td>7498.0</td>\n",
       "      <td>1531.0</td>\n",
       "    </tr>\n",
       "  </tbody>\n",
       "</table>\n",
       "</div>"
      ],
      "text/plain": [
       "  StockCode                         Description  UnitPrice  Low Value  \\\n",
       "0     22616          PACK OF 12 LONDON TISSUES        0.29     8067.0   \n",
       "1     84077   WORLD WAR 2 GLIDERS ASSTD DESIGNS       0.29    27139.0   \n",
       "2     84826      ASSTD DESIGN 3D PAPER STICKERS       0.85      922.0   \n",
       "3     21977  PACK OF 60 PINK PAISLEY CAKE CASES       0.55     8218.0   \n",
       "4     22197                SMALL POPCORN HOLDER       0.72    17317.0   \n",
       "5     23084                  RABBIT NIGHT LIGHT       2.08     9633.0   \n",
       "6    85099B             JUMBO BAG RED RETROSPOT       1.65    15960.0   \n",
       "7     21212     PACK OF 72 RETROSPOT CAKE CASES       0.42    13559.0   \n",
       "8     84879       ASSORTED COLOUR BIRD ORNAMENT       1.69    18396.0   \n",
       "9     21137            BLACK RECORD COVER FRAME       3.39     2377.0   \n",
       "\n",
       "   Medium Value  High Value  \n",
       "0       16052.0      1238.0  \n",
       "1       13590.0     13735.0  \n",
       "2       12720.0        60.0  \n",
       "3       10956.0      5105.0  \n",
       "4       10043.0     21990.0  \n",
       "5        9792.0      7777.0  \n",
       "6        9492.0     20853.0  \n",
       "7        9430.0     10720.0  \n",
       "8        8719.0      8299.0  \n",
       "9        7498.0      1531.0  "
      ]
     },
     "execution_count": 161,
     "metadata": {},
     "output_type": "execute_result"
    }
   ],
   "source": [
    "# List out the stock code and description of the top 10 items in the medium segment\n",
    "top_medium_items = pivot_table.sort_values('Medium Value', ascending=False).head(10).reset_index()\n",
    "top_medium_items = top_medium_items.merge(DATA_ITEMS, on='StockCode', how='left')\n",
    "top_medium_items[['StockCode', 'Description','UnitPrice', 'Low Value', 'Medium Value', 'High Value']]"
   ]
  },
  {
   "cell_type": "code",
   "execution_count": 159,
   "metadata": {},
   "outputs": [
    {
     "data": {
      "text/html": [
       "<div>\n",
       "<style scoped>\n",
       "    .dataframe tbody tr th:only-of-type {\n",
       "        vertical-align: middle;\n",
       "    }\n",
       "\n",
       "    .dataframe tbody tr th {\n",
       "        vertical-align: top;\n",
       "    }\n",
       "\n",
       "    .dataframe thead th {\n",
       "        text-align: right;\n",
       "    }\n",
       "</style>\n",
       "<table border=\"1\" class=\"dataframe\">\n",
       "  <thead>\n",
       "    <tr style=\"text-align: right;\">\n",
       "      <th>Segment</th>\n",
       "      <th>High Value</th>\n",
       "      <th>Low Value</th>\n",
       "      <th>Medium Value</th>\n",
       "    </tr>\n",
       "    <tr>\n",
       "      <th>StockCode</th>\n",
       "      <th></th>\n",
       "      <th></th>\n",
       "      <th></th>\n",
       "    </tr>\n",
       "  </thead>\n",
       "  <tbody>\n",
       "    <tr>\n",
       "      <th>23843</th>\n",
       "      <td>80995.0</td>\n",
       "      <td>0.0</td>\n",
       "      <td>0.0</td>\n",
       "    </tr>\n",
       "    <tr>\n",
       "      <th>23166</th>\n",
       "      <td>75784.0</td>\n",
       "      <td>1240.0</td>\n",
       "      <td>892.0</td>\n",
       "    </tr>\n",
       "    <tr>\n",
       "      <th>22197</th>\n",
       "      <td>21990.0</td>\n",
       "      <td>17317.0</td>\n",
       "      <td>10043.0</td>\n",
       "    </tr>\n",
       "    <tr>\n",
       "      <th>85099B</th>\n",
       "      <td>20853.0</td>\n",
       "      <td>15960.0</td>\n",
       "      <td>9492.0</td>\n",
       "    </tr>\n",
       "    <tr>\n",
       "      <th>85123A</th>\n",
       "      <td>15730.0</td>\n",
       "      <td>13692.0</td>\n",
       "      <td>7486.0</td>\n",
       "    </tr>\n",
       "    <tr>\n",
       "      <th>85123a</th>\n",
       "      <td>15730.0</td>\n",
       "      <td>13692.0</td>\n",
       "      <td>7486.0</td>\n",
       "    </tr>\n",
       "    <tr>\n",
       "      <th>84077</th>\n",
       "      <td>13735.0</td>\n",
       "      <td>27139.0</td>\n",
       "      <td>13590.0</td>\n",
       "    </tr>\n",
       "    <tr>\n",
       "      <th>21915</th>\n",
       "      <td>11144.0</td>\n",
       "      <td>6936.0</td>\n",
       "      <td>2931.0</td>\n",
       "    </tr>\n",
       "    <tr>\n",
       "      <th>22386</th>\n",
       "      <td>11115.0</td>\n",
       "      <td>5259.0</td>\n",
       "      <td>3911.0</td>\n",
       "    </tr>\n",
       "    <tr>\n",
       "      <th>21212</th>\n",
       "      <td>10720.0</td>\n",
       "      <td>13559.0</td>\n",
       "      <td>9430.0</td>\n",
       "    </tr>\n",
       "  </tbody>\n",
       "</table>\n",
       "</div>"
      ],
      "text/plain": [
       "Segment    High Value  Low Value  Medium Value\n",
       "StockCode                                     \n",
       "23843         80995.0        0.0           0.0\n",
       "23166         75784.0     1240.0         892.0\n",
       "22197         21990.0    17317.0       10043.0\n",
       "85099B        20853.0    15960.0        9492.0\n",
       "85123A        15730.0    13692.0        7486.0\n",
       "85123a        15730.0    13692.0        7486.0\n",
       "84077         13735.0    27139.0       13590.0\n",
       "21915         11144.0     6936.0        2931.0\n",
       "22386         11115.0     5259.0        3911.0\n",
       "21212         10720.0    13559.0        9430.0"
      ]
     },
     "execution_count": 159,
     "metadata": {},
     "output_type": "execute_result"
    }
   ],
   "source": [
    "## List the top 10 items in the high segment\n",
    "pivot_table.sort_values('High Value', ascending=False).head(10)"
   ]
  },
  {
   "cell_type": "code",
   "execution_count": 162,
   "metadata": {},
   "outputs": [
    {
     "data": {
      "text/html": [
       "<div>\n",
       "<style scoped>\n",
       "    .dataframe tbody tr th:only-of-type {\n",
       "        vertical-align: middle;\n",
       "    }\n",
       "\n",
       "    .dataframe tbody tr th {\n",
       "        vertical-align: top;\n",
       "    }\n",
       "\n",
       "    .dataframe thead th {\n",
       "        text-align: right;\n",
       "    }\n",
       "</style>\n",
       "<table border=\"1\" class=\"dataframe\">\n",
       "  <thead>\n",
       "    <tr style=\"text-align: right;\">\n",
       "      <th></th>\n",
       "      <th>StockCode</th>\n",
       "      <th>Description</th>\n",
       "      <th>UnitPrice</th>\n",
       "      <th>Low Value</th>\n",
       "      <th>Medium Value</th>\n",
       "      <th>High Value</th>\n",
       "    </tr>\n",
       "  </thead>\n",
       "  <tbody>\n",
       "    <tr>\n",
       "      <th>0</th>\n",
       "      <td>23843</td>\n",
       "      <td>PAPER CRAFT , LITTLE BIRDIE</td>\n",
       "      <td>2.08</td>\n",
       "      <td>0.0</td>\n",
       "      <td>0.0</td>\n",
       "      <td>80995.0</td>\n",
       "    </tr>\n",
       "    <tr>\n",
       "      <th>1</th>\n",
       "      <td>23166</td>\n",
       "      <td>MEDIUM CERAMIC TOP STORAGE JAR</td>\n",
       "      <td>1.04</td>\n",
       "      <td>1240.0</td>\n",
       "      <td>892.0</td>\n",
       "      <td>75784.0</td>\n",
       "    </tr>\n",
       "    <tr>\n",
       "      <th>2</th>\n",
       "      <td>22197</td>\n",
       "      <td>SMALL POPCORN HOLDER</td>\n",
       "      <td>0.72</td>\n",
       "      <td>17317.0</td>\n",
       "      <td>10043.0</td>\n",
       "      <td>21990.0</td>\n",
       "    </tr>\n",
       "    <tr>\n",
       "      <th>3</th>\n",
       "      <td>85099B</td>\n",
       "      <td>JUMBO BAG RED RETROSPOT</td>\n",
       "      <td>1.65</td>\n",
       "      <td>15960.0</td>\n",
       "      <td>9492.0</td>\n",
       "      <td>20853.0</td>\n",
       "    </tr>\n",
       "    <tr>\n",
       "      <th>4</th>\n",
       "      <td>85123A</td>\n",
       "      <td>WHITE HANGING HEART T-LIGHT HOLDER</td>\n",
       "      <td>2.55</td>\n",
       "      <td>13692.0</td>\n",
       "      <td>7486.0</td>\n",
       "      <td>15730.0</td>\n",
       "    </tr>\n",
       "    <tr>\n",
       "      <th>5</th>\n",
       "      <td>85123a</td>\n",
       "      <td>WHITE HANGING HEART T-LIGHT HOLDER</td>\n",
       "      <td>6.77</td>\n",
       "      <td>13692.0</td>\n",
       "      <td>7486.0</td>\n",
       "      <td>15730.0</td>\n",
       "    </tr>\n",
       "    <tr>\n",
       "      <th>6</th>\n",
       "      <td>84077</td>\n",
       "      <td>WORLD WAR 2 GLIDERS ASSTD DESIGNS</td>\n",
       "      <td>0.29</td>\n",
       "      <td>27139.0</td>\n",
       "      <td>13590.0</td>\n",
       "      <td>13735.0</td>\n",
       "    </tr>\n",
       "    <tr>\n",
       "      <th>7</th>\n",
       "      <td>21915</td>\n",
       "      <td>RED  HARMONICA IN BOX</td>\n",
       "      <td>1.25</td>\n",
       "      <td>6936.0</td>\n",
       "      <td>2931.0</td>\n",
       "      <td>11144.0</td>\n",
       "    </tr>\n",
       "    <tr>\n",
       "      <th>8</th>\n",
       "      <td>22386</td>\n",
       "      <td>JUMBO BAG PINK POLKADOT</td>\n",
       "      <td>1.95</td>\n",
       "      <td>5259.0</td>\n",
       "      <td>3911.0</td>\n",
       "      <td>11115.0</td>\n",
       "    </tr>\n",
       "    <tr>\n",
       "      <th>9</th>\n",
       "      <td>21212</td>\n",
       "      <td>PACK OF 72 RETROSPOT CAKE CASES</td>\n",
       "      <td>0.42</td>\n",
       "      <td>13559.0</td>\n",
       "      <td>9430.0</td>\n",
       "      <td>10720.0</td>\n",
       "    </tr>\n",
       "  </tbody>\n",
       "</table>\n",
       "</div>"
      ],
      "text/plain": [
       "  StockCode                         Description  UnitPrice  Low Value  \\\n",
       "0     23843         PAPER CRAFT , LITTLE BIRDIE       2.08        0.0   \n",
       "1     23166      MEDIUM CERAMIC TOP STORAGE JAR       1.04     1240.0   \n",
       "2     22197                SMALL POPCORN HOLDER       0.72    17317.0   \n",
       "3    85099B             JUMBO BAG RED RETROSPOT       1.65    15960.0   \n",
       "4    85123A  WHITE HANGING HEART T-LIGHT HOLDER       2.55    13692.0   \n",
       "5    85123a  WHITE HANGING HEART T-LIGHT HOLDER       6.77    13692.0   \n",
       "6     84077   WORLD WAR 2 GLIDERS ASSTD DESIGNS       0.29    27139.0   \n",
       "7     21915              RED  HARMONICA IN BOX        1.25     6936.0   \n",
       "8     22386             JUMBO BAG PINK POLKADOT       1.95     5259.0   \n",
       "9     21212     PACK OF 72 RETROSPOT CAKE CASES       0.42    13559.0   \n",
       "\n",
       "   Medium Value  High Value  \n",
       "0           0.0     80995.0  \n",
       "1         892.0     75784.0  \n",
       "2       10043.0     21990.0  \n",
       "3        9492.0     20853.0  \n",
       "4        7486.0     15730.0  \n",
       "5        7486.0     15730.0  \n",
       "6       13590.0     13735.0  \n",
       "7        2931.0     11144.0  \n",
       "8        3911.0     11115.0  \n",
       "9        9430.0     10720.0  "
      ]
     },
     "execution_count": 162,
     "metadata": {},
     "output_type": "execute_result"
    }
   ],
   "source": [
    "# List out the stock code and description of the top 10 items in the high segment\n",
    "top_high_items = pivot_table.sort_values('High Value', ascending=False).head(10).reset_index()\n",
    "top_high_items = top_high_items.merge(DATA_ITEMS, on='StockCode', how='left')\n",
    "top_high_items[['StockCode', 'Description','UnitPrice', 'Low Value', 'Medium Value', 'High Value']]"
   ]
  },
  {
   "cell_type": "markdown",
   "metadata": {},
   "source": [
    "**Q5.3**: Generally speaking, the items with the highest average order quantity are not the same across segments. However, \"WORLD WAR 2 GLIDERS ASSTD DESIGNS\" ,\"Small Popcorn holder\", and the \"WHITE HANGING HEART T-LIGHT HOLDER\" is very popular among three segments. This is probably because different segments of customers have different preferences and needs. And necessities like light holders are necessary for all kinds of customers. So they are popular among all segments."
   ]
  },
  {
   "cell_type": "markdown",
   "metadata": {},
   "source": [
    "# Please submit your completed notebook in .IPYNB and .HTML formats via Canvas"
   ]
  },
  {
   "cell_type": "code",
   "execution_count": null,
   "metadata": {},
   "outputs": [],
   "source": []
  }
 ],
 "metadata": {
  "kernelspec": {
   "display_name": "Python 3 (ipykernel)",
   "language": "python",
   "name": "python3"
  },
  "language_info": {
   "codemirror_mode": {
    "name": "ipython",
    "version": 3
   },
   "file_extension": ".py",
   "mimetype": "text/x-python",
   "name": "python",
   "nbconvert_exporter": "python",
   "pygments_lexer": "ipython3",
   "version": "3.11.8"
  }
 },
 "nbformat": 4,
 "nbformat_minor": 4
}
