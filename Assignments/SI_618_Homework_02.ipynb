{
 "cells": [
  {
   "cell_type": "markdown",
   "metadata": {
    "tags": []
   },
   "source": [
    "# SI 618 - Homework #2: More Data Manipulation"
   ]
  },
  {
   "cell_type": "markdown",
   "metadata": {},
   "source": [
    "# Background\n",
    "You're a Data Science Consultant for an eCommerce retail company, they've asked you to analyze their sales database. Unfortunately, they did nothing to prepare or clean their data, only exporting their 3 database tables as JSON files. It's up to you to clean their data, analyze it and answer questions to help drive business value!\n",
    "\n",
    "### The below files have been provided via the URLs shown:\n",
    "- invoices.json https://github.com/umsi-data-science/data/raw/main/invoices.json\n",
    "- items.json https://github.com/umsi-data-science/data/raw/main/items.json\n",
    "- purchases.json https://github.com/umsi-data-science/data/raw/main/purchases.json\n",
    "\n",
    "### They provided this data dictionary:\n",
    "\n",
    "**InvoiceNo:** Invoice number. Nominal, a 6-digit integral number uniquely assigned to each transaction.  \n",
    "**StockCode:** Product (item) code. Nominal, a 5-digit integral number uniquely assigned to each distinct product.  \n",
    "**Description:** Product (item) name. Nominal.   \n",
    "**Quantity:** The quantities of each product (item) per transaction. Numeric.  \n",
    "**InvoiceDate:** Invoice Date and time. Numeric, the day and time when each transaction was generated.  \n",
    "**UnitPrice:** Unit price. Numeric, Product price per unit in sterling.  \n",
    "**CustomerID:** Customer number. Nominal, a 5-digit integral number uniquely assigned to each customer.  \n",
    "**Country:** Country name. Nominal, the name of the country where each customer resides.  \n",
    "\n",
    "### A few notes from the company:\n",
    "* If the InvoiceNo starts with the letter 'c', it indicates a cancellation. When conducting this analysis we only want to analyze invoices that were shipped. (ie. not canceled)\n",
    "* The datasets should be able to be merged, each row in the invoice table corresponds to multiple rows in the purchases table.\n",
    "* To find out the description or unit cost of an item in the purchase table, the StockCode should be used to match up the product in the items table. \n",
    "* They mentioned that they've been having a difficult time lately joining the items and purchases table, maybe there's something wrong with the columns?"
   ]
  },
  {
   "cell_type": "markdown",
   "metadata": {},
   "source": [
    "### The total score for this assignment will be 100 points, consisting of:\n",
    "- 10 pt: Overall quality of spelling, grammar, punctuation, etc. of written sentences. ([Guide](https://drive.google.com/file/d/1L0P7xJwjUGBvyb49mL3dw1Bt7hzRTiTl/view ))\n",
    "- 10 pt: Codes are written in [PEP 8](https://www.python.org/dev/peps/pep-0008/) style.\n",
    "- 80 pt: Homework questions. \n",
    "\n",
    "Version 2024.01.23.2.CT"
   ]
  },
  {
   "cell_type": "markdown",
   "metadata": {},
   "source": [
    "# Answer the questions below.\n",
    "- write your Python code that can answer the following questions \n",
    "- explain **ALL** your answers in plain English. \n",
    "- you can use as many code and markdown cells as you need for each question (i.e. don't limit yourself to just one of each if you feel you need more)."
   ]
  },
  {
   "cell_type": "code",
   "execution_count": 2,
   "metadata": {},
   "outputs": [],
   "source": [
    "MY_UNIQNAME = 'jonasxie'  # replace this with your uniqname"
   ]
  },
  {
   "cell_type": "markdown",
   "metadata": {},
   "source": [
    "### <span style=\"color:magenta\"> Q1. [5 points] Describe the dataset. </span>\n",
    "1. Load the data. \n",
    "1. How many total invoices have been placed?\n",
    "1. How many unique customers are there?\n",
    "1. What is the total number of unique items?\n",
    "1. Are there any columns with null values?\n",
    "1. Thinking ahead, how do you think you would join the different tables? Please share 2-3 sentences about your approach."
   ]
  },
  {
   "cell_type": "code",
   "execution_count": 3,
   "metadata": {},
   "outputs": [],
   "source": [
    "import requests\n",
    "import pandas as pd"
   ]
  },
  {
   "cell_type": "code",
   "execution_count": 5,
   "metadata": {},
   "outputs": [],
   "source": [
    "# load the json data from the link\n",
    "DATA_INVOICES = pd.read_json(\"https://github.com/umsi-data-science/data/raw/main/invoices.json\")\n",
    "DATA_ITEMS = pd.read_json(\"https://raw.githubusercontent.com/umsi-data-science/data/main/items.json\")\n",
    "DATA_PURCHASES = pd.read_json(\"https://raw.githubusercontent.com/umsi-data-science/data/main/purchases.json\")"
   ]
  },
  {
   "cell_type": "code",
   "execution_count": 6,
   "metadata": {},
   "outputs": [
    {
     "name": "stdout",
     "output_type": "stream",
     "text": [
      "<class 'pandas.core.frame.DataFrame'>\n",
      "RangeIndex: 25943 entries, 0 to 25942\n",
      "Data columns (total 4 columns):\n",
      " #   Column       Non-Null Count  Dtype  \n",
      "---  ------       --------------  -----  \n",
      " 0   InvoiceNo    25943 non-null  object \n",
      " 1   InvoiceDate  25943 non-null  object \n",
      " 2   CustomerID   22221 non-null  float64\n",
      " 3   Country      25943 non-null  object \n",
      "dtypes: float64(1), object(3)\n",
      "memory usage: 810.8+ KB\n"
     ]
    }
   ],
   "source": [
    "# Describe the datasets to have a basic sense of the datasets\n",
    "DATA_INVOICES.info()"
   ]
  },
  {
   "cell_type": "code",
   "execution_count": 12,
   "metadata": {},
   "outputs": [
    {
     "name": "stdout",
     "output_type": "stream",
     "text": [
      "<class 'pandas.core.frame.DataFrame'>\n",
      "RangeIndex: 4070 entries, 0 to 4069\n",
      "Data columns (total 3 columns):\n",
      " #   Column       Non-Null Count  Dtype  \n",
      "---  ------       --------------  -----  \n",
      " 0   StockCode    4070 non-null   object \n",
      " 1   Description  3894 non-null   object \n",
      " 2   UnitPrice    4070 non-null   float64\n",
      "dtypes: float64(1), object(2)\n",
      "memory usage: 95.5+ KB\n"
     ]
    }
   ],
   "source": [
    "DATA_ITEMS.info()"
   ]
  },
  {
   "cell_type": "code",
   "execution_count": 13,
   "metadata": {},
   "outputs": [
    {
     "name": "stdout",
     "output_type": "stream",
     "text": [
      "<class 'pandas.core.frame.DataFrame'>\n",
      "RangeIndex: 541909 entries, 0 to 541908\n",
      "Data columns (total 3 columns):\n",
      " #   Column       Non-Null Count   Dtype \n",
      "---  ------       --------------   ----- \n",
      " 0   InvoiceNo    541909 non-null  object\n",
      " 1   StockCodeSC  541909 non-null  object\n",
      " 2   Quantity     541909 non-null  int64 \n",
      "dtypes: int64(1), object(2)\n",
      "memory usage: 12.4+ MB\n"
     ]
    }
   ],
   "source": [
    "DATA_PURCHASES.info()"
   ]
  },
  {
   "cell_type": "code",
   "execution_count": 8,
   "metadata": {},
   "outputs": [
    {
     "data": {
      "text/plain": [
       "25943"
      ]
     },
     "execution_count": 8,
     "metadata": {},
     "output_type": "execute_result"
    }
   ],
   "source": [
    "# Calculate the number of the invoices\n",
    "num_invoices = DATA_INVOICES.shape[0]\n",
    "num_invoices"
   ]
  },
  {
   "cell_type": "markdown",
   "metadata": {},
   "source": [
    "**Q1.2**: There are 25943 invoices in the dataset."
   ]
  },
  {
   "cell_type": "code",
   "execution_count": 11,
   "metadata": {},
   "outputs": [
    {
     "data": {
      "text/plain": [
       "4372"
      ]
     },
     "execution_count": 11,
     "metadata": {},
     "output_type": "execute_result"
    }
   ],
   "source": [
    "# Q1.3 Calculate the number of unique customers\n",
    "num_unique_customers = DATA_INVOICES['CustomerID'].nunique()\n",
    "num_unique_customers"
   ]
  },
  {
   "cell_type": "markdown",
   "metadata": {},
   "source": [
    "**Q1.3**: There are 4372 unique customers in the dataset."
   ]
  },
  {
   "cell_type": "code",
   "execution_count": 15,
   "metadata": {},
   "outputs": [
    {
     "data": {
      "text/plain": [
       "4070"
      ]
     },
     "execution_count": 15,
     "metadata": {},
     "output_type": "execute_result"
    }
   ],
   "source": [
    "# Q1.4 Calculate the number of unique items\n",
    "num_unique_items = DATA_ITEMS['StockCode'].nunique()\n",
    "num_unique_items"
   ]
  },
  {
   "cell_type": "markdown",
   "metadata": {},
   "source": [
    "**Q1.4**: There are 4070 unique items in the dataset."
   ]
  },
  {
   "cell_type": "code",
   "execution_count": 21,
   "metadata": {},
   "outputs": [
    {
     "name": "stdout",
     "output_type": "stream",
     "text": [
      "Missing values in Invoice Dataset:\n",
      "InvoiceNo         0\n",
      "InvoiceDate       0\n",
      "CustomerID     3722\n",
      "Country           0\n",
      "dtype: int64\n",
      "\n",
      "\n",
      "Missing values in Items Dataset:\n",
      "StockCode        0\n",
      "Description    176\n",
      "UnitPrice        0\n",
      "dtype: int64\n",
      "\n",
      "\n",
      "Missing values in Purchases Dataset:\n",
      "InvoiceNo      0\n",
      "StockCodeSC    0\n",
      "Quantity       0\n",
      "dtype: int64\n"
     ]
    }
   ],
   "source": [
    "# Q1.5 Check the null values in each dataset\n",
    "print(\"Missing values in Invoice Dataset:\")\n",
    "print(DATA_INVOICES.isnull().sum())\n",
    "print(\"\\n\")\n",
    "print(\"Missing values in Items Dataset:\")\n",
    "print(DATA_ITEMS.isnull().sum())\n",
    "print(\"\\n\")\n",
    "print(\"Missing values in Purchases Dataset:\")\n",
    "print(DATA_PURCHASES.isnull().sum())"
   ]
  },
  {
   "cell_type": "markdown",
   "metadata": {},
   "source": [
    "**Q1.5**: There are 3722 null values in the `CustomerID` column of the invoice dataset. There are 176 null values in the `Description` column of the items dataset."
   ]
  },
  {
   "cell_type": "markdown",
   "metadata": {},
   "source": [
    "**Q1.6**: To join the datasets, I will first join the `Items` table to the `Purchases` by using the `StockCode` column in the `items` dataset and `StockCodeSC` in `Purchases` to match up products, add their `UnitPrice` and calculate the total spending for each product in the new `Purchase_Items` dataset. Then, I will use the `InvoiceNo` column in the `invoices` dataset to merge to the `Purchase_Items` dataset."
   ]
  },
  {
   "cell_type": "markdown",
   "metadata": {},
   "source": [
    "### <span style=\"color:magenta\"> Q2. [10 points] Invoice Analysis </span>\n",
    "1. For each customer calculate how many total invoices they have placed. List the top 10 customers who have placed an invoice in descending order.\n",
    "2. Perform a similar calculation but instead of the number of invoices, calculate the total quantity of items ordered for each customer. List the top 10 customers in descending order.\n",
    "3. Compare the top 10 customers, does it appear that the more invoices a customer have, the greater the total quantity of items? Explain your reasoning.\n",
    "\n",
    "_Hint: For 2.2, you may need to join two datasets together to answer the question._"
   ]
  },
  {
   "cell_type": "code",
   "execution_count": 22,
   "metadata": {},
   "outputs": [
    {
     "data": {
      "text/plain": [
       "CustomerID\n",
       "14911.0    249\n",
       "12748.0    225\n",
       "17841.0    169\n",
       "14606.0    130\n",
       "13089.0    118\n",
       "15311.0    118\n",
       "12971.0     89\n",
       "14527.0     86\n",
       "13408.0     81\n",
       "14646.0     77\n",
       "Name: count, dtype: int64"
      ]
     },
     "execution_count": 22,
     "metadata": {},
     "output_type": "execute_result"
    }
   ],
   "source": [
    "# Q2.1 List the top ten customers have placed most invoices\n",
    "DATA_INVOICES['CustomerID'].value_counts().head(10)"
   ]
  },
  {
   "cell_type": "code",
   "execution_count": 24,
   "metadata": {},
   "outputs": [
    {
     "data": {
      "text/plain": [
       "CustomerID\n",
       "17841.0    7983\n",
       "14911.0    5942\n",
       "14096.0    5128\n",
       "12748.0    4731\n",
       "14606.0    2840\n",
       "15311.0    2491\n",
       "14646.0    2085\n",
       "13089.0    1857\n",
       "13263.0    1677\n",
       "14298.0    1640\n",
       "Name: count, dtype: int64"
      ]
     },
     "execution_count": 24,
     "metadata": {},
     "output_type": "execute_result"
    }
   ],
   "source": [
    "# Q2.2 List the top ten customers have purchased the most items\n",
    "## left join purchase to the invoice dataset on the invoice number\n",
    "data_invoices_purchase = pd.merge(DATA_INVOICES, DATA_PURCHASES, on='InvoiceNo', how='left')\n",
    "\n",
    "## calculate the number of items purchased by each customer and list the top ten customers\n",
    "data_invoices_purchase['CustomerID'].value_counts().head(10)"
   ]
  },
  {
   "cell_type": "markdown",
   "metadata": {},
   "source": [
    "**Q2.3**: The top 10 customers who have placed the most invoices are not the same as the top 10 customers with most items. This could be due to the fact that some customers place more orders with less items for each order, while others place fewer but larger orders. It weakens the correlation between the quantities of invoices placed and the quantities of items ordered."
   ]
  },
  {
   "cell_type": "markdown",
   "metadata": {},
   "source": [
    "### <span style=\"color:magenta\"> Q3. [10 points] Item Analysis </span>\n",
    "1. What is the average item-unit price? \n",
    "1. What % of items are under $25?\n",
    "1. Generate a histogram of the unit prices. Select reasonable min/max values for the x-axis. Why did you pick those values? What do you notice about the histogram? "
   ]
  },
  {
   "cell_type": "code",
   "execution_count": 15,
   "metadata": {},
   "outputs": [],
   "source": [
    "# put your code here"
   ]
  },
  {
   "cell_type": "markdown",
   "metadata": {},
   "source": [
    "(Use this space to explain your answers)"
   ]
  },
  {
   "cell_type": "markdown",
   "metadata": {},
   "source": [
    "### <span style=\"color:magenta\"> Q4. [25 points] Order Trends </span>\n",
    "1. What are the top 10 most ordered items? Describe them. Do you see any trends?  \n",
    "1. What are the top 5 invoices that generated the most revenue? (Revenue is calculated by \"marking up\" the unit price by 25%.) \n",
    "1. Do the top 5 invoices contain any of the top 10 most ordered items?\n",
    "\n",
    "_Hint: When calculating the revenue we suggest adding a new column on the dataframe._"
   ]
  },
  {
   "cell_type": "code",
   "execution_count": 20,
   "metadata": {},
   "outputs": [],
   "source": [
    "# put your code here"
   ]
  },
  {
   "cell_type": "markdown",
   "metadata": {},
   "source": [
    "(Use this space to explain your answers)"
   ]
  },
  {
   "cell_type": "markdown",
   "metadata": {},
   "source": [
    "### <span style=\"color:magenta\"> Q5. [30 points] Customer Analysis </span>\n",
    "1. Classify customers into segments based on the total revenue they have generated for the company.\n",
    " * low value: less than \\$1750  \n",
    " * medium value: between 1750 and 8250 dollars\n",
    " * high value: greater than \\$8250\n",
    "1. How many customers are in each segment? \n",
    "1. Using the pivot table function, create a table that displays the average order quantity of each stock code for a given segment.\n",
    "1. Are the items with the highest average order quantity generally the same across segments? Explain your reasoning. \n",
    "1. Choose three items and discuss any trends/differences you notice across the three segments.\n",
    "\n",
    "_Hint: When calculating the segment, we suggest constructing a new dataframe as an intermediary step with the columns: CustomerID, Revenue, Segment._"
   ]
  },
  {
   "cell_type": "code",
   "execution_count": 105,
   "metadata": {},
   "outputs": [],
   "source": [
    "# put your code here"
   ]
  },
  {
   "cell_type": "markdown",
   "metadata": {},
   "source": [
    "(Use this space to explain your answers)"
   ]
  },
  {
   "cell_type": "markdown",
   "metadata": {},
   "source": [
    "# Please submit your completed notebook in .IPYNB and .HTML formats via Canvas"
   ]
  },
  {
   "cell_type": "code",
   "execution_count": null,
   "metadata": {},
   "outputs": [],
   "source": []
  }
 ],
 "metadata": {
  "kernelspec": {
   "display_name": "Python 3 (ipykernel)",
   "language": "python",
   "name": "python3"
  },
  "language_info": {
   "codemirror_mode": {
    "name": "ipython",
    "version": 3
   },
   "file_extension": ".py",
   "mimetype": "text/x-python",
   "name": "python",
   "nbconvert_exporter": "python",
   "pygments_lexer": "ipython3",
   "version": "3.11.8"
  }
 },
 "nbformat": 4,
 "nbformat_minor": 4
}
