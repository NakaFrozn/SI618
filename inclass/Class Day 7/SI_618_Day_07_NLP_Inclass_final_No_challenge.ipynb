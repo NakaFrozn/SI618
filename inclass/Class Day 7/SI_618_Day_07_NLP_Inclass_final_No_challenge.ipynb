{
 "cells": [
  {
   "cell_type": "markdown",
   "metadata": {},
   "source": [
    "### **SI 618: Data Manipulation and Analysis** 🎓  \n",
    "#### Lesson 07: Beyond Regex — Natural Language Processing\n",
    "👤 *Instructor: Dr. Chris Teplovs*  \n",
    "🏫 *School of Information, University of Michigan*  \n",
    "© 2024. *This notebook may not be shared outside the course without permission.*\n",
    "\n",
    "* 📅 Please Ensure You Have This Version:\n",
    "**Version 2024.10.8.1.CT**"
   ]
  },
  {
   "attachments": {},
   "cell_type": "markdown",
   "metadata": {},
   "source": [
    "# 📋 Updates\n",
    "- 🔹 **Project Team Formation**: Make sure to connect with your team members and establish roles for efficient collaboration!"
   ]
  },
  {
   "cell_type": "code",
   "execution_count": 224,
   "metadata": {
    "slideshow": {
     "slide_type": "slide"
    }
   },
   "outputs": [],
   "source": [
    "import pandas as pd\n",
    "import numpy as np\n",
    "import re\n",
    "import seaborn as sns\n",
    "import matplotlib.pyplot as plt"
   ]
  },
  {
   "cell_type": "markdown",
   "metadata": {
    "slideshow": {
     "slide_type": "slide"
    }
   },
   "source": [
    "# spaCy"
   ]
  },
  {
   "cell_type": "markdown",
   "metadata": {
    "slideshow": {
     "slide_type": "subslide"
    }
   },
   "source": [
    "- ⚡ **Fast and Extensible NLP Package for Python**  \n",
    "  Check it out here: [spaCy Official Website](https://spacy.io/)\n",
    "\n",
    "- **🔗 Installation Note**:  \n",
    "  Make sure to install the spaCy package and download the English corpus:\n",
    "\n",
    "  ```bash\n",
    "  pip install spacy\n",
    "  python -m spacy download en_core_web_sm"
   ]
  },
  {
   "cell_type": "code",
   "execution_count": 225,
   "metadata": {},
   "outputs": [],
   "source": [
    "import spacy"
   ]
  },
  {
   "cell_type": "code",
   "execution_count": 3,
   "metadata": {},
   "outputs": [
    {
     "name": "stdout",
     "output_type": "stream",
     "text": [
      "Requirement already satisfied: spacy in /Users/jonasxie/Documents/umich/courses/SI618/.venv/lib/python3.12/site-packages (3.8.2)\n",
      "Requirement already satisfied: spacy-legacy<3.1.0,>=3.0.11 in /Users/jonasxie/Documents/umich/courses/SI618/.venv/lib/python3.12/site-packages (from spacy) (3.0.12)\n",
      "Requirement already satisfied: spacy-loggers<2.0.0,>=1.0.0 in /Users/jonasxie/Documents/umich/courses/SI618/.venv/lib/python3.12/site-packages (from spacy) (1.0.5)\n",
      "Requirement already satisfied: murmurhash<1.1.0,>=0.28.0 in /Users/jonasxie/Documents/umich/courses/SI618/.venv/lib/python3.12/site-packages (from spacy) (1.0.10)\n",
      "Requirement already satisfied: cymem<2.1.0,>=2.0.2 in /Users/jonasxie/Documents/umich/courses/SI618/.venv/lib/python3.12/site-packages (from spacy) (2.0.8)\n",
      "Requirement already satisfied: preshed<3.1.0,>=3.0.2 in /Users/jonasxie/Documents/umich/courses/SI618/.venv/lib/python3.12/site-packages (from spacy) (3.0.9)\n",
      "Requirement already satisfied: thinc<8.4.0,>=8.3.0 in /Users/jonasxie/Documents/umich/courses/SI618/.venv/lib/python3.12/site-packages (from spacy) (8.3.2)\n",
      "Requirement already satisfied: wasabi<1.2.0,>=0.9.1 in /Users/jonasxie/Documents/umich/courses/SI618/.venv/lib/python3.12/site-packages (from spacy) (1.1.3)\n",
      "Requirement already satisfied: srsly<3.0.0,>=2.4.3 in /Users/jonasxie/Documents/umich/courses/SI618/.venv/lib/python3.12/site-packages (from spacy) (2.4.8)\n",
      "Requirement already satisfied: catalogue<2.1.0,>=2.0.6 in /Users/jonasxie/Documents/umich/courses/SI618/.venv/lib/python3.12/site-packages (from spacy) (2.0.10)\n",
      "Requirement already satisfied: weasel<0.5.0,>=0.1.0 in /Users/jonasxie/Documents/umich/courses/SI618/.venv/lib/python3.12/site-packages (from spacy) (0.4.1)\n",
      "Requirement already satisfied: typer<1.0.0,>=0.3.0 in /Users/jonasxie/Documents/umich/courses/SI618/.venv/lib/python3.12/site-packages (from spacy) (0.12.5)\n",
      "Requirement already satisfied: tqdm<5.0.0,>=4.38.0 in /Users/jonasxie/Documents/umich/courses/SI618/.venv/lib/python3.12/site-packages (from spacy) (4.66.5)\n",
      "Requirement already satisfied: requests<3.0.0,>=2.13.0 in /Users/jonasxie/Documents/umich/courses/SI618/.venv/lib/python3.12/site-packages (from spacy) (2.32.3)\n",
      "Requirement already satisfied: pydantic!=1.8,!=1.8.1,<3.0.0,>=1.7.4 in /Users/jonasxie/Documents/umich/courses/SI618/.venv/lib/python3.12/site-packages (from spacy) (2.8.2)\n",
      "Requirement already satisfied: jinja2 in /Users/jonasxie/Documents/umich/courses/SI618/.venv/lib/python3.12/site-packages (from spacy) (3.1.4)\n",
      "Requirement already satisfied: setuptools in /Users/jonasxie/Documents/umich/courses/SI618/.venv/lib/python3.12/site-packages (from spacy) (74.1.2)\n",
      "Requirement already satisfied: packaging>=20.0 in /Users/jonasxie/Documents/umich/courses/SI618/.venv/lib/python3.12/site-packages (from spacy) (24.1)\n",
      "Requirement already satisfied: langcodes<4.0.0,>=3.2.0 in /Users/jonasxie/Documents/umich/courses/SI618/.venv/lib/python3.12/site-packages (from spacy) (3.4.0)\n",
      "Requirement already satisfied: numpy>=1.19.0 in /Users/jonasxie/Documents/umich/courses/SI618/.venv/lib/python3.12/site-packages (from spacy) (2.0.2)\n",
      "Requirement already satisfied: language-data>=1.2 in /Users/jonasxie/Documents/umich/courses/SI618/.venv/lib/python3.12/site-packages (from langcodes<4.0.0,>=3.2.0->spacy) (1.2.0)\n",
      "Requirement already satisfied: annotated-types>=0.4.0 in /Users/jonasxie/Documents/umich/courses/SI618/.venv/lib/python3.12/site-packages (from pydantic!=1.8,!=1.8.1,<3.0.0,>=1.7.4->spacy) (0.7.0)\n",
      "Requirement already satisfied: pydantic-core==2.20.1 in /Users/jonasxie/Documents/umich/courses/SI618/.venv/lib/python3.12/site-packages (from pydantic!=1.8,!=1.8.1,<3.0.0,>=1.7.4->spacy) (2.20.1)\n",
      "Requirement already satisfied: typing-extensions>=4.6.1 in /Users/jonasxie/Documents/umich/courses/SI618/.venv/lib/python3.12/site-packages (from pydantic!=1.8,!=1.8.1,<3.0.0,>=1.7.4->spacy) (4.12.2)\n",
      "Requirement already satisfied: charset-normalizer<4,>=2 in /Users/jonasxie/Documents/umich/courses/SI618/.venv/lib/python3.12/site-packages (from requests<3.0.0,>=2.13.0->spacy) (3.3.2)\n",
      "Requirement already satisfied: idna<4,>=2.5 in /Users/jonasxie/Documents/umich/courses/SI618/.venv/lib/python3.12/site-packages (from requests<3.0.0,>=2.13.0->spacy) (3.8)\n",
      "Requirement already satisfied: urllib3<3,>=1.21.1 in /Users/jonasxie/Documents/umich/courses/SI618/.venv/lib/python3.12/site-packages (from requests<3.0.0,>=2.13.0->spacy) (2.2.2)\n",
      "Requirement already satisfied: certifi>=2017.4.17 in /Users/jonasxie/Documents/umich/courses/SI618/.venv/lib/python3.12/site-packages (from requests<3.0.0,>=2.13.0->spacy) (2024.7.4)\n",
      "Requirement already satisfied: blis<1.1.0,>=1.0.0 in /Users/jonasxie/Documents/umich/courses/SI618/.venv/lib/python3.12/site-packages (from thinc<8.4.0,>=8.3.0->spacy) (1.0.1)\n",
      "Requirement already satisfied: confection<1.0.0,>=0.0.1 in /Users/jonasxie/Documents/umich/courses/SI618/.venv/lib/python3.12/site-packages (from thinc<8.4.0,>=8.3.0->spacy) (0.1.5)\n",
      "Requirement already satisfied: click>=8.0.0 in /Users/jonasxie/Documents/umich/courses/SI618/.venv/lib/python3.12/site-packages (from typer<1.0.0,>=0.3.0->spacy) (8.1.7)\n",
      "Requirement already satisfied: shellingham>=1.3.0 in /Users/jonasxie/Documents/umich/courses/SI618/.venv/lib/python3.12/site-packages (from typer<1.0.0,>=0.3.0->spacy) (1.5.4)\n",
      "Requirement already satisfied: rich>=10.11.0 in /Users/jonasxie/Documents/umich/courses/SI618/.venv/lib/python3.12/site-packages (from typer<1.0.0,>=0.3.0->spacy) (13.8.0)\n",
      "Requirement already satisfied: cloudpathlib<1.0.0,>=0.7.0 in /Users/jonasxie/Documents/umich/courses/SI618/.venv/lib/python3.12/site-packages (from weasel<0.5.0,>=0.1.0->spacy) (0.19.0)\n",
      "Requirement already satisfied: smart-open<8.0.0,>=5.2.1 in /Users/jonasxie/Documents/umich/courses/SI618/.venv/lib/python3.12/site-packages (from weasel<0.5.0,>=0.1.0->spacy) (6.4.0)\n",
      "Requirement already satisfied: MarkupSafe>=2.0 in /Users/jonasxie/Documents/umich/courses/SI618/.venv/lib/python3.12/site-packages (from jinja2->spacy) (2.1.5)\n",
      "Requirement already satisfied: marisa-trie>=0.7.7 in /Users/jonasxie/Documents/umich/courses/SI618/.venv/lib/python3.12/site-packages (from language-data>=1.2->langcodes<4.0.0,>=3.2.0->spacy) (1.2.0)\n",
      "Requirement already satisfied: markdown-it-py>=2.2.0 in /Users/jonasxie/Documents/umich/courses/SI618/.venv/lib/python3.12/site-packages (from rich>=10.11.0->typer<1.0.0,>=0.3.0->spacy) (3.0.0)\n",
      "Requirement already satisfied: pygments<3.0.0,>=2.13.0 in /Users/jonasxie/Documents/umich/courses/SI618/.venv/lib/python3.12/site-packages (from rich>=10.11.0->typer<1.0.0,>=0.3.0->spacy) (2.18.0)\n",
      "Requirement already satisfied: mdurl~=0.1 in /Users/jonasxie/Documents/umich/courses/SI618/.venv/lib/python3.12/site-packages (from markdown-it-py>=2.2.0->rich>=10.11.0->typer<1.0.0,>=0.3.0->spacy) (0.1.2)\n",
      "Note: you may need to restart the kernel to use updated packages.\n",
      "Collecting en-core-web-sm==3.8.0\n",
      "  Downloading https://github.com/explosion/spacy-models/releases/download/en_core_web_sm-3.8.0/en_core_web_sm-3.8.0-py3-none-any.whl (12.8 MB)\n",
      "\u001b[2K     \u001b[90m━━━━━━━━━━━━━━━━━━━━━━━━━━━━━━━━━━━━━━━━\u001b[0m \u001b[32m12.8/12.8 MB\u001b[0m \u001b[31m18.6 MB/s\u001b[0m eta \u001b[36m0:00:00\u001b[0ma \u001b[36m0:00:01\u001b[0m\n",
      "\u001b[?25h\u001b[38;5;2m✔ Download and installation successful\u001b[0m\n",
      "You can now load the package via spacy.load('en_core_web_sm')\n"
     ]
    }
   ],
   "source": [
    "%pip install spacy\n",
    "!python -m spacy download en_core_web_sm"
   ]
  },
  {
   "cell_type": "code",
   "execution_count": 227,
   "metadata": {
    "slideshow": {
     "slide_type": "subslide"
    }
   },
   "outputs": [],
   "source": [
    "# loading up the language model: English\n",
    "# note that Windows users might need to figure out where\n",
    "# the previous cell installed the library and change the following line accordingly\n",
    "# https://spacy.io/models/en\n",
    "nlp = spacy.load('en_core_web_sm')"
   ]
  },
  {
   "cell_type": "code",
   "execution_count": 228,
   "metadata": {
    "slideshow": {
     "slide_type": "subslide"
    }
   },
   "outputs": [],
   "source": [
    "# from Make It Stick: The Science of Successful Learning\n",
    "sentences = \"\"\"Michael Young is a high-achieving fourth-year medical\n",
    "student at Georgia Regents University who pulled himself up from rock\n",
    "bottom by changing the way he studies. Young entered medical school\n",
    "without the usual foundation of premed coursework. His classmates all had\n",
    "backgrounds in biochemistry, pharmacology, and the like. Medical\n",
    "school is plenty tough under any circumstances, but in Young's\n",
    "case even more so for lack of a footing.\"\"\""
   ]
  },
  {
   "cell_type": "code",
   "execution_count": 229,
   "metadata": {},
   "outputs": [
    {
     "name": "stdout",
     "output_type": "stream",
     "text": [
      "Michael Young is a high-achieving fourth-year medical\n",
      "student at Georgia Regents University who pulled himself up from rock\n",
      "bottom by changing the way he studies. Young entered medical school\n",
      "without the usual foundation of premed coursework. His classmates all had\n",
      "backgrounds in biochemistry, pharmacology, and the like. Medical\n",
      "school is plenty tough under any circumstances, but in Young's\n",
      "case even more so for lack of a footing.\n"
     ]
    }
   ],
   "source": [
    "print(sentences)"
   ]
  },
  {
   "cell_type": "code",
   "execution_count": 230,
   "metadata": {},
   "outputs": [
    {
     "data": {
      "text/plain": [
       "\"Michael Young is a high-achieving fourth-year medical\\nstudent at Georgia Regents University who pulled himself up from rock\\nbottom by changing the way he studies. Young entered medical school\\nwithout the usual foundation of premed coursework. His classmates all had\\nbackgrounds in biochemistry, pharmacology, and the like. Medical\\nschool is plenty tough under any circumstances, but in Young's\\ncase even more so for lack of a footing.\""
      ]
     },
     "execution_count": 230,
     "metadata": {},
     "output_type": "execute_result"
    }
   ],
   "source": [
    "sentences"
   ]
  },
  {
   "cell_type": "markdown",
   "metadata": {},
   "source": [
    "### 🎯 Goal: Calculate Word Frequency  \n",
    "- **Objective**: Identify the most frequently occurring words in the text to gain insights into the dominant themes or topics.\n",
    "- **Outcome**: Generate a **word frequency summary** to highlight which terms are used most often."
   ]
  },
  {
   "cell_type": "markdown",
   "metadata": {
    "slideshow": {
     "slide_type": "subslide"
    }
   },
   "source": [
    "#### Normalizing the text by lowering the case"
   ]
  },
  {
   "cell_type": "code",
   "execution_count": 231,
   "metadata": {
    "slideshow": {
     "slide_type": "subslide"
    }
   },
   "outputs": [
    {
     "data": {
      "text/plain": [
       "str"
      ]
     },
     "execution_count": 231,
     "metadata": {},
     "output_type": "execute_result"
    }
   ],
   "source": [
    "type(sentences)"
   ]
  },
  {
   "cell_type": "code",
   "execution_count": 232,
   "metadata": {
    "slideshow": {
     "slide_type": "subslide"
    }
   },
   "outputs": [
    {
     "data": {
      "text/plain": [
       "\"michael young is a high-achieving fourth-year medical\\nstudent at georgia regents university who pulled himself up from rock\\nbottom by changing the way he studies. young entered medical school\\nwithout the usual foundation of premed coursework. his classmates all had\\nbackgrounds in biochemistry, pharmacology, and the like. medical\\nschool is plenty tough under any circumstances, but in young's\\ncase even more so for lack of a footing.\""
      ]
     },
     "execution_count": 232,
     "metadata": {},
     "output_type": "execute_result"
    }
   ],
   "source": [
    "sentences_lower = sentences.lower()\n",
    "sentences_lower"
   ]
  },
  {
   "cell_type": "markdown",
   "metadata": {},
   "source": [
    "## 🧹 0-2. Remove Punctuation and Special Characters\n",
    "- **Method 1**: Exclude special characters one by one.\n",
    "- **Method 2**: Use a **regular expression** to efficiently remove all punctuation and special characters in one step.  \n",
    "  - This approach saves time as you don’t need to manually specify each character.\n",
    "  \n",
    "🔗 Useful Resources:  \n",
    "- [Python `re` Library Documentation](https://docs.python.org/3.4/library/re.html)  \n",
    "- [Regular Expression on Wikipedia](https://en.wikipedia.org/wiki/Regular_expression)"
   ]
  },
  {
   "cell_type": "code",
   "execution_count": 233,
   "metadata": {
    "slideshow": {
     "slide_type": "subslide"
    }
   },
   "outputs": [
    {
     "data": {
      "text/plain": [
       "'michael young is a high achieving fourth year medical\\nstudent at georgia regents university who pulled himself up from rock\\nbottom by changing the way he studies  young entered medical school\\nwithout the usual foundation of premed coursework  his classmates all had\\nbackgrounds in biochemistry  pharmacology  and the like  medical\\nschool is plenty tough under any circumstances  but in young s\\ncase even more so for lack of a footing '"
      ]
     },
     "execution_count": 233,
     "metadata": {},
     "output_type": "execute_result"
    }
   ],
   "source": [
    "# https://docs.python.org/3.4/library/re.html\n",
    "# https://en.wikipedia.org/wiki/Regular_expression\n",
    "# https://rampion.github.io/RegHex/\n",
    "# https://www.linkedin.com/in/karina-hauser-7017b7125\n",
    "sentences_lower_no_punctuation = re.sub(r'[^\\w\\s]+', ' ', sentences_lower)\n",
    "sentences_lower_no_punctuation"
   ]
  },
  {
   "cell_type": "markdown",
   "metadata": {},
   "source": [
    "And still one more way:"
   ]
  },
  {
   "cell_type": "code",
   "execution_count": 234,
   "metadata": {},
   "outputs": [
    {
     "data": {
      "text/plain": [
       "'!\"#$%&\\'()*+,-./:;<=>?@[\\\\]^_`{|}~'"
      ]
     },
     "execution_count": 234,
     "metadata": {},
     "output_type": "execute_result"
    }
   ],
   "source": [
    "# You can use the string package to get a list of punctuation characters\n",
    "import string\n",
    "string.punctuation"
   ]
  },
  {
   "cell_type": "code",
   "execution_count": 235,
   "metadata": {},
   "outputs": [],
   "source": [
    "# remove punctuation and special characters from the sentences_lower string using maketrans:\n",
    "sentences_lower_no_punctuation = sentences_lower.translate(\n",
    "    str.maketrans('', '', string.punctuation))\n",
    "\n",
    "\n",
    "# Going to show you a very commonly used function for search and replacing (this is R documentation but grep exists outside of R\n",
    "# https://www.rdocumentation.org/packages/base/versions/3.6.2/topics/grep\n",
    "# https://en.wikipedia.org/wiki/Grep#:~:text=Its%20name%20comes%20from%20the,others%20such%20as%20OS%2D9."
   ]
  },
  {
   "cell_type": "markdown",
   "metadata": {},
   "source": [
    "Remember our task at hand: determining the frequency of each word in a document."
   ]
  },
  {
   "cell_type": "markdown",
   "metadata": {
    "slideshow": {
     "slide_type": "subslide"
    }
   },
   "source": [
    "- Split the paragraph into a list of words"
   ]
  },
  {
   "cell_type": "code",
   "execution_count": 236,
   "metadata": {},
   "outputs": [],
   "source": [
    "words = sentences_lower_no_punctuation.split()\n",
    "# We are doing a basic \"Split tokenizer\" to turn our documents into \"tokens\" (tokens can be words, sentences, paragraphs, etc.)\n",
    "# it depends on the problem you are trying to solve. I sometimes refer to tokens as \"chunks\""
   ]
  },
  {
   "cell_type": "code",
   "execution_count": 237,
   "metadata": {},
   "outputs": [
    {
     "data": {
      "text/plain": [
       "['michael',\n",
       " 'young',\n",
       " 'is',\n",
       " 'a',\n",
       " 'highachieving',\n",
       " 'fourthyear',\n",
       " 'medical',\n",
       " 'student',\n",
       " 'at',\n",
       " 'georgia']"
      ]
     },
     "execution_count": 237,
     "metadata": {},
     "output_type": "execute_result"
    }
   ],
   "source": [
    "words[:10]"
   ]
  },
  {
   "cell_type": "markdown",
   "metadata": {
    "slideshow": {
     "slide_type": "subslide"
    }
   },
   "source": [
    "- Count the words from the list\n",
    "- Words that can occur in any kind of paragraphs...?"
   ]
  },
  {
   "cell_type": "code",
   "execution_count": 238,
   "metadata": {},
   "outputs": [
    {
     "data": {
      "text/plain": [
       "{'michael': 1,\n",
       " 'young': 2,\n",
       " 'is': 2,\n",
       " 'a': 2,\n",
       " 'highachieving': 1,\n",
       " 'fourthyear': 1,\n",
       " 'medical': 3,\n",
       " 'student': 1,\n",
       " 'at': 1,\n",
       " 'georgia': 1,\n",
       " 'regents': 1,\n",
       " 'university': 1,\n",
       " 'who': 1,\n",
       " 'pulled': 1,\n",
       " 'himself': 1,\n",
       " 'up': 1,\n",
       " 'from': 1,\n",
       " 'rock': 1,\n",
       " 'bottom': 1,\n",
       " 'by': 1,\n",
       " 'changing': 1,\n",
       " 'the': 3,\n",
       " 'way': 1,\n",
       " 'he': 1,\n",
       " 'studies': 1,\n",
       " 'entered': 1,\n",
       " 'school': 2,\n",
       " 'without': 1,\n",
       " 'usual': 1,\n",
       " 'foundation': 1,\n",
       " 'of': 2,\n",
       " 'premed': 1,\n",
       " 'coursework': 1,\n",
       " 'his': 1,\n",
       " 'classmates': 1,\n",
       " 'all': 1,\n",
       " 'had': 1,\n",
       " 'backgrounds': 1,\n",
       " 'in': 2,\n",
       " 'biochemistry': 1,\n",
       " 'pharmacology': 1,\n",
       " 'and': 1,\n",
       " 'like': 1,\n",
       " 'plenty': 1,\n",
       " 'tough': 1,\n",
       " 'under': 1,\n",
       " 'any': 1,\n",
       " 'circumstances': 1,\n",
       " 'but': 1,\n",
       " 'youngs': 1,\n",
       " 'case': 1,\n",
       " 'even': 1,\n",
       " 'more': 1,\n",
       " 'so': 1,\n",
       " 'for': 1,\n",
       " 'lack': 1,\n",
       " 'footing': 1}"
      ]
     },
     "execution_count": 238,
     "metadata": {},
     "output_type": "execute_result"
    }
   ],
   "source": [
    "d = {}\n",
    "for word in words:\n",
    "    if word in d:\n",
    "        d[word] = d[word] + 1\n",
    "    else:\n",
    "        d[word] = 1\n",
    "d\n",
    "\n",
    "# Here is a way to breakdown and get the frequency of words in a document"
   ]
  },
  {
   "cell_type": "code",
   "execution_count": 239,
   "metadata": {},
   "outputs": [
    {
     "name": "stdout",
     "output_type": "stream",
     "text": [
      "defaultdict(<class 'int'>, {'michael': 1, 'young': 2, 'is': 2, 'a': 2, 'highachieving': 1, 'fourthyear': 1, 'medical': 3, 'student': 1, 'at': 1, 'georgia': 1, 'regents': 1, 'university': 1, 'who': 1, 'pulled': 1, 'himself': 1, 'up': 1, 'from': 1, 'rock': 1, 'bottom': 1, 'by': 1, 'changing': 1, 'the': 3, 'way': 1, 'he': 1, 'studies': 1, 'entered': 1, 'school': 2, 'without': 1, 'usual': 1, 'foundation': 1, 'of': 2, 'premed': 1, 'coursework': 1, 'his': 1, 'classmates': 1, 'all': 1, 'had': 1, 'backgrounds': 1, 'in': 2, 'biochemistry': 1, 'pharmacology': 1, 'and': 1, 'like': 1, 'plenty': 1, 'tough': 1, 'under': 1, 'any': 1, 'circumstances': 1, 'but': 1, 'youngs': 1, 'case': 1, 'even': 1, 'more': 1, 'so': 1, 'for': 1, 'lack': 1, 'footing': 1})\n"
     ]
    }
   ],
   "source": [
    "from collections import defaultdict\n",
    "d = defaultdict(int)\n",
    "for word in words:\n",
    "    d[word] += 1\n",
    "\n",
    "\n",
    "# Printing the default dictionary\n",
    "# https://www.geeksforgeeks.org/defaultdict-in-python/\n",
    "print(d)"
   ]
  },
  {
   "cell_type": "code",
   "execution_count": 240,
   "metadata": {
    "slideshow": {
     "slide_type": "subslide"
    }
   },
   "outputs": [],
   "source": [
    "from collections import Counter\n",
    "# https://docs.python.org/3/library/collections.html#collections.Counter\n",
    "# A counter class is a dictionary subclass for counting hashable objects. \n",
    "# It is a collection where elements are stored as dictionary keys and \n",
    "# their counts are stored as dictionary values."
   ]
  },
  {
   "cell_type": "code",
   "execution_count": 241,
   "metadata": {},
   "outputs": [
    {
     "data": {
      "text/plain": [
       "[('medical', 3),\n",
       " ('the', 3),\n",
       " ('young', 2),\n",
       " ('is', 2),\n",
       " ('a', 2),\n",
       " ('school', 2),\n",
       " ('of', 2),\n",
       " ('in', 2),\n",
       " ('michael', 1),\n",
       " ('highachieving', 1),\n",
       " ('fourthyear', 1),\n",
       " ('student', 1),\n",
       " ('at', 1),\n",
       " ('georgia', 1),\n",
       " ('regents', 1),\n",
       " ('university', 1),\n",
       " ('who', 1),\n",
       " ('pulled', 1),\n",
       " ('himself', 1),\n",
       " ('up', 1)]"
      ]
     },
     "execution_count": 241,
     "metadata": {},
     "output_type": "execute_result"
    }
   ],
   "source": [
    "Counter(words).most_common(20)"
   ]
  },
  {
   "attachments": {
    "image.png": {
     "image/png": "[encoded data removed]"
    }
   },
   "cell_type": "markdown",
   "metadata": {},
   "source": [
    "![image.png](attachment:image.png)"
   ]
  },
  {
   "cell_type": "code",
   "execution_count": 242,
   "metadata": {
    "slideshow": {
     "slide_type": "subslide"
    }
   },
   "outputs": [
    {
     "data": {
      "image/png": "[encoded data removed]",
      "text/plain": [
       "<Figure size 4500x1000 with 1 Axes>"
      ]
     },
     "metadata": {},
     "output_type": "display_data"
    }
   ],
   "source": [
    "plt.figure(figsize=(45,10))\n",
    "sns.countplot(x=words, order=pd.Series(words).value_counts().index)\n",
    "# sns.countplot(words_nostop, order=[counted[0] for counted in Counter(words_nostop).most_common()])\n",
    "plt.xticks(rotation=90)\n",
    "plt.show()"
   ]
  },
  {
   "cell_type": "markdown",
   "metadata": {},
   "source": [
    "## 🛑 0-3. Remove Stop Words\n",
    "- **Stop words** refer to the most common words in a language (e.g., *the*, *is*, *and*).  \n",
    "- **Why Remove Them?**  \n",
    "  - Stop words add little semantic value and are often removed to improve the performance of NLP models.\n",
    "  - There is **no single universal stopword list**, as it varies depending on the application and language.\n",
    "  \n",
    "🔗 **Learn More**:\n",
    "- [Stop Words on Wikipedia](https://en.wikipedia.org/wiki/Stop_words)\n",
    "- [Most Common Words in English](https://en.wikipedia.org/wiki/Most_common_words_in_English)​⬤"
   ]
  },
  {
   "cell_type": "markdown",
   "metadata": {
    "slideshow": {
     "slide_type": "slide"
    }
   },
   "source": [
    "### 📥 Importing Stop Words from `spaCy`"
   ]
  },
  {
   "cell_type": "code",
   "execution_count": 243,
   "metadata": {
    "slideshow": {
     "slide_type": "subslide"
    }
   },
   "outputs": [],
   "source": [
    "from spacy.lang.en.stop_words import STOP_WORDS\n",
    "# https://en.wikipedia.org/wiki/Stop_word\n",
    "# https://en.wikipedia.org/wiki/Most_common_words_in_English"
   ]
  },
  {
   "cell_type": "code",
   "execution_count": 244,
   "metadata": {
    "slideshow": {
     "slide_type": "subslide"
    }
   },
   "outputs": [
    {
     "data": {
      "text/plain": [
       "{\"'d\",\n",
       " \"'ll\",\n",
       " \"'m\",\n",
       " \"'re\",\n",
       " \"'s\",\n",
       " \"'ve\",\n",
       " 'a',\n",
       " 'about',\n",
       " 'above',\n",
       " 'across',\n",
       " 'after',\n",
       " 'afterwards',\n",
       " 'again',\n",
       " 'against',\n",
       " 'all',\n",
       " 'almost',\n",
       " 'alone',\n",
       " 'along',\n",
       " 'already',\n",
       " 'also',\n",
       " 'although',\n",
       " 'always',\n",
       " 'am',\n",
       " 'among',\n",
       " 'amongst',\n",
       " 'amount',\n",
       " 'an',\n",
       " 'and',\n",
       " 'another',\n",
       " 'any',\n",
       " 'anyhow',\n",
       " 'anyone',\n",
       " 'anything',\n",
       " 'anyway',\n",
       " 'anywhere',\n",
       " 'are',\n",
       " 'around',\n",
       " 'as',\n",
       " 'at',\n",
       " 'back',\n",
       " 'be',\n",
       " 'became',\n",
       " 'because',\n",
       " 'become',\n",
       " 'becomes',\n",
       " 'becoming',\n",
       " 'been',\n",
       " 'before',\n",
       " 'beforehand',\n",
       " 'behind',\n",
       " 'being',\n",
       " 'below',\n",
       " 'beside',\n",
       " 'besides',\n",
       " 'between',\n",
       " 'beyond',\n",
       " 'both',\n",
       " 'bottom',\n",
       " 'but',\n",
       " 'by',\n",
       " 'ca',\n",
       " 'call',\n",
       " 'can',\n",
       " 'cannot',\n",
       " 'could',\n",
       " 'did',\n",
       " 'do',\n",
       " 'does',\n",
       " 'doing',\n",
       " 'done',\n",
       " 'down',\n",
       " 'due',\n",
       " 'during',\n",
       " 'each',\n",
       " 'eight',\n",
       " 'either',\n",
       " 'eleven',\n",
       " 'else',\n",
       " 'elsewhere',\n",
       " 'empty',\n",
       " 'enough',\n",
       " 'even',\n",
       " 'ever',\n",
       " 'every',\n",
       " 'everyone',\n",
       " 'everything',\n",
       " 'everywhere',\n",
       " 'except',\n",
       " 'few',\n",
       " 'fifteen',\n",
       " 'fifty',\n",
       " 'first',\n",
       " 'five',\n",
       " 'for',\n",
       " 'former',\n",
       " 'formerly',\n",
       " 'forty',\n",
       " 'four',\n",
       " 'from',\n",
       " 'front',\n",
       " 'full',\n",
       " 'further',\n",
       " 'get',\n",
       " 'give',\n",
       " 'go',\n",
       " 'had',\n",
       " 'has',\n",
       " 'have',\n",
       " 'he',\n",
       " 'hence',\n",
       " 'her',\n",
       " 'here',\n",
       " 'hereafter',\n",
       " 'hereby',\n",
       " 'herein',\n",
       " 'hereupon',\n",
       " 'hers',\n",
       " 'herself',\n",
       " 'him',\n",
       " 'himself',\n",
       " 'his',\n",
       " 'how',\n",
       " 'however',\n",
       " 'hundred',\n",
       " 'i',\n",
       " 'if',\n",
       " 'in',\n",
       " 'indeed',\n",
       " 'into',\n",
       " 'is',\n",
       " 'it',\n",
       " 'its',\n",
       " 'itself',\n",
       " 'just',\n",
       " 'keep',\n",
       " 'last',\n",
       " 'latter',\n",
       " 'latterly',\n",
       " 'least',\n",
       " 'less',\n",
       " 'made',\n",
       " 'make',\n",
       " 'many',\n",
       " 'may',\n",
       " 'me',\n",
       " 'meanwhile',\n",
       " 'might',\n",
       " 'mine',\n",
       " 'more',\n",
       " 'moreover',\n",
       " 'most',\n",
       " 'mostly',\n",
       " 'move',\n",
       " 'much',\n",
       " 'must',\n",
       " 'my',\n",
       " 'myself',\n",
       " \"n't\",\n",
       " 'name',\n",
       " 'namely',\n",
       " 'neither',\n",
       " 'never',\n",
       " 'nevertheless',\n",
       " 'next',\n",
       " 'nine',\n",
       " 'no',\n",
       " 'nobody',\n",
       " 'none',\n",
       " 'noone',\n",
       " 'nor',\n",
       " 'not',\n",
       " 'nothing',\n",
       " 'now',\n",
       " 'nowhere',\n",
       " 'n‘t',\n",
       " 'n’t',\n",
       " 'of',\n",
       " 'off',\n",
       " 'often',\n",
       " 'on',\n",
       " 'once',\n",
       " 'one',\n",
       " 'only',\n",
       " 'onto',\n",
       " 'or',\n",
       " 'other',\n",
       " 'others',\n",
       " 'otherwise',\n",
       " 'our',\n",
       " 'ours',\n",
       " 'ourselves',\n",
       " 'out',\n",
       " 'over',\n",
       " 'own',\n",
       " 'part',\n",
       " 'per',\n",
       " 'perhaps',\n",
       " 'please',\n",
       " 'put',\n",
       " 'quite',\n",
       " 'rather',\n",
       " 're',\n",
       " 'really',\n",
       " 'regarding',\n",
       " 'same',\n",
       " 'say',\n",
       " 'see',\n",
       " 'seem',\n",
       " 'seemed',\n",
       " 'seeming',\n",
       " 'seems',\n",
       " 'serious',\n",
       " 'several',\n",
       " 'she',\n",
       " 'should',\n",
       " 'show',\n",
       " 'side',\n",
       " 'since',\n",
       " 'six',\n",
       " 'sixty',\n",
       " 'so',\n",
       " 'some',\n",
       " 'somehow',\n",
       " 'someone',\n",
       " 'something',\n",
       " 'sometime',\n",
       " 'sometimes',\n",
       " 'somewhere',\n",
       " 'still',\n",
       " 'such',\n",
       " 'take',\n",
       " 'ten',\n",
       " 'than',\n",
       " 'that',\n",
       " 'the',\n",
       " 'their',\n",
       " 'them',\n",
       " 'themselves',\n",
       " 'then',\n",
       " 'thence',\n",
       " 'there',\n",
       " 'thereafter',\n",
       " 'thereby',\n",
       " 'therefore',\n",
       " 'therein',\n",
       " 'thereupon',\n",
       " 'these',\n",
       " 'they',\n",
       " 'third',\n",
       " 'this',\n",
       " 'those',\n",
       " 'though',\n",
       " 'three',\n",
       " 'through',\n",
       " 'throughout',\n",
       " 'thru',\n",
       " 'thus',\n",
       " 'to',\n",
       " 'together',\n",
       " 'too',\n",
       " 'top',\n",
       " 'toward',\n",
       " 'towards',\n",
       " 'twelve',\n",
       " 'twenty',\n",
       " 'two',\n",
       " 'under',\n",
       " 'unless',\n",
       " 'until',\n",
       " 'up',\n",
       " 'upon',\n",
       " 'us',\n",
       " 'used',\n",
       " 'using',\n",
       " 'various',\n",
       " 'very',\n",
       " 'via',\n",
       " 'was',\n",
       " 'we',\n",
       " 'well',\n",
       " 'were',\n",
       " 'what',\n",
       " 'whatever',\n",
       " 'when',\n",
       " 'whence',\n",
       " 'whenever',\n",
       " 'where',\n",
       " 'whereafter',\n",
       " 'whereas',\n",
       " 'whereby',\n",
       " 'wherein',\n",
       " 'whereupon',\n",
       " 'wherever',\n",
       " 'whether',\n",
       " 'which',\n",
       " 'while',\n",
       " 'whither',\n",
       " 'who',\n",
       " 'whoever',\n",
       " 'whole',\n",
       " 'whom',\n",
       " 'whose',\n",
       " 'why',\n",
       " 'will',\n",
       " 'with',\n",
       " 'within',\n",
       " 'without',\n",
       " 'would',\n",
       " 'yet',\n",
       " 'you',\n",
       " 'your',\n",
       " 'yours',\n",
       " 'yourself',\n",
       " 'yourselves',\n",
       " '‘d',\n",
       " '‘ll',\n",
       " '‘m',\n",
       " '‘re',\n",
       " '‘s',\n",
       " '‘ve',\n",
       " '’d',\n",
       " '’ll',\n",
       " '’m',\n",
       " '’re',\n",
       " '’s',\n",
       " '’ve'}"
      ]
     },
     "execution_count": 244,
     "metadata": {},
     "output_type": "execute_result"
    }
   ],
   "source": [
    "STOP_WORDS"
   ]
  },
  {
   "cell_type": "code",
   "execution_count": 245,
   "metadata": {},
   "outputs": [],
   "source": [
    "#or if the stopwords are provided\n",
    "with open('stopwords.txt', 'r') as file:\n",
    "    stopwords = file.read().splitlines()\n",
    "\n",
    "def remove_stopwords(tokens):\n",
    "    return [token for token in tokens if token not in stopwords]"
   ]
  },
  {
   "cell_type": "markdown",
   "metadata": {},
   "source": [
    "### 🎯 Goal: Count Word Frequency  \n",
    "We aim to calculate the frequency of each word in the paragraph to identify which words best represent its content.\n",
    "\n",
    "- **Note**: Our paragraph is stored as a **single string object**.\n",
    "\n",
    "### After Removing Stopwords:\n",
    "- We can focus on the meaningful words that convey the core message of the paragraph."
   ]
  },
  {
   "cell_type": "code",
   "execution_count": 246,
   "metadata": {
    "slideshow": {
     "slide_type": "subslide"
    }
   },
   "outputs": [],
   "source": [
    "words_no_stopwords = list()\n",
    "for word in words:\n",
    "    if word not in STOP_WORDS:\n",
    "        words_no_stopwords.append(word)"
   ]
  },
  {
   "attachments": {},
   "cell_type": "markdown",
   "metadata": {},
   "source": [
    "### 🚀 **Challenge 1:**  Re-implement the Code Using List Comprehension</font>\n",
    "Re-write the code from the previous cell using a more concise and Pythonic approach with **list comprehension**."
   ]
  },
  {
   "cell_type": "code",
   "execution_count": 247,
   "metadata": {},
   "outputs": [],
   "source": [
    "# Use pyhon list comprehension to remove stopwords\n",
    "words_no_stopwords = [word for word in words if word not in STOP_WORDS]"
   ]
  },
  {
   "attachments": {},
   "cell_type": "markdown",
   "metadata": {},
   "source": [
    "### 🚀 **Challenge 2:** Use `Counter` to Find Word Frequencies</font>\n",
    "Utilize Python’s **`Counter`** class to efficiently compute the frequency of each word in the `words_nostop` list."
   ]
  },
  {
   "cell_type": "code",
   "execution_count": 248,
   "metadata": {},
   "outputs": [
    {
     "data": {
      "text/plain": [
       "Counter({'medical': 3,\n",
       "         'young': 2,\n",
       "         'school': 2,\n",
       "         'michael': 1,\n",
       "         'highachieving': 1,\n",
       "         'fourthyear': 1,\n",
       "         'student': 1,\n",
       "         'georgia': 1,\n",
       "         'regents': 1,\n",
       "         'university': 1,\n",
       "         'pulled': 1,\n",
       "         'rock': 1,\n",
       "         'changing': 1,\n",
       "         'way': 1,\n",
       "         'studies': 1,\n",
       "         'entered': 1,\n",
       "         'usual': 1,\n",
       "         'foundation': 1,\n",
       "         'premed': 1,\n",
       "         'coursework': 1,\n",
       "         'classmates': 1,\n",
       "         'backgrounds': 1,\n",
       "         'biochemistry': 1,\n",
       "         'pharmacology': 1,\n",
       "         'like': 1,\n",
       "         'plenty': 1,\n",
       "         'tough': 1,\n",
       "         'circumstances': 1,\n",
       "         'youngs': 1,\n",
       "         'case': 1,\n",
       "         'lack': 1,\n",
       "         'footing': 1})"
      ]
     },
     "execution_count": 248,
     "metadata": {},
     "output_type": "execute_result"
    }
   ],
   "source": [
    "# use python's Counter class to get the frequency of words\n",
    "Counter(words_no_stopwords)"
   ]
  },
  {
   "attachments": {},
   "cell_type": "markdown",
   "metadata": {},
   "source": [
    "### 🚀 **Challenge 3:** Create a Bar Chart for the Top 10 Most Frequent Words\n",
    "- Display the **10 most common words**, sorted **alphabetically**.\n",
    "- Use a **bar chart** to visualize the frequency of these words."
   ]
  },
  {
   "cell_type": "code",
   "execution_count": 249,
   "metadata": {
    "slideshow": {
     "slide_type": "subslide"
    }
   },
   "outputs": [
    {
     "data": {
      "image/png": "[encoded data removed]",
      "text/plain": [
       "<Figure size 1000x500 with 1 Axes>"
      ]
     },
     "metadata": {},
     "output_type": "display_data"
    }
   ],
   "source": [
    "# display the 10 most common words, sorted alphabetically\n",
    "top_10_words = Counter(words_no_stopwords).most_common(10)\n",
    "top_10_words.sort(key=lambda x: x[0])\n",
    "words, frequencies = zip(*top_10_words)\n",
    "\n",
    "plt.figure(figsize=(10,5))\n",
    "sns.barplot(x=words, y=frequencies)\n",
    "plt.xlabel('Words')\n",
    "plt.ylabel('Frequency')\n",
    "plt.title('Top 10 words')\n",
    "plt.xticks(rotation=45)\n",
    "plt.show()\n"
   ]
  },
  {
   "cell_type": "markdown",
   "metadata": {},
   "source": [
    "# 1. Extracting Linguistic Features with spaCy\n",
    "## ✂️ 1-1. Tokenization\n",
    "- **Token**: A semantic unit for analysis  \n",
    "  - Loosely equivalent to a *word*.  \n",
    "  - Example: `sent_low_pnct.split()`\n",
    "\n",
    "### ⚠️ Tricky Cases in Tokenization:\n",
    "- **Contractions**:  \n",
    "  - Example: *aren't* → Split as: `are` + `n't`\n",
    "\n",
    "- **Names with Apostrophes**:  \n",
    "  - Example: *O'Neil* → May be split into multiple tokens depending on the context.\n",
    "\n",
    "For more details on tokenization, refer to the [Stanford Tokenization Guide](https://nlp.stanford.edu/IR-book/html/htmledition/tokenization-1.html).\n",
    "\n",
    "---\n",
    "\n",
    "### 🔧 Tokenization with `spaCy`:\n",
    "- In `spaCy`, tokens can be of various types:\n",
    "  - **Word**, **Punctuation Symbol**, **Whitespace**, etc.\n",
    "\n",
    "### 🔍 Let’s Dissect the Sentence!\n",
    "- **Initialize the `spaCy` Object** to start tokenizing and analyzing text."
   ]
  },
  {
   "cell_type": "code",
   "execution_count": 250,
   "metadata": {
    "slideshow": {
     "slide_type": "subslide"
    }
   },
   "outputs": [],
   "source": [
    "# https://en.wikipedia.org/wiki/SpaCy\n",
    "# https://nlp.stanford.edu/IR-book/html/htmledition/tokenization-1.html\n",
    "# examples partially taken from (now defunct) https://nlpforhackers.io/complete-guide-to-spacy/\n",
    "import spacy\n",
    "nlp = spacy.load('en_core_web_sm')"
   ]
  },
  {
   "cell_type": "code",
   "execution_count": 251,
   "metadata": {},
   "outputs": [
    {
     "data": {
      "text/plain": [
       "spacy.lang.en.English"
      ]
     },
     "execution_count": 251,
     "metadata": {},
     "output_type": "execute_result"
    }
   ],
   "source": [
    "type(nlp)"
   ]
  },
  {
   "cell_type": "markdown",
   "metadata": {
    "slideshow": {
     "slide_type": "subslide"
    }
   },
   "source": [
    "- Our sentence: \"Hello World!\"\n",
    "    - Pass the sentence string to the ```spaCy``` object ```nlp```"
   ]
  },
  {
   "cell_type": "code",
   "execution_count": 252,
   "metadata": {},
   "outputs": [],
   "source": [
    "doc = nlp(\"Hello World!\")"
   ]
  },
  {
   "cell_type": "markdown",
   "metadata": {
    "slideshow": {
     "slide_type": "subslide"
    }
   },
   "source": [
    "- The sentence is considered as a short document."
   ]
  },
  {
   "cell_type": "code",
   "execution_count": 253,
   "metadata": {},
   "outputs": [
    {
     "name": "stdout",
     "output_type": "stream",
     "text": [
      "<class 'spacy.tokens.doc.Doc'> Hello World!\n"
     ]
    }
   ],
   "source": [
    "print(type(doc), doc)"
   ]
  },
  {
   "cell_type": "markdown",
   "metadata": {
    "slideshow": {
     "slide_type": "subslide"
    }
   },
   "source": [
    "- When we import the sentence string, **`spaCy`** automatically **splits the sentence into tokens**.  \n",
    "  - This process is known as **tokenization**!"
   ]
  },
  {
   "cell_type": "code",
   "execution_count": 254,
   "metadata": {},
   "outputs": [
    {
     "name": "stdout",
     "output_type": "stream",
     "text": [
      "0 Hello\n",
      "1 World\n",
      "2 !\n"
     ]
    }
   ],
   "source": [
    "for i,token in enumerate(doc):\n",
    "    print(i, token)"
   ]
  },
  {
   "cell_type": "markdown",
   "metadata": {
    "slideshow": {
     "slide_type": "subslide"
    }
   },
   "source": [
    "- Each token is also accompanied by its **index information**, indicating its **location within the sentence**."
   ]
  },
  {
   "cell_type": "markdown",
   "metadata": {},
   "source": [
    "| 0 | 1 | 2 | 3 | 4 | 5 | 6 | 7 | 8 | 9 | 10| 11|\n",
    "|---|---|---|---|---|---|---|---|---|---|---|---|\n",
    "| H | e | l | l | o | _ | W | o | r | l | d | ! |"
   ]
  },
  {
   "cell_type": "code",
   "execution_count": 255,
   "metadata": {
    "slideshow": {
     "slide_type": "subslide"
    }
   },
   "outputs": [
    {
     "name": "stdout",
     "output_type": "stream",
     "text": [
      "0 Hello 0\n",
      "1 World 6\n",
      "2 ! 11\n"
     ]
    }
   ],
   "source": [
    "for i, token in enumerate(doc):\n",
    "    print(i, token.text, token.idx)\n"
   ]
  },
  {
   "cell_type": "markdown",
   "metadata": {
    "slideshow": {
     "slide_type": "subslide"
    }
   },
   "source": [
    "- **And Much More!**  \n",
    "  - Explore additional token attributes in the [spaCy Token API Documentation](https://spacy.io/api/token#attributes)."
   ]
  },
  {
   "cell_type": "code",
   "execution_count": 256,
   "metadata": {
    "scrolled": true
   },
   "outputs": [
    {
     "data": {
      "text/plain": [
       "\"Michael Young is a high-achieving fourth-year medical\\nstudent at Georgia Regents University who pulled himself up from rock\\nbottom by changing the way he studies. Young entered medical school\\nwithout the usual foundation of premed coursework. His classmates all had\\nbackgrounds in biochemistry, pharmacology, and the like. Medical\\nschool is plenty tough under any circumstances, but in Young's\\ncase even more so for lack of a footing.\""
      ]
     },
     "execution_count": 256,
     "metadata": {},
     "output_type": "execute_result"
    }
   ],
   "source": [
    "# We are going to take a look back at the sentences we were using earlier\n",
    "sentences"
   ]
  },
  {
   "cell_type": "code",
   "execution_count": 257,
   "metadata": {},
   "outputs": [
    {
     "name": "stdout",
     "output_type": "stream",
     "text": [
      "text\tidx\tlemma\tlower\tpunct\tspace\tshape\tPOS\n",
      "Michael\t0\tMichael\tmichael\tFalse\tFalse\tXxxxx\tPROPN\n",
      "Young\t8\tYoung\tyoung\tFalse\tFalse\tXxxxx\tPROPN\n",
      "is\t14\tbe\tis\tFalse\tFalse\txx\tAUX\n",
      "a\t17\ta\ta\tFalse\tFalse\tx\tDET\n",
      "high\t19\thigh\thigh\tFalse\tFalse\txxxx\tADV\n",
      "-\t23\t-\t-\tTrue\tFalse\t-\tPUNCT\n",
      "achieving\t24\tachieve\tachieving\tFalse\tFalse\txxxx\tVERB\n",
      "fourth\t34\tfourth\tfourth\tFalse\tFalse\txxxx\tADJ\n",
      "-\t40\t-\t-\tTrue\tFalse\t-\tPUNCT\n",
      "year\t41\tyear\tyear\tFalse\tFalse\txxxx\tNOUN\n",
      "medical\t46\tmedical\tmedical\tFalse\tFalse\txxxx\tADJ\n",
      "SPACE\n",
      "student\t54\tstudent\tstudent\tFalse\tFalse\txxxx\tNOUN\n",
      "at\t62\tat\tat\tFalse\tFalse\txx\tADP\n",
      "Georgia\t65\tGeorgia\tgeorgia\tFalse\tFalse\tXxxxx\tPROPN\n",
      "Regents\t73\tRegents\tregents\tFalse\tFalse\tXxxxx\tPROPN\n",
      "University\t81\tUniversity\tuniversity\tFalse\tFalse\tXxxxx\tPROPN\n",
      "who\t92\twho\twho\tFalse\tFalse\txxx\tPRON\n",
      "pulled\t96\tpull\tpulled\tFalse\tFalse\txxxx\tVERB\n",
      "himself\t103\thimself\thimself\tFalse\tFalse\txxxx\tPRON\n",
      "up\t111\tup\tup\tFalse\tFalse\txx\tADP\n",
      "from\t114\tfrom\tfrom\tFalse\tFalse\txxxx\tADP\n",
      "rock\t119\trock\trock\tFalse\tFalse\txxxx\tNOUN\n",
      "SPACE\n",
      "bottom\t124\tbottom\tbottom\tFalse\tFalse\txxxx\tNOUN\n",
      "by\t131\tby\tby\tFalse\tFalse\txx\tADP\n",
      "changing\t134\tchange\tchanging\tFalse\tFalse\txxxx\tVERB\n",
      "the\t143\tthe\tthe\tFalse\tFalse\txxx\tDET\n",
      "way\t147\tway\tway\tFalse\tFalse\txxx\tNOUN\n",
      "he\t151\the\the\tFalse\tFalse\txx\tPRON\n",
      "studies\t154\tstudy\tstudies\tFalse\tFalse\txxxx\tVERB\n",
      ".\t161\t.\t.\tTrue\tFalse\t.\tPUNCT\n",
      "Young\t163\tYoung\tyoung\tFalse\tFalse\tXxxxx\tPROPN\n",
      "entered\t169\tenter\tentered\tFalse\tFalse\txxxx\tVERB\n",
      "medical\t177\tmedical\tmedical\tFalse\tFalse\txxxx\tADJ\n",
      "school\t185\tschool\tschool\tFalse\tFalse\txxxx\tNOUN\n",
      "SPACE\n",
      "without\t192\twithout\twithout\tFalse\tFalse\txxxx\tADP\n",
      "the\t200\tthe\tthe\tFalse\tFalse\txxx\tDET\n",
      "usual\t204\tusual\tusual\tFalse\tFalse\txxxx\tADJ\n",
      "foundation\t210\tfoundation\tfoundation\tFalse\tFalse\txxxx\tNOUN\n",
      "of\t221\tof\tof\tFalse\tFalse\txx\tADP\n",
      "premed\t224\tpremed\tpremed\tFalse\tFalse\txxxx\tADJ\n",
      "coursework\t231\tcoursework\tcoursework\tFalse\tFalse\txxxx\tNOUN\n",
      ".\t241\t.\t.\tTrue\tFalse\t.\tPUNCT\n",
      "His\t243\this\this\tFalse\tFalse\tXxx\tPRON\n",
      "classmates\t247\tclassmate\tclassmates\tFalse\tFalse\txxxx\tNOUN\n",
      "all\t258\tall\tall\tFalse\tFalse\txxx\tPRON\n",
      "had\t262\thave\thad\tFalse\tFalse\txxx\tVERB\n",
      "SPACE\n",
      "backgrounds\t266\tbackground\tbackgrounds\tFalse\tFalse\txxxx\tNOUN\n",
      "in\t278\tin\tin\tFalse\tFalse\txx\tADP\n",
      "biochemistry\t281\tbiochemistry\tbiochemistry\tFalse\tFalse\txxxx\tNOUN\n",
      ",\t293\t,\t,\tTrue\tFalse\t,\tPUNCT\n",
      "pharmacology\t295\tpharmacology\tpharmacology\tFalse\tFalse\txxxx\tNOUN\n",
      ",\t307\t,\t,\tTrue\tFalse\t,\tPUNCT\n",
      "and\t309\tand\tand\tFalse\tFalse\txxx\tCCONJ\n",
      "the\t313\tthe\tthe\tFalse\tFalse\txxx\tDET\n",
      "like\t317\tlike\tlike\tFalse\tFalse\txxxx\tADJ\n",
      ".\t321\t.\t.\tTrue\tFalse\t.\tPUNCT\n",
      "Medical\t323\tMedical\tmedical\tFalse\tFalse\tXxxxx\tPROPN\n",
      "SPACE\n",
      "school\t331\tschool\tschool\tFalse\tFalse\txxxx\tNOUN\n",
      "is\t338\tbe\tis\tFalse\tFalse\txx\tAUX\n",
      "plenty\t341\tplenty\tplenty\tFalse\tFalse\txxxx\tADV\n",
      "tough\t348\ttough\ttough\tFalse\tFalse\txxxx\tADJ\n",
      "under\t354\tunder\tunder\tFalse\tFalse\txxxx\tADP\n",
      "any\t360\tany\tany\tFalse\tFalse\txxx\tDET\n",
      "circumstances\t364\tcircumstance\tcircumstances\tFalse\tFalse\txxxx\tNOUN\n",
      ",\t377\t,\t,\tTrue\tFalse\t,\tPUNCT\n",
      "but\t379\tbut\tbut\tFalse\tFalse\txxx\tCCONJ\n",
      "in\t383\tin\tin\tFalse\tFalse\txx\tADP\n",
      "Young\t386\tYoung\tyoung\tFalse\tFalse\tXxxxx\tPROPN\n",
      "'s\t391\t's\t's\tFalse\tFalse\t'x\tPART\n",
      "SPACE\n",
      "case\t394\tcase\tcase\tFalse\tFalse\txxxx\tNOUN\n",
      "even\t399\teven\teven\tFalse\tFalse\txxxx\tADV\n",
      "more\t404\tmore\tmore\tFalse\tFalse\txxxx\tADV\n",
      "so\t409\tso\tso\tFalse\tFalse\txx\tADV\n",
      "for\t412\tfor\tfor\tFalse\tFalse\txxx\tADP\n",
      "lack\t416\tlack\tlack\tFalse\tFalse\txxxx\tNOUN\n",
      "of\t421\tof\tof\tFalse\tFalse\txx\tADP\n",
      "a\t424\ta\ta\tFalse\tFalse\tx\tDET\n",
      "footing\t426\tfooting\tfooting\tFalse\tFalse\txxxx\tNOUN\n",
      ".\t433\t.\t.\tTrue\tFalse\t.\tPUNCT\n"
     ]
    }
   ],
   "source": [
    "# NLP is a an NLP pipeline object that processes the text input\n",
    "doc = nlp(sentences)\n",
    "\n",
    "# The result 'doc' is a spacy.tokens.doc.Doc object containing tokens with rich linguistic annotations\n",
    "\n",
    "print(\"text\\tidx\\tlemma\\tlower\\tpunct\\tspace\\tshape\\tPOS\")\n",
    "\n",
    "\n",
    "# This loop will print out the token text, index, lemma, lowercase, punctuation, space, shape, and POS tag\n",
    "\n",
    "# the . notation is used to access the attributes of the token object\n",
    "for token in doc:\n",
    "    if token.is_space:\n",
    "        print(\"SPACE\")\n",
    "    else:\n",
    "        print(\"{0}\\t{1}\\t{2}\\t{3}\\t{4}\\t{5}\\t{6}\\t{7}\".format(\n",
    "            token.text,\n",
    "            token.idx,\n",
    "            token.lemma_,\n",
    "            token.lower_,\n",
    "            token.is_punct,\n",
    "            token.is_space,\n",
    "            token.shape_,\n",
    "            token.pos_\n",
    "    ))"
   ]
  },
  {
   "cell_type": "markdown",
   "metadata": {},
   "source": [
    "### 🚀 **Challenge 4:**  \n",
    "Create a **bar chart** using the output from the **spaCy tokenizer**.  \n",
    "- Make sure to **exclude**:\n",
    "  - **Punctuation**\n",
    "  - **Spaces**\n",
    "  - **Stopwords**"
   ]
  },
  {
   "cell_type": "code",
   "execution_count": 258,
   "metadata": {},
   "outputs": [
    {
     "name": "stdout",
     "output_type": "stream",
     "text": [
      "Counter({'young': 3, 'medical': 3, 'school': 2, 'michael': 1, 'high': 1, 'achieving': 1, 'fourth': 1, 'year': 1, 'student': 1, 'georgia': 1, 'regents': 1, 'university': 1, 'pulled': 1, 'rock': 1, 'changing': 1, 'way': 1, 'studies': 1, 'entered': 1, 'usual': 1, 'foundation': 1, 'premed': 1, 'coursework': 1, 'classmates': 1, 'backgrounds': 1, 'biochemistry': 1, 'pharmacology': 1, 'like': 1, 'plenty': 1, 'tough': 1, 'circumstances': 1, 'case': 1, 'lack': 1, 'footing': 1})\n"
     ]
    },
    {
     "data": {
      "image/png": "[encoded data removed]",
      "text/plain": [
       "<Figure size 1000x500 with 1 Axes>"
      ]
     },
     "metadata": {},
     "output_type": "display_data"
    }
   ],
   "source": [
    "# create the tokens and remove stopwords, punctuation, and spaces, lowercase the words\n",
    "tokens = [token.text.lower() for token in doc \n",
    "          if not token.is_stop and not token.is_punct and not token.is_space]\n",
    "\n",
    "# Create a Counter\n",
    "word_freq = Counter(tokens)\n",
    "\n",
    "print(word_freq)\n",
    "\n",
    "# Get the top 10 words and sort them alphabetically\n",
    "top_10_words = word_freq.most_common(10)\n",
    "\n",
    "# Unzip the words and frequencies\n",
    "words, frequencies = zip(*top_10_words)\n",
    "\n",
    "# Create a bar plot\n",
    "plt.figure(figsize=(10,5))\n",
    "sns.barplot(x=words, y=frequencies)\n",
    "plt.xlabel('Words')\n",
    "plt.ylabel('Frequency')\n",
    "plt.title('Top 10 words')\n",
    "plt.xticks(rotation=45)\n",
    "plt.show()"
   ]
  },
  {
   "cell_type": "markdown",
   "metadata": {},
   "source": [
    "## 1-2. Sentence Detection\n",
    "- When working with documents containing **multiple sentences**, it’s important to **separate each sentence** correctly.\n",
    "- In **`spaCy`**, this process is much more **convenient** and **less error-prone** compared to using regular expressions."
   ]
  },
  {
   "cell_type": "code",
   "execution_count": 259,
   "metadata": {},
   "outputs": [
    {
     "data": {
      "text/plain": [
       "\"Michael Young is a high-achieving fourth-year medical\\nstudent at Georgia Regents University who pulled himself up from rock\\nbottom by changing the way he studies. Young entered medical school\\nwithout the usual foundation of premed coursework. His classmates all had\\nbackgrounds in biochemistry, pharmacology, and the like. Medical\\nschool is plenty tough under any circumstances, but in Young's\\ncase even more so for lack of a footing.\""
      ]
     },
     "execution_count": 259,
     "metadata": {},
     "output_type": "execute_result"
    }
   ],
   "source": [
    "sentences"
   ]
  },
  {
   "cell_type": "code",
   "execution_count": 260,
   "metadata": {
    "slideshow": {
     "slide_type": "subslide"
    }
   },
   "outputs": [],
   "source": [
    "# same document, but initiate as the spaCy object...\n",
    "doc = nlp(sentences)"
   ]
  },
  {
   "cell_type": "markdown",
   "metadata": {
    "slideshow": {
     "slide_type": "subslide"
    }
   },
   "source": [
    "- **Sentences are Stored as a Generator Object**  \n",
    "  - Unlike a list, each sentence is stored as an item within a **generator object**.\n",
    "  - **Advantages**:\n",
    "    - Can be **iterated** using a `for` loop.\n",
    "    - **More efficient memory usage** compared to storing sentences in a list.\n",
    "  \n",
    "🔗 [Learn More About Generators](https://wiki.python.org/moin/Generators)"
   ]
  },
  {
   "attachments": {
    "image.png": {
     "image/png": "[encoded data removed]"
    }
   },
   "cell_type": "markdown",
   "metadata": {},
   "source": [
    "![image.png](attachment:image.png)"
   ]
  },
  {
   "cell_type": "code",
   "execution_count": 261,
   "metadata": {
    "slideshow": {
     "slide_type": "subslide"
    }
   },
   "outputs": [
    {
     "data": {
      "text/plain": [
       "<generator at 0x37a8c0940>"
      ]
     },
     "execution_count": 261,
     "metadata": {},
     "output_type": "execute_result"
    }
   ],
   "source": [
    "doc.sents"
   ]
  },
  {
   "cell_type": "markdown",
   "metadata": {
    "slideshow": {
     "slide_type": "subslide"
    }
   },
   "source": [
    "- Printing sentences with the index number"
   ]
  },
  {
   "cell_type": "code",
   "execution_count": 262,
   "metadata": {
    "scrolled": true
   },
   "outputs": [
    {
     "name": "stdout",
     "output_type": "stream",
     "text": [
      "0 Michael Young is a high-achieving fourth-year medical\n",
      "student at Georgia Regents University who pulled himself up from rock\n",
      "bottom by changing the way he studies.\n",
      "1 Young entered medical school\n",
      "without the usual foundation of premed coursework.\n",
      "2 His classmates all had\n",
      "backgrounds in biochemistry, pharmacology, and the like.\n",
      "3 Medical\n",
      "school is plenty tough under any circumstances, but in Young's\n",
      "case even more so for lack of a footing.\n"
     ]
    }
   ],
   "source": [
    "for i, sent in enumerate(doc.sents):\n",
    "    print(i, sent)"
   ]
  },
  {
   "cell_type": "markdown",
   "metadata": {
    "slideshow": {
     "slide_type": "slide"
    }
   },
   "source": [
    "## 1-3. Part-of-speech (POS) tagging"
   ]
  },
  {
   "attachments": {},
   "cell_type": "markdown",
   "metadata": {},
   "source": [
    "- **Finding Words with Specific Parts-of-Speech (POS)** 🏷️  \n",
    "  - Different parts-of-speech provide distinct types of information:  \n",
    "    - **Nouns**: Indicate the **subject** (e.g., *dog*, *city*).  \n",
    "    - **Verbs**: Describe **actions** (e.g., *run*, *write*).  \n",
    "    - **Adjectives**: Define the **qualities** of objects (e.g., *happy*, *large*).  \n",
    "\n",
    "🔗 [Explore POS Tagging in spaCy](https://spacy.io/usage/linguistic-features#pos-tagging)"
   ]
  },
  {
   "cell_type": "markdown",
   "metadata": {
    "slideshow": {
     "slide_type": "subslide"
    }
   },
   "source": [
    "- **Yelp Review!**  \n",
    "Capture the essence of customer feedback and analyze sentiment or extract key insights from real-world Yelp reviews."
   ]
  },
  {
   "attachments": {
    "image.png": {
     "image/png": "[encoded data removed]"
    }
   },
   "cell_type": "markdown",
   "metadata": {},
   "source": [
    "![image.png](attachment:image.png)"
   ]
  },
  {
   "attachments": {
    "image.png": {
     "image/png": "[encoded data removed]"
    }
   },
   "cell_type": "markdown",
   "metadata": {},
   "source": [
    "![image.png](attachment:image.png)"
   ]
  },
  {
   "cell_type": "code",
   "execution_count": 263,
   "metadata": {},
   "outputs": [],
   "source": [
    "# from https://www.yelp.com/biz/ajishin-novi?hrid=juA4Zn2TX7845vNFn4syBQ&utm_campaign=www_review_share_popup&utm_medium=copy_link&utm_source=(direct)\n",
    "text = \"\"\"One of the best Japanese restaurants in Novi. Simple food, great taste, amazingly price. I visit this place a least twice month.\"\"\""
   ]
  },
  {
   "cell_type": "markdown",
   "metadata": {
    "slideshow": {
     "slide_type": "subslide"
    }
   },
   "source": [
    "- multiple sentences exist in a document\n",
    "- Use the NLTK pakcage\n",
    "https://www.nltk.org/book/ch05.html"
   ]
  },
  {
   "attachments": {
    "image.png": {
     "image/png": "[encoded data removed]"
    }
   },
   "cell_type": "markdown",
   "metadata": {},
   "source": [
    "![image.png](attachment:image.png)"
   ]
  },
  {
   "cell_type": "code",
   "execution_count": 264,
   "metadata": {},
   "outputs": [
    {
     "name": "stderr",
     "output_type": "stream",
     "text": [
      "[nltk_data] Downloading package punkt to /Users/jonasxie/nltk_data...\n",
      "[nltk_data]   Package punkt is already up-to-date!\n",
      "[nltk_data] Downloading package punkt_tab to\n",
      "[nltk_data]     /Users/jonasxie/nltk_data...\n",
      "[nltk_data]   Package punkt_tab is already up-to-date!\n",
      "[nltk_data] Downloading package averaged_perceptron_tagger to\n",
      "[nltk_data]     /Users/jonasxie/nltk_data...\n",
      "[nltk_data]   Package averaged_perceptron_tagger is already up-to-\n",
      "[nltk_data]       date!\n",
      "[nltk_data] Downloading package averaged_perceptron_tagger_eng to\n",
      "[nltk_data]     /Users/jonasxie/nltk_data...\n",
      "[nltk_data]   Package averaged_perceptron_tagger_eng is already up-to-\n",
      "[nltk_data]       date!\n"
     ]
    },
    {
     "data": {
      "text/plain": [
       "True"
      ]
     },
     "execution_count": 264,
     "metadata": {},
     "output_type": "execute_result"
    }
   ],
   "source": [
    "# Download the necessary resources\n",
    "import nltk\n",
    "nltk.download('punkt')\n",
    "nltk.download('punkt_tab')\n",
    "nltk.download('averaged_perceptron_tagger')\n",
    "nltk.download('averaged_perceptron_tagger_eng')\n"
   ]
  },
  {
   "cell_type": "code",
   "execution_count": 265,
   "metadata": {},
   "outputs": [
    {
     "name": "stdout",
     "output_type": "stream",
     "text": [
      "['One of the best Japanese restaurants in Novi.', 'Simple food, great taste, amazingly price.', 'I visit this place a least twice month.']\n",
      "\n",
      "\n",
      "[('One', 'CD'), ('of', 'IN'), ('the', 'DT'), ('best', 'JJS'), ('Japanese', 'JJ'), ('restaurants', 'NNS'), ('in', 'IN'), ('Novi', 'NNP'), ('.', '.')]\n",
      "[('Simple', 'JJ'), ('food', 'NN'), (',', ','), ('great', 'JJ'), ('taste', 'NN'), (',', ','), ('amazingly', 'RB'), ('price', 'NN'), ('.', '.')]\n",
      "[('I', 'PRP'), ('visit', 'VBP'), ('this', 'DT'), ('place', 'NN'), ('a', 'DT'), ('least', 'JJS'), ('twice', 'JJ'), ('month', 'NN'), ('.', '.')]\n"
     ]
    }
   ],
   "source": [
    "\n",
    "# Tokenize the text into sentences\n",
    "sentences = nltk.sent_tokenize(text)\n",
    "\n",
    "# Print the sentences\n",
    "print(sentences)\n",
    "print(\"\\n\")\n",
    "\n",
    "# Iterate over each sentence\n",
    "for sentence in sentences:\n",
    "   # Tokenize each sentence into words\n",
    "   words = nltk.word_tokenize(sentence)\n",
    "\n",
    "   # Apply POS tagging to each word in the sentence\n",
    "   pos_tags = nltk.pos_tag(words)\n",
    "\n",
    "   # Print the POS tags\n",
    "   print(pos_tags)"
   ]
  },
  {
   "cell_type": "markdown",
   "metadata": {},
   "source": [
    "# 🔍 How to Filter Out Adjectives\n",
    "To filter out **adjectives** from your text using `NLTK`, identify words with the **POS tag** `\"JJ\"`, `\"JJR\"`, `\"JJSS\"`. \n",
    "\n",
    "### Example Code:\n",
    "```python\n",
    "# Using spaCy to filter adjectives\n",
    "adjectives = [token.text for token in nlp(text) if token.pos_ == \"ADJ\"]\n",
    "print(\"Adjectives found:\", adjectives)"
   ]
  },
  {
   "cell_type": "code",
   "execution_count": 266,
   "metadata": {},
   "outputs": [
    {
     "name": "stdout",
     "output_type": "stream",
     "text": [
      "[('One', 'CD'), ('of', 'IN'), ('the', 'DT'), ('best', 'JJS'), ('Japanese', 'JJ'), ('restaurants', 'NNS'), ('in', 'IN'), ('Novi', 'NNP'), ('.', '.')]\n",
      "Adjectives in sentence: ['best', 'Japanese']\n",
      "[('Simple', 'JJ'), ('food', 'NN'), (',', ','), ('great', 'JJ'), ('taste', 'NN'), (',', ','), ('amazingly', 'RB'), ('price', 'NN'), ('.', '.')]\n",
      "Adjectives in sentence: ['Simple', 'great']\n",
      "[('I', 'PRP'), ('visit', 'VBP'), ('this', 'DT'), ('place', 'NN'), ('a', 'DT'), ('least', 'JJS'), ('twice', 'JJ'), ('month', 'NN'), ('.', '.')]\n",
      "Adjectives in sentence: ['least', 'twice']\n"
     ]
    }
   ],
   "source": [
    "# Iterate over each sentence\n",
    "for sentence in sentences:\n",
    "    # Tokenize each sentence into words\n",
    "    words = nltk.word_tokenize(sentence)\n",
    "\n",
    "    # Apply POS tagging to each word in the sentence\n",
    "    pos_tags = nltk.pos_tag(words)\n",
    "\n",
    "    print(pos_tags)\n",
    "\n",
    "    # Filter out adjectives (JJ, JJR, JJS)\n",
    "    adjectives = [word for word, pos in pos_tags if pos in ['JJ', 'JJR', 'JJS']]\n",
    "\n",
    "    # Print the adjectives in the current sentence\n",
    "    print(\"Adjectives in sentence:\", adjectives)"
   ]
  },
  {
   "cell_type": "markdown",
   "metadata": {
    "slideshow": {
     "slide_type": "subslide"
    }
   },
   "source": [
    "- Question: which words are adjectives (ADJ)?"
   ]
  },
  {
   "cell_type": "code",
   "execution_count": 267,
   "metadata": {
    "slideshow": {
     "slide_type": "subslide"
    }
   },
   "outputs": [
    {
     "name": "stdout",
     "output_type": "stream",
     "text": [
      "fourth \t ADJ\n",
      "medical \t ADJ\n",
      "medical \t ADJ\n",
      "usual \t ADJ\n",
      "premed \t ADJ\n",
      "like \t ADJ\n",
      "tough \t ADJ\n"
     ]
    }
   ],
   "source": [
    "for i, sent in enumerate(doc.sents):\n",
    "    for token in sent:\n",
    "        if token.pos_ == 'ADJ':\n",
    "            print(token.text, \"\\t\", token.pos_)"
   ]
  },
  {
   "cell_type": "markdown",
   "metadata": {
    "slideshow": {
     "slide_type": "slide"
    }
   },
   "source": [
    "## Named Entity Recognition (NER)\n",
    "**Named Entity Recognition (NER)** is a technique used to identify and classify key information (entities) in text, such as:\n",
    "\n",
    "- 🏙️ **Locations** (e.g., *New York*, *Paris*)\n",
    "- 👤 **People** (e.g., *Elon Musk*, *Marie Curie*)\n",
    "- 💼 **Organizations** (e.g., *Google*, *United Nations*)\n",
    "- 📅 **Dates** (e.g., *2024*, *Monday*)\n",
    "\n",
    "NER helps extract structured information from unstructured text, making it easier to analyze real-world data."
   ]
  },
  {
   "cell_type": "code",
   "execution_count": 268,
   "metadata": {
    "scrolled": true,
    "slideshow": {
     "slide_type": "subslide"
    }
   },
   "outputs": [
    {
     "name": "stdout",
     "output_type": "stream",
     "text": [
      "[('One', 'CARDINAL'), ('Japanese', 'NORP'), ('Novi', 'ORG'), ('a least twice month', 'DATE')]\n"
     ]
    }
   ],
   "source": [
    "doc = nlp(text)\n",
    "print([(X.text, X.label_) for X in doc.ents])"
   ]
  },
  {
   "cell_type": "code",
   "execution_count": 269,
   "metadata": {},
   "outputs": [],
   "source": [
    "url = 'https://fivethirtyeight.com/features/remembering-alex-trebek-the-man-with-all-the-answers/'"
   ]
  },
  {
   "cell_type": "code",
   "execution_count": 270,
   "metadata": {
    "slideshow": {
     "slide_type": "subslide"
    }
   },
   "outputs": [
    {
     "data": {
      "text/plain": [
       "105"
      ]
     },
     "execution_count": 270,
     "metadata": {},
     "output_type": "execute_result"
    }
   ],
   "source": [
    "# This code we are going to use beautiful soup to scrape the text from the website\n",
    "\n",
    "from bs4 import BeautifulSoup\n",
    "import requests\n",
    "import re\n",
    "def url_to_string(url):\n",
    "    res = requests.get(url)\n",
    "    html = res.text\n",
    "    soup = BeautifulSoup(html)\n",
    "    for script in soup([\"script\", \"style\", 'aside']):\n",
    "        script.extract()\n",
    "    return \" \".join(re.split(r'[\\n\\t]+', soup.get_text()))\n",
    "ny_bb = url_to_string(url)\n",
    "article = nlp(ny_bb)\n",
    "len(article.ents)"
   ]
  },
  {
   "cell_type": "code",
   "execution_count": 271,
   "metadata": {},
   "outputs": [
    {
     "data": {
      "text/plain": [
       " Remembering Alex Trebek, The Man With All The Answers | FiveThirtyEight Skip to main content FiveThirtyEight Search Search ABC News Menu Remembering Alex Trebek, The Man With All The Answers Share on Facebook Share on Twitter Politics Sports Science Podcasts Video Interactives ABC News   This is an archived site and is no longer being updated. New 538 articles can be found at www.abcnews.com/538.   Nov. 9, 2020, at 4:09 PM Remembering Alex Trebek, The Man With All The Answers By Oliver Roeder Filed under Jeopardy!     PHOTO ILLUSTRATION BY FIVETHIRTYEIGHT / GETTY IMAGES For decades, I’ve tuned into the trivia game show “Jeopardy!” for the facts. On Sunday, the show lost its judicious leader, Alex Trebek, who died at age 80 after a battle with cancer. Trebek had hosted “Jeopardy!” for my entire life. He began in 1984 and hosted every episode since — save for April Fool’s Day in 1997 when he and Pat Sajak of “Wheel of Fortune” swapped places — more than 8,000 half-hour shows in all. For many, watching Trebek was ritualistic — the way a day ends and a night begins. It was also a way to get real facts, a brief respite from the “alternative facts” so prevalent over the past few years. Trebek and the show — the two difficult now to divorce — were a beacon of democratic ideals, flattening the world for all to consume. High and low, popular and obscure, new and old, holy and profane, Trebek put all of them on equal terms. Look no further than the episode of “Jeopardy!” that aired this past Friday, for example. It featured clues about Rihanna, Madonna and Katy Perry, and clues about the city of Vaduz, the Russian navy and the German chancellor. All were on the same game board — though Gene Wilder and the Cook Strait were worth more money than any of them. “Jeopardy!” and Trebek have been a haven for facts as monuments of truth have crumbled in the public sphere. The holder of the country’s highest office now baselessly disputes legitimate election results, espousers of baseless and dangerous conspiracy theories are elected to Congress, and fact-checking is a booming industry. Trebek’s performance hasn’t changed to combat the untruths of the last few years, in part because it already was a kind of totem to the value of fact. Since 1984, he has stood each weekday in a suit behind a podium with a sheet of notes and delivered more than 400,000 clues, each a minor daily inoculation against the creep of lies — or whatever you want to call them. “Alex was so much more than a host,” tweeted James Holzhauer, who set a series of unreal records on “Jeopardy!” last spring. “He was an impartial arbiter of truth and facts in a world that needs exactly that.” The show’s eclectic and unpredictable subject matter is the result of an unassuming, wide-angle lens cast upon a large and complicated world. We call the material Trebek delivered “trivia,” but few things are less trivial than turning a generous eye toward the world — in all its strange and diverse splendor — and calling things by their right name. The headline on a great 2014 profile of Trebek in the New Republic declared him the “Last King of the American Middlebrow.” This is true not in a pejorative sense but in a statistical one, as in the average between high and low. Trebek’s essential demeanor — and therefore “Jeopardy!” itself — is stripped of pretension and pretext. The show’s archive showcases its diverse interests, each of which was presented on the show’s giant board simply and equally in the iconic all-caps white text on a blue square. Knowledge of the former British Prime Minister Benjamin Disraeli is worth the same as that of “The Office” actor Steve Carrell, as that of the toy Mr. Potato Head. The playwright Shakespeare is equal to the running back Walter Payton. The element helium is as valuable as the airport Heathrow. Trebek’s performance as host emphasized this egalitarianism. His affect was steady and his pronunciation — of French, most famously — was impeccable, and he took pre-show notes with diacritical marks to ensure that he’d get it right. And at the same time he was, among other things, an underrated rapper, as Holzhauer joked, enthusiastically engaging with the repertoires of Lil Wayne, Drake and Kendrick Lamar. “I’m not too good at it, but I was getting into it,” Trebek said after delivering the verses, and I believed him. Moreover, Trebek’s performance didn’t just lack pretension, it was anti-pretentious. He once famously lightly chastised three contestants, who had correctly answered clues about Molière and Thor Heyerdahl, for not knowing enough about football. “I have to talk to them,” Trebek said disapprovingly before going to commercial. The democratic nature of trivia had been thrown off-kilter, and Trebek had to correct it. By all accounts, Trebek embodied these trivia ideals while also being a genuine and gracious human. “Alex wasn’t just the best ever at what he did,” tweeted Ken Jennings, the show’s most famous contestant, who won a record 74 consecutive times. “He was also a lovely and deeply decent man, and I’m grateful for every minute I got to spend with him.” It was with this same ethos of decency and calm that Trebek announced, in March 2019, that he had been diagnosed with stage 4 pancreatic cancer. He said he “wanted to prevent you from reading or hearing some overblown or inaccurate reports regarding my health.” The rest of the short statement was filled with facts, and he vowed to fight the cancer and continue working. “Truth told, I have to,” he said, with a characteristic pinch of humor. “Because under the terms of my contract, I have to host ‘Jeopardy!’ for three more years.” I wish he were able to do so. The show may go on, but it’s hard to imagine anyone personifying its ideals as well as Alex Trebek did. Of course, the contestants on “Jeopardy!” just ask the questions. It was Trebek who had all the answers. Oliver Roeder was a senior writer for FiveThirtyEight. He holds a Ph.D. in economics from the University of Texas at Austin, where he studied game theory and political competition.  @ollie Comments Filed under Games (48 posts) Jeopardy! (7) Doo-Doo-Doo-Doo-Doo-Doo-Doo (4) Get more FiveThirtyEight Store Twitter Facebook Data RSS Follow @FiveThirtyEight About Us Jobs Masthead Pitch FiveThirtyEight Advertise With Us About Nielsen Measurement Powered by WordPress VIP  Terms of Use Privacy Policy Do Not Sell or Share My Personal Information Your US State Privacy Rights Children's Online Privacy Policy Interest-Based Ads © 2024 ABC News Internet Ventures. All rights reserved. Close Additional Information Terms of Use and Privacy Policy and Safety Information/Your California Privacy Rights/Children's Online Privacy Policy are applicable to you. © 2024 ABC News Internet Ventures. All rights reserved. Interest-Based Ads. Cookie Policy. "
      ]
     },
     "execution_count": 271,
     "metadata": {},
     "output_type": "execute_result"
    }
   ],
   "source": [
    "article"
   ]
  },
  {
   "cell_type": "code",
   "execution_count": 272,
   "metadata": {
    "slideshow": {
     "slide_type": "subslide"
    }
   },
   "outputs": [
    {
     "data": {
      "text/plain": [
       "Counter({('ORG', 'Trebek'): 16,\n",
       "         ('WORK_OF_ART', 'Jeopardy'): 7,\n",
       "         ('PERSON', 'Alex Trebek'): 5,\n",
       "         ('WORK_OF_ART', 'The Man With All The Answers'): 2,\n",
       "         ('DATE', '1984'): 2,\n",
       "         ('PERSON', 'Alex'): 2,\n",
       "         ('DATE', '2024'): 2,\n",
       "         ('ORG', 'ABC News Internet Ventures'): 2,\n",
       "         ('ORG', 'Search Search'): 1,\n",
       "         ('WORK_OF_ART',\n",
       "          'The Man With All The Answers Share on Facebook Share on Twitter Politics Sports Science Podcasts Video Interactives ABC News'): 1,\n",
       "         ('CARDINAL', '538'): 1,\n",
       "         ('DATE', 'Nov. 9, 2020'): 1,\n",
       "         ('TIME', '4:09 PM'): 1,\n",
       "         ('PERSON', 'Oliver Roeder Filed'): 1,\n",
       "         ('DATE', 'decades'): 1,\n",
       "         ('DATE', 'Sunday'): 1,\n",
       "         ('DATE', 'age 80'): 1,\n",
       "         ('DATE', 'April Fool’s Day'): 1,\n",
       "         ('DATE', '1997'): 1,\n",
       "         ('PERSON', 'Pat Sajak'): 1,\n",
       "         ('WORK_OF_ART', 'Wheel of Fortune'): 1,\n",
       "         ('CARDINAL', 'more than 8,000 half-hour'): 1,\n",
       "         ('DATE', 'the past few years'): 1,\n",
       "         ('CARDINAL', 'two'): 1,\n",
       "         ('DATE', 'this past Friday'): 1,\n",
       "         ('GPE', 'Rihanna'): 1,\n",
       "         ('PERSON', 'Madonna'): 1,\n",
       "         ('PERSON', 'Katy Perry'): 1,\n",
       "         ('GPE', 'Vaduz'): 1,\n",
       "         ('ORG', 'the Russian navy'): 1,\n",
       "         ('NORP', 'German'): 1,\n",
       "         ('PERSON', 'Gene Wilder'): 1,\n",
       "         ('LOC', 'the Cook Strait'): 1,\n",
       "         ('ORG', 'Congress'): 1,\n",
       "         ('DATE', 'the last few years'): 1,\n",
       "         ('CARDINAL', 'more than 400,000'): 1,\n",
       "         ('DATE', 'daily'): 1,\n",
       "         ('PERSON', 'James Holzhauer'): 1,\n",
       "         ('DATE', 'last spring'): 1,\n",
       "         ('CARDINAL', '2014'): 1,\n",
       "         ('GPE', 'the New Republic'): 1,\n",
       "         ('WORK_OF_ART', 'Last King of the American Middlebrow'): 1,\n",
       "         ('NORP', 'British'): 1,\n",
       "         ('PERSON', 'Benjamin Disraeli'): 1,\n",
       "         ('WORK_OF_ART', 'The Office'): 1,\n",
       "         ('PERSON', 'Steve Carrell'): 1,\n",
       "         ('PERSON', 'Potato Head'): 1,\n",
       "         ('PERSON', 'Shakespeare'): 1,\n",
       "         ('PERSON', 'Walter Payton'): 1,\n",
       "         ('FAC', 'Heathrow'): 1,\n",
       "         ('NORP', 'French'): 1,\n",
       "         ('ORG', 'Holzhauer'): 1,\n",
       "         ('ORG', 'Lil Wayne'): 1,\n",
       "         ('PERSON', 'Drake'): 1,\n",
       "         ('PERSON', 'Kendrick Lamar'): 1,\n",
       "         ('CARDINAL', 'three'): 1,\n",
       "         ('PRODUCT', 'Molière'): 1,\n",
       "         ('PERSON', 'Thor Heyerdahl'): 1,\n",
       "         ('PERSON', 'Ken Jennings'): 1,\n",
       "         ('CARDINAL', '74'): 1,\n",
       "         ('TIME', 'every minute'): 1,\n",
       "         ('DATE', 'March 2019'): 1,\n",
       "         ('CARDINAL', '4'): 1,\n",
       "         ('GPE', 'Truth'): 1,\n",
       "         ('DATE', 'three more years'): 1,\n",
       "         ('PERSON', 'Oliver Roeder'): 1,\n",
       "         ('WORK_OF_ART', 'Ph.D.'): 1,\n",
       "         ('ORG', 'the University of Texas'): 1,\n",
       "         ('GPE', 'Austin'): 1,\n",
       "         ('ORG', 'Comments'): 1,\n",
       "         ('CARDINAL', '48'): 1,\n",
       "         ('ORG', 'Facebook Data RSS Follow'): 1,\n",
       "         ('ORG', 'WordPress'): 1,\n",
       "         ('ORG',\n",
       "          \"Share My Personal Information Your US State Privacy Rights Children's\"): 1,\n",
       "         ('ORG',\n",
       "          \"Close Additional Information Terms of Use and Privacy Policy and Safety Information/Your California Privacy Rights/Children's\"): 1})"
      ]
     },
     "execution_count": 272,
     "metadata": {},
     "output_type": "execute_result"
    }
   ],
   "source": [
    "# Extract Named Entities and Their Labels\n",
    "\n",
    "labels = [(x.label_,x.text) for x in article.ents]\n",
    "Counter(labels)"
   ]
  },
  {
   "cell_type": "code",
   "execution_count": 273,
   "metadata": {},
   "outputs": [
    {
     "data": {
      "text/plain": [
       "Counter({'ORG': 29,\n",
       "         'PERSON': 23,\n",
       "         'DATE': 17,\n",
       "         'WORK_OF_ART': 14,\n",
       "         'CARDINAL': 9,\n",
       "         'GPE': 5,\n",
       "         'NORP': 3,\n",
       "         'TIME': 2,\n",
       "         'LOC': 1,\n",
       "         'FAC': 1,\n",
       "         'PRODUCT': 1})"
      ]
     },
     "execution_count": 273,
     "metadata": {},
     "output_type": "execute_result"
    }
   ],
   "source": [
    "# Counts the frequency of each entity type (label) in the article\n",
    "labels = [x.label_ for x in article.ents]\n",
    "Counter(labels)"
   ]
  },
  {
   "cell_type": "code",
   "execution_count": 274,
   "metadata": {},
   "outputs": [
    {
     "data": {
      "text/plain": [
       "['PERSON',\n",
       " 'WORK_OF_ART',\n",
       " 'ORG',\n",
       " 'PERSON',\n",
       " 'WORK_OF_ART',\n",
       " 'CARDINAL',\n",
       " 'DATE',\n",
       " 'TIME',\n",
       " 'PERSON',\n",
       " 'WORK_OF_ART',\n",
       " 'PERSON',\n",
       " 'DATE',\n",
       " 'WORK_OF_ART',\n",
       " 'DATE',\n",
       " 'PERSON',\n",
       " 'DATE',\n",
       " 'ORG',\n",
       " 'WORK_OF_ART',\n",
       " 'DATE',\n",
       " 'DATE',\n",
       " 'DATE',\n",
       " 'PERSON',\n",
       " 'WORK_OF_ART',\n",
       " 'CARDINAL',\n",
       " 'ORG',\n",
       " 'DATE',\n",
       " 'CARDINAL',\n",
       " 'ORG',\n",
       " 'WORK_OF_ART',\n",
       " 'DATE',\n",
       " 'GPE',\n",
       " 'PERSON',\n",
       " 'PERSON',\n",
       " 'GPE',\n",
       " 'ORG',\n",
       " 'NORP',\n",
       " 'PERSON',\n",
       " 'LOC',\n",
       " 'WORK_OF_ART',\n",
       " 'ORG',\n",
       " 'ORG',\n",
       " 'ORG',\n",
       " 'DATE',\n",
       " 'DATE',\n",
       " 'CARDINAL',\n",
       " 'DATE',\n",
       " 'PERSON',\n",
       " 'PERSON',\n",
       " 'WORK_OF_ART',\n",
       " 'DATE',\n",
       " 'ORG',\n",
       " 'CARDINAL',\n",
       " 'ORG',\n",
       " 'GPE',\n",
       " 'WORK_OF_ART',\n",
       " 'ORG',\n",
       " 'WORK_OF_ART',\n",
       " 'NORP',\n",
       " 'PERSON',\n",
       " 'WORK_OF_ART',\n",
       " 'PERSON',\n",
       " 'PERSON',\n",
       " 'PERSON',\n",
       " 'PERSON',\n",
       " 'FAC',\n",
       " 'ORG',\n",
       " 'NORP',\n",
       " 'ORG',\n",
       " 'ORG',\n",
       " 'PERSON',\n",
       " 'PERSON',\n",
       " 'ORG',\n",
       " 'ORG',\n",
       " 'CARDINAL',\n",
       " 'PRODUCT',\n",
       " 'PERSON',\n",
       " 'ORG',\n",
       " 'ORG',\n",
       " 'ORG',\n",
       " 'PERSON',\n",
       " 'PERSON',\n",
       " 'CARDINAL',\n",
       " 'TIME',\n",
       " 'ORG',\n",
       " 'DATE',\n",
       " 'CARDINAL',\n",
       " 'GPE',\n",
       " 'DATE',\n",
       " 'PERSON',\n",
       " 'WORK_OF_ART',\n",
       " 'ORG',\n",
       " 'PERSON',\n",
       " 'WORK_OF_ART',\n",
       " 'ORG',\n",
       " 'GPE',\n",
       " 'ORG',\n",
       " 'CARDINAL',\n",
       " 'ORG',\n",
       " 'ORG',\n",
       " 'ORG',\n",
       " 'DATE',\n",
       " 'ORG',\n",
       " 'ORG',\n",
       " 'DATE',\n",
       " 'ORG']"
      ]
     },
     "execution_count": 274,
     "metadata": {},
     "output_type": "execute_result"
    }
   ],
   "source": [
    "labels"
   ]
  },
  {
   "cell_type": "code",
   "execution_count": 275,
   "metadata": {
    "slideshow": {
     "slide_type": "subslide"
    }
   },
   "outputs": [
    {
     "data": {
      "image/png": "[encoded data removed]",
      "text/plain": [
       "<Figure size 4500x1000 with 1 Axes>"
      ]
     },
     "metadata": {},
     "output_type": "display_data"
    }
   ],
   "source": [
    "# Plot the frequency of each entity type\n",
    "plt.figure(figsize=(45,10))\n",
    "sns.countplot(x=labels, order=pd.Series(labels).value_counts().index)\n",
    "# sns.countplot(words_nostop, order=[counted[0] for counted in Counter(words_nostop).most_common()])\n",
    "plt.xticks(rotation=90)\n",
    "plt.show()"
   ]
  },
  {
   "attachments": {},
   "cell_type": "markdown",
   "metadata": {},
   "source": [
    "# BREAK"
   ]
  },
  {
   "cell_type": "markdown",
   "metadata": {},
   "source": [
    "# NLP Part II"
   ]
  },
  {
   "cell_type": "markdown",
   "metadata": {
    "slideshow": {
     "slide_type": "slide"
    }
   },
   "source": [
    "## 1. Word Embeddings\n",
    "Word embeddings are a type of word representation that allows words to be expressed in a continuous vector space. These vectors capture semantic meanings and relationships between words, making them valuable for various Natural Language Processing (NLP) tasks.\n",
    "\n",
    "By representing words as vectors, embeddings can reflect similarities based on the context in which words are used, enabling models to learn patterns such as synonyms, analogies, and semantic associations."
   ]
  },
  {
   "cell_type": "markdown",
   "metadata": {},
   "source": [
    "\n",
    "- Word embeddings were initially popularized by the [Word2Vec model developed by Mikolov et al., 2013](https://papers.nips.cc/paper/5021-distributed-representations-of-words-and-phrases-and-their-compositionality.pdf).\n",
    "- Modern embeddings are often derived from more advanced transformer models like [BERT](https://arxiv.org/abs/1810.04805) or [sentence-transformers](https://www.sbert.net/).\n",
    "  - These models use deep learning architectures to generate contextualized vectors for words and sentences.\n",
    "- Interestingly, word vectors generated by these models can capture complex semantic relationships.\n",
    "- You can find more details in the [Hugging Face documentation](https://huggingface.co/transformers/) on how these embeddings work."
   ]
  },
  {
   "cell_type": "markdown",
   "metadata": {},
   "source": [
    "You will need to use a pre-trained language model from the Hugging Face library. One recommended model is the [all-MiniLM-L6-v2](https://huggingface.co/sentence-transformers/all-MiniLM-L6-v2), which is smaller in size and efficient for generating embeddings."
   ]
  },
  {
   "cell_type": "code",
   "execution_count": 276,
   "metadata": {},
   "outputs": [],
   "source": [
    "#!pip install -U langchain-community"
   ]
  },
  {
   "cell_type": "code",
   "execution_count": 277,
   "metadata": {},
   "outputs": [],
   "source": [
    "from sklearn.metrics.pairwise import cosine_similarity\n",
    "from langchain.embeddings import HuggingFaceEmbeddings\n",
    "from langchain_huggingface import HuggingFaceEmbeddings\n",
    "from langchain_community.embeddings import HuggingFaceEmbeddings\n",
    "from langchain.embeddings import HuggingFaceEmbeddings\n",
    "\n",
    "\n",
    "from transformers import AutoModel, AutoTokenizer\n",
    "from sklearn.metrics.pairwise import cosine_similarity\n",
    "import pandas as pd\n",
    "import torch\n",
    "import seaborn as sns"
   ]
  },
  {
   "cell_type": "markdown",
   "metadata": {},
   "source": [
    "There are several pre-trained models available through the Hugging Face library that you can access. 🔗 You can explore a comprehensive list of models on the [Hugging Face Models Hub](https://huggingface.co/models).\n",
    "\n",
    "Some commonly used models for embeddings include:\n",
    "\n",
    "- 💡 [all-MiniLM-L6-v2](https://huggingface.co/sentence-transformers/all-MiniLM-L6-v2): A small and efficient model ideal for many NLP tasks.\n",
    "- 🚀 [all-mpnet-base-v2](https://huggingface.co/sentence-transformers/all-mpnet-base-v2): A powerful model for sentence embeddings with strong performance.\n",
    "- 🔍 [distilbert-base-nli-stsb-mean-tokens](https://huggingface.co/sentence-transformers/distilbert-base-nli-stsb-mean-tokens): A distilled version of BERT optimized for semantic similarity tasks.\n",
    "\n",
    "You can choose a model based on your specific requirements and memory constraints. "
   ]
  },
  {
   "cell_type": "code",
   "execution_count": 278,
   "metadata": {},
   "outputs": [
    {
     "name": "stdout",
     "output_type": "stream",
     "text": [
      "Sentence Embedding: [0.015458707697689533, -0.08523175865411758, 0.06185731291770935, 0.005202450789511204, 0.019506879150867462, -0.02522248774766922, -0.010481203906238079, -0.05799810215830803, 0.02971806190907955, 0.009420055896043777, -0.025660594925284386, 0.06460516899824142, 0.003681957023218274, 0.004933551419526339, 0.0114364642649889, 0.04607769846916199, -0.01082372572273016, 0.009545005857944489, -0.1037793681025505, -0.10541045665740967, 0.04510720074176788, 0.04889978468418121, -0.00857932586222887, -0.05570885166525841, 0.013682871125638485, 0.07685630768537521, -0.025808660313487053, -0.05905752256512642, 0.10730947554111481, -0.06416449695825577, 0.006153501104563475, 0.10176943987607956, 0.06198703125119209, 0.09582763910293579, -0.02949688956141472, 0.02307024411857128, -0.0037727670278400183, 0.0383361354470253, 0.03173184022307396, 0.01764153316617012, -0.04290470480918884, -0.00791178084909916, 0.03314347192645073, -0.010558806359767914, 0.09687443822622299, 0.05641896277666092, -0.11396416276693344, 0.004830608610063791, -0.020985493436455727, 0.022822340950369835, -0.12072372436523438, 0.0019225734286010265, 0.015724942088127136, 0.08697625249624252, -0.09636097401380539, 0.04211992025375366, 0.0017404870595782995, -0.06143064796924591, -0.06238241866230965, -0.0072521730326116085, -0.011101051233708858, -0.030186651274561882, -0.09721627831459045, 0.029811562970280647, 0.043206945061683655, -0.00824317242950201, -0.0312933474779129, 0.008725546300411224, -0.035177189856767654, -0.06666175276041031, -0.0639774277806282, 0.12261389195919037, 0.0069504426792263985, 0.10736783593893051, 0.01728951744735241, 0.07411818951368332, 0.012967140413820744, -0.023647883906960487, 0.0693594217300415, -0.0036023068241775036, 0.06340636312961578, -0.05495287477970123, 0.085948146879673, 0.02449090965092182, 0.08009583503007889, -0.09240125119686127, -0.010706710629165173, -0.007524500600993633, -0.040436118841171265, 0.06786348670721054, -0.02714529074728489, -0.09902164340019226, 0.0855633094906807, -0.04944074526429176, 0.0019488370744511485, 0.00692391861230135, -0.03895237669348717, -0.024266134947538376, 0.014000079594552517, 0.03324784338474274, -0.010941711254417896, -0.02609175816178322, 0.02670707367360592, -0.03147517144680023, -0.06758987158536911, -0.01362699456512928, -0.03209774196147919, 0.00017050321912392974, 0.06964877247810364, -0.09302924573421478, -0.02378881350159645, 0.039886001497507095, 0.025701239705085754, -0.024041645228862762, 0.017161160707473755, 0.016497602686285973, 0.04747217148542404, 0.02405983954668045, 0.06335355341434479, 0.0191830825060606, 0.0070205130614340305, 0.049005817621946335, -0.11182746291160583, -0.007829267531633377, 0.0508725568652153, -0.04834293574094772, 0.09110373258590698, -2.717348413809634e-33, 0.006437284871935844, 0.017590509727597237, -0.05204295367002487, 0.048967745155096054, 0.023021569475531578, -0.021665137261152267, -0.04800916090607643, -0.04193911701440811, -0.01598305068910122, 0.010815874673426151, 0.021786734461784363, 0.047756362706422806, 0.013480259105563164, -0.025114070624113083, -0.03355232998728752, -0.06117148697376251, -0.08833134919404984, 0.03306596726179123, 0.01558319665491581, -0.030579956248402596, -0.04481811448931694, 0.10444645583629608, 0.049502551555633545, 0.04702869802713394, -0.0432460755109787, 0.014051578007638454, 0.02856365405023098, -0.09181751310825348, 0.07486480474472046, 0.011951000429689884, -0.04983251169323921, -0.005638659931719303, -0.09011079370975494, 0.004117666278034449, -0.04253920540213585, -0.054437749087810516, -0.017539072781801224, -0.02938569150865078, 0.04841936007142067, -0.01918734423816204, -0.0356496199965477, -0.01887599192559719, 0.003326233709231019, -0.01293937023729086, -0.04856075346469879, 0.04357439652085304, -0.024846281856298447, -0.026363495737314224, 0.053090520203113556, -0.059697531163692474, -0.013605493120849133, -0.019719408825039864, 0.03934672102332115, 0.018404603004455566, 0.11587321758270264, 0.048739127814769745, 0.0694967582821846, 0.013069720938801765, 0.0031568361446261406, 0.005769834388047457, -0.017602823674678802, 0.03878909721970558, 0.06259570270776749, -0.007376919034868479, 0.010337778367102146, 0.022829080000519753, -0.037896011024713516, -0.013752899132668972, 0.013565667904913425, 0.04878649488091469, -0.04460247606039047, 0.05537328124046326, 0.020849797874689102, -0.07650236040353775, -0.02322077751159668, -0.006234448868781328, 0.05547008663415909, -0.04828212782740593, -0.014067347161471844, 0.07119377702474594, -0.05479989945888519, -0.10629860311746597, 0.09974448382854462, -0.021171405911445618, -0.03097228892147541, -0.03601783514022827, 0.04511728137731552, -0.05474008619785309, -0.015542471781373024, -0.00871497392654419, 0.04941480606794357, -0.029500752687454224, -0.01011608261615038, -0.0033445581793785095, -0.014873416163027287, 2.5485119765300365e-33, -0.089283786714077, -0.06836201250553131, -0.039283234626054764, 0.05605649575591087, -0.029194042086601257, -0.06922995299100876, -0.019894786179065704, 0.024561239406466484, 0.013787717558443546, -0.038348324596881866, -0.012642232701182365, 0.043822430074214935, 0.026949826627969742, 0.015913840383291245, 0.05814100801944733, -0.023694701492786407, 0.021412568166851997, 0.07069690525531769, -0.008963081985712051, 0.07517357915639877, -0.0434921458363533, 0.10304886102676392, -0.11174958944320679, -0.004727410152554512, 0.05398465692996979, 0.04935387894511223, -0.02201150357723236, -0.06220132112503052, -0.030784305185079575, 0.003949655685573816, -0.0925125703215599, -0.00547018414363265, -0.017283618450164795, -0.0784522294998169, -0.07659318298101425, 0.026778990402817726, -0.03743768110871315, -0.07442855834960938, 0.016707422211766243, 0.021004121750593185, 0.03481147438287735, 0.08516006171703339, 0.027019698172807693, 0.015550040639936924, -0.0325767919421196, -0.027589740231633186, -0.035316988825798035, 0.034971557557582855, -0.06522773206233978, 0.04189986363053322, 0.008075947873294353, 0.02254539169371128, -0.04468783736228943, -0.03495309129357338, -0.01289406605064869, -0.027526753023266792, 0.051625579595565796, -0.055588509887456894, 0.012930751778185368, 0.011673816479742527, -0.08807921409606934, 0.10986251384019852, 0.05977889150381088, -0.0018462309380993247, 0.049084778875112534, -0.08449314534664154, -0.053917352110147476, 0.017545219510793686, -0.07771682739257812, -0.09184490889310837, 0.09244120866060257, 0.03659564256668091, -0.10603649169206619, 0.05576026439666748, -0.009153223596513271, 0.01288923341780901, 0.04328549653291702, -0.027452435344457626, -0.0753178521990776, 0.0008146427571773529, 0.04717152193188667, -0.024079613387584686, 0.04626597464084625, 0.04860289394855499, 0.03906673565506935, 0.15450605750083923, -0.004546834621578455, -0.013557815924286842, 0.019813423976302147, 0.005703559145331383, -0.038202106952667236, -0.037113748490810394, -0.011111724190413952, 0.12763750553131104, -0.00693873967975378, -1.3744980265073536e-08, -0.035336513072252274, -0.037205833941698074, -0.04471351578831673, -0.03291340544819832, 0.07649914920330048, -0.011206927709281445, -0.0014148871414363384, 0.05869767814874649, -0.09768719226121902, -0.03402474522590637, 0.04313673824071884, -0.003626041579991579, -0.050001006573438644, 0.045925118029117584, 0.08764208853244781, 0.048215705901384354, 0.046766020357608795, 0.05992203578352928, -0.024715328589081764, -0.009312260895967484, 0.06981559097766876, 0.0658065676689148, -0.026850977912545204, 0.07054214924573898, -0.031683698296546936, 0.055570878088474274, -0.019714230671525, -0.010007894597947598, 0.05067984387278557, -0.07454539835453033, 0.04468671232461929, 0.07815836369991302, -0.027289435267448425, 0.028089489787817, 0.12819506227970123, 0.07521084696054459, -0.0127948597073555, -0.0738256499171257, -0.019134625792503357, -0.04237673059105873, 0.024039309471845627, -0.0009019170538522303, -0.07027101516723633, 0.05298585072159767, -0.011596675030887127, -0.020420094951987267, 0.011595506221055984, -0.07077878713607788, 0.054284971207380295, 0.056020669639110565, 0.04122006520628929, -0.06556940823793411, 0.04244557395577431, 0.001268404652364552, 0.06255439668893814, -0.020692257210612297, 0.014424087479710579, 0.005357680842280388, -0.018099457025527954, 0.07989763468503952, 0.046302881091833115, 0.12729783356189728, 0.0023226786870509386, -0.012299306690692902]\n"
     ]
    }
   ],
   "source": [
    "# Load a pre-trained Word2Vec model using langchain-huggingface\n",
    "w2v_mod = HuggingFaceEmbeddings(model_name=\"sentence-transformers/all-MiniLM-L6-v2\")\n",
    "\n",
    "# Use the 'w2v_model' to generate embeddings for your words or text data.\n",
    "sentence = \"Natural Language Processing is fascinating!\"\n",
    "sentence_embedding = w2v_mod.embed_documents([sentence])[0]\n",
    "print(f\"Sentence Embedding: {sentence_embedding}\")"
   ]
  },
  {
   "cell_type": "markdown",
   "metadata": {},
   "source": [
    "## 1-1. Calculating Similarity Between Words 📏\n",
    "- **Question**: What's the similarity between *school* and *student*?\n",
    "\n",
    "We can use pre-trained embeddings to calculate the similarity between these two words. By converting each word into its vector representation and computing the cosine similarity, we can measure how similar they are in terms of semantics."
   ]
  },
  {
   "cell_type": "markdown",
   "metadata": {},
   "source": [
    "- The word vector for *school* looks like this:\n",
    "```python\n",
    "# Generate and print the word vector for 'school'\n",
    "word = \"school\"\n",
    "word_vector = w2v_mod.embed_documents([word])[0]  # Generate the embedding for 'school'\n",
    "print(f\"Word vector for '{word}':\\n{word_vector}\")"
   ]
  },
  {
   "cell_type": "code",
   "execution_count": 279,
   "metadata": {},
   "outputs": [
    {
     "name": "stdout",
     "output_type": "stream",
     "text": [
      "Similarity between 'school' and 'student': 0.6501\n",
      "\n",
      "\n",
      "Word vector for 'school':\n",
      "[-0.01404428668320179, 0.07605957984924316, 0.01428942196071148, 0.06901493668556213, -0.005906858015805483, -0.029542846605181694, 0.0707707405090332, 0.007752066012471914, 0.07736503332853317, 0.0660303607583046, 0.06576496362686157, -0.018840692937374115, -0.005301161669194698, 0.019456524401903152, 0.0012496584095060825, -0.004245004151016474, 0.0019151512533426285, -0.044267915189266205, -0.05319434404373169, -0.10904967039823532, -0.018956659361720085, 0.009061523713171482, -0.022509461268782616, 0.055739760398864746, 0.03707210347056389, 0.13534699380397797, 0.019771257415413857, -0.06413459777832031, -0.06690508872270584, -0.12333444505929947, -0.026096433401107788, 0.007687141187489033, -0.009485224261879921, -0.008968645706772804, -0.014978584833443165, 0.051523491740226746, 0.0735410675406456, 0.002737951697781682, 0.04844813421368599, -0.009411445818841457, -0.04946734383702278, -0.025429580360651016, 0.01580580323934555, -0.008550642989575863, 0.06566151976585388, 0.0076251160353422165, 0.06143241003155708, -0.015049222856760025, 0.09384370595216751, -0.010784855112433434, -0.00048460683319717646, 0.009204845875501633, -0.06168090179562569, 0.031989190727472305, -0.028988568112254143, 0.044729601591825485, -0.06809264421463013, 0.014153865166008472, 0.014346430078148842, -0.017012260854244232, -0.01786801777780056, -0.01030049193650484, -0.051065463572740555, 0.03135507181286812, 0.05146114528179169, 0.012686681002378464, -0.0004612178017850965, 0.10994172841310501, 0.002103953855112195, 0.018536176532506943, 0.010605523362755775, -0.006614647340029478, 0.010293109342455864, 0.01923765242099762, 0.11120568215847015, -0.009079905226826668, 0.03773155435919762, 0.01148262433707714, 0.14963649213314056, -0.03991610184311867, -0.01831916719675064, -0.04307902976870537, -0.059860583394765854, 0.02627645991742611, 0.0529186874628067, -0.047487661242485046, 0.00797884538769722, 0.044871412217617035, -0.032667845487594604, -0.020215371623635292, -0.05841370299458504, -0.07611357420682907, -0.01568756438791752, 0.09254518896341324, -0.07817498594522476, 0.03361750766634941, -0.02369019016623497, -0.05095519497990608, 0.02465203031897545, 0.2724476754665375, -0.02065291814506054, 0.03807808831334114, 0.016572481021285057, 0.05770387127995491, -0.037004437297582626, -0.02801508828997612, -0.03078121691942215, 0.014274515211582184, -0.009934316389262676, -0.012196145951747894, -0.00023125761072151363, -0.014386779628694057, -0.040930744260549545, -0.008679922670125961, 0.038186799734830856, 0.0541372112929821, 0.1269524097442627, -0.01946704275906086, -0.03450945019721985, 0.06336723268032074, -0.030551351606845856, 0.06546762585639954, -0.031389255076646805, -0.030798863619565964, -0.11571332812309265, -0.09184912592172623, -0.06165137141942978, -2.954110608480505e-33, 0.0859776958823204, -0.05649983882904053, 0.02785591222345829, 0.06936545670032501, -0.012566935271024704, -0.04854724928736687, 0.0546247623860836, 0.022886721417307854, -0.0018209980335086584, 0.04860011860728264, 0.017831332981586456, 0.008785153739154339, -0.03355183079838753, 0.010341162793338299, 0.13560502231121063, 0.03811683505773544, -0.03364032506942749, 0.062283508479595184, -0.023893944919109344, 0.04049209877848625, -0.04409009590744972, -0.030945204198360443, 0.003912619315087795, 0.01357636135071516, -0.044593945145606995, -0.01628437265753746, -0.048426926136016846, -0.08291318267583847, 0.038828685879707336, 0.00823990348726511, 0.0563916452229023, 0.054748035967350006, -0.06487249583005905, -0.031509559601545334, 0.0063757384195923805, -0.09366418421268463, 0.013338057324290276, -0.10097134113311768, 0.027395587414503098, -0.05495889112353325, 0.10113297402858734, -0.004754063673317432, 0.022488975897431374, 0.026975760236382484, 0.054016731679439545, 0.0534968338906765, 0.01072410773485899, 0.049581777304410934, 0.008431808091700077, 0.022306205704808235, -0.049570582807064056, -0.0332840159535408, -0.05845264345407486, -0.09312897175550461, 0.009168559685349464, -0.013275914825499058, 0.026131102815270424, -0.031232189387083054, -0.015052804723381996, -0.02974158152937889, 0.02541409060359001, 0.1398114264011383, -0.010094263590872288, -0.06555843353271484, -0.012305429205298424, -0.0009006286854855716, -0.02558176778256893, -0.03003639727830887, 0.1320345401763916, -0.10600897669792175, -0.02571442909538746, 0.006027576047927141, -0.027710281312465668, 0.024123022332787514, 0.0403558723628521, -0.015143737196922302, 0.016529176384210587, -0.009235348552465439, -0.02794765681028366, 0.05098850652575493, 0.08413387089967728, -0.057429246604442596, -0.01805386319756508, 0.029218275099992752, 0.08750282973051071, 0.011704467236995697, -0.04575743526220322, -0.1058451309800148, 0.04382813721895218, -0.004108214285224676, -0.08482223749160767, -0.04748595505952835, 0.012662188149988651, 0.06184099614620209, -0.0037708282470703125, 2.5722543910227543e-33, 0.05540718883275986, -0.060736142098903656, -0.07551130652427673, 0.06597296893596649, 0.048699717968702316, -0.006780258845537901, -0.011971834115684032, -0.025516005232930183, 0.03761838376522064, 0.07484514266252518, -0.04421982914209366, -0.036260079592466354, 0.099189393222332, 0.023102957755327225, 0.016666105017066002, -0.024184752255678177, 0.05998828634619713, 0.025957949459552765, -0.03466498479247093, -0.024079611524939537, -0.06420410424470901, 0.024084720760583878, -0.005970469210296869, 0.023717690259218216, -0.04687449336051941, -0.05642678216099739, -0.04010283946990967, -0.01093910913914442, -0.024973634630441666, 0.07015223801136017, 0.05800776183605194, -0.018524503335356712, 0.0367962010204792, 0.008477850817143917, -0.04216626659035683, 0.11720514297485352, -0.027081741020083427, 0.07264743745326996, -0.0717722699046135, 0.009730654768645763, 0.07603246718645096, -0.0557963103055954, -0.022292891517281532, 0.10475076735019684, -0.0053358059376478195, 0.02994741126894951, -0.018669357523322105, 0.05915052816271782, 0.016720933839678764, 0.03454532101750374, -0.06478084623813629, 0.0017601188737899065, 0.007623131852596998, -0.01963178999722004, 0.018342353403568268, -0.02072029747068882, -0.058786310255527496, -0.004015458282083273, -0.04260896518826485, 0.03472764045000076, 0.012517870403826237, -0.049235470592975616, -0.06679806858301163, 0.07506828755140305, -0.059770409017801285, 0.041660845279693604, -0.06802614778280258, -0.0003733282210305333, -0.04333771765232086, 0.004156609997153282, 0.029399454593658447, 0.08288666605949402, 0.0057863639667630196, 0.015375357121229172, -0.09714087098836899, 0.04832201451063156, -0.001768325688317418, 0.01901525817811489, -0.012727739289402962, -0.020450104027986526, -0.004514805972576141, -0.06946546584367752, -0.04299301654100418, 0.037716954946517944, -0.09897764027118683, -0.006726513151079416, 0.060620587319135666, 0.012307888828217983, 0.08575277030467987, -0.07482705265283585, 0.0020827108528465033, 0.04908536374568939, -0.07981812953948975, -0.05590659752488136, -0.027118291705846786, -1.2787491954213692e-08, 0.013804002664983273, -0.02147379145026207, -0.005070189479738474, -0.023314939811825752, 0.04783080145716667, 0.0794111117720604, 0.019384412094950676, 0.019100559875369072, 0.0811709463596344, 0.04899400472640991, -0.0330052524805069, 0.0014336523599922657, -0.004079390317201614, -0.03612544760107994, 0.05255724489688873, 0.008340359665453434, 0.059863775968551636, -0.010128017514944077, 0.005734800361096859, -0.0157362949103117, -0.024983342736959457, -0.03616106137633324, 0.058972351253032684, 0.020738614723086357, -0.019565893337130547, -0.03504107892513275, 0.06603701412677765, 0.045160286128520966, -0.044203151017427444, 0.04876881465315819, -0.008891088888049126, 0.02103874832391739, -0.03084527887403965, -0.04697101190686226, -0.024601250886917114, -0.06872764229774475, -0.009257052093744278, -0.058198001235723495, 0.026420339941978455, -0.05979430302977562, -0.049809928983449936, -0.03782495856285095, 0.09131141006946564, -0.0296085923910141, 0.02021574229001999, 0.0877404659986496, -0.012506232596933842, -0.08524558693170547, -0.009656055830419064, -0.006797215435653925, -0.00780309084802866, -0.017265208065509796, 0.004733918234705925, -0.031597159802913666, 0.08432047814130783, -0.01738247461616993, -0.03609870746731758, 0.005355616565793753, -0.07577123492956161, 0.006724625825881958, 0.13781778514385223, 0.017521444708108902, 0.01404702477157116, 0.03910745680332184]\n"
     ]
    }
   ],
   "source": [
    "# Load the pre-trained embeddings model\n",
    "w2v_mod = HuggingFaceEmbeddings(model_name=\"sentence-transformers/all-MiniLM-L6-v2\")\n",
    "\n",
    "# Define the words\n",
    "word1 = \"school\"\n",
    "word2 = \"student\"\n",
    "\n",
    "# Generate embeddings for each word\n",
    "embedding1 = w2v_mod.embed_documents([word1])[0]\n",
    "embedding2 = w2v_mod.embed_documents([word2])[0]\n",
    "\n",
    "# Calculate the cosine similarity\n",
    "similarity = cosine_similarity([embedding1], [embedding2])[0][0]\n",
    "\n",
    "print(f\"Similarity between '{word1}' and '{word2}': {similarity:.4f}\")\n",
    "print(\"\\n\")\n",
    "\n",
    "word = \"school\"\n",
    "word_vector = w2v_mod.embed_documents([word])[0]  # Generate the embedding for 'school'\n",
    "print(f\"Word vector for '{word}':\\n{word_vector}\")\n"
   ]
  },
  {
   "cell_type": "code",
   "execution_count": 280,
   "metadata": {
    "slideshow": {
     "slide_type": "subslide"
    }
   },
   "outputs": [
    {
     "data": {
      "text/plain": [
       "384"
      ]
     },
     "execution_count": 280,
     "metadata": {},
     "output_type": "execute_result"
    }
   ],
   "source": [
    "len(word_vector)"
   ]
  },
  {
   "cell_type": "markdown",
   "metadata": {},
   "source": [
    "### 🚀 **Challenge 5:** Find a Word Similar to *School* </font>\n",
    "\n",
    "To find a word that is more similar to *school*, we can generate word embeddings for a list of candidate words and compute the cosine similarity between each candidate and *school*. The word with the highest similarity score will be considered the closest in meaning to *school*.\n",
    "\n",
    "**Steps**:\n",
    "1. Create a list of **candidate words** related to education and general nouns (e.g., *student*, *teacher*, *book*).\n",
    "2. Generate embeddings for each word using the model.\n",
    "3. Calculate the **cosine similarity** between each word and *school*.\n",
    "4. Identify the word with the **highest similarity score**.\n",
    "5. 🎯 **Output**: Display the most similar word along with its similarity score.\n",
    "\n",
    "---"
   ]
  },
  {
   "cell_type": "code",
   "execution_count": 281,
   "metadata": {},
   "outputs": [
    {
     "name": "stdout",
     "output_type": "stream",
     "text": [
      "Similarities between \"school\" and the candidate words:\n",
      "student: 0.6501\n",
      "teacher: 0.6174\n",
      "classroom: 0.6766\n",
      "university: 0.6432\n",
      "college: 0.7336\n",
      "education: 0.7359\n",
      "learning: 0.5391\n",
      "knowledge: 0.4186\n",
      "study: 0.5218\n"
     ]
    }
   ],
   "source": [
    "# Create a list of candidate words realted to education\n",
    "candidates = ['student', 'teacher', 'classroom', 'university', 'college', 'education', 'learning', 'knowledge', 'study']\n",
    "\n",
    "# Generate embeddings for each candidate word\n",
    "candidate_vectors = w2v_mod.embed_documents(candidates)\n",
    "\n",
    "# Calculate the cosine similarity\n",
    "similarities = cosine_similarity([word_vector], candidate_vectors)[0]\n",
    "\n",
    "print(f'Similarities between \"{word}\" and the candidate words:')\n",
    "for candidate, similarity in zip(candidates, similarities):\n",
    "    print(f'{candidate}: {similarity:.4f}')\n"
   ]
  },
  {
   "cell_type": "markdown",
   "metadata": {},
   "source": [
    "### 🚀 **Challenge 6:** Find Two Words with Cosine Similarity Less Than 0.1 </font>\n",
    "\n",
    "- **Task**: Identify two words whose embeddings have a very low cosine similarity (less than 0.1).\n",
    "\n",
    "- **Interpretation**: A cosine similarity less than 0.1 indicates that the words are semantically very different or unrelated in the context of the given model.\n",
    "\n",
    "**Steps**:\n",
    "1. Create a **list of words** from various categories (e.g., *school*, *mountain*, *happiness*, *car*).\n",
    "2. Calculate pairwise **cosine similarity** for each combination.\n",
    "3. Identify word pairs with **similarity less than 0.1**.\n",
    "4. 🎯 **Output**: Display the word pairs with the similarity score and a brief analysis of why they are dissimilar.\n",
    "\n",
    "---"
   ]
  },
  {
   "cell_type": "code",
   "execution_count": 282,
   "metadata": {
    "slideshow": {
     "slide_type": "skip"
    }
   },
   "outputs": [],
   "source": [
    "# Create a list of candidate words from various categories\n",
    "candidates = ['school', 'teacher', 'car', 'transport', 'rabbit', 'apartment', 'cat', 'gpt', 'computer', 'michigan', 'china', 'homework', 'valorant', 'pasta']\n",
    "\n",
    "# Calculate pairwise cosine similarities\n",
    "candidate_vectors = w2v_mod.embed_documents(candidates)\n",
    "similarities = cosine_similarity(candidate_vectors)\n",
    "\n",
    "# Display the similarities and excluding the self-correlation\n",
    "df = pd.DataFrame(similarities, index=candidates, columns=candidates)\n",
    "\n",
    "# excluding duplicates and reset it as a dataframe\n",
    "mask = np.triu(np.ones_like(df, dtype=bool))\n",
    "df = df.mask(mask)"
   ]
  },
  {
   "cell_type": "code",
   "execution_count": 283,
   "metadata": {},
   "outputs": [
    {
     "data": {
      "text/plain": [
       "count    91.000000\n",
       "mean      0.298657\n",
       "std       0.110729\n",
       "min       0.053708\n",
       "25%       0.210053\n",
       "50%       0.287297\n",
       "75%       0.370678\n",
       "max       0.617379\n",
       "Name: Cosine_Similarity, dtype: float64"
      ]
     },
     "execution_count": 283,
     "metadata": {},
     "output_type": "execute_result"
    }
   ],
   "source": [
    "df = df.stack().reset_index()\n",
    "df.columns = ['Word 1', 'Word 2', 'Cosine_Similarity']\n",
    "df['Cosine_Similarity'].describe()"
   ]
  },
  {
   "cell_type": "code",
   "execution_count": 284,
   "metadata": {},
   "outputs": [
    {
     "data": {
      "text/html": [
       "<div>\n",
       "<style scoped>\n",
       "    .dataframe tbody tr th:only-of-type {\n",
       "        vertical-align: middle;\n",
       "    }\n",
       "\n",
       "    .dataframe tbody tr th {\n",
       "        vertical-align: top;\n",
       "    }\n",
       "\n",
       "    .dataframe thead th {\n",
       "        text-align: right;\n",
       "    }\n",
       "</style>\n",
       "<table border=\"1\" class=\"dataframe\">\n",
       "  <thead>\n",
       "    <tr style=\"text-align: right;\">\n",
       "      <th></th>\n",
       "      <th>Word 1</th>\n",
       "      <th>Word 2</th>\n",
       "      <th>Cosine_Similarity</th>\n",
       "    </tr>\n",
       "  </thead>\n",
       "  <tbody>\n",
       "    <tr>\n",
       "      <th>69</th>\n",
       "      <td>valorant</td>\n",
       "      <td>transport</td>\n",
       "      <td>0.053708</td>\n",
       "    </tr>\n",
       "  </tbody>\n",
       "</table>\n",
       "</div>"
      ],
      "text/plain": [
       "      Word 1     Word 2  Cosine_Similarity\n",
       "69  valorant  transport           0.053708"
      ]
     },
     "execution_count": 284,
     "metadata": {},
     "output_type": "execute_result"
    }
   ],
   "source": [
    "df_low = df[df['Cosine_Similarity'] < 0.1]\n",
    "df_low\n"
   ]
  },
  {
   "cell_type": "markdown",
   "metadata": {},
   "source": [
    "The only pair of words that has a cosine similarity less than 0.1 is *valorant* and *transport*. \"Valorant\" is a popular first-person shooter game. It is clearly unrelated to \"transport\" in terms of semantics, leading to a low similarity score."
   ]
  },
  {
   "cell_type": "markdown",
   "metadata": {},
   "source": [
    "### 🚀 **Challenge 7:** Try More Word Comparisons! </font>\n",
    "\n",
    "- **Task**: Experiment with at least **two additional word pairs** using the model and analyze the results. Are there any interesting patterns or unexpected findings?\n",
    "\n",
    "**Steps**:\n",
    "1. Choose **two new pairs of words** that you think may have interesting relationships.\n",
    "2. Calculate the **cosine similarity** between the words.\n",
    "3. 🎯 **Output**: Print the similarity scores and provide your interpretation.\n",
    "---"
   ]
  },
  {
   "cell_type": "code",
   "execution_count": 285,
   "metadata": {
    "slideshow": {
     "slide_type": "skip"
    }
   },
   "outputs": [
    {
     "data": {
      "text/html": [
       "<div>\n",
       "<style scoped>\n",
       "    .dataframe tbody tr th:only-of-type {\n",
       "        vertical-align: middle;\n",
       "    }\n",
       "\n",
       "    .dataframe tbody tr th {\n",
       "        vertical-align: top;\n",
       "    }\n",
       "\n",
       "    .dataframe thead th {\n",
       "        text-align: right;\n",
       "    }\n",
       "</style>\n",
       "<table border=\"1\" class=\"dataframe\">\n",
       "  <thead>\n",
       "    <tr style=\"text-align: right;\">\n",
       "      <th></th>\n",
       "      <th>michigan</th>\n",
       "      <th>championship</th>\n",
       "      <th>china</th>\n",
       "      <th>panda</th>\n",
       "    </tr>\n",
       "  </thead>\n",
       "  <tbody>\n",
       "    <tr>\n",
       "      <th>michigan</th>\n",
       "      <td>1.000000</td>\n",
       "      <td>0.436554</td>\n",
       "      <td>0.534231</td>\n",
       "      <td>0.161627</td>\n",
       "    </tr>\n",
       "    <tr>\n",
       "      <th>championship</th>\n",
       "      <td>0.436554</td>\n",
       "      <td>1.000000</td>\n",
       "      <td>0.273994</td>\n",
       "      <td>0.192367</td>\n",
       "    </tr>\n",
       "    <tr>\n",
       "      <th>china</th>\n",
       "      <td>0.534231</td>\n",
       "      <td>0.273994</td>\n",
       "      <td>1.000000</td>\n",
       "      <td>0.314739</td>\n",
       "    </tr>\n",
       "    <tr>\n",
       "      <th>panda</th>\n",
       "      <td>0.161627</td>\n",
       "      <td>0.192367</td>\n",
       "      <td>0.314739</td>\n",
       "      <td>1.000000</td>\n",
       "    </tr>\n",
       "  </tbody>\n",
       "</table>\n",
       "</div>"
      ],
      "text/plain": [
       "              michigan  championship     china     panda\n",
       "michigan      1.000000      0.436554  0.534231  0.161627\n",
       "championship  0.436554      1.000000  0.273994  0.192367\n",
       "china         0.534231      0.273994  1.000000  0.314739\n",
       "panda         0.161627      0.192367  0.314739  1.000000"
      ]
     },
     "execution_count": 285,
     "metadata": {},
     "output_type": "execute_result"
    }
   ],
   "source": [
    "pairs = ['michigan', 'championship', 'china', 'panda']\n",
    "pair_vectors = w2v_mod.embed_documents(pairs)\n",
    "pair_similarities = cosine_similarity(pair_vectors)\n",
    "df_pairs = pd.DataFrame(pair_similarities, index=pairs, columns=pairs)\n",
    "df_pairs"
   ]
  },
  {
   "cell_type": "markdown",
   "metadata": {
    "slideshow": {
     "slide_type": "skip"
    }
   },
   "source": [
    "I choose two pairs: Michigan and championship, China and panda. The cosine similarity between Michigan and championship is 0.44, indicating a moderate relationship. I guess the relationship is based on U-M's football performance. Especially they just won the national championship.\n",
    "The cosine similarity between China and panda is 0.31, suggesting a mild connection. I originally thought the similarity would be higher, as pandas are the symbol of China. But it seems that the model does not consider pandas as a defining feature of China."
   ]
  },
  {
   "cell_type": "markdown",
   "metadata": {
    "slideshow": {
     "slide_type": "slide"
    }
   },
   "source": [
    "## 🔍 1-2. Analogy from Word Vectors \n",
    "\n",
    "Analogies can be solved using word vectors by leveraging the relationships between words in a vector space. A common example is:\n",
    "\n",
    "<center>\n",
    "**\"King\" - \"Man\" + \"Woman\" = ?** 🤔  \n",
    "</center>\n",
    "\n",
    "This equation represents the idea of taking the vector for *King*, subtracting the semantic features of *Man*, and adding the features of *Woman*. The resulting vector should be closest to the vector for *Queen*. Such analogies demonstrate how word embeddings capture semantic and syntactic relationships between words.\n",
    "\n",
    "### How to Perform Analogy Operations:\n",
    "1. **Calculate the word vectors** for the given words.\n",
    "2. Use vector arithmetic: `vector1 - vector2 + vector3`.\n",
    "3. **Find the word** whose vector is closest to the resulting vector.\n"
   ]
  },
  {
   "cell_type": "markdown",
   "metadata": {
    "slideshow": {
     "slide_type": "subslide"
    }
   },
   "source": [
    "<img src=\"https://www.tensorflow.org/images/linear-relationships.png\" width=\"800\">"
   ]
  },
  {
   "cell_type": "markdown",
   "metadata": {
    "slideshow": {
     "slide_type": "subslide"
    }
   },
   "source": [
    "#### Can we approximate the relationship between words by doing - and + operations?"
   ]
  },
  {
   "cell_type": "markdown",
   "metadata": {
    "slideshow": {
     "slide_type": "subslide"
    }
   },
   "source": [
    "- $ Spain - Germany \\approx x -  Berlin $\n",
    "- $\\rightarrow Spain - Germany + Berlin \\approx ?$\n"
   ]
  },
  {
   "cell_type": "code",
   "execution_count": 286,
   "metadata": {},
   "outputs": [
    {
     "name": "stdout",
     "output_type": "stream",
     "text": [
      "Similarity with 'Madrid': 0.8037\n",
      "Similarity with 'Paris': 0.6807\n",
      "Similarity with 'Rome': 0.7066\n",
      "Similarity with 'Lisbon': 0.6947\n",
      "Similarity with 'Athens': 0.6195\n",
      "\n",
      "The word that best fits the analogy 'Spain + Berlin - Germany' is: **Madrid** with a similarity score of 0.8037.\n"
     ]
    }
   ],
   "source": [
    "from transformers import AutoModel, AutoTokenizer\n",
    "from sklearn.metrics.pairwise import cosine_similarity\n",
    "import torch\n",
    "import numpy as np\n",
    "\n",
    "# Load the pre-trained model and tokenizer from the transformers library\n",
    "model_name = \"sentence-transformers/all-MiniLM-L6-v2\"\n",
    "tokenizer = AutoTokenizer.from_pretrained(model_name)\n",
    "model = AutoModel.from_pretrained(model_name)\n",
    "\n",
    "# Define the analogy parameters\n",
    "positive_words = [\"Spain\", \"Berlin\"]\n",
    "negative_word = \"Germany\"\n",
    "\n",
    "# Function to get embeddings for a word\n",
    "def get_embedding(word):\n",
    "    tokens = tokenizer(word, return_tensors=\"pt\")\n",
    "    with torch.no_grad():\n",
    "        embedding = model(**tokens).last_hidden_state[0][0].numpy()\n",
    "    return embedding\n",
    "\n",
    "# Get the word embeddings for positive and negative sets\n",
    "positive_vectors = [get_embedding(word) for word in positive_words]\n",
    "negative_vector = get_embedding(negative_word)\n",
    "\n",
    "# Calculate the analogy vector: (Spain + Berlin) - Germany\n",
    "analogy_vector = np.sum(positive_vectors, axis=0) - negative_vector\n",
    "\n",
    "# Define a list of candidate words to find the closest match\n",
    "candidate_words = [\"Madrid\", \"Paris\", \"Rome\", \"Lisbon\", \"Athens\"]\n",
    "\n",
    "# Calculate cosine similarity between analogy vector and each candidate word\n",
    "max_similarity = -1\n",
    "best_word = None\n",
    "\n",
    "for word in candidate_words:\n",
    "    candidate_vector = get_embedding(word)\n",
    "    similarity_score = cosine_similarity([analogy_vector], [candidate_vector])[0][0]\n",
    "    print(f\"Similarity with '{word}': {similarity_score:.4f}\")\n",
    "    \n",
    "    # Identify the most similar word\n",
    "    if similarity_score > max_similarity:\n",
    "        max_similarity = similarity_score\n",
    "        best_word = word\n",
    "\n",
    "print(f\"\\nThe word that best fits the analogy '{positive_words[0]} + {positive_words[1]} - {negative_word}' is: **{best_word}** with a similarity score of {max_similarity:.4f}.\")"
   ]
  },
  {
   "attachments": {},
   "cell_type": "markdown",
   "metadata": {
    "slideshow": {
     "slide_type": "skip"
    },
    "tags": []
   },
   "source": [
    "### 🚀 **Challenge 8:** Any Other Interesting Examples? </font>\n",
    "\n",
    "- **Task**: Explore three more analogies that do **not** involve capital cities. Test relationships between objects, professions, or any other categories.  \n",
    "- **Interpretation**: Analyze how well the model captures these relationships and identify any interesting patterns.\n"
   ]
  },
  {
   "cell_type": "code",
   "execution_count": 287,
   "metadata": {
    "slideshow": {
     "slide_type": "skip"
    }
   },
   "outputs": [
    {
     "name": "stdout",
     "output_type": "stream",
     "text": [
      "Similarity with 'King': 0.8121\n",
      "Similarity with 'Sir': 0.7366\n",
      "Similarity with 'Father': 0.6458\n",
      "Similarity with 'Duchy': 0.5841\n",
      "Similarity with 'Minister': 0.7163\n"
     ]
    }
   ],
   "source": [
    "positive_words = ['Queen', 'Man']\n",
    "negative_words = ['Woman']\n",
    "\n",
    "candidates = ['King', 'Sir', 'Father', 'Duchy', 'Minister']\n",
    "\n",
    "positive_vectors = [get_embedding(word) for word in positive_words]\n",
    "negative_vector= get_embedding(negative_words[0])\n",
    "candidate_vector = [get_embedding(word) for word in candidates]\n",
    "analogy_vector = np.sum(positive_vectors, axis=0) - negative_vector\n",
    "analogy_vector = analogy_vector.reshape(1, -1)  # Reshape to 2D array\n",
    "similarities = cosine_similarity(analogy_vector, candidate_vector)\n",
    "\n",
    "for word, similarity in zip(candidates, similarities[0]):\n",
    "    print(f\"Similarity with '{word}': {similarity:.4f}\")\n",
    "\n"
   ]
  },
  {
   "cell_type": "markdown",
   "metadata": {},
   "source": [
    "I think the model does a pretty good job. It correctly specifies that \"King\" is the most similar word for \"Queen - Woman + Man\". "
   ]
  },
  {
   "cell_type": "markdown",
   "metadata": {},
   "source": [
    "## 1-3. Constructing Interpretable Semantic Scales \n",
    "\n",
    "So far, we've seen that word vectors effectively carry semantic information, even if not perfectly. But can we design more **interpretable** results using the semantic space?\n",
    "\n",
    "### Goal: Create a Visual Representation of Word Relationships\n",
    "In this section, we'll explore how to build **semantic scales**—representations that map words onto interpretable axes (e.g., *bad-good*, *weak-strong*, etc.).\n",
    "\n",
    "### Example: Mapping Political Words on a *Bad-Good* Scale\n",
    "Let’s see how we can map words associated with *politics* onto a *Bad-Good* scale using **Principal Component Analysis (PCA)** to visualize the word vectors.\n"
   ]
  },
  {
   "cell_type": "markdown",
   "metadata": {},
   "source": [
    "- Let's re-try with real datapoints in [here](https://projector.tensorflow.org): *politics* words in a *bad-good* PCA space"
   ]
  },
  {
   "cell_type": "code",
   "execution_count": 288,
   "metadata": {
    "slideshow": {
     "slide_type": "subslide"
    }
   },
   "outputs": [],
   "source": [
    "from scipy import spatial\n",
    "import pandas as pd\n",
    " \n",
    "def cosine_similarity(x, y):\n",
    "    return (1 - spatial.distance.cosine(x, y))"
   ]
  },
  {
   "cell_type": "markdown",
   "metadata": {
    "slideshow": {
     "slide_type": "fragment"
    }
   },
   "source": [
    "- Can we regenerate this results with our embedding model?"
   ]
  },
  {
   "cell_type": "markdown",
   "metadata": {
    "slideshow": {
     "slide_type": "subslide"
    }
   },
   "source": [
    "### 📊 Let's Plot Words in a 2D Space Using the *Bad-Good* Axes \n",
    "\n",
    "- **Objective**: Visualize words in a 2D space using the *Bad* and *Good* semantic axes.\n",
    "- **Approach**: Calculate the **cosine similarity** between each evaluating word (*violence*, *discussion*, and *issues*) and the two endpoints (*bad* and *good*).\n",
    "- **Words to Evaluate**: \n",
    "  - *Violence*: Expected to be closer to the *Bad* axis.\n",
    "  - *Discussion*: May lie between *Good* and *Bad* based on the context.\n",
    "  - *Issues*: Should lean towards *Good*, but could vary.\n",
    "- **Goal**: Determine where these words fall on the scale and interpret the results visually."
   ]
  },
  {
   "cell_type": "code",
   "execution_count": 289,
   "metadata": {},
   "outputs": [
    {
     "name": "stdout",
     "output_type": "stream",
     "text": [
      "                good       bad\n",
      "violence    0.783698  0.774067\n",
      "discussion  0.917206  0.902372\n",
      "issues      0.900693  0.902916\n"
     ]
    }
   ],
   "source": [
    "# Generate embeddings for the words\n",
    "violence_vec = get_embedding(\"violence\")\n",
    "discussion_vec = get_embedding(\"discussion\")\n",
    "issues_vec = get_embedding(\"issues\")\n",
    "good_vec = get_embedding(\"good\")\n",
    "bad_vec = get_embedding(\"bad\")\n",
    "\n",
    "# Define cosine similarity function\n",
    "from scipy.spatial.distance import cosine\n",
    "\n",
    "def cosine_similarity(x, y):\n",
    "    return 1 - cosine(x, y)\n",
    "\n",
    "# Create a DataFrame with cosine similarities\n",
    "pol_words_sim_2d = pd.DataFrame([\n",
    "    [cosine_similarity(violence_vec, good_vec), cosine_similarity(violence_vec, bad_vec)],\n",
    "    [cosine_similarity(discussion_vec, good_vec), cosine_similarity(discussion_vec, bad_vec)],\n",
    "    [cosine_similarity(issues_vec, good_vec), cosine_similarity(issues_vec, bad_vec)]\n",
    "], index=['violence', 'discussion', 'issues'], columns=['good', 'bad'])\n",
    "\n",
    "print(pol_words_sim_2d)\n"
   ]
  },
  {
   "cell_type": "code",
   "execution_count": 290,
   "metadata": {},
   "outputs": [
    {
     "name": "stdout",
     "output_type": "stream",
     "text": [
      "[ 3.64815056e-01 -7.37407506e-02 -6.31440803e-02  1.64244011e-01\n",
      "  1.23705417e-01  4.20358062e-01 -1.29833937e-01 -2.61642516e-01\n",
      "  1.13431737e-01  2.15896189e-01  1.84143230e-01 -5.74599244e-02\n",
      "  1.21382818e-01 -2.10403189e-01  1.88726023e-01 -1.23610958e-01\n",
      " -5.75273484e-02  3.08459669e-01  1.35629907e-01  9.40092141e-05\n",
      " -7.62851089e-02  3.32506478e-01  2.59658217e-01 -1.01309180e-01\n",
      " -3.79906833e-01  1.46756440e-01 -7.61457756e-02  3.78946036e-01\n",
      " -9.14345533e-02 -6.66247368e-01  1.60753518e-01 -3.61845493e-01\n",
      " -2.81924717e-02  1.58465073e-01 -2.32764617e-01 -3.81518364e-01\n",
      "  4.07590359e-01  3.31287235e-01  3.01429592e-02 -2.05548078e-01\n",
      " -2.34013304e-01  9.87665206e-02  1.31988481e-01 -1.25434190e-01\n",
      " -1.57659855e-02  3.21205147e-02 -3.70308578e-01 -7.80055448e-02\n",
      " -1.02085590e-01 -2.58995235e-01 -1.33932590e-01 -1.18327318e-02\n",
      " -1.48327515e-01  1.44804507e-01  1.46860555e-01 -3.13063413e-01\n",
      "  6.09013438e-01  3.08881700e-01  3.26560527e-01  1.20130531e-01\n",
      " -1.39229715e-01  3.18709165e-01 -1.83354154e-01 -1.81177147e-02\n",
      " -9.67617482e-02  1.37291476e-01  3.40603113e-01 -8.21472406e-02\n",
      " -7.75585622e-02  4.73890752e-01 -6.73112720e-02 -2.87805200e-01\n",
      "  3.25294554e-01 -1.91880956e-01 -2.72284687e-01 -1.49274319e-01\n",
      " -1.84641182e-01  3.72200981e-02  3.23475301e-01  1.46423921e-01\n",
      "  1.55358566e-02  5.67316487e-02 -2.70464242e-01 -7.48276263e-02\n",
      " -3.95924523e-02  3.32671523e-01  7.66145363e-02 -7.27436990e-02\n",
      "  6.82148486e-02  2.21087798e-01 -3.37885506e-02  5.89360654e-01\n",
      "  6.65077031e-01 -1.48194522e-01 -4.94029641e-01 -7.40902349e-02\n",
      " -1.20131947e-01 -2.64694065e-01  5.70590347e-02  5.58928728e+00\n",
      " -2.84475148e-01 -3.92263457e-02  1.12031199e-01 -2.56452352e-01\n",
      "  2.80063659e-01  4.10986179e-03 -1.70297623e-01 -2.60648161e-01\n",
      " -6.44099474e-01  2.91688800e-01 -1.85114637e-01 -2.91925129e-02\n",
      "  6.39918894e-02 -8.73496830e-02  7.38461673e-01 -9.04067382e-02\n",
      "  7.49891922e-02 -2.10369602e-02  2.81550884e-01  1.62146807e-01\n",
      "  2.85086125e-01 -4.27116185e-01 -3.30946803e-01  1.46457464e-01\n",
      " -1.32844865e-01 -1.33370185e+00 -4.91354227e-01 -4.95904274e-32\n",
      "  1.26314223e-01 -3.65201056e-01 -2.65784353e-01  1.32009357e-01\n",
      " -2.53562629e-01 -1.98570371e-01 -2.03927502e-01 -2.25953698e-01\n",
      " -1.95007801e-01  3.76523249e-02 -3.58653009e-01 -3.44232053e-01\n",
      "  1.02097876e-01  1.65400997e-01  6.55999035e-02  4.81645577e-02\n",
      " -1.44305080e-03  7.41383210e-02 -4.63714778e-01 -1.83732450e-01\n",
      "  3.19231004e-02 -1.66454166e-01  7.48811066e-02  4.47600335e-01\n",
      " -1.57600135e-01  1.39638931e-01 -1.43978521e-01 -2.50950992e-01\n",
      "  6.59503564e-02 -3.59686315e-01 -7.12798238e-02  7.78449178e-02\n",
      " -9.24869776e-02 -1.99408159e-01  2.60899365e-01 -7.61425570e-02\n",
      " -9.21754465e-02  8.60771164e-04 -1.22628927e-01  3.30591481e-03\n",
      " -1.73740000e-01  1.99885815e-01 -4.68980700e-01 -1.37196869e-01\n",
      "  1.30688116e-01  1.88597679e-01 -7.89947212e-02 -1.60109505e-01\n",
      " -2.37453416e-01  1.52653843e-01 -1.14805646e-01  1.65170223e-01\n",
      "  8.00668001e-02  2.14389607e-01 -3.39190960e-01  1.03482306e-01\n",
      "  1.98867813e-01  1.85348570e-01  1.11892596e-01 -1.84544586e-02\n",
      "  1.48656636e-01 -4.07089144e-02 -3.99457291e-03 -1.72400847e-02\n",
      "  8.46272334e-02 -2.50426233e-01  4.83836681e-02  2.25028440e-01\n",
      "  2.15096429e-01 -2.90214062e-01 -2.88346857e-01  2.26566732e-01\n",
      "  1.09825447e-01 -2.07850367e-01  1.14752203e-01 -2.32965648e-01\n",
      " -1.23339437e-01 -2.12738559e-01  9.04421732e-02 -4.74945828e-02\n",
      " -1.50263729e-02  1.44504994e-01 -1.96949065e-01  2.90837940e-02\n",
      "  6.38231337e-02 -2.38546401e-01  8.81556422e-02 -3.07232529e-01\n",
      " -2.68403798e-01  4.92500603e-01 -8.76228511e-02 -4.96627361e-01\n",
      "  1.39522955e-01  4.71720137e-02 -1.16486371e-01  3.98408449e-32\n",
      "  3.22115123e-02 -2.44580463e-01 -2.52872825e-01 -1.54780895e-02\n",
      "  2.21716821e-01  1.74612373e-01 -1.28849223e-01  9.17503908e-02\n",
      " -1.23474926e-01  1.44409642e-01  9.77234691e-02 -3.98474395e-01\n",
      "  4.96666059e-02  3.86942744e-01  5.07918835e-01 -9.70214307e-02\n",
      "  6.51475787e-02 -6.78859502e-02 -1.39217786e-02 -7.43945912e-02\n",
      "  9.52138901e-02 -2.04620868e-01  3.51348102e-01  3.35026123e-02\n",
      "  4.33896065e-01 -1.77969873e-01  5.70152551e-02 -6.71216771e-02\n",
      "  4.24514711e-03  7.57409856e-02  3.30665588e-01 -2.83172905e-01\n",
      "  2.11588502e-01  8.46276730e-02 -2.06452087e-01  9.97079909e-02\n",
      "  2.05004990e-01 -2.26977855e-01  9.95096713e-02 -2.34475970e-01\n",
      " -2.75200367e-01  3.54073435e-01 -1.07495375e-01 -1.74767330e-01\n",
      " -2.29804635e-01  3.30434978e-01  1.56511977e-01  3.10741782e-01\n",
      " -7.88383633e-02 -3.13009948e-01  4.88742962e-02 -2.78738551e-02\n",
      "  8.85978043e-02 -2.17190713e-01  4.16060179e-01 -1.01525337e-01\n",
      "  2.13375576e-02 -3.26299369e-01 -4.94179904e-01  1.10392131e-01\n",
      " -3.05823088e-01  2.69282132e-01 -4.81850177e-01  1.72701910e-01\n",
      " -7.28041679e-02 -6.81094304e-02 -4.50018764e-01 -3.35924208e-01\n",
      " -1.63810983e-01 -1.09228790e-01 -1.74200118e-01  2.46100575e-01\n",
      "  1.56258300e-01  4.10838544e-01 -2.14320242e-01 -1.68454647e-01\n",
      " -3.40593487e-01 -8.62871259e-02 -1.37392938e-01  2.54729480e-01\n",
      "  1.28718019e-01 -1.06413484e-01 -1.22821212e-01  3.40752572e-01\n",
      " -3.05224717e-01  1.68965474e-01  1.26382530e-01  3.00498873e-01\n",
      "  1.64564461e-01  1.10828824e-01 -2.54094880e-02 -7.63958246e-02\n",
      "  9.60286111e-02 -1.97778612e-01 -1.05308369e-01 -9.15171015e-08\n",
      " -4.12789673e-01 -2.22042382e-01 -1.30572692e-01  1.40044093e-01\n",
      "  2.74207801e-01  6.13961220e-01  2.23702490e-01 -2.39956707e-01\n",
      "  2.24510700e-01  6.84864819e-04  1.70344993e-01 -2.78623044e-01\n",
      "  2.87638187e-01 -2.66888708e-01 -1.61002338e-01 -3.96620743e-02\n",
      "  4.54849720e-01 -2.03861088e-01  2.34070778e-01  2.85174660e-02\n",
      "  2.56461203e-01 -1.78863779e-02 -2.14479953e-01  2.36051902e-01\n",
      "  1.58624724e-01  2.19498739e-01 -3.48918200e-01 -4.14789975e-01\n",
      " -3.80925894e-01  3.44937980e-01  1.99180305e-01 -1.31105170e-01\n",
      " -5.57496190e-01 -3.26857418e-01 -1.30223230e-01  8.96582082e-02\n",
      " -1.12773985e-01 -8.29231814e-02 -8.48206282e-02 -1.67198822e-01\n",
      "  4.35274169e-02 -1.94249094e-01 -1.96750060e-01 -1.68489859e-01\n",
      "  1.56361699e-01  9.44942608e-02 -2.50300825e-01 -5.93944311e-01\n",
      " -3.84571701e-02  8.29111859e-02  7.89750367e-02  1.31212607e-01\n",
      "  1.05756797e-01  5.44901907e-01  2.42571712e-01  1.26991078e-01\n",
      "  4.03867036e-01  1.50039926e-01  6.11354746e-02 -7.34479055e-02\n",
      "  2.90591747e-01 -1.63482264e-01  2.00427026e-01 -6.87348843e-03]\n"
     ]
    }
   ],
   "source": [
    "print(violence_vec)"
   ]
  },
  {
   "cell_type": "code",
   "execution_count": 291,
   "metadata": {
    "slideshow": {
     "slide_type": "subslide"
    }
   },
   "outputs": [
    {
     "data": {
      "text/html": [
       "<div>\n",
       "<style scoped>\n",
       "    .dataframe tbody tr th:only-of-type {\n",
       "        vertical-align: middle;\n",
       "    }\n",
       "\n",
       "    .dataframe tbody tr th {\n",
       "        vertical-align: top;\n",
       "    }\n",
       "\n",
       "    .dataframe thead th {\n",
       "        text-align: right;\n",
       "    }\n",
       "</style>\n",
       "<table border=\"1\" class=\"dataframe\">\n",
       "  <thead>\n",
       "    <tr style=\"text-align: right;\">\n",
       "      <th></th>\n",
       "      <th>good</th>\n",
       "      <th>bad</th>\n",
       "    </tr>\n",
       "  </thead>\n",
       "  <tbody>\n",
       "    <tr>\n",
       "      <th>violence</th>\n",
       "      <td>0.783698</td>\n",
       "      <td>0.774067</td>\n",
       "    </tr>\n",
       "    <tr>\n",
       "      <th>discussion</th>\n",
       "      <td>0.917206</td>\n",
       "      <td>0.902372</td>\n",
       "    </tr>\n",
       "    <tr>\n",
       "      <th>issues</th>\n",
       "      <td>0.900693</td>\n",
       "      <td>0.902916</td>\n",
       "    </tr>\n",
       "  </tbody>\n",
       "</table>\n",
       "</div>"
      ],
      "text/plain": [
       "                good       bad\n",
       "violence    0.783698  0.774067\n",
       "discussion  0.917206  0.902372\n",
       "issues      0.900693  0.902916"
      ]
     },
     "execution_count": 291,
     "metadata": {},
     "output_type": "execute_result"
    }
   ],
   "source": [
    "pol_words_sim_2d"
   ]
  },
  {
   "cell_type": "markdown",
   "metadata": {
    "slideshow": {
     "slide_type": "subslide"
    }
   },
   "source": [
    "- If we plot this:"
   ]
  },
  {
   "cell_type": "code",
   "execution_count": 292,
   "metadata": {},
   "outputs": [
    {
     "data": {
      "text/plain": [
       "<Axes: xlabel='good', ylabel='bad'>"
      ]
     },
     "execution_count": 292,
     "metadata": {},
     "output_type": "execute_result"
    },
    {
     "data": {
      "image/png": "[encoded data removed]",
      "text/plain": [
       "<Figure size 640x480 with 1 Axes>"
      ]
     },
     "metadata": {},
     "output_type": "display_data"
    }
   ],
   "source": [
    "sns.scatterplot(x='good', y='bad', data=pol_words_sim_2d, hue=pol_words_sim_2d.index)"
   ]
  },
  {
   "cell_type": "markdown",
   "metadata": {},
   "source": [
    "- violence: less good, more bad\n",
    "- discussion: less bad, more good\n",
    "- issues: both bad and good"
   ]
  },
  {
   "cell_type": "markdown",
   "metadata": {
    "slideshow": {
     "slide_type": "subslide"
    }
   },
   "source": [
    "###  Can We Map Words on a 1D Scale?  \n",
    "**(bad)** -------------------- ? -------------------- **(good)**\n",
    "\n",
    "- **Objective**: Map words onto a 1D scale between the two endpoints (*bad* and *good*).\n",
    "- **Approach**:\n",
    "  1. **Create the Vector for the *Bad-Good* Scale**:  \n",
    "     - Calculate a directional vector that spans between *bad* and *good*.  \n",
    "     - This vector will serve as the **semantic axis** for evaluation.\n",
    "  2. **Project Each Word** onto This Scale:\n",
    "     - Calculate the cosine similarity between each word (e.g., *violence*, *discussion*, *issues*) and the *bad-good* vector.\n",
    "     - This score will determine where the word is placed on the 1D scale.\n",
    "  \n",
    "- **Visual Representation**:\n",
    "  - Words like *violence* should ideally be closer to the **(bad)** end.\n",
    "  - Words like *justice* or *freedom* should align closer to the **(good)** end.\n",
    "  "
   ]
  },
  {
   "cell_type": "markdown",
   "metadata": {},
   "source": [
    "#### First, let's create the vector for *bad-good* scale"
   ]
  },
  {
   "cell_type": "markdown",
   "metadata": {},
   "source": [
    "- To construct a **Bad-Good scale vector**, follow these steps:\n",
    "\n",
    "    1. Generate word embeddings for **\"bad\"** and **\"good\"**.\n",
    "    2. Subtract the *bad* embedding from the *good* embedding to get a directional vector:\n",
    "    \n",
    "        $\n",
    "            \\text{Bad-Good Vector} = \\text{Good\\_Vector} - \\text{Bad\\_Vector}\n",
    "        $\n",
    "\n",
    "- This resulting vector will serve as the semantic axis, allowing us to place other words along the *Bad-Good* continuum."
   ]
  },
  {
   "cell_type": "code",
   "execution_count": 293,
   "metadata": {},
   "outputs": [
    {
     "name": "stdout",
     "output_type": "stream",
     "text": [
      "Bad-Good Vector:\n",
      "[-4.21556979e-02  2.81574875e-02 -1.47654548e-01  2.26090446e-01\n",
      "  1.05590105e-01 -2.96810642e-02 -4.92561832e-02  7.02896863e-02\n",
      "  3.94815356e-02  3.19033116e-02  1.11319400e-01  5.54864146e-02\n",
      "  7.79413506e-02  1.72712579e-01 -2.65673995e-02  1.04522973e-01\n",
      "  4.39911932e-02  3.45615409e-02  8.68170857e-02 -1.89359516e-01\n",
      " -1.21256247e-01 -9.23499316e-02  1.84438482e-01 -1.19452700e-01\n",
      "  6.53278530e-02  2.29925945e-01  8.19054767e-02  5.52087501e-02\n",
      "  1.96161121e-02  1.52920425e-01 -1.26510844e-01 -1.71235651e-02\n",
      " -1.24393031e-01  3.71296555e-02 -3.67158912e-02  1.44887328e-01\n",
      "  1.38407946e-01 -2.59498477e-01  8.57779533e-02 -3.08213979e-02\n",
      "  1.13445207e-01 -1.33412868e-01  1.73219681e-01  1.05623022e-01\n",
      " -5.95816746e-02  1.36650115e-01 -2.36089483e-01  2.57764220e-01\n",
      "  8.71912241e-02 -2.20580637e-01 -3.06098908e-02 -1.99145198e-01\n",
      " -9.28062350e-02 -1.72909588e-01  5.53650856e-02 -8.84337425e-02\n",
      "  1.19201273e-01  2.62112617e-02  5.85456453e-02 -2.13754192e-01\n",
      " -1.06538944e-02  1.83920264e-02 -9.95192230e-02 -2.17521898e-02\n",
      " -1.63340867e-02  4.40326333e-03  4.81734723e-02 -9.37192440e-02\n",
      " -1.22456528e-01 -8.27391148e-02  7.34966472e-02  9.59130377e-03\n",
      " -6.88445568e-03  2.86409557e-02  2.86829531e-01 -7.93502331e-02\n",
      "  1.29586101e-01  9.31755006e-02  1.49401836e-02  2.40520611e-02\n",
      " -2.27368474e-01 -1.76071748e-02  5.41919619e-02  5.28549105e-02\n",
      "  3.23437527e-02  1.62409306e-01 -6.44344985e-02  2.76609138e-02\n",
      "  5.84158525e-02  6.48460686e-02  1.93310603e-02  7.84645006e-02\n",
      "  1.69807911e-01 -1.12454847e-01 -5.33463061e-02  1.20659567e-01\n",
      " -1.59430653e-01  3.48056555e-02  1.21502213e-01 -3.02529335e-01\n",
      " -3.12701389e-02  3.63563597e-02 -2.47504488e-02  4.76710498e-04\n",
      "  8.75472091e-03  9.59702805e-02  3.45245749e-03 -5.25604934e-03\n",
      "  8.51298273e-02 -6.90966696e-02  6.17375597e-02 -1.17866300e-01\n",
      "  9.97433960e-02  1.58796132e-01 -1.15890726e-01 -5.00085875e-02\n",
      "  2.16144547e-01 -3.27050686e-04  1.23975277e-01 -1.88250393e-02\n",
      " -4.14581001e-02 -5.06937280e-02  7.83683360e-02 -3.77500057e-01\n",
      " -7.98754990e-02  8.23255777e-02  6.81502149e-02 -8.42225245e-33\n",
      " -1.35888457e-01 -1.05567701e-01  9.64584276e-02  3.24243903e-02\n",
      " -6.28258288e-02 -5.98211586e-02  5.95703870e-02 -1.00452006e-02\n",
      " -4.59283218e-02  7.25777894e-02 -6.41892105e-02  1.28467679e-01\n",
      " -7.33504742e-02  5.46878129e-02  2.41667330e-02 -5.70297539e-02\n",
      "  4.33247313e-02 -1.11598611e-01  2.20890529e-02  1.14243619e-01\n",
      " -4.49861363e-02 -5.24559319e-02  8.23460221e-02  2.27208398e-02\n",
      " -2.88458765e-02  4.24833521e-02  5.75558245e-02 -7.52906352e-02\n",
      "  1.22927666e-01  4.41228151e-02 -7.42722005e-02  4.83251698e-02\n",
      "  7.69329965e-02  9.82713997e-02 -1.22844964e-01  1.20848291e-01\n",
      " -4.88529727e-02 -1.22791082e-01  1.70369446e-02  2.93724656e-01\n",
      "  1.76038787e-01 -4.92754206e-02 -1.05661653e-01 -1.10439576e-01\n",
      " -1.77863657e-01  1.84022486e-02  4.03936654e-02  1.46406874e-01\n",
      " -4.29343134e-02 -2.15306371e-01 -3.66378427e-02  1.89840719e-01\n",
      "  6.10925630e-02 -3.40976454e-02  1.31376870e-02 -1.99778378e-01\n",
      " -1.01335406e-01  9.38255638e-02  2.89633218e-02 -1.36124596e-01\n",
      " -1.99391663e-01  1.83378756e-02 -8.31480995e-02  2.82281488e-01\n",
      " -4.24589217e-02 -8.59456509e-02  4.33942080e-02 -9.88734215e-02\n",
      " -1.32696047e-01  2.36637160e-01 -1.04565918e-02  4.57105376e-02\n",
      " -7.23524243e-02  1.39177442e-01 -4.10706550e-03  3.88423465e-02\n",
      "  5.64813614e-03  1.34726599e-01  6.00048825e-02  1.45561397e-02\n",
      " -1.14567101e-01 -9.26950127e-02 -4.64579761e-02 -6.40198737e-02\n",
      "  1.55676275e-01 -2.61168014e-02  1.65020600e-02 -1.60345465e-01\n",
      " -6.33670390e-02  2.60669738e-02 -6.88363910e-02  1.40344024e-01\n",
      "  2.33243644e-01  1.33892819e-01  1.13002442e-01  9.23137754e-33\n",
      "  9.61017311e-02 -1.67533755e-03 -1.08273864e-01  1.21062748e-01\n",
      " -9.00144204e-02 -1.81756560e-02 -1.13343745e-02  1.50816292e-02\n",
      " -4.38652933e-02 -7.50936419e-02  2.45878063e-02 -7.77569264e-02\n",
      " -1.07981861e-01 -7.39780441e-03  1.03108600e-01 -6.61011934e-02\n",
      " -3.53818983e-02 -1.56106167e-02  1.69254392e-01 -5.90806454e-03\n",
      "  7.35215843e-03 -1.04667306e-01  1.45435572e-01 -4.13745642e-03\n",
      " -1.04728952e-01 -5.93543649e-02  3.12770382e-02  1.17512792e-01\n",
      " -4.68079969e-02  7.36436844e-02 -9.12109315e-02 -9.02424753e-02\n",
      " -1.24850515e-02  6.51432425e-02  6.60099685e-02 -2.54034549e-02\n",
      " -4.17849422e-03  1.46535352e-01 -8.12195241e-02  1.63723409e-01\n",
      "  1.20499834e-01 -2.36103565e-01 -1.72272325e-01  6.30518869e-02\n",
      "  2.34131366e-02  1.85492206e-02  7.87997842e-02 -7.80335367e-02\n",
      "  6.77718222e-02  6.51245713e-02  8.28212351e-02 -3.61994803e-02\n",
      " -6.72518611e-02 -5.65475225e-03  1.67389959e-02  1.37432277e-01\n",
      "  9.90393460e-02 -3.85602415e-02  7.91842416e-02 -1.24603242e-01\n",
      "  1.10327266e-02  7.30727613e-02 -1.00696810e-01  9.29842889e-03\n",
      "  7.03056455e-02  7.87604898e-02 -7.42122531e-04 -1.50490105e-02\n",
      "  8.58441293e-02 -1.20590113e-01  7.70043582e-02 -5.49876206e-02\n",
      "  3.41362581e-02 -1.53459460e-01 -1.00010268e-01  1.43676490e-01\n",
      "  1.52901664e-01  2.37812847e-02 -1.25408143e-01  1.26634352e-02\n",
      "  1.20405495e-01  5.57264984e-02 -8.11870992e-02 -7.53679350e-02\n",
      " -1.91754699e-02  1.49847120e-01 -1.22885644e-01 -1.58853352e-01\n",
      "  8.86505470e-04 -7.57291913e-02  6.62781149e-02  1.63520366e-01\n",
      " -4.82009575e-02 -4.18670923e-02 -8.73432308e-02  1.56518354e-09\n",
      "  1.85208321e-02  2.68062428e-02 -1.76863134e-01 -1.28635705e-01\n",
      "  6.96133301e-02 -9.02364030e-02  1.04193568e-01 -1.19384319e-01\n",
      " -1.80765748e-01  1.16971046e-01  2.09089816e-02 -4.29066494e-02\n",
      " -1.90468933e-02  1.39096320e-01  7.08002895e-02 -4.47182655e-02\n",
      "  4.56158072e-02 -3.43453586e-02  2.77380086e-02  9.46078897e-02\n",
      " -5.93755543e-02 -3.58216166e-02  2.06918672e-01  7.04641938e-02\n",
      " -1.54314816e-01 -6.83260262e-02  1.81528144e-02 -2.83895731e-02\n",
      " -1.29656792e-01  1.00236507e-02 -6.93327039e-02 -1.47902787e-01\n",
      "  1.26124471e-02  4.44426686e-02  1.09993219e-02  6.63089156e-02\n",
      "  7.99529105e-02 -8.05836171e-02  8.89546722e-02 -1.78553298e-01\n",
      "  4.84527647e-03  5.10648638e-03  2.07835525e-01  1.60118565e-02\n",
      "  7.45638236e-02 -1.62492365e-01  4.12684344e-02 -1.48052722e-02\n",
      " -4.76166420e-02 -2.78659672e-01 -7.35622346e-02 -8.92920643e-02\n",
      " -3.42938378e-02  1.91158205e-02 -3.38450372e-02 -2.97507346e-02\n",
      "  9.88212675e-02 -1.00252926e-02 -3.38885188e-02 -1.30674094e-02\n",
      "  1.70545354e-01  6.26277179e-02  1.66713983e-01  1.35648891e-01]\n"
     ]
    }
   ],
   "source": [
    "bad_embedding = get_embedding('bad')\n",
    "good_embedding = get_embedding('good')\n",
    "\n",
    "bad_good_vector = good_embedding - bad_embedding\n",
    "\n",
    "print(f\"Bad-Good Vector:\\n{bad_good_vector}\")"
   ]
  },
  {
   "cell_type": "markdown",
   "metadata": {
    "slideshow": {
     "slide_type": "subslide"
    }
   },
   "source": [
    "- Calculate the cosine similarity score of the word *violence* in the *bad-good* scale \n",
    "    - $sim(V(violence), V(bad) - V(good))$"
   ]
  },
  {
   "cell_type": "code",
   "execution_count": 294,
   "metadata": {},
   "outputs": [],
   "source": [
    "# Custom function to calculate cosine similarity for 1-D vectors\n",
    "def cosine_similarity_1d(vector1, vector2):\n",
    "    dot_product = np.dot(vector1, vector2)\n",
    "    norm_vector1 = np.linalg.norm(vector1)\n",
    "    norm_vector2 = np.linalg.norm(vector2)\n",
    "    return dot_product / (norm_vector1 * norm_vector2)\n"
   ]
  },
  {
   "cell_type": "code",
   "execution_count": 295,
   "metadata": {},
   "outputs": [
    {
     "name": "stdout",
     "output_type": "stream",
     "text": [
      "Cosine Similarity with Bad-Good Vector:\n",
      "\n",
      "Violence: -0.1504 (Closer to Bad)\n",
      "Discussion: -0.1638 (Closer to Bad)\n",
      "Issues: -0.2185 (Closer to Bad)\n"
     ]
    }
   ],
   "source": [
    "# Calculate cosine similarity with the Bad-Good vector\n",
    "violence_score = cosine_similarity_1d(violence_vec, bad_good_vector)\n",
    "discussion_score = cosine_similarity_1d(discussion_vec, bad_good_vector)\n",
    "issues_score = cosine_similarity_1d(issues_vec, bad_good_vector)\n",
    "\n",
    "# Display the similarity scores\n",
    "print(f\"Cosine Similarity with Bad-Good Vector:\\n\")\n",
    "print(f\"Violence: {violence_score:.4f} (Closer to {'Good' if violence_score > 0 else 'Bad'})\")\n",
    "print(f\"Discussion: {discussion_score:.4f} (Closer to {'Good' if discussion_score > 0 else 'Bad'})\")\n",
    "print(f\"Issues: {issues_score:.4f} (Closer to {'Good' if issues_score > 0 else 'Bad'})\")"
   ]
  },
  {
   "cell_type": "markdown",
   "metadata": {
    "slideshow": {
     "slide_type": "slide"
    }
   },
   "source": [
    "## ✨ 2. Sentiment Analysis with NLTK \n",
    "\n",
    "**The Natural Language Toolkit (NLTK)** is a powerful suite of libraries and programs designed for symbolic and statistical natural language processing in Python, primarily for English text.\n",
    "\n",
    "For more information, check out the official documentation: [NLTK Documentation](https://www.nltk.org/).\n",
    "\n",
    "### 🔍 What We’ll Do:\n",
    "We will use **NLTK** along with **spaCy** to analyze text and determine its sentiment:\n",
    "- **Positive** 😄\n",
    "- **Negative** 😞\n",
    "- **Neutral** 😐"
   ]
  },
  {
   "cell_type": "markdown",
   "metadata": {
    "slideshow": {
     "slide_type": "subslide"
    }
   },
   "source": [
    "\"The Natural Language Toolkit (NLTK) is a suite of libraries and programs for symbolic and statistical natural language processing for English written in the Python programming language.\"\n",
    "for more information see: https://www.nltk.org/"
   ]
  },
  {
   "cell_type": "code",
   "execution_count": 296,
   "metadata": {
    "slideshow": {
     "slide_type": "skip"
    }
   },
   "outputs": [],
   "source": [
    "# adapted from https://github.com/Jcharis/Natural-Language-Processing-Tutorials/blob/master/NLP%20with%20SpaCy-%20Adding%20Extensions%20Attributes%20in%20SpaCy(How%20to%20use%20sentiment%20analysis%20in%20SpaCy).ipynb\n",
    "import nltk\n",
    "import spacy\n",
    "from spacy.tokens import Doc"
   ]
  },
  {
   "cell_type": "markdown",
   "metadata": {
    "slideshow": {
     "slide_type": "subslide"
    }
   },
   "source": [
    "\"VADER (Valence Aware Dictionary and sEntiment Reasoner) is a lexicon and rule-based sentiment analysis tool that is specifically attuned to sentiments expressed in social media.\"\n",
    "\n",
    "for more see: https://github.com/cjhutto/vaderSentiment"
   ]
  },
  {
   "cell_type": "code",
   "execution_count": 297,
   "metadata": {
    "slideshow": {
     "slide_type": "subslide"
    }
   },
   "outputs": [
    {
     "name": "stderr",
     "output_type": "stream",
     "text": [
      "[nltk_data] Downloading package vader_lexicon to\n",
      "[nltk_data]     /Users/jonasxie/nltk_data...\n",
      "[nltk_data]   Package vader_lexicon is already up-to-date!\n"
     ]
    },
    {
     "data": {
      "text/plain": [
       "True"
      ]
     },
     "execution_count": 297,
     "metadata": {},
     "output_type": "execute_result"
    }
   ],
   "source": [
    "nltk.download('vader_lexicon')"
   ]
  },
  {
   "cell_type": "markdown",
   "metadata": {},
   "source": [
    "### Step 1: Load the spaCy language model"
   ]
  },
  {
   "cell_type": "code",
   "execution_count": 298,
   "metadata": {},
   "outputs": [],
   "source": [
    "nlp = spacy.load(\"en_core_web_sm\")"
   ]
  },
  {
   "cell_type": "markdown",
   "metadata": {},
   "source": [
    "### Step 2: Define a function to calculate the sentiment score"
   ]
  },
  {
   "cell_type": "code",
   "execution_count": 299,
   "metadata": {},
   "outputs": [],
   "source": [
    "def sentiment_scores(doc):\n",
    "    # Simple sentiment logic based on presence of positive/negative words\n",
    "    positive_words = [\"great\", \"good\", \"amazing\", \"excellent\", \"fantastic\"]\n",
    "    negative_words = [\"terrible\", \"bad\", \"awful\", \"poor\", \"horrible\"]\n",
    "\n",
    "    # Calculate the sentiment score\n",
    "    score = sum([1 if word.text.lower() in positive_words else -1 if word.text.lower() in negative_words else 0 for word in doc])\n",
    "\n",
    "    # Return the sentiment as a dictionary\n",
    "    return {\"sentiment\": \"positive\" if score > 0 else \"negative\" if score < 0 else \"neutral\"}\n"
   ]
  },
  {
   "cell_type": "markdown",
   "metadata": {},
   "source": [
    "### Step 3: Set the custom extension for sentiment analysis"
   ]
  },
  {
   "cell_type": "code",
   "execution_count": 300,
   "metadata": {},
   "outputs": [],
   "source": [
    "Doc.set_extension(\"sentimenter\", getter=sentiment_scores, force=True)"
   ]
  },
  {
   "cell_type": "markdown",
   "metadata": {},
   "source": [
    "### Step 4: Apply the sentiment analysis to a sample text\n"
   ]
  },
  {
   "cell_type": "code",
   "execution_count": 301,
   "metadata": {},
   "outputs": [],
   "source": [
    "doc = nlp(\"This introduction was great but the conclusions were terrible\")"
   ]
  },
  {
   "cell_type": "markdown",
   "metadata": {},
   "source": [
    "### Step 5: Access the sentiment score using the custom extension"
   ]
  },
  {
   "cell_type": "code",
   "execution_count": 302,
   "metadata": {},
   "outputs": [
    {
     "name": "stdout",
     "output_type": "stream",
     "text": [
      "{'sentiment': 'neutral'}\n"
     ]
    }
   ],
   "source": [
    "print(doc._.sentimenter)"
   ]
  },
  {
   "cell_type": "markdown",
   "metadata": {
    "slideshow": {
     "slide_type": "subslide"
    }
   },
   "source": [
    "### 🛒 Applying Sentiment Analysis to Amazon Product Reviews"
   ]
  },
  {
   "cell_type": "code",
   "execution_count": 303,
   "metadata": {},
   "outputs": [
    {
     "data": {
      "text/html": [
       "<div>\n",
       "<style scoped>\n",
       "    .dataframe tbody tr th:only-of-type {\n",
       "        vertical-align: middle;\n",
       "    }\n",
       "\n",
       "    .dataframe tbody tr th {\n",
       "        vertical-align: top;\n",
       "    }\n",
       "\n",
       "    .dataframe thead th {\n",
       "        text-align: right;\n",
       "    }\n",
       "</style>\n",
       "<table border=\"1\" class=\"dataframe\">\n",
       "  <thead>\n",
       "    <tr style=\"text-align: right;\">\n",
       "      <th></th>\n",
       "      <th>Score</th>\n",
       "      <th>Summary</th>\n",
       "      <th>Text</th>\n",
       "    </tr>\n",
       "  </thead>\n",
       "  <tbody>\n",
       "    <tr>\n",
       "      <th>244509</th>\n",
       "      <td>4</td>\n",
       "      <td>Love Happy Tot</td>\n",
       "      <td>I just love the happy tot baby food line. It s...</td>\n",
       "    </tr>\n",
       "    <tr>\n",
       "      <th>87295</th>\n",
       "      <td>4</td>\n",
       "      <td>Feelin Hot Hot Hot</td>\n",
       "      <td>Curry has become one of my favorite foods over...</td>\n",
       "    </tr>\n",
       "    <tr>\n",
       "      <th>377094</th>\n",
       "      <td>5</td>\n",
       "      <td>Wow. Very Maple-y</td>\n",
       "      <td>Just tried this for the first time, and I'm qu...</td>\n",
       "    </tr>\n",
       "    <tr>\n",
       "      <th>44261</th>\n",
       "      <td>4</td>\n",
       "      <td>Good dark, rich coffee for breakfast time</td>\n",
       "      <td>After trying lots of different blends in K-Cup...</td>\n",
       "    </tr>\n",
       "    <tr>\n",
       "      <th>398439</th>\n",
       "      <td>5</td>\n",
       "      <td>Fantastic coffee!</td>\n",
       "      <td>Exceptional coffee all around - rich, full, wi...</td>\n",
       "    </tr>\n",
       "  </tbody>\n",
       "</table>\n",
       "</div>"
      ],
      "text/plain": [
       "        Score                                    Summary  \\\n",
       "244509      4                             Love Happy Tot   \n",
       "87295       4                         Feelin Hot Hot Hot   \n",
       "377094      5                          Wow. Very Maple-y   \n",
       "44261       4  Good dark, rich coffee for breakfast time   \n",
       "398439      5                          Fantastic coffee!   \n",
       "\n",
       "                                                     Text  \n",
       "244509  I just love the happy tot baby food line. It s...  \n",
       "87295   Curry has become one of my favorite foods over...  \n",
       "377094  Just tried this for the first time, and I'm qu...  \n",
       "44261   After trying lots of different blends in K-Cup...  \n",
       "398439  Exceptional coffee all around - rich, full, wi...  "
      ]
     },
     "execution_count": 303,
     "metadata": {},
     "output_type": "execute_result"
    }
   ],
   "source": [
    "from nltk.sentiment.vader import SentimentIntensityAnalyzer\n",
    "\n",
    "# Load the reviews dataset\n",
    "url = 'https://raw.githubusercontent.com/umsi-data-science/data/main/small_reviews.csv'\n",
    "reviews = pd.read_csv(url, index_col=0)\n",
    "\n",
    "reviews.head()"
   ]
  },
  {
   "cell_type": "markdown",
   "metadata": {
    "slideshow": {
     "slide_type": "subslide"
    }
   },
   "source": [
    "We'll use the apply function to transform text with spacy's nlp function."
   ]
  },
  {
   "cell_type": "code",
   "execution_count": 304,
   "metadata": {},
   "outputs": [],
   "source": [
    "sent_analyzer = SentimentIntensityAnalyzer()"
   ]
  },
  {
   "cell_type": "code",
   "execution_count": 305,
   "metadata": {},
   "outputs": [
    {
     "data": {
      "text/html": [
       "<div>\n",
       "<style scoped>\n",
       "    .dataframe tbody tr th:only-of-type {\n",
       "        vertical-align: middle;\n",
       "    }\n",
       "\n",
       "    .dataframe tbody tr th {\n",
       "        vertical-align: top;\n",
       "    }\n",
       "\n",
       "    .dataframe thead th {\n",
       "        text-align: right;\n",
       "    }\n",
       "</style>\n",
       "<table border=\"1\" class=\"dataframe\">\n",
       "  <thead>\n",
       "    <tr style=\"text-align: right;\">\n",
       "      <th></th>\n",
       "      <th>Text</th>\n",
       "      <th>compound_sentiment_rating</th>\n",
       "    </tr>\n",
       "  </thead>\n",
       "  <tbody>\n",
       "    <tr>\n",
       "      <th>244509</th>\n",
       "      <td>I just love the happy tot baby food line. It s...</td>\n",
       "      <td>0.9558</td>\n",
       "    </tr>\n",
       "    <tr>\n",
       "      <th>87295</th>\n",
       "      <td>Curry has become one of my favorite foods over...</td>\n",
       "      <td>0.9742</td>\n",
       "    </tr>\n",
       "    <tr>\n",
       "      <th>377094</th>\n",
       "      <td>Just tried this for the first time, and I'm qu...</td>\n",
       "      <td>0.9383</td>\n",
       "    </tr>\n",
       "    <tr>\n",
       "      <th>44261</th>\n",
       "      <td>After trying lots of different blends in K-Cup...</td>\n",
       "      <td>0.8476</td>\n",
       "    </tr>\n",
       "    <tr>\n",
       "      <th>398439</th>\n",
       "      <td>Exceptional coffee all around - rich, full, wi...</td>\n",
       "      <td>0.5983</td>\n",
       "    </tr>\n",
       "  </tbody>\n",
       "</table>\n",
       "</div>"
      ],
      "text/plain": [
       "                                                     Text  \\\n",
       "244509  I just love the happy tot baby food line. It s...   \n",
       "87295   Curry has become one of my favorite foods over...   \n",
       "377094  Just tried this for the first time, and I'm qu...   \n",
       "44261   After trying lots of different blends in K-Cup...   \n",
       "398439  Exceptional coffee all around - rich, full, wi...   \n",
       "\n",
       "        compound_sentiment_rating  \n",
       "244509                     0.9558  \n",
       "87295                      0.9742  \n",
       "377094                     0.9383  \n",
       "44261                      0.8476  \n",
       "398439                     0.5983  "
      ]
     },
     "execution_count": 305,
     "metadata": {},
     "output_type": "execute_result"
    }
   ],
   "source": [
    "# Apply VADER sentiment analysis to calculate compound sentiment score\n",
    "reviews['compound_sentiment_rating'] = reviews['Text'].apply(lambda x: sent_analyzer.polarity_scores(x)['compound'])\n",
    "\n",
    "# Display the first few rows to check results\n",
    "reviews[['Text', 'compound_sentiment_rating']].head()"
   ]
  },
  {
   "cell_type": "code",
   "execution_count": 306,
   "metadata": {
    "slideshow": {
     "slide_type": "subslide"
    }
   },
   "outputs": [
    {
     "data": {
      "text/html": [
       "<div>\n",
       "<style scoped>\n",
       "    .dataframe tbody tr th:only-of-type {\n",
       "        vertical-align: middle;\n",
       "    }\n",
       "\n",
       "    .dataframe tbody tr th {\n",
       "        vertical-align: top;\n",
       "    }\n",
       "\n",
       "    .dataframe thead th {\n",
       "        text-align: right;\n",
       "    }\n",
       "</style>\n",
       "<table border=\"1\" class=\"dataframe\">\n",
       "  <thead>\n",
       "    <tr style=\"text-align: right;\">\n",
       "      <th></th>\n",
       "      <th>Score</th>\n",
       "      <th>compound_sentiment_rating</th>\n",
       "      <th>Text</th>\n",
       "    </tr>\n",
       "  </thead>\n",
       "  <tbody>\n",
       "    <tr>\n",
       "      <th>244509</th>\n",
       "      <td>4</td>\n",
       "      <td>0.9558</td>\n",
       "      <td>I just love the happy tot baby food line. It s...</td>\n",
       "    </tr>\n",
       "    <tr>\n",
       "      <th>87295</th>\n",
       "      <td>4</td>\n",
       "      <td>0.9742</td>\n",
       "      <td>Curry has become one of my favorite foods over...</td>\n",
       "    </tr>\n",
       "    <tr>\n",
       "      <th>377094</th>\n",
       "      <td>5</td>\n",
       "      <td>0.9383</td>\n",
       "      <td>Just tried this for the first time, and I'm qu...</td>\n",
       "    </tr>\n",
       "    <tr>\n",
       "      <th>44261</th>\n",
       "      <td>4</td>\n",
       "      <td>0.8476</td>\n",
       "      <td>After trying lots of different blends in K-Cup...</td>\n",
       "    </tr>\n",
       "    <tr>\n",
       "      <th>398439</th>\n",
       "      <td>5</td>\n",
       "      <td>0.5983</td>\n",
       "      <td>Exceptional coffee all around - rich, full, wi...</td>\n",
       "    </tr>\n",
       "    <tr>\n",
       "      <th>269511</th>\n",
       "      <td>5</td>\n",
       "      <td>0.9652</td>\n",
       "      <td>These are a delicious vegan alternative to reg...</td>\n",
       "    </tr>\n",
       "    <tr>\n",
       "      <th>89042</th>\n",
       "      <td>1</td>\n",
       "      <td>-0.6048</td>\n",
       "      <td>I have never cared for sweetened cereal as I w...</td>\n",
       "    </tr>\n",
       "    <tr>\n",
       "      <th>225284</th>\n",
       "      <td>3</td>\n",
       "      <td>0.8029</td>\n",
       "      <td>I've been looking for dried organic mango that...</td>\n",
       "    </tr>\n",
       "    <tr>\n",
       "      <th>92943</th>\n",
       "      <td>3</td>\n",
       "      <td>-0.1971</td>\n",
       "      <td>This meal-in-a-box was alright, but not amazin...</td>\n",
       "    </tr>\n",
       "    <tr>\n",
       "      <th>22875</th>\n",
       "      <td>4</td>\n",
       "      <td>0.2732</td>\n",
       "      <td>This product works well with most kinds of mea...</td>\n",
       "    </tr>\n",
       "  </tbody>\n",
       "</table>\n",
       "</div>"
      ],
      "text/plain": [
       "        Score  compound_sentiment_rating  \\\n",
       "244509      4                     0.9558   \n",
       "87295       4                     0.9742   \n",
       "377094      5                     0.9383   \n",
       "44261       4                     0.8476   \n",
       "398439      5                     0.5983   \n",
       "269511      5                     0.9652   \n",
       "89042       1                    -0.6048   \n",
       "225284      3                     0.8029   \n",
       "92943       3                    -0.1971   \n",
       "22875       4                     0.2732   \n",
       "\n",
       "                                                     Text  \n",
       "244509  I just love the happy tot baby food line. It s...  \n",
       "87295   Curry has become one of my favorite foods over...  \n",
       "377094  Just tried this for the first time, and I'm qu...  \n",
       "44261   After trying lots of different blends in K-Cup...  \n",
       "398439  Exceptional coffee all around - rich, full, wi...  \n",
       "269511  These are a delicious vegan alternative to reg...  \n",
       "89042   I have never cared for sweetened cereal as I w...  \n",
       "225284  I've been looking for dried organic mango that...  \n",
       "92943   This meal-in-a-box was alright, but not amazin...  \n",
       "22875   This product works well with most kinds of mea...  "
      ]
     },
     "execution_count": 306,
     "metadata": {},
     "output_type": "execute_result"
    }
   ],
   "source": [
    "reviews[['Score','compound_sentiment_rating','Text']].head(10)"
   ]
  },
  {
   "cell_type": "code",
   "execution_count": 307,
   "metadata": {},
   "outputs": [
    {
     "data": {
      "text/plain": [
       "\"I have never cared for sweetened cereal as I was not raised on it. When I found Purely O's a few years ago I was happy to have found a cereal that did not contain sugar or corn products which I need to avoid because of a corn allergy.  I had intended to buy another box today. I took the time to read the label to make sure that nothing had changed. I could not believe that the ingredient list now lists CORN!  I am so angry!  Purely O's were my go-to breakfast when I needed a something quick or was in the mood for cereal.  There is nothing that this  company makes that I can now eat.  When will these people learn humans aren't pigs! Everything in a supermarket should not contain corn!  If I had wanted corny oat cereal I would have bought Cheerios.\""
      ]
     },
     "execution_count": 307,
     "metadata": {},
     "output_type": "execute_result"
    }
   ],
   "source": [
    "reviews.iloc[6].Text"
   ]
  },
  {
   "cell_type": "code",
   "execution_count": 308,
   "metadata": {
    "slideshow": {
     "slide_type": "subslide"
    }
   },
   "outputs": [
    {
     "data": {
      "text/plain": [
       "<Axes: xlabel='Score', ylabel='compound_sentiment_rating'>"
      ]
     },
     "execution_count": 308,
     "metadata": {},
     "output_type": "execute_result"
    },
    {
     "data": {
      "image/png": "[encoded data removed]",
      "text/plain": [
       "<Figure size 640x480 with 1 Axes>"
      ]
     },
     "metadata": {},
     "output_type": "display_data"
    }
   ],
   "source": [
    "sns.scatterplot(x='Score',y='compound_sentiment_rating',data=reviews)"
   ]
  },
  {
   "cell_type": "code",
   "execution_count": 309,
   "metadata": {
    "slideshow": {
     "slide_type": "subslide"
    }
   },
   "outputs": [],
   "source": [
    "import statsmodels.api as sm\n",
    "import statsmodels.formula.api as smf"
   ]
  },
  {
   "cell_type": "code",
   "execution_count": 310,
   "metadata": {
    "slideshow": {
     "slide_type": "subslide"
    }
   },
   "outputs": [
    {
     "data": {
      "text/html": [
       "<table class=\"simpletable\">\n",
       "<caption>OLS Regression Results</caption>\n",
       "<tr>\n",
       "  <th>Dep. Variable:</th>    <td>compound_sentiment_rating</td> <th>  R-squared:         </th> <td>   0.430</td>\n",
       "</tr>\n",
       "<tr>\n",
       "  <th>Model:</th>                       <td>OLS</td>            <th>  Adj. R-squared:    </th> <td>   0.424</td>\n",
       "</tr>\n",
       "<tr>\n",
       "  <th>Method:</th>                 <td>Least Squares</td>       <th>  F-statistic:       </th> <td>   73.92</td>\n",
       "</tr>\n",
       "<tr>\n",
       "  <th>Date:</th>                 <td>Thu, 10 Oct 2024</td>      <th>  Prob (F-statistic):</th> <td>1.32e-13</td>\n",
       "</tr>\n",
       "<tr>\n",
       "  <th>Time:</th>                     <td>15:46:00</td>          <th>  Log-Likelihood:    </th> <td> -38.820</td>\n",
       "</tr>\n",
       "<tr>\n",
       "  <th>No. Observations:</th>          <td>   100</td>           <th>  AIC:               </th> <td>   81.64</td>\n",
       "</tr>\n",
       "<tr>\n",
       "  <th>Df Residuals:</th>              <td>    98</td>           <th>  BIC:               </th> <td>   86.85</td>\n",
       "</tr>\n",
       "<tr>\n",
       "  <th>Df Model:</th>                  <td>     1</td>           <th>                     </th>     <td> </td>   \n",
       "</tr>\n",
       "<tr>\n",
       "  <th>Covariance Type:</th>          <td>nonrobust</td>         <th>                     </th>     <td> </td>   \n",
       "</tr>\n",
       "</table>\n",
       "<table class=\"simpletable\">\n",
       "<tr>\n",
       "      <td></td>         <th>coef</th>     <th>std err</th>      <th>t</th>      <th>P>|t|</th>  <th>[0.025</th>    <th>0.975]</th>  \n",
       "</tr>\n",
       "<tr>\n",
       "  <th>Intercept</th> <td>   -0.3960</td> <td>    0.128</td> <td>   -3.094</td> <td> 0.003</td> <td>   -0.650</td> <td>   -0.142</td>\n",
       "</tr>\n",
       "<tr>\n",
       "  <th>Score</th>     <td>    0.2508</td> <td>    0.029</td> <td>    8.598</td> <td> 0.000</td> <td>    0.193</td> <td>    0.309</td>\n",
       "</tr>\n",
       "</table>\n",
       "<table class=\"simpletable\">\n",
       "<tr>\n",
       "  <th>Omnibus:</th>       <td>11.481</td> <th>  Durbin-Watson:     </th> <td>   1.670</td>\n",
       "</tr>\n",
       "<tr>\n",
       "  <th>Prob(Omnibus):</th> <td> 0.003</td> <th>  Jarque-Bera (JB):  </th> <td>  15.888</td>\n",
       "</tr>\n",
       "<tr>\n",
       "  <th>Skew:</th>          <td>-0.548</td> <th>  Prob(JB):          </th> <td>0.000355</td>\n",
       "</tr>\n",
       "<tr>\n",
       "  <th>Kurtosis:</th>      <td> 4.617</td> <th>  Cond. No.          </th> <td>    16.3</td>\n",
       "</tr>\n",
       "</table><br/><br/>Notes:<br/>[1] Standard Errors assume that the covariance matrix of the errors is correctly specified."
      ],
      "text/latex": [
       "\\begin{center}\n",
       "\\begin{tabular}{lclc}\n",
       "\\toprule\n",
       "\\textbf{Dep. Variable:}    & compound\\_sentiment\\_rating & \\textbf{  R-squared:         } &     0.430   \\\\\n",
       "\\textbf{Model:}            &             OLS             & \\textbf{  Adj. R-squared:    } &     0.424   \\\\\n",
       "\\textbf{Method:}           &        Least Squares        & \\textbf{  F-statistic:       } &     73.92   \\\\\n",
       "\\textbf{Date:}             &       Thu, 10 Oct 2024      & \\textbf{  Prob (F-statistic):} &  1.32e-13   \\\\\n",
       "\\textbf{Time:}             &           15:46:00          & \\textbf{  Log-Likelihood:    } &   -38.820   \\\\\n",
       "\\textbf{No. Observations:} &               100           & \\textbf{  AIC:               } &     81.64   \\\\\n",
       "\\textbf{Df Residuals:}     &                98           & \\textbf{  BIC:               } &     86.85   \\\\\n",
       "\\textbf{Df Model:}         &                 1           & \\textbf{                     } &             \\\\\n",
       "\\textbf{Covariance Type:}  &          nonrobust          & \\textbf{                     } &             \\\\\n",
       "\\bottomrule\n",
       "\\end{tabular}\n",
       "\\begin{tabular}{lcccccc}\n",
       "                   & \\textbf{coef} & \\textbf{std err} & \\textbf{t} & \\textbf{P$> |$t$|$} & \\textbf{[0.025} & \\textbf{0.975]}  \\\\\n",
       "\\midrule\n",
       "\\textbf{Intercept} &      -0.3960  &        0.128     &    -3.094  &         0.003        &       -0.650    &       -0.142     \\\\\n",
       "\\textbf{Score}     &       0.2508  &        0.029     &     8.598  &         0.000        &        0.193    &        0.309     \\\\\n",
       "\\bottomrule\n",
       "\\end{tabular}\n",
       "\\begin{tabular}{lclc}\n",
       "\\textbf{Omnibus:}       & 11.481 & \\textbf{  Durbin-Watson:     } &    1.670  \\\\\n",
       "\\textbf{Prob(Omnibus):} &  0.003 & \\textbf{  Jarque-Bera (JB):  } &   15.888  \\\\\n",
       "\\textbf{Skew:}          & -0.548 & \\textbf{  Prob(JB):          } & 0.000355  \\\\\n",
       "\\textbf{Kurtosis:}      &  4.617 & \\textbf{  Cond. No.          } &     16.3  \\\\\n",
       "\\bottomrule\n",
       "\\end{tabular}\n",
       "%\\caption{OLS Regression Results}\n",
       "\\end{center}\n",
       "\n",
       "Notes: \\newline\n",
       " [1] Standard Errors assume that the covariance matrix of the errors is correctly specified."
      ],
      "text/plain": [
       "<class 'statsmodels.iolib.summary.Summary'>\n",
       "\"\"\"\n",
       "                                OLS Regression Results                               \n",
       "=====================================================================================\n",
       "Dep. Variable:     compound_sentiment_rating   R-squared:                       0.430\n",
       "Model:                                   OLS   Adj. R-squared:                  0.424\n",
       "Method:                        Least Squares   F-statistic:                     73.92\n",
       "Date:                       Thu, 10 Oct 2024   Prob (F-statistic):           1.32e-13\n",
       "Time:                               15:46:00   Log-Likelihood:                -38.820\n",
       "No. Observations:                        100   AIC:                             81.64\n",
       "Df Residuals:                             98   BIC:                             86.85\n",
       "Df Model:                                  1                                         \n",
       "Covariance Type:                   nonrobust                                         \n",
       "==============================================================================\n",
       "                 coef    std err          t      P>|t|      [0.025      0.975]\n",
       "------------------------------------------------------------------------------\n",
       "Intercept     -0.3960      0.128     -3.094      0.003      -0.650      -0.142\n",
       "Score          0.2508      0.029      8.598      0.000       0.193       0.309\n",
       "==============================================================================\n",
       "Omnibus:                       11.481   Durbin-Watson:                   1.670\n",
       "Prob(Omnibus):                  0.003   Jarque-Bera (JB):               15.888\n",
       "Skew:                          -0.548   Prob(JB):                     0.000355\n",
       "Kurtosis:                       4.617   Cond. No.                         16.3\n",
       "==============================================================================\n",
       "\n",
       "Notes:\n",
       "[1] Standard Errors assume that the covariance matrix of the errors is correctly specified.\n",
       "\"\"\""
      ]
     },
     "execution_count": 310,
     "metadata": {},
     "output_type": "execute_result"
    }
   ],
   "source": [
    "model0 = smf.ols(\"compound_sentiment_rating ~ Score \", data=reviews)\n",
    "model0.fit().summary()"
   ]
  },
  {
   "cell_type": "code",
   "execution_count": null,
   "metadata": {},
   "outputs": [],
   "source": []
  }
 ],
 "metadata": {
  "kernelspec": {
   "display_name": ".venv",
   "language": "python",
   "name": "python3"
  },
  "language_info": {
   "codemirror_mode": {
    "name": "ipython",
    "version": 3
   },
   "file_extension": ".py",
   "mimetype": "text/x-python",
   "name": "python",
   "nbconvert_exporter": "python",
   "pygments_lexer": "ipython3",
   "version": "3.12.5"
  },
  "toc-autonumbering": false,
  "toc-showcode": false,
  "toc-showmarkdowntxt": false,
  "toc-showtags": false
 },
 "nbformat": 4,
 "nbformat_minor": 4
}
