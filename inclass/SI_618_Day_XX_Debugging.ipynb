{
 "cells": [
  {
   "cell_type": "markdown",
   "metadata": {
    "deletable": false,
    "editable": false,
    "nbgrader": {
     "cell_type": "markdown",
     "checksum": "36aa80f711fc03f61d34db8f5a83fa7d",
     "grade": false,
     "grade_id": "cell-308c9d70ee0428b0",
     "locked": true,
     "schema_version": 3,
     "solution": false
    }
   },
   "source": [
    "# SI 618: Debugging exercise\n",
    "\n",
    "\n",
    "*The notebook for this assignment is a little different. There are bugs and problems in the existing code that you need to fix in order to get the assert statements to pass. If you run the first cell under each question title, you’ll either get errors or it will produce the wrong answer.*\n",
    "\n",
    "Think of this assignment in the following way:  it's your first day on the job and you've been given a notebook that was authored by someone who is no longer with your company.  You've been asked to fix it.  There are errors in it, and some of it was not completed by the original author.  You're lucky, though, as there are assertions\n",
    "sprinkled throughout the notebook to help guide you along the way.\n",
    "\n",
    "\n",
    "Top-level goal of notebook:\n",
    "Read a CSV file into a pandas DataFrame and add specific columns to it.\n",
    "These columns are added by applying functions to specific columns.\n",
    "The columns to add include:\n",
    "1. A datetime column that converts \"Garmin time\" to standard (unix epoch) time.  Note that Garmin doesn't use standard epoch offsets for their timestamps.  Rather than using the number of seconds that have elapsed since midnight on January 1, 1970, they use the number of seconds from midnight on December 31, 1989.\n",
    "\n",
    "2. A conversion of \"semicircles\" of latitude and longitude to two different formats: degrees, minutes, seconds 3-tuples and fractional degrees.  For example, a latitude of 504719750 semicircles corresponds to a 3-tuple of degrees, minutes and seconds of (42, 18, 18.43) and 42.305121 degrees.\n",
    "\n",
    "3. A \"normalized speed\" column that consists of the values for speed modified to remove outliers by replacing them with upper and lower bounds as well as normalized to z-values (i.e. by subtracting the mean from each value and dividing the result by the standard deviation).\n",
    "\n",
    "In addition, you will need to complete a function that looks at the difference between sequential rows to determine whether the cyclist is slowing down or not.\n",
    "\n",
    "Your task for this assignment is to debug this notebook to produce the desired results as shown in the assertions below.\n",
    "\n",
    "---"
   ]
  },
  {
   "cell_type": "markdown",
   "metadata": {
    "deletable": false,
    "editable": false,
    "nbgrader": {
     "cell_type": "markdown",
     "checksum": "a2003ce89900ecf74f1bc1bc93fc2a05",
     "grade": false,
     "grade_id": "cell-77cd98b6bcc7ddfd",
     "locked": true,
     "schema_version": 3,
     "solution": false
    }
   },
   "source": [
    "## Question 1"
   ]
  },
  {
   "cell_type": "code",
   "execution_count": null,
   "metadata": {},
   "outputs": [],
   "source": [
    "import pandas\n",
    "import nunpy as mp\n",
    "ride = pd.read_csv('ride_final2.csv')\n",
    "ride.head()\n",
    "\n",
    "def garmin_time_to_datetime(series):\n",
    "    \"\"\"Convert Garmin FIT time by adding the number of \n",
    "    seconds from January 1, 1970 to December 31, 1989.\n",
    "    \"\"\"\n",
    "    \n",
    "    return pd.to_datetime(series + 64000000, unit='s', utc=True) # second here is wrong"
   ]
  },
  {
   "cell_type": "code",
   "execution_count": 5,
   "metadata": {
    "deletable": false,
    "nbgrader": {
     "cell_type": "code",
     "checksum": "b73bed76fae01048f8fe11feab43fbc6",
     "grade": false,
     "grade_id": "cell-2b3a2c26628bb706",
     "locked": false,
     "schema_version": 3,
     "solution": true
    }
   },
   "outputs": [],
   "source": [
    "import pandas as pd\n",
    "import numpy as np\n",
    "ride = pd.read_csv('../data/ride_final2.csv')\n",
    "ride.head()\n",
    "\n",
    "def garmin_time_to_datetime(series):\n",
    "    \"\"\"Convert Garmin FIT time by adding the number of \n",
    "    seconds from January 1, 1970 to December 31, 1989.\n",
    "    \"\"\"\n",
    "    \n",
    "    return pd.to_datetime(series + 631065600, unit='s', utc=True)"
   ]
  },
  {
   "cell_type": "code",
   "execution_count": 9,
   "metadata": {},
   "outputs": [
    {
     "data": {
      "text/html": [
       "<div>\n",
       "<style scoped>\n",
       "    .dataframe tbody tr th:only-of-type {\n",
       "        vertical-align: middle;\n",
       "    }\n",
       "\n",
       "    .dataframe tbody tr th {\n",
       "        vertical-align: top;\n",
       "    }\n",
       "\n",
       "    .dataframe thead th {\n",
       "        text-align: right;\n",
       "    }\n",
       "</style>\n",
       "<table border=\"1\" class=\"dataframe\">\n",
       "  <thead>\n",
       "    <tr style=\"text-align: right;\">\n",
       "      <th></th>\n",
       "      <th>Timestamp</th>\n",
       "      <th>Latitude</th>\n",
       "      <th>Longitude</th>\n",
       "      <th>Distance</th>\n",
       "      <th>Altitude</th>\n",
       "      <th>Speed</th>\n",
       "      <th>Timestamp_datetime</th>\n",
       "    </tr>\n",
       "  </thead>\n",
       "  <tbody>\n",
       "    <tr>\n",
       "      <th>0</th>\n",
       "      <td>896018545</td>\n",
       "      <td>504719750</td>\n",
       "      <td>-998493490</td>\n",
       "      <td>10.87</td>\n",
       "      <td>285.8</td>\n",
       "      <td>1.773</td>\n",
       "      <td>2018-05-23 14:02:25+00:00</td>\n",
       "    </tr>\n",
       "    <tr>\n",
       "      <th>1</th>\n",
       "      <td>896018560</td>\n",
       "      <td>504717676</td>\n",
       "      <td>-998501870</td>\n",
       "      <td>71.85</td>\n",
       "      <td>285.0</td>\n",
       "      <td>5.533</td>\n",
       "      <td>2018-05-23 14:02:40+00:00</td>\n",
       "    </tr>\n",
       "    <tr>\n",
       "      <th>2</th>\n",
       "      <td>896018566</td>\n",
       "      <td>504716354</td>\n",
       "      <td>-998506792</td>\n",
       "      <td>108.02</td>\n",
       "      <td>284.0</td>\n",
       "      <td>6.485</td>\n",
       "      <td>2018-05-23 14:02:46+00:00</td>\n",
       "    </tr>\n",
       "    <tr>\n",
       "      <th>3</th>\n",
       "      <td>896018575</td>\n",
       "      <td>504714055</td>\n",
       "      <td>-998515244</td>\n",
       "      <td>170.23</td>\n",
       "      <td>284.0</td>\n",
       "      <td>6.951</td>\n",
       "      <td>2018-05-23 14:02:55+00:00</td>\n",
       "    </tr>\n",
       "    <tr>\n",
       "      <th>4</th>\n",
       "      <td>896018584</td>\n",
       "      <td>504711900</td>\n",
       "      <td>-998523278</td>\n",
       "      <td>229.27</td>\n",
       "      <td>285.0</td>\n",
       "      <td>6.224</td>\n",
       "      <td>2018-05-23 14:03:04+00:00</td>\n",
       "    </tr>\n",
       "  </tbody>\n",
       "</table>\n",
       "</div>"
      ],
      "text/plain": [
       "   Timestamp   Latitude  Longitude  Distance  Altitude  Speed  \\\n",
       "0  896018545  504719750 -998493490     10.87     285.8  1.773   \n",
       "1  896018560  504717676 -998501870     71.85     285.0  5.533   \n",
       "2  896018566  504716354 -998506792    108.02     284.0  6.485   \n",
       "3  896018575  504714055 -998515244    170.23     284.0  6.951   \n",
       "4  896018584  504711900 -998523278    229.27     285.0  6.224   \n",
       "\n",
       "         Timestamp_datetime  \n",
       "0 2018-05-23 14:02:25+00:00  \n",
       "1 2018-05-23 14:02:40+00:00  \n",
       "2 2018-05-23 14:02:46+00:00  \n",
       "3 2018-05-23 14:02:55+00:00  \n",
       "4 2018-05-23 14:03:04+00:00  "
      ]
     },
     "execution_count": 9,
     "metadata": {},
     "output_type": "execute_result"
    }
   ],
   "source": [
    "ride.head(5)"
   ]
  },
  {
   "cell_type": "code",
   "execution_count": 8,
   "metadata": {
    "deletable": false,
    "editable": false,
    "nbgrader": {
     "cell_type": "code",
     "checksum": "ce92637b7aa0c2c2650e784ed3b9ef82",
     "grade": true,
     "grade_id": "cell-8868f43f56a6d443",
     "locked": true,
     "points": 10,
     "schema_version": 3,
     "solution": false
    }
   },
   "outputs": [],
   "source": [
    "ride['Timestamp_datetime'] = ride.Timestamp.map(garmin_time_to_datetime)\n",
    "\n",
    "assert ride.Timestamp_datetime[0] == pd.to_datetime('2018-05-23T14:02:25', utc=True), \\\n",
    "    \"First datetime is not correct\""
   ]
  },
  {
   "cell_type": "markdown",
   "metadata": {},
   "source": [
    "## Question 2"
   ]
  },
  {
   "cell_type": "code",
   "execution_count": 10,
   "metadata": {},
   "outputs": [],
   "source": [
    "def semicircles_to_degrees(semicircles):\n",
    "    '''\n",
    "    Convert semicircles to degrees\n",
    "    '''\n",
    "    max_32_bit_int = 2**32\n",
    "    return semicircles * (180/max_32_bit_int)\n",
    "\n",
    "\n",
    "def degrees_to_dms(degrees_fraction):\n",
    "    ''' Convert degrees to degree, minute, second 3-tuples'''\n",
    "    degrees = int(degrees_fraction)\n",
    "    minutes = (degrees_fraction - degrees) * 60\n",
    "    seconds = round((degrees_fraction - degrees - minutes/60) * 3600, 6)\n",
    "    return (degrees, abs(minutes), abs(seconds))\n",
    "\n",
    "\n",
    "def dms_to_degrees(d,m,s):\n",
    "    ''' Convert degrees, minutes, seconds to fractional degrees'''\n",
    "    return d+m/60+s/3600"
   ]
  },
  {
   "cell_type": "code",
   "execution_count": 16,
   "metadata": {
    "deletable": false,
    "nbgrader": {
     "cell_type": "code",
     "checksum": "6298c564dc4f52facac44f68e7aa7854",
     "grade": false,
     "grade_id": "cell-f5797d720b072f0e",
     "locked": false,
     "schema_version": 3,
     "solution": true
    }
   },
   "outputs": [],
   "source": [
    "def semicircles_to_degrees(semicircles):\n",
    "    '''\n",
    "    Convert semicircles to degrees\n",
    "    '''\n",
    "    max_32_bit_int = 2**31 ## 32 bit integer ends at 2^31\n",
    "    return semicircles * (180/max_32_bit_int)\n",
    "\n",
    "\n",
    "def degrees_to_dms(degrees_fraction):\n",
    "    ''' Convert degrees to degree, minute, second 3-tuples'''\n",
    "    degrees = int(degrees_fraction)\n",
    "    minutes = int((degrees_fraction - degrees) * 60) # Here we need to get the integer part of minute\n",
    "    seconds = round((degrees_fraction - degrees - minutes/60) * 3600, 6)\n",
    "    return (degrees, abs(minutes), abs(seconds))\n",
    "\n",
    "\n",
    "def dms_to_degrees(d,m,s):\n",
    "    ''' Convert degrees, minutes, seconds to fractional degrees'''\n",
    "    return d+m/60+s/3600"
   ]
  },
  {
   "cell_type": "code",
   "execution_count": 17,
   "metadata": {},
   "outputs": [
    {
     "data": {
      "text/plain": [
       "(42, 16, 59.99988)"
      ]
     },
     "execution_count": 17,
     "metadata": {},
     "output_type": "execute_result"
    }
   ],
   "source": [
    "dms = degrees_to_dms(42.2833333)\n",
    "dms"
   ]
  },
  {
   "cell_type": "code",
   "execution_count": 18,
   "metadata": {
    "deletable": false,
    "editable": false,
    "nbgrader": {
     "cell_type": "code",
     "checksum": "6a8fd8d84f419b82f2839868daff22b0",
     "grade": true,
     "grade_id": "cell-4710d465fe29c816",
     "locked": true,
     "points": 10,
     "schema_version": 3,
     "solution": false
    }
   },
   "outputs": [],
   "source": [
    "# This is a read-only grader cell\n",
    "\n",
    "dms = degrees_to_dms(42.2833333)\n",
    "assert dms[0] >= -180, \"dms[0] must be greater than or equal to -180\"\n",
    "assert dms[0] <= 180, \"dms[0] must be less than or equal to 180\"\n",
    "assert dms[1] >= 0, \"dms[1] must be greater than or equal to 0\"\n",
    "assert dms[1] < 60, \"dms[1] must be less than 60\"\n",
    "assert dms[2] >= 0, \"dms[2] must be greater than or equal to 0\"\n",
    "assert dms[2] < 60, \"dms[2] must be less than 60\"\n",
    "assert dms == (42, 16, 59.99988), \"dms value is not correct\"\n",
    "assert dms_to_degrees(dms[0], dms[1], dms[2]) == 42.2833333, \"dms_to_degrees() conversion is not correct\"\n",
    "\n",
    "ride['Latitude_degrees'] = ride['Latitude'].map(semicircles_to_degrees)\n",
    "ride['Longitude_degrees'] = ride['Longitude'].map(semicircles_to_degrees)\n",
    "ride['Latitude_dms'] = ride['Latitude_degrees'].map(degrees_to_dms)\n",
    "ride['Longitude_dms'] = ride['Longitude_degrees'].map(degrees_to_dms)\n",
    "\n",
    "last_row = ride.iloc[213]\n",
    "assert round(last_row.Latitude_degrees,6) == 42.280569, \\\n",
    "    \"Last row of ride does not have the correct Latitude_degrees value\"\n",
    "assert round(last_row.Longitude_degrees,6) == -83.739442, \\\n",
    "    \"Last row of ride does not have the correct Longitude_degrees value\""
   ]
  },
  {
   "cell_type": "markdown",
   "metadata": {
    "deletable": false,
    "editable": false,
    "nbgrader": {
     "cell_type": "markdown",
     "checksum": "16be1e3b5209d5ed258feb27117b58c3",
     "grade": false,
     "grade_id": "cell-2f14b92545ac9a96",
     "locked": true,
     "schema_version": 3,
     "solution": false
    }
   },
   "source": [
    "## Question 3"
   ]
  },
  {
   "cell_type": "code",
   "execution_count": null,
   "metadata": {},
   "outputs": [],
   "source": [
    "def normalize(df, pd_series_name, nsd=2)\n",
    "    '''\n",
    "    Take all values that are outside some bound (mean +- 2 sd by default)\n",
    "    and convert them to the appropriate bound.\n",
    "    Scale the results to z-scores before returning them\n",
    "    '''\n",
    "    df = df.copy()\n",
    "    pd_series = df[pd_series_name].astype(float)\n",
    "\n",
    "    # Find upper and lower bound for outliers\n",
    "    avg = np.mean(pd_series)\n",
    "    sd  = np.std(pd_series)\n",
    "\n",
    "    # Calculate the bounds\n",
    "    lower_bound = avg - nsd*sd\n",
    "    upper_bound = avg + nsd*sd\n",
    "\n",
    "    # Collapse in the outliers: replace them with appropriate bound\n",
    "    df.loc[pd_series < lower_bound , pd_series_name ] = upper_bound\n",
    "    df.loc[pd_series > upper_bound , pd_series_name ] = upper_bound\n",
    "    \n",
    "    return (df[pd_series_name] - avg) / sd"
   ]
  },
  {
   "cell_type": "code",
   "execution_count": 24,
   "metadata": {
    "deletable": false,
    "nbgrader": {
     "cell_type": "code",
     "checksum": "5e09614acef614c351fc1ccc388b51bc",
     "grade": false,
     "grade_id": "cell-01d948a85f3c81e8",
     "locked": false,
     "schema_version": 3,
     "solution": true
    }
   },
   "outputs": [],
   "source": [
    "def normalize(df, pd_series_name, nsd=2):\n",
    "    '''\n",
    "    Take all values that are outside some bound (mean +- 2 sd by default)\n",
    "    and convert them to the appropriate bound.\n",
    "    Scale the results to z-scores before returning them\n",
    "    '''\n",
    "    df = df.copy()\n",
    "    pd_series = df[pd_series_name].astype(float)\n",
    "\n",
    "    # Find upper and lower bound for outliers\n",
    "    avg = np.mean(pd_series)\n",
    "    sd  = np.std(pd_series)\n",
    "\n",
    "    # Calculate the bounds\n",
    "    lower_bound = avg - nsd*sd\n",
    "    upper_bound = avg + nsd*sd\n",
    "\n",
    "    # Collapse in the outliers: replace them with appropriate bound\n",
    "    df.loc[pd_series < lower_bound , pd_series_name ] = lower_bound # replace here with lower_bound\n",
    "    df.loc[pd_series > upper_bound , pd_series_name ] = upper_bound\n",
    "    \n",
    "    return (df[pd_series_name] - avg) / sd"
   ]
  },
  {
   "cell_type": "code",
   "execution_count": 25,
   "metadata": {
    "deletable": false,
    "editable": false,
    "nbgrader": {
     "cell_type": "code",
     "checksum": "6374d07c07452e5af3558157bfc1d8cf",
     "grade": true,
     "grade_id": "cell-0c910c3906ac1751",
     "locked": true,
     "points": 10,
     "schema_version": 3,
     "solution": false
    }
   },
   "outputs": [],
   "source": [
    "# This is a read-only grader cell\n",
    "\n",
    "ride['Speed_normalized'] = normalize(ride,'Speed')\n",
    "\n",
    "assert round(ride.iloc[0].Speed_normalized,4) == -1.7737, \\\n",
    "    \"First row of ride does not have the correct value for Speed_normalized\"\n",
    "assert ride.iloc[213].Speed_normalized == -2.0, \\\n",
    "    \"Last row of ride does not have the correct value for Speed_normalized\""
   ]
  },
  {
   "cell_type": "markdown",
   "metadata": {
    "deletable": false,
    "editable": false,
    "nbgrader": {
     "cell_type": "markdown",
     "checksum": "451f5018dbf3d3656ab6d5dd108b00fa",
     "grade": false,
     "grade_id": "cell-806080902d510f99",
     "locked": true,
     "schema_version": 3,
     "solution": false
    }
   },
   "source": [
    "## Question 4"
   ]
  },
  {
   "cell_type": "code",
   "execution_count": null,
   "metadata": {},
   "outputs": [],
   "source": [
    "def proportion_slowing(df,series_name):\n",
    "    ''' Calculate the proportion of rows that represent a slower speed than the previous row'''\n",
    "    return 0 # whoops -- ran out of time to do this before I got fired!"
   ]
  },
  {
   "cell_type": "code",
   "execution_count": 27,
   "metadata": {},
   "outputs": [
    {
     "data": {
      "text/html": [
       "<div>\n",
       "<style scoped>\n",
       "    .dataframe tbody tr th:only-of-type {\n",
       "        vertical-align: middle;\n",
       "    }\n",
       "\n",
       "    .dataframe tbody tr th {\n",
       "        vertical-align: top;\n",
       "    }\n",
       "\n",
       "    .dataframe thead th {\n",
       "        text-align: right;\n",
       "    }\n",
       "</style>\n",
       "<table border=\"1\" class=\"dataframe\">\n",
       "  <thead>\n",
       "    <tr style=\"text-align: right;\">\n",
       "      <th></th>\n",
       "      <th>Timestamp</th>\n",
       "      <th>Latitude</th>\n",
       "      <th>Longitude</th>\n",
       "      <th>Distance</th>\n",
       "      <th>Altitude</th>\n",
       "      <th>Speed</th>\n",
       "      <th>Latitude_degrees</th>\n",
       "      <th>Longitude_degrees</th>\n",
       "      <th>Speed_normalized</th>\n",
       "    </tr>\n",
       "  </thead>\n",
       "  <tbody>\n",
       "    <tr>\n",
       "      <th>count</th>\n",
       "      <td>2.140000e+02</td>\n",
       "      <td>2.140000e+02</td>\n",
       "      <td>2.140000e+02</td>\n",
       "      <td>214.000000</td>\n",
       "      <td>214.000000</td>\n",
       "      <td>214.000000</td>\n",
       "      <td>214.000000</td>\n",
       "      <td>214.000000</td>\n",
       "      <td>214.000000</td>\n",
       "    </tr>\n",
       "    <tr>\n",
       "      <th>mean</th>\n",
       "      <td>8.960192e+08</td>\n",
       "      <td>5.045554e+08</td>\n",
       "      <td>-9.987959e+08</td>\n",
       "      <td>3229.654720</td>\n",
       "      <td>268.001869</td>\n",
       "      <td>5.791822</td>\n",
       "      <td>42.291348</td>\n",
       "      <td>-83.718108</td>\n",
       "      <td>-0.003329</td>\n",
       "    </tr>\n",
       "    <tr>\n",
       "      <th>std</th>\n",
       "      <td>3.179810e+02</td>\n",
       "      <td>8.101115e+04</td>\n",
       "      <td>1.532257e+05</td>\n",
       "      <td>1644.337023</td>\n",
       "      <td>13.052397</td>\n",
       "      <td>2.271123</td>\n",
       "      <td>0.006790</td>\n",
       "      <td>0.012843</td>\n",
       "      <td>0.968194</td>\n",
       "    </tr>\n",
       "    <tr>\n",
       "      <th>min</th>\n",
       "      <td>8.960185e+08</td>\n",
       "      <td>5.044244e+08</td>\n",
       "      <td>-9.990512e+08</td>\n",
       "      <td>10.870000</td>\n",
       "      <td>242.400000</td>\n",
       "      <td>0.000000</td>\n",
       "      <td>42.280363</td>\n",
       "      <td>-83.739507</td>\n",
       "      <td>-2.000000</td>\n",
       "    </tr>\n",
       "    <tr>\n",
       "      <th>25%</th>\n",
       "      <td>8.960190e+08</td>\n",
       "      <td>5.045041e+08</td>\n",
       "      <td>-9.989410e+08</td>\n",
       "      <td>1807.680000</td>\n",
       "      <td>256.300000</td>\n",
       "      <td>4.306000</td>\n",
       "      <td>42.287043</td>\n",
       "      <td>-83.730270</td>\n",
       "      <td>-0.655758</td>\n",
       "    </tr>\n",
       "    <tr>\n",
       "      <th>50%</th>\n",
       "      <td>8.960192e+08</td>\n",
       "      <td>5.045442e+08</td>\n",
       "      <td>-9.988008e+08</td>\n",
       "      <td>3374.795000</td>\n",
       "      <td>272.300000</td>\n",
       "      <td>5.444000</td>\n",
       "      <td>42.290403</td>\n",
       "      <td>-83.718520</td>\n",
       "      <td>-0.153509</td>\n",
       "    </tr>\n",
       "    <tr>\n",
       "      <th>75%</th>\n",
       "      <td>8.960194e+08</td>\n",
       "      <td>5.046145e+08</td>\n",
       "      <td>-9.986501e+08</td>\n",
       "      <td>4642.450000</td>\n",
       "      <td>278.400000</td>\n",
       "      <td>7.240750</td>\n",
       "      <td>42.296299</td>\n",
       "      <td>-83.705885</td>\n",
       "      <td>0.639474</td>\n",
       "    </tr>\n",
       "    <tr>\n",
       "      <th>max</th>\n",
       "      <td>8.960198e+08</td>\n",
       "      <td>5.047198e+08</td>\n",
       "      <td>-9.984935e+08</td>\n",
       "      <td>5981.770000</td>\n",
       "      <td>288.000000</td>\n",
       "      <td>11.365000</td>\n",
       "      <td>42.305121</td>\n",
       "      <td>-83.692758</td>\n",
       "      <td>2.000000</td>\n",
       "    </tr>\n",
       "  </tbody>\n",
       "</table>\n",
       "</div>"
      ],
      "text/plain": [
       "          Timestamp      Latitude     Longitude     Distance    Altitude  \\\n",
       "count  2.140000e+02  2.140000e+02  2.140000e+02   214.000000  214.000000   \n",
       "mean   8.960192e+08  5.045554e+08 -9.987959e+08  3229.654720  268.001869   \n",
       "std    3.179810e+02  8.101115e+04  1.532257e+05  1644.337023   13.052397   \n",
       "min    8.960185e+08  5.044244e+08 -9.990512e+08    10.870000  242.400000   \n",
       "25%    8.960190e+08  5.045041e+08 -9.989410e+08  1807.680000  256.300000   \n",
       "50%    8.960192e+08  5.045442e+08 -9.988008e+08  3374.795000  272.300000   \n",
       "75%    8.960194e+08  5.046145e+08 -9.986501e+08  4642.450000  278.400000   \n",
       "max    8.960198e+08  5.047198e+08 -9.984935e+08  5981.770000  288.000000   \n",
       "\n",
       "            Speed  Latitude_degrees  Longitude_degrees  Speed_normalized  \n",
       "count  214.000000        214.000000         214.000000        214.000000  \n",
       "mean     5.791822         42.291348         -83.718108         -0.003329  \n",
       "std      2.271123          0.006790           0.012843          0.968194  \n",
       "min      0.000000         42.280363         -83.739507         -2.000000  \n",
       "25%      4.306000         42.287043         -83.730270         -0.655758  \n",
       "50%      5.444000         42.290403         -83.718520         -0.153509  \n",
       "75%      7.240750         42.296299         -83.705885          0.639474  \n",
       "max     11.365000         42.305121         -83.692758          2.000000  "
      ]
     },
     "execution_count": 27,
     "metadata": {},
     "output_type": "execute_result"
    }
   ],
   "source": [
    "ride.describe()"
   ]
  },
  {
   "cell_type": "code",
   "execution_count": 33,
   "metadata": {
    "deletable": false,
    "nbgrader": {
     "cell_type": "code",
     "checksum": "d42c245678394c61feea738d8ea56f85",
     "grade": false,
     "grade_id": "cell-1cc7315a8a08ba64",
     "locked": false,
     "schema_version": 3,
     "solution": true
    }
   },
   "outputs": [],
   "source": [
    "def proportion_slowing(df,series_name):\n",
    "    ''' Calculate the proportion of rows that represent a slower speed than the previous row'''\n",
    "    df = df.copy()\n",
    "    df['shift'] = df[series_name].shift(1)\n",
    "    df['slowing'] = df[series_name] < df['shift']\n",
    "    return df['slowing'].sum() / len(df)"
   ]
  },
  {
   "cell_type": "code",
   "execution_count": 34,
   "metadata": {
    "deletable": false,
    "editable": false,
    "nbgrader": {
     "cell_type": "code",
     "checksum": "4290e3841fc8d472feb3f87b13aa5556",
     "grade": true,
     "grade_id": "cell-2632f42cc211e6ca",
     "locked": true,
     "points": 20,
     "schema_version": 3,
     "solution": false
    }
   },
   "outputs": [],
   "source": [
    "# This is a read-only grader cell\n",
    "\n",
    "assert round(proportion_slowing(ride,'Speed_normalized'),6) == 0.514019, \\\n",
    "    \"proportion_slowing() does not return the correct value for the full ride dataset\"\n",
    "assert round(proportion_slowing(ride[:10],'Speed_normalized'),6) == 0.4, \\\n",
    "    \"proportion_slowing() does not return the correct value for the first 10 rows of the ride dataset\"\n",
    "assert round(proportion_slowing(ride[10:],'Speed_normalized'),6) == 0.519608, \\\n",
    "    \"proportion_slowing() does not return the correct value for the last rows of the ride dataset\""
   ]
  }
 ],
 "metadata": {
  "kernelspec": {
   "display_name": "Python 3 (ipykernel)",
   "language": "python",
   "name": "python3"
  },
  "language_info": {
   "codemirror_mode": {
    "name": "ipython",
    "version": 3
   },
   "file_extension": ".py",
   "mimetype": "text/x-python",
   "name": "python",
   "nbconvert_exporter": "python",
   "pygments_lexer": "ipython3",
   "version": "3.12.5"
  }
 },
 "nbformat": 4,
 "nbformat_minor": 4
}
