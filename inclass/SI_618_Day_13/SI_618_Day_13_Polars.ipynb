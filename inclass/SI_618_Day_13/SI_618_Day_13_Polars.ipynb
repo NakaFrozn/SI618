{
 "cells": [
  {
   "cell_type": "markdown",
   "metadata": {},
   "source": [
    "# SI 618 Scaling up (polars)\n",
    "### Dr. Chris Teplovs, School of Information, University of Michigan\n",
    "Copyright &copy; 2024.  This notebook may not be shared outside of the course without permission.\n",
    "### Please ensure you have this version:\n",
    "Version 2024.11.20.1.CT"
   ]
  },
  {
   "cell_type": "code",
   "execution_count": null,
   "metadata": {},
   "outputs": [],
   "source": [
    "# Uncomment the following line and run this cell once to install polars. Then, comment out the line again so you don't ever run it again.\n",
    "#%pip install polars"
   ]
  },
  {
   "cell_type": "code",
   "execution_count": 1,
   "metadata": {},
   "outputs": [],
   "source": [
    "import pandas as pd\n",
    "import numpy as np\n",
    "import matplotlib.pyplot as plt\n",
    "import seaborn as sns\n",
    "\n",
    "import polars as pl"
   ]
  },
  {
   "cell_type": "code",
   "execution_count": 2,
   "metadata": {},
   "outputs": [],
   "source": [
    "pandas_df = pd.read_csv('athlete_events.csv', na_values=['NA'])\n",
    "polars_df = pl.read_csv('athlete_events.csv',null_values=['NA'])  "
   ]
  },
  {
   "cell_type": "code",
   "execution_count": 3,
   "metadata": {},
   "outputs": [
    {
     "name": "stdout",
     "output_type": "stream",
     "text": [
      "   ID                      Name Sex   Age  Height  Weight            Team  \\\n",
      "0   1                 A Dijiang   M  24.0   180.0    80.0           China   \n",
      "1   2                  A Lamusi   M  23.0   170.0    60.0           China   \n",
      "2   3       Gunnar Nielsen Aaby   M  24.0     NaN     NaN         Denmark   \n",
      "3   4      Edgar Lindenau Aabye   M  34.0     NaN     NaN  Denmark/Sweden   \n",
      "4   5  Christine Jacoba Aaftink   F  21.0   185.0    82.0     Netherlands   \n",
      "\n",
      "   NOC        Games  Year  Season       City          Sport  \\\n",
      "0  CHN  1992 Summer  1992  Summer  Barcelona     Basketball   \n",
      "1  CHN  2012 Summer  2012  Summer     London           Judo   \n",
      "2  DEN  1920 Summer  1920  Summer  Antwerpen       Football   \n",
      "3  DEN  1900 Summer  1900  Summer      Paris     Tug-Of-War   \n",
      "4  NED  1988 Winter  1988  Winter    Calgary  Speed Skating   \n",
      "\n",
      "                              Event Medal  \n",
      "0       Basketball Men's Basketball   NaN  \n",
      "1      Judo Men's Extra-Lightweight   NaN  \n",
      "2           Football Men's Football   NaN  \n",
      "3       Tug-Of-War Men's Tug-Of-War  Gold  \n",
      "4  Speed Skating Women's 500 metres   NaN  \n"
     ]
    }
   ],
   "source": [
    "print(pandas_df.head())"
   ]
  },
  {
   "cell_type": "code",
   "execution_count": 4,
   "metadata": {},
   "outputs": [
    {
     "name": "stdout",
     "output_type": "stream",
     "text": [
      "shape: (5, 15)\n",
      "┌─────┬────────────────────┬─────┬─────┬───┬───────────┬───────────────┬───────────────────┬───────┐\n",
      "│ ID  ┆ Name               ┆ Sex ┆ Age ┆ … ┆ City      ┆ Sport         ┆ Event             ┆ Medal │\n",
      "│ --- ┆ ---                ┆ --- ┆ --- ┆   ┆ ---       ┆ ---           ┆ ---               ┆ ---   │\n",
      "│ i64 ┆ str                ┆ str ┆ i64 ┆   ┆ str       ┆ str           ┆ str               ┆ str   │\n",
      "╞═════╪════════════════════╪═════╪═════╪═══╪═══════════╪═══════════════╪═══════════════════╪═══════╡\n",
      "│ 1   ┆ A Dijiang          ┆ M   ┆ 24  ┆ … ┆ Barcelona ┆ Basketball    ┆ Basketball Men's  ┆ null  │\n",
      "│     ┆                    ┆     ┆     ┆   ┆           ┆               ┆ Basketball        ┆       │\n",
      "│ 2   ┆ A Lamusi           ┆ M   ┆ 23  ┆ … ┆ London    ┆ Judo          ┆ Judo Men's        ┆ null  │\n",
      "│     ┆                    ┆     ┆     ┆   ┆           ┆               ┆ Extra-Lightweight ┆       │\n",
      "│ 3   ┆ Gunnar Nielsen     ┆ M   ┆ 24  ┆ … ┆ Antwerpen ┆ Football      ┆ Football Men's    ┆ null  │\n",
      "│     ┆ Aaby               ┆     ┆     ┆   ┆           ┆               ┆ Football          ┆       │\n",
      "│ 4   ┆ Edgar Lindenau     ┆ M   ┆ 34  ┆ … ┆ Paris     ┆ Tug-Of-War    ┆ Tug-Of-War Men's  ┆ Gold  │\n",
      "│     ┆ Aabye              ┆     ┆     ┆   ┆           ┆               ┆ Tug-Of-War        ┆       │\n",
      "│ 5   ┆ Christine Jacoba   ┆ F   ┆ 21  ┆ … ┆ Calgary   ┆ Speed Skating ┆ Speed Skating     ┆ null  │\n",
      "│     ┆ Aaftink            ┆     ┆     ┆   ┆           ┆               ┆ Women's 500 metr… ┆       │\n",
      "└─────┴────────────────────┴─────┴─────┴───┴───────────┴───────────────┴───────────────────┴───────┘\n"
     ]
    }
   ],
   "source": [
    "print(polars_df.head())"
   ]
  },
  {
   "cell_type": "code",
   "execution_count": 5,
   "metadata": {},
   "outputs": [
    {
     "name": "stdout",
     "output_type": "stream",
     "text": [
      "<class 'pandas.core.frame.DataFrame'>\n",
      "RangeIndex: 271116 entries, 0 to 271115\n",
      "Data columns (total 15 columns):\n",
      " #   Column  Non-Null Count   Dtype  \n",
      "---  ------  --------------   -----  \n",
      " 0   ID      271116 non-null  int64  \n",
      " 1   Name    271116 non-null  object \n",
      " 2   Sex     271116 non-null  object \n",
      " 3   Age     261642 non-null  float64\n",
      " 4   Height  210945 non-null  float64\n",
      " 5   Weight  208241 non-null  float64\n",
      " 6   Team    271116 non-null  object \n",
      " 7   NOC     271116 non-null  object \n",
      " 8   Games   271116 non-null  object \n",
      " 9   Year    271116 non-null  int64  \n",
      " 10  Season  271116 non-null  object \n",
      " 11  City    271116 non-null  object \n",
      " 12  Sport   271116 non-null  object \n",
      " 13  Event   271116 non-null  object \n",
      " 14  Medal   39783 non-null   object \n",
      "dtypes: float64(3), int64(2), object(10)\n",
      "memory usage: 31.0+ MB\n"
     ]
    }
   ],
   "source": [
    "pandas_df.info()"
   ]
  },
  {
   "cell_type": "code",
   "execution_count": 6,
   "metadata": {},
   "outputs": [
    {
     "data": {
      "text/plain": [
       "count    210945.000000\n",
       "mean        175.338970\n",
       "std          10.518462\n",
       "min         127.000000\n",
       "25%         168.000000\n",
       "50%         175.000000\n",
       "75%         183.000000\n",
       "max         226.000000\n",
       "Name: Height, dtype: float64"
      ]
     },
     "execution_count": 6,
     "metadata": {},
     "output_type": "execute_result"
    }
   ],
   "source": [
    "pandas_df.Height.describe()"
   ]
  },
  {
   "cell_type": "code",
   "execution_count": 7,
   "metadata": {},
   "outputs": [
    {
     "data": {
      "text/plain": [
       "Schema([('ID', Int64),\n",
       "        ('Name', String),\n",
       "        ('Sex', String),\n",
       "        ('Age', Int64),\n",
       "        ('Height', Int64),\n",
       "        ('Weight', Float64),\n",
       "        ('Team', String),\n",
       "        ('NOC', String),\n",
       "        ('Games', String),\n",
       "        ('Year', Int64),\n",
       "        ('Season', String),\n",
       "        ('City', String),\n",
       "        ('Sport', String),\n",
       "        ('Event', String),\n",
       "        ('Medal', String)])"
      ]
     },
     "execution_count": 7,
     "metadata": {},
     "output_type": "execute_result"
    }
   ],
   "source": [
    "polars_df.schema"
   ]
  },
  {
   "cell_type": "code",
   "execution_count": 8,
   "metadata": {},
   "outputs": [
    {
     "data": {
      "text/html": [
       "<div>\n",
       "<style scoped>\n",
       "    .dataframe tbody tr th:only-of-type {\n",
       "        vertical-align: middle;\n",
       "    }\n",
       "\n",
       "    .dataframe tbody tr th {\n",
       "        vertical-align: top;\n",
       "    }\n",
       "\n",
       "    .dataframe thead th {\n",
       "        text-align: right;\n",
       "    }\n",
       "</style>\n",
       "<table border=\"1\" class=\"dataframe\">\n",
       "  <thead>\n",
       "    <tr style=\"text-align: right;\">\n",
       "      <th></th>\n",
       "      <th>ID</th>\n",
       "      <th>Name</th>\n",
       "      <th>Sex</th>\n",
       "      <th>Age</th>\n",
       "      <th>Height</th>\n",
       "      <th>Weight</th>\n",
       "      <th>Team</th>\n",
       "      <th>NOC</th>\n",
       "      <th>Games</th>\n",
       "      <th>Year</th>\n",
       "      <th>Season</th>\n",
       "      <th>City</th>\n",
       "      <th>Sport</th>\n",
       "      <th>Event</th>\n",
       "      <th>Medal</th>\n",
       "    </tr>\n",
       "  </thead>\n",
       "  <tbody>\n",
       "    <tr>\n",
       "      <th>2392</th>\n",
       "      <td>1337</td>\n",
       "      <td>Olof Ahlberg</td>\n",
       "      <td>M</td>\n",
       "      <td>71.0</td>\n",
       "      <td>NaN</td>\n",
       "      <td>NaN</td>\n",
       "      <td>Sweden</td>\n",
       "      <td>SWE</td>\n",
       "      <td>1948 Summer</td>\n",
       "      <td>1948</td>\n",
       "      <td>Summer</td>\n",
       "      <td>London</td>\n",
       "      <td>Art Competitions</td>\n",
       "      <td>Art Competitions Mixed Painting, Unknown Event</td>\n",
       "      <td>NaN</td>\n",
       "    </tr>\n",
       "    <tr>\n",
       "      <th>7433</th>\n",
       "      <td>4160</td>\n",
       "      <td>Robert Day Andrews</td>\n",
       "      <td>M</td>\n",
       "      <td>75.0</td>\n",
       "      <td>NaN</td>\n",
       "      <td>NaN</td>\n",
       "      <td>United States</td>\n",
       "      <td>USA</td>\n",
       "      <td>1932 Summer</td>\n",
       "      <td>1932</td>\n",
       "      <td>Summer</td>\n",
       "      <td>Los Angeles</td>\n",
       "      <td>Art Competitions</td>\n",
       "      <td>Art Competitions Mixed Architecture, Unknown E...</td>\n",
       "      <td>NaN</td>\n",
       "    </tr>\n",
       "    <tr>\n",
       "      <th>9369</th>\n",
       "      <td>5146</td>\n",
       "      <td>George Denholm Armour</td>\n",
       "      <td>M</td>\n",
       "      <td>68.0</td>\n",
       "      <td>NaN</td>\n",
       "      <td>NaN</td>\n",
       "      <td>Great Britain</td>\n",
       "      <td>GBR</td>\n",
       "      <td>1932 Summer</td>\n",
       "      <td>1932</td>\n",
       "      <td>Summer</td>\n",
       "      <td>Los Angeles</td>\n",
       "      <td>Art Competitions</td>\n",
       "      <td>Art Competitions Mixed Painting, Unknown Event</td>\n",
       "      <td>NaN</td>\n",
       "    </tr>\n",
       "    <tr>\n",
       "      <th>9370</th>\n",
       "      <td>5146</td>\n",
       "      <td>George Denholm Armour</td>\n",
       "      <td>M</td>\n",
       "      <td>68.0</td>\n",
       "      <td>NaN</td>\n",
       "      <td>NaN</td>\n",
       "      <td>Great Britain</td>\n",
       "      <td>GBR</td>\n",
       "      <td>1932 Summer</td>\n",
       "      <td>1932</td>\n",
       "      <td>Summer</td>\n",
       "      <td>Los Angeles</td>\n",
       "      <td>Art Competitions</td>\n",
       "      <td>Art Competitions Mixed Painting, Unknown Event</td>\n",
       "      <td>NaN</td>\n",
       "    </tr>\n",
       "    <tr>\n",
       "      <th>9371</th>\n",
       "      <td>5146</td>\n",
       "      <td>George Denholm Armour</td>\n",
       "      <td>M</td>\n",
       "      <td>84.0</td>\n",
       "      <td>NaN</td>\n",
       "      <td>NaN</td>\n",
       "      <td>Great Britain</td>\n",
       "      <td>GBR</td>\n",
       "      <td>1948 Summer</td>\n",
       "      <td>1948</td>\n",
       "      <td>Summer</td>\n",
       "      <td>London</td>\n",
       "      <td>Art Competitions</td>\n",
       "      <td>Art Competitions Mixed Painting, Unknown Event</td>\n",
       "      <td>NaN</td>\n",
       "    </tr>\n",
       "    <tr>\n",
       "      <th>...</th>\n",
       "      <td>...</td>\n",
       "      <td>...</td>\n",
       "      <td>...</td>\n",
       "      <td>...</td>\n",
       "      <td>...</td>\n",
       "      <td>...</td>\n",
       "      <td>...</td>\n",
       "      <td>...</td>\n",
       "      <td>...</td>\n",
       "      <td>...</td>\n",
       "      <td>...</td>\n",
       "      <td>...</td>\n",
       "      <td>...</td>\n",
       "      <td>...</td>\n",
       "      <td>...</td>\n",
       "    </tr>\n",
       "    <tr>\n",
       "      <th>257054</th>\n",
       "      <td>128719</td>\n",
       "      <td>John Quincy Adams Ward</td>\n",
       "      <td>M</td>\n",
       "      <td>97.0</td>\n",
       "      <td>NaN</td>\n",
       "      <td>NaN</td>\n",
       "      <td>United States</td>\n",
       "      <td>USA</td>\n",
       "      <td>1928 Summer</td>\n",
       "      <td>1928</td>\n",
       "      <td>Summer</td>\n",
       "      <td>Amsterdam</td>\n",
       "      <td>Art Competitions</td>\n",
       "      <td>Art Competitions Mixed Sculpturing, Statues</td>\n",
       "      <td>NaN</td>\n",
       "    </tr>\n",
       "    <tr>\n",
       "      <th>260790</th>\n",
       "      <td>130487</td>\n",
       "      <td>Norman L. Wilkinson</td>\n",
       "      <td>M</td>\n",
       "      <td>69.0</td>\n",
       "      <td>NaN</td>\n",
       "      <td>NaN</td>\n",
       "      <td>Great Britain</td>\n",
       "      <td>GBR</td>\n",
       "      <td>1948 Summer</td>\n",
       "      <td>1948</td>\n",
       "      <td>Summer</td>\n",
       "      <td>London</td>\n",
       "      <td>Art Competitions</td>\n",
       "      <td>Art Competitions Mixed Painting, Unknown Event</td>\n",
       "      <td>NaN</td>\n",
       "    </tr>\n",
       "    <tr>\n",
       "      <th>260791</th>\n",
       "      <td>130487</td>\n",
       "      <td>Norman L. Wilkinson</td>\n",
       "      <td>M</td>\n",
       "      <td>69.0</td>\n",
       "      <td>NaN</td>\n",
       "      <td>NaN</td>\n",
       "      <td>Great Britain</td>\n",
       "      <td>GBR</td>\n",
       "      <td>1948 Summer</td>\n",
       "      <td>1948</td>\n",
       "      <td>Summer</td>\n",
       "      <td>London</td>\n",
       "      <td>Art Competitions</td>\n",
       "      <td>Art Competitions Mixed Painting, Unknown Event</td>\n",
       "      <td>NaN</td>\n",
       "    </tr>\n",
       "    <tr>\n",
       "      <th>260792</th>\n",
       "      <td>130487</td>\n",
       "      <td>Norman L. Wilkinson</td>\n",
       "      <td>M</td>\n",
       "      <td>69.0</td>\n",
       "      <td>NaN</td>\n",
       "      <td>NaN</td>\n",
       "      <td>Great Britain</td>\n",
       "      <td>GBR</td>\n",
       "      <td>1948 Summer</td>\n",
       "      <td>1948</td>\n",
       "      <td>Summer</td>\n",
       "      <td>London</td>\n",
       "      <td>Art Competitions</td>\n",
       "      <td>Art Competitions Mixed Painting, Unknown Event</td>\n",
       "      <td>NaN</td>\n",
       "    </tr>\n",
       "    <tr>\n",
       "      <th>260799</th>\n",
       "      <td>130491</td>\n",
       "      <td>Thomas William Wilkinson</td>\n",
       "      <td>M</td>\n",
       "      <td>72.0</td>\n",
       "      <td>NaN</td>\n",
       "      <td>NaN</td>\n",
       "      <td>Great Britain</td>\n",
       "      <td>GBR</td>\n",
       "      <td>1948 Summer</td>\n",
       "      <td>1948</td>\n",
       "      <td>Summer</td>\n",
       "      <td>London</td>\n",
       "      <td>Art Competitions</td>\n",
       "      <td>Art Competitions Mixed Sculpturing, Medals And...</td>\n",
       "      <td>NaN</td>\n",
       "    </tr>\n",
       "  </tbody>\n",
       "</table>\n",
       "<p>270 rows × 15 columns</p>\n",
       "</div>"
      ],
      "text/plain": [
       "            ID                      Name Sex   Age  Height  Weight  \\\n",
       "2392      1337              Olof Ahlberg   M  71.0     NaN     NaN   \n",
       "7433      4160        Robert Day Andrews   M  75.0     NaN     NaN   \n",
       "9369      5146     George Denholm Armour   M  68.0     NaN     NaN   \n",
       "9370      5146     George Denholm Armour   M  68.0     NaN     NaN   \n",
       "9371      5146     George Denholm Armour   M  84.0     NaN     NaN   \n",
       "...        ...                       ...  ..   ...     ...     ...   \n",
       "257054  128719    John Quincy Adams Ward   M  97.0     NaN     NaN   \n",
       "260790  130487       Norman L. Wilkinson   M  69.0     NaN     NaN   \n",
       "260791  130487       Norman L. Wilkinson   M  69.0     NaN     NaN   \n",
       "260792  130487       Norman L. Wilkinson   M  69.0     NaN     NaN   \n",
       "260799  130491  Thomas William Wilkinson   M  72.0     NaN     NaN   \n",
       "\n",
       "                 Team  NOC        Games  Year  Season         City  \\\n",
       "2392           Sweden  SWE  1948 Summer  1948  Summer       London   \n",
       "7433    United States  USA  1932 Summer  1932  Summer  Los Angeles   \n",
       "9369    Great Britain  GBR  1932 Summer  1932  Summer  Los Angeles   \n",
       "9370    Great Britain  GBR  1932 Summer  1932  Summer  Los Angeles   \n",
       "9371    Great Britain  GBR  1948 Summer  1948  Summer       London   \n",
       "...               ...  ...          ...   ...     ...          ...   \n",
       "257054  United States  USA  1928 Summer  1928  Summer    Amsterdam   \n",
       "260790  Great Britain  GBR  1948 Summer  1948  Summer       London   \n",
       "260791  Great Britain  GBR  1948 Summer  1948  Summer       London   \n",
       "260792  Great Britain  GBR  1948 Summer  1948  Summer       London   \n",
       "260799  Great Britain  GBR  1948 Summer  1948  Summer       London   \n",
       "\n",
       "                   Sport                                              Event  \\\n",
       "2392    Art Competitions     Art Competitions Mixed Painting, Unknown Event   \n",
       "7433    Art Competitions  Art Competitions Mixed Architecture, Unknown E...   \n",
       "9369    Art Competitions     Art Competitions Mixed Painting, Unknown Event   \n",
       "9370    Art Competitions     Art Competitions Mixed Painting, Unknown Event   \n",
       "9371    Art Competitions     Art Competitions Mixed Painting, Unknown Event   \n",
       "...                  ...                                                ...   \n",
       "257054  Art Competitions        Art Competitions Mixed Sculpturing, Statues   \n",
       "260790  Art Competitions     Art Competitions Mixed Painting, Unknown Event   \n",
       "260791  Art Competitions     Art Competitions Mixed Painting, Unknown Event   \n",
       "260792  Art Competitions     Art Competitions Mixed Painting, Unknown Event   \n",
       "260799  Art Competitions  Art Competitions Mixed Sculpturing, Medals And...   \n",
       "\n",
       "       Medal  \n",
       "2392     NaN  \n",
       "7433     NaN  \n",
       "9369     NaN  \n",
       "9370     NaN  \n",
       "9371     NaN  \n",
       "...      ...  \n",
       "257054   NaN  \n",
       "260790   NaN  \n",
       "260791   NaN  \n",
       "260792   NaN  \n",
       "260799   NaN  \n",
       "\n",
       "[270 rows x 15 columns]"
      ]
     },
     "execution_count": 8,
     "metadata": {},
     "output_type": "execute_result"
    }
   ],
   "source": [
    "pandas_df[pandas_df['Age'] > 65]"
   ]
  },
  {
   "cell_type": "code",
   "execution_count": 9,
   "metadata": {},
   "outputs": [
    {
     "data": {
      "text/html": [
       "<div><style>\n",
       ".dataframe > thead > tr,\n",
       ".dataframe > tbody > tr {\n",
       "  text-align: right;\n",
       "  white-space: pre-wrap;\n",
       "}\n",
       "</style>\n",
       "<small>shape: (270, 15)</small><table border=\"1\" class=\"dataframe\"><thead><tr><th>ID</th><th>Name</th><th>Sex</th><th>Age</th><th>Height</th><th>Weight</th><th>Team</th><th>NOC</th><th>Games</th><th>Year</th><th>Season</th><th>City</th><th>Sport</th><th>Event</th><th>Medal</th></tr><tr><td>i64</td><td>str</td><td>str</td><td>i64</td><td>i64</td><td>f64</td><td>str</td><td>str</td><td>str</td><td>i64</td><td>str</td><td>str</td><td>str</td><td>str</td><td>str</td></tr></thead><tbody><tr><td>1337</td><td>&quot;Olof&nbsp;Ahlberg&quot;</td><td>&quot;M&quot;</td><td>71</td><td>null</td><td>null</td><td>&quot;Sweden&quot;</td><td>&quot;SWE&quot;</td><td>&quot;1948&nbsp;Summer&quot;</td><td>1948</td><td>&quot;Summer&quot;</td><td>&quot;London&quot;</td><td>&quot;Art&nbsp;Competitions&quot;</td><td>&quot;Art&nbsp;Competitions&nbsp;Mixed&nbsp;Paintin…</td><td>null</td></tr><tr><td>4160</td><td>&quot;Robert&nbsp;Day&nbsp;Andrews&quot;</td><td>&quot;M&quot;</td><td>75</td><td>null</td><td>null</td><td>&quot;United&nbsp;States&quot;</td><td>&quot;USA&quot;</td><td>&quot;1932&nbsp;Summer&quot;</td><td>1932</td><td>&quot;Summer&quot;</td><td>&quot;Los&nbsp;Angeles&quot;</td><td>&quot;Art&nbsp;Competitions&quot;</td><td>&quot;Art&nbsp;Competitions&nbsp;Mixed&nbsp;Archite…</td><td>null</td></tr><tr><td>5146</td><td>&quot;George&nbsp;Denholm&nbsp;Armour&quot;</td><td>&quot;M&quot;</td><td>68</td><td>null</td><td>null</td><td>&quot;Great&nbsp;Britain&quot;</td><td>&quot;GBR&quot;</td><td>&quot;1932&nbsp;Summer&quot;</td><td>1932</td><td>&quot;Summer&quot;</td><td>&quot;Los&nbsp;Angeles&quot;</td><td>&quot;Art&nbsp;Competitions&quot;</td><td>&quot;Art&nbsp;Competitions&nbsp;Mixed&nbsp;Paintin…</td><td>null</td></tr><tr><td>5146</td><td>&quot;George&nbsp;Denholm&nbsp;Armour&quot;</td><td>&quot;M&quot;</td><td>68</td><td>null</td><td>null</td><td>&quot;Great&nbsp;Britain&quot;</td><td>&quot;GBR&quot;</td><td>&quot;1932&nbsp;Summer&quot;</td><td>1932</td><td>&quot;Summer&quot;</td><td>&quot;Los&nbsp;Angeles&quot;</td><td>&quot;Art&nbsp;Competitions&quot;</td><td>&quot;Art&nbsp;Competitions&nbsp;Mixed&nbsp;Paintin…</td><td>null</td></tr><tr><td>5146</td><td>&quot;George&nbsp;Denholm&nbsp;Armour&quot;</td><td>&quot;M&quot;</td><td>84</td><td>null</td><td>null</td><td>&quot;Great&nbsp;Britain&quot;</td><td>&quot;GBR&quot;</td><td>&quot;1948&nbsp;Summer&quot;</td><td>1948</td><td>&quot;Summer&quot;</td><td>&quot;London&quot;</td><td>&quot;Art&nbsp;Competitions&quot;</td><td>&quot;Art&nbsp;Competitions&nbsp;Mixed&nbsp;Paintin…</td><td>null</td></tr><tr><td>&hellip;</td><td>&hellip;</td><td>&hellip;</td><td>&hellip;</td><td>&hellip;</td><td>&hellip;</td><td>&hellip;</td><td>&hellip;</td><td>&hellip;</td><td>&hellip;</td><td>&hellip;</td><td>&hellip;</td><td>&hellip;</td><td>&hellip;</td><td>&hellip;</td></tr><tr><td>128719</td><td>&quot;John&nbsp;Quincy&nbsp;Adams&nbsp;Ward&quot;</td><td>&quot;M&quot;</td><td>97</td><td>null</td><td>null</td><td>&quot;United&nbsp;States&quot;</td><td>&quot;USA&quot;</td><td>&quot;1928&nbsp;Summer&quot;</td><td>1928</td><td>&quot;Summer&quot;</td><td>&quot;Amsterdam&quot;</td><td>&quot;Art&nbsp;Competitions&quot;</td><td>&quot;Art&nbsp;Competitions&nbsp;Mixed&nbsp;Sculptu…</td><td>null</td></tr><tr><td>130487</td><td>&quot;Norman&nbsp;L.&nbsp;Wilkinson&quot;</td><td>&quot;M&quot;</td><td>69</td><td>null</td><td>null</td><td>&quot;Great&nbsp;Britain&quot;</td><td>&quot;GBR&quot;</td><td>&quot;1948&nbsp;Summer&quot;</td><td>1948</td><td>&quot;Summer&quot;</td><td>&quot;London&quot;</td><td>&quot;Art&nbsp;Competitions&quot;</td><td>&quot;Art&nbsp;Competitions&nbsp;Mixed&nbsp;Paintin…</td><td>null</td></tr><tr><td>130487</td><td>&quot;Norman&nbsp;L.&nbsp;Wilkinson&quot;</td><td>&quot;M&quot;</td><td>69</td><td>null</td><td>null</td><td>&quot;Great&nbsp;Britain&quot;</td><td>&quot;GBR&quot;</td><td>&quot;1948&nbsp;Summer&quot;</td><td>1948</td><td>&quot;Summer&quot;</td><td>&quot;London&quot;</td><td>&quot;Art&nbsp;Competitions&quot;</td><td>&quot;Art&nbsp;Competitions&nbsp;Mixed&nbsp;Paintin…</td><td>null</td></tr><tr><td>130487</td><td>&quot;Norman&nbsp;L.&nbsp;Wilkinson&quot;</td><td>&quot;M&quot;</td><td>69</td><td>null</td><td>null</td><td>&quot;Great&nbsp;Britain&quot;</td><td>&quot;GBR&quot;</td><td>&quot;1948&nbsp;Summer&quot;</td><td>1948</td><td>&quot;Summer&quot;</td><td>&quot;London&quot;</td><td>&quot;Art&nbsp;Competitions&quot;</td><td>&quot;Art&nbsp;Competitions&nbsp;Mixed&nbsp;Paintin…</td><td>null</td></tr><tr><td>130491</td><td>&quot;Thomas&nbsp;William&nbsp;Wilkinson&quot;</td><td>&quot;M&quot;</td><td>72</td><td>null</td><td>null</td><td>&quot;Great&nbsp;Britain&quot;</td><td>&quot;GBR&quot;</td><td>&quot;1948&nbsp;Summer&quot;</td><td>1948</td><td>&quot;Summer&quot;</td><td>&quot;London&quot;</td><td>&quot;Art&nbsp;Competitions&quot;</td><td>&quot;Art&nbsp;Competitions&nbsp;Mixed&nbsp;Sculptu…</td><td>null</td></tr></tbody></table></div>"
      ],
      "text/plain": [
       "shape: (270, 15)\n",
       "┌────────┬─────────────────┬─────┬─────┬───┬─────────────┬────────────────┬────────────────┬───────┐\n",
       "│ ID     ┆ Name            ┆ Sex ┆ Age ┆ … ┆ City        ┆ Sport          ┆ Event          ┆ Medal │\n",
       "│ ---    ┆ ---             ┆ --- ┆ --- ┆   ┆ ---         ┆ ---            ┆ ---            ┆ ---   │\n",
       "│ i64    ┆ str             ┆ str ┆ i64 ┆   ┆ str         ┆ str            ┆ str            ┆ str   │\n",
       "╞════════╪═════════════════╪═════╪═════╪═══╪═════════════╪════════════════╪════════════════╪═══════╡\n",
       "│ 1337   ┆ Olof Ahlberg    ┆ M   ┆ 71  ┆ … ┆ London      ┆ Art            ┆ Art            ┆ null  │\n",
       "│        ┆                 ┆     ┆     ┆   ┆             ┆ Competitions   ┆ Competitions   ┆       │\n",
       "│        ┆                 ┆     ┆     ┆   ┆             ┆                ┆ Mixed Paintin… ┆       │\n",
       "│ 4160   ┆ Robert Day      ┆ M   ┆ 75  ┆ … ┆ Los Angeles ┆ Art            ┆ Art            ┆ null  │\n",
       "│        ┆ Andrews         ┆     ┆     ┆   ┆             ┆ Competitions   ┆ Competitions   ┆       │\n",
       "│        ┆                 ┆     ┆     ┆   ┆             ┆                ┆ Mixed Archite… ┆       │\n",
       "│ 5146   ┆ George Denholm  ┆ M   ┆ 68  ┆ … ┆ Los Angeles ┆ Art            ┆ Art            ┆ null  │\n",
       "│        ┆ Armour          ┆     ┆     ┆   ┆             ┆ Competitions   ┆ Competitions   ┆       │\n",
       "│        ┆                 ┆     ┆     ┆   ┆             ┆                ┆ Mixed Paintin… ┆       │\n",
       "│ 5146   ┆ George Denholm  ┆ M   ┆ 68  ┆ … ┆ Los Angeles ┆ Art            ┆ Art            ┆ null  │\n",
       "│        ┆ Armour          ┆     ┆     ┆   ┆             ┆ Competitions   ┆ Competitions   ┆       │\n",
       "│        ┆                 ┆     ┆     ┆   ┆             ┆                ┆ Mixed Paintin… ┆       │\n",
       "│ 5146   ┆ George Denholm  ┆ M   ┆ 84  ┆ … ┆ London      ┆ Art            ┆ Art            ┆ null  │\n",
       "│        ┆ Armour          ┆     ┆     ┆   ┆             ┆ Competitions   ┆ Competitions   ┆       │\n",
       "│        ┆                 ┆     ┆     ┆   ┆             ┆                ┆ Mixed Paintin… ┆       │\n",
       "│ …      ┆ …               ┆ …   ┆ …   ┆ … ┆ …           ┆ …              ┆ …              ┆ …     │\n",
       "│ 128719 ┆ John Quincy     ┆ M   ┆ 97  ┆ … ┆ Amsterdam   ┆ Art            ┆ Art            ┆ null  │\n",
       "│        ┆ Adams Ward      ┆     ┆     ┆   ┆             ┆ Competitions   ┆ Competitions   ┆       │\n",
       "│        ┆                 ┆     ┆     ┆   ┆             ┆                ┆ Mixed Sculptu… ┆       │\n",
       "│ 130487 ┆ Norman L.       ┆ M   ┆ 69  ┆ … ┆ London      ┆ Art            ┆ Art            ┆ null  │\n",
       "│        ┆ Wilkinson       ┆     ┆     ┆   ┆             ┆ Competitions   ┆ Competitions   ┆       │\n",
       "│        ┆                 ┆     ┆     ┆   ┆             ┆                ┆ Mixed Paintin… ┆       │\n",
       "│ 130487 ┆ Norman L.       ┆ M   ┆ 69  ┆ … ┆ London      ┆ Art            ┆ Art            ┆ null  │\n",
       "│        ┆ Wilkinson       ┆     ┆     ┆   ┆             ┆ Competitions   ┆ Competitions   ┆       │\n",
       "│        ┆                 ┆     ┆     ┆   ┆             ┆                ┆ Mixed Paintin… ┆       │\n",
       "│ 130487 ┆ Norman L.       ┆ M   ┆ 69  ┆ … ┆ London      ┆ Art            ┆ Art            ┆ null  │\n",
       "│        ┆ Wilkinson       ┆     ┆     ┆   ┆             ┆ Competitions   ┆ Competitions   ┆       │\n",
       "│        ┆                 ┆     ┆     ┆   ┆             ┆                ┆ Mixed Paintin… ┆       │\n",
       "│ 130491 ┆ Thomas William  ┆ M   ┆ 72  ┆ … ┆ London      ┆ Art            ┆ Art            ┆ null  │\n",
       "│        ┆ Wilkinson       ┆     ┆     ┆   ┆             ┆ Competitions   ┆ Competitions   ┆       │\n",
       "│        ┆                 ┆     ┆     ┆   ┆             ┆                ┆ Mixed Sculptu… ┆       │\n",
       "└────────┴─────────────────┴─────┴─────┴───┴─────────────┴────────────────┴────────────────┴───────┘"
      ]
     },
     "execution_count": 9,
     "metadata": {},
     "output_type": "execute_result"
    }
   ],
   "source": [
    "polars_df.filter(pl.col(\"Age\") > 65)"
   ]
  },
  {
   "cell_type": "code",
   "execution_count": 10,
   "metadata": {},
   "outputs": [
    {
     "data": {
      "text/plain": [
       "NOC\n",
       "AFG    23.538462\n",
       "AHO    26.589744\n",
       "ALB    25.342857\n",
       "ALG    24.370642\n",
       "AND    23.065089\n",
       "         ...    \n",
       "YEM    21.093750\n",
       "YMD    23.600000\n",
       "YUG    24.745721\n",
       "ZAM    23.461039\n",
       "ZIM    25.200647\n",
       "Name: Age, Length: 230, dtype: float64"
      ]
     },
     "execution_count": 10,
     "metadata": {},
     "output_type": "execute_result"
    }
   ],
   "source": [
    "pandas_df.groupby('NOC')['Age'].mean()"
   ]
  },
  {
   "cell_type": "code",
   "execution_count": 11,
   "metadata": {},
   "outputs": [
    {
     "data": {
      "text/html": [
       "<div><style>\n",
       ".dataframe > thead > tr,\n",
       ".dataframe > tbody > tr {\n",
       "  text-align: right;\n",
       "  white-space: pre-wrap;\n",
       "}\n",
       "</style>\n",
       "<small>shape: (230, 2)</small><table border=\"1\" class=\"dataframe\"><thead><tr><th>NOC</th><th>Age</th></tr><tr><td>str</td><td>f64</td></tr></thead><tbody><tr><td>&quot;SAA&quot;</td><td>25.064516</td></tr><tr><td>&quot;MAD&quot;</td><td>23.720339</td></tr><tr><td>&quot;KIR&quot;</td><td>21.636364</td></tr><tr><td>&quot;MAR&quot;</td><td>25.571429</td></tr><tr><td>&quot;LBA&quot;</td><td>23.5</td></tr><tr><td>&hellip;</td><td>&hellip;</td></tr><tr><td>&quot;LAT&quot;</td><td>26.659091</td></tr><tr><td>&quot;RSA&quot;</td><td>25.561275</td></tr><tr><td>&quot;SEY&quot;</td><td>22.648649</td></tr><tr><td>&quot;FRG&quot;</td><td>24.440121</td></tr><tr><td>&quot;VIE&quot;</td><td>24.162338</td></tr></tbody></table></div>"
      ],
      "text/plain": [
       "shape: (230, 2)\n",
       "┌─────┬───────────┐\n",
       "│ NOC ┆ Age       │\n",
       "│ --- ┆ ---       │\n",
       "│ str ┆ f64       │\n",
       "╞═════╪═══════════╡\n",
       "│ SAA ┆ 25.064516 │\n",
       "│ MAD ┆ 23.720339 │\n",
       "│ KIR ┆ 21.636364 │\n",
       "│ MAR ┆ 25.571429 │\n",
       "│ LBA ┆ 23.5      │\n",
       "│ …   ┆ …         │\n",
       "│ LAT ┆ 26.659091 │\n",
       "│ RSA ┆ 25.561275 │\n",
       "│ SEY ┆ 22.648649 │\n",
       "│ FRG ┆ 24.440121 │\n",
       "│ VIE ┆ 24.162338 │\n",
       "└─────┴───────────┘"
      ]
     },
     "execution_count": 11,
     "metadata": {},
     "output_type": "execute_result"
    }
   ],
   "source": [
    "polars_df.group_by('NOC').agg(pl.col(\"Age\").mean())"
   ]
  },
  {
   "cell_type": "code",
   "execution_count": 12,
   "metadata": {},
   "outputs": [
    {
     "data": {
      "text/html": [
       "<div><style>\n",
       ".dataframe > thead > tr,\n",
       ".dataframe > tbody > tr {\n",
       "  text-align: right;\n",
       "  white-space: pre-wrap;\n",
       "}\n",
       "</style>\n",
       "<small>shape: (271_116, 15)</small><table border=\"1\" class=\"dataframe\"><thead><tr><th>ID</th><th>Name</th><th>Sex</th><th>Age</th><th>Height</th><th>Weight</th><th>Team</th><th>NOC</th><th>Games</th><th>Year</th><th>Season</th><th>City</th><th>Sport</th><th>Event</th><th>Medal</th></tr><tr><td>i64</td><td>str</td><td>str</td><td>i64</td><td>i64</td><td>f64</td><td>str</td><td>str</td><td>str</td><td>i64</td><td>str</td><td>str</td><td>str</td><td>str</td><td>str</td></tr></thead><tbody><tr><td>1</td><td>&quot;A&nbsp;Dijiang&quot;</td><td>&quot;M&quot;</td><td>24</td><td>180</td><td>80.0</td><td>&quot;China&quot;</td><td>&quot;CHN&quot;</td><td>&quot;1992&nbsp;Summer&quot;</td><td>1992</td><td>&quot;Summer&quot;</td><td>&quot;Barcelona&quot;</td><td>&quot;Basketball&quot;</td><td>&quot;Basketball&nbsp;Men&#x27;s&nbsp;Basketball&quot;</td><td>null</td></tr><tr><td>2</td><td>&quot;A&nbsp;Lamusi&quot;</td><td>&quot;M&quot;</td><td>23</td><td>170</td><td>60.0</td><td>&quot;China&quot;</td><td>&quot;CHN&quot;</td><td>&quot;2012&nbsp;Summer&quot;</td><td>2012</td><td>&quot;Summer&quot;</td><td>&quot;London&quot;</td><td>&quot;Judo&quot;</td><td>&quot;Judo&nbsp;Men&#x27;s&nbsp;Extra-Lightweight&quot;</td><td>null</td></tr><tr><td>3</td><td>&quot;Gunnar&nbsp;Nielsen&nbsp;Aaby&quot;</td><td>&quot;M&quot;</td><td>24</td><td>0</td><td>0.0</td><td>&quot;Denmark&quot;</td><td>&quot;DEN&quot;</td><td>&quot;1920&nbsp;Summer&quot;</td><td>1920</td><td>&quot;Summer&quot;</td><td>&quot;Antwerpen&quot;</td><td>&quot;Football&quot;</td><td>&quot;Football&nbsp;Men&#x27;s&nbsp;Football&quot;</td><td>null</td></tr><tr><td>4</td><td>&quot;Edgar&nbsp;Lindenau&nbsp;Aabye&quot;</td><td>&quot;M&quot;</td><td>34</td><td>0</td><td>0.0</td><td>&quot;Denmark/Sweden&quot;</td><td>&quot;DEN&quot;</td><td>&quot;1900&nbsp;Summer&quot;</td><td>1900</td><td>&quot;Summer&quot;</td><td>&quot;Paris&quot;</td><td>&quot;Tug-Of-War&quot;</td><td>&quot;Tug-Of-War&nbsp;Men&#x27;s&nbsp;Tug-Of-War&quot;</td><td>&quot;Gold&quot;</td></tr><tr><td>5</td><td>&quot;Christine&nbsp;Jacoba&nbsp;Aaftink&quot;</td><td>&quot;F&quot;</td><td>21</td><td>185</td><td>82.0</td><td>&quot;Netherlands&quot;</td><td>&quot;NED&quot;</td><td>&quot;1988&nbsp;Winter&quot;</td><td>1988</td><td>&quot;Winter&quot;</td><td>&quot;Calgary&quot;</td><td>&quot;Speed&nbsp;Skating&quot;</td><td>&quot;Speed&nbsp;Skating&nbsp;Women&#x27;s&nbsp;500&nbsp;metr…</td><td>null</td></tr><tr><td>&hellip;</td><td>&hellip;</td><td>&hellip;</td><td>&hellip;</td><td>&hellip;</td><td>&hellip;</td><td>&hellip;</td><td>&hellip;</td><td>&hellip;</td><td>&hellip;</td><td>&hellip;</td><td>&hellip;</td><td>&hellip;</td><td>&hellip;</td><td>&hellip;</td></tr><tr><td>135569</td><td>&quot;Andrzej&nbsp;ya&quot;</td><td>&quot;M&quot;</td><td>29</td><td>179</td><td>89.0</td><td>&quot;Poland-1&quot;</td><td>&quot;POL&quot;</td><td>&quot;1976&nbsp;Winter&quot;</td><td>1976</td><td>&quot;Winter&quot;</td><td>&quot;Innsbruck&quot;</td><td>&quot;Luge&quot;</td><td>&quot;Luge&nbsp;Mixed&nbsp;(Men)&#x27;s&nbsp;Doubles&quot;</td><td>null</td></tr><tr><td>135570</td><td>&quot;Piotr&nbsp;ya&quot;</td><td>&quot;M&quot;</td><td>27</td><td>176</td><td>59.0</td><td>&quot;Poland&quot;</td><td>&quot;POL&quot;</td><td>&quot;2014&nbsp;Winter&quot;</td><td>2014</td><td>&quot;Winter&quot;</td><td>&quot;Sochi&quot;</td><td>&quot;Ski&nbsp;Jumping&quot;</td><td>&quot;Ski&nbsp;Jumping&nbsp;Men&#x27;s&nbsp;Large&nbsp;Hill,&nbsp;…</td><td>null</td></tr><tr><td>135570</td><td>&quot;Piotr&nbsp;ya&quot;</td><td>&quot;M&quot;</td><td>27</td><td>176</td><td>59.0</td><td>&quot;Poland&quot;</td><td>&quot;POL&quot;</td><td>&quot;2014&nbsp;Winter&quot;</td><td>2014</td><td>&quot;Winter&quot;</td><td>&quot;Sochi&quot;</td><td>&quot;Ski&nbsp;Jumping&quot;</td><td>&quot;Ski&nbsp;Jumping&nbsp;Men&#x27;s&nbsp;Large&nbsp;Hill,&nbsp;…</td><td>null</td></tr><tr><td>135571</td><td>&quot;Tomasz&nbsp;Ireneusz&nbsp;ya&quot;</td><td>&quot;M&quot;</td><td>30</td><td>185</td><td>96.0</td><td>&quot;Poland&quot;</td><td>&quot;POL&quot;</td><td>&quot;1998&nbsp;Winter&quot;</td><td>1998</td><td>&quot;Winter&quot;</td><td>&quot;Nagano&quot;</td><td>&quot;Bobsleigh&quot;</td><td>&quot;Bobsleigh&nbsp;Men&#x27;s&nbsp;Four&quot;</td><td>null</td></tr><tr><td>135571</td><td>&quot;Tomasz&nbsp;Ireneusz&nbsp;ya&quot;</td><td>&quot;M&quot;</td><td>34</td><td>185</td><td>96.0</td><td>&quot;Poland&quot;</td><td>&quot;POL&quot;</td><td>&quot;2002&nbsp;Winter&quot;</td><td>2002</td><td>&quot;Winter&quot;</td><td>&quot;Salt&nbsp;Lake&nbsp;City&quot;</td><td>&quot;Bobsleigh&quot;</td><td>&quot;Bobsleigh&nbsp;Men&#x27;s&nbsp;Four&quot;</td><td>null</td></tr></tbody></table></div>"
      ],
      "text/plain": [
       "shape: (271_116, 15)\n",
       "┌────────┬──────────────────┬─────┬─────┬───┬───────────┬───────────────┬──────────────────┬───────┐\n",
       "│ ID     ┆ Name             ┆ Sex ┆ Age ┆ … ┆ City      ┆ Sport         ┆ Event            ┆ Medal │\n",
       "│ ---    ┆ ---              ┆ --- ┆ --- ┆   ┆ ---       ┆ ---           ┆ ---              ┆ ---   │\n",
       "│ i64    ┆ str              ┆ str ┆ i64 ┆   ┆ str       ┆ str           ┆ str              ┆ str   │\n",
       "╞════════╪══════════════════╪═════╪═════╪═══╪═══════════╪═══════════════╪══════════════════╪═══════╡\n",
       "│ 1      ┆ A Dijiang        ┆ M   ┆ 24  ┆ … ┆ Barcelona ┆ Basketball    ┆ Basketball Men's ┆ null  │\n",
       "│        ┆                  ┆     ┆     ┆   ┆           ┆               ┆ Basketball       ┆       │\n",
       "│ 2      ┆ A Lamusi         ┆ M   ┆ 23  ┆ … ┆ London    ┆ Judo          ┆ Judo Men's Extra ┆ null  │\n",
       "│        ┆                  ┆     ┆     ┆   ┆           ┆               ┆ -Lightweight     ┆       │\n",
       "│ 3      ┆ Gunnar Nielsen   ┆ M   ┆ 24  ┆ … ┆ Antwerpen ┆ Football      ┆ Football Men's   ┆ null  │\n",
       "│        ┆ Aaby             ┆     ┆     ┆   ┆           ┆               ┆ Football         ┆       │\n",
       "│ 4      ┆ Edgar Lindenau   ┆ M   ┆ 34  ┆ … ┆ Paris     ┆ Tug-Of-War    ┆ Tug-Of-War Men's ┆ Gold  │\n",
       "│        ┆ Aabye            ┆     ┆     ┆   ┆           ┆               ┆ Tug-Of-War       ┆       │\n",
       "│ 5      ┆ Christine Jacoba ┆ F   ┆ 21  ┆ … ┆ Calgary   ┆ Speed Skating ┆ Speed Skating    ┆ null  │\n",
       "│        ┆ Aaftink          ┆     ┆     ┆   ┆           ┆               ┆ Women's 500      ┆       │\n",
       "│        ┆                  ┆     ┆     ┆   ┆           ┆               ┆ metr…            ┆       │\n",
       "│ …      ┆ …                ┆ …   ┆ …   ┆ … ┆ …         ┆ …             ┆ …                ┆ …     │\n",
       "│ 135569 ┆ Andrzej ya       ┆ M   ┆ 29  ┆ … ┆ Innsbruck ┆ Luge          ┆ Luge Mixed       ┆ null  │\n",
       "│        ┆                  ┆     ┆     ┆   ┆           ┆               ┆ (Men)'s Doubles  ┆       │\n",
       "│ 135570 ┆ Piotr ya         ┆ M   ┆ 27  ┆ … ┆ Sochi     ┆ Ski Jumping   ┆ Ski Jumping      ┆ null  │\n",
       "│        ┆                  ┆     ┆     ┆   ┆           ┆               ┆ Men's Large      ┆       │\n",
       "│        ┆                  ┆     ┆     ┆   ┆           ┆               ┆ Hill, …          ┆       │\n",
       "│ 135570 ┆ Piotr ya         ┆ M   ┆ 27  ┆ … ┆ Sochi     ┆ Ski Jumping   ┆ Ski Jumping      ┆ null  │\n",
       "│        ┆                  ┆     ┆     ┆   ┆           ┆               ┆ Men's Large      ┆       │\n",
       "│        ┆                  ┆     ┆     ┆   ┆           ┆               ┆ Hill, …          ┆       │\n",
       "│ 135571 ┆ Tomasz Ireneusz  ┆ M   ┆ 30  ┆ … ┆ Nagano    ┆ Bobsleigh     ┆ Bobsleigh Men's  ┆ null  │\n",
       "│        ┆ ya               ┆     ┆     ┆   ┆           ┆               ┆ Four             ┆       │\n",
       "│ 135571 ┆ Tomasz Ireneusz  ┆ M   ┆ 34  ┆ … ┆ Salt Lake ┆ Bobsleigh     ┆ Bobsleigh Men's  ┆ null  │\n",
       "│        ┆ ya               ┆     ┆     ┆   ┆ City      ┆               ┆ Four             ┆       │\n",
       "└────────┴──────────────────┴─────┴─────┴───┴───────────┴───────────────┴──────────────────┴───────┘"
      ]
     },
     "execution_count": 12,
     "metadata": {},
     "output_type": "execute_result"
    }
   ],
   "source": [
    "pandas_df.fillna(0)\n",
    "polars_df.fill_null(0)"
   ]
  },
  {
   "cell_type": "code",
   "execution_count": 13,
   "metadata": {},
   "outputs": [
    {
     "data": {
      "text/html": [
       "<div><style>\n",
       ".dataframe > thead > tr,\n",
       ".dataframe > tbody > tr {\n",
       "  text-align: right;\n",
       "  white-space: pre-wrap;\n",
       "}\n",
       "</style>\n",
       "<small>shape: (271_116,)</small><table border=\"1\" class=\"dataframe\"><thead><tr><th>Age</th></tr><tr><td>i64</td></tr></thead><tbody><tr><td>24</td></tr><tr><td>23</td></tr><tr><td>24</td></tr><tr><td>34</td></tr><tr><td>21</td></tr><tr><td>&hellip;</td></tr><tr><td>29</td></tr><tr><td>27</td></tr><tr><td>27</td></tr><tr><td>30</td></tr><tr><td>34</td></tr></tbody></table></div>"
      ],
      "text/plain": [
       "shape: (271_116,)\n",
       "Series: 'Age' [i64]\n",
       "[\n",
       "\t24\n",
       "\t23\n",
       "\t24\n",
       "\t34\n",
       "\t21\n",
       "\t…\n",
       "\t29\n",
       "\t27\n",
       "\t27\n",
       "\t30\n",
       "\t34\n",
       "]"
      ]
     },
     "execution_count": 13,
     "metadata": {},
     "output_type": "execute_result"
    }
   ],
   "source": [
    "polars_df[\"Age\"]"
   ]
  },
  {
   "cell_type": "code",
   "execution_count": 14,
   "metadata": {},
   "outputs": [
    {
     "data": {
      "text/html": [
       "<div><style>\n",
       ".dataframe > thead > tr,\n",
       ".dataframe > tbody > tr {\n",
       "  text-align: right;\n",
       "  white-space: pre-wrap;\n",
       "}\n",
       "</style>\n",
       "<small>shape: (271_116, 1)</small><table border=\"1\" class=\"dataframe\"><thead><tr><th>Age</th></tr><tr><td>i64</td></tr></thead><tbody><tr><td>24</td></tr><tr><td>23</td></tr><tr><td>24</td></tr><tr><td>34</td></tr><tr><td>21</td></tr><tr><td>&hellip;</td></tr><tr><td>29</td></tr><tr><td>27</td></tr><tr><td>27</td></tr><tr><td>30</td></tr><tr><td>34</td></tr></tbody></table></div>"
      ],
      "text/plain": [
       "shape: (271_116, 1)\n",
       "┌─────┐\n",
       "│ Age │\n",
       "│ --- │\n",
       "│ i64 │\n",
       "╞═════╡\n",
       "│ 24  │\n",
       "│ 23  │\n",
       "│ 24  │\n",
       "│ 34  │\n",
       "│ 21  │\n",
       "│ …   │\n",
       "│ 29  │\n",
       "│ 27  │\n",
       "│ 27  │\n",
       "│ 30  │\n",
       "│ 34  │\n",
       "└─────┘"
      ]
     },
     "execution_count": 14,
     "metadata": {},
     "output_type": "execute_result"
    }
   ],
   "source": [
    "polars_df.select(pl.col(\"Age\"))"
   ]
  },
  {
   "cell_type": "code",
   "execution_count": 15,
   "metadata": {},
   "outputs": [
    {
     "data": {
      "text/html": [
       "<div><style>\n",
       ".dataframe > thead > tr,\n",
       ".dataframe > tbody > tr {\n",
       "  text-align: right;\n",
       "  white-space: pre-wrap;\n",
       "}\n",
       "</style>\n",
       "<small>shape: (271_116, 1)</small><table border=\"1\" class=\"dataframe\"><thead><tr><th>BMI</th></tr><tr><td>f64</td></tr></thead><tbody><tr><td>24.691358</td></tr><tr><td>20.761246</td></tr><tr><td>null</td></tr><tr><td>null</td></tr><tr><td>23.959094</td></tr><tr><td>&hellip;</td></tr><tr><td>27.776911</td></tr><tr><td>19.047004</td></tr><tr><td>19.047004</td></tr><tr><td>28.049671</td></tr><tr><td>28.049671</td></tr></tbody></table></div>"
      ],
      "text/plain": [
       "shape: (271_116, 1)\n",
       "┌───────────┐\n",
       "│ BMI       │\n",
       "│ ---       │\n",
       "│ f64       │\n",
       "╞═══════════╡\n",
       "│ 24.691358 │\n",
       "│ 20.761246 │\n",
       "│ null      │\n",
       "│ null      │\n",
       "│ 23.959094 │\n",
       "│ …         │\n",
       "│ 27.776911 │\n",
       "│ 19.047004 │\n",
       "│ 19.047004 │\n",
       "│ 28.049671 │\n",
       "│ 28.049671 │\n",
       "└───────────┘"
      ]
     },
     "execution_count": 15,
     "metadata": {},
     "output_type": "execute_result"
    }
   ],
   "source": [
    "polars_df.select((pl.col(\"Weight\") / (pl.col(\"Height\")/100) ** 2).alias(\"BMI\"))"
   ]
  },
  {
   "cell_type": "code",
   "execution_count": 16,
   "metadata": {},
   "outputs": [
    {
     "name": "stdout",
     "output_type": "stream",
     "text": [
      "shape: (271_116, 16)\n",
      "┌────────┬──────────────────┬─────┬─────┬───┬───────────────┬──────────────────┬───────┬───────────┐\n",
      "│ ID     ┆ Name             ┆ Sex ┆ Age ┆ … ┆ Sport         ┆ Event            ┆ Medal ┆ BMI       │\n",
      "│ ---    ┆ ---              ┆ --- ┆ --- ┆   ┆ ---           ┆ ---              ┆ ---   ┆ ---       │\n",
      "│ i64    ┆ str              ┆ str ┆ i64 ┆   ┆ str           ┆ str              ┆ str   ┆ f64       │\n",
      "╞════════╪══════════════════╪═════╪═════╪═══╪═══════════════╪══════════════════╪═══════╪═══════════╡\n",
      "│ 1      ┆ A Dijiang        ┆ M   ┆ 24  ┆ … ┆ Basketball    ┆ Basketball Men's ┆ null  ┆ 24.691358 │\n",
      "│        ┆                  ┆     ┆     ┆   ┆               ┆ Basketball       ┆       ┆           │\n",
      "│ 2      ┆ A Lamusi         ┆ M   ┆ 23  ┆ … ┆ Judo          ┆ Judo Men's Extra ┆ null  ┆ 20.761246 │\n",
      "│        ┆                  ┆     ┆     ┆   ┆               ┆ -Lightweight     ┆       ┆           │\n",
      "│ 3      ┆ Gunnar Nielsen   ┆ M   ┆ 24  ┆ … ┆ Football      ┆ Football Men's   ┆ null  ┆ null      │\n",
      "│        ┆ Aaby             ┆     ┆     ┆   ┆               ┆ Football         ┆       ┆           │\n",
      "│ 4      ┆ Edgar Lindenau   ┆ M   ┆ 34  ┆ … ┆ Tug-Of-War    ┆ Tug-Of-War Men's ┆ Gold  ┆ null      │\n",
      "│        ┆ Aabye            ┆     ┆     ┆   ┆               ┆ Tug-Of-War       ┆       ┆           │\n",
      "│ 5      ┆ Christine Jacoba ┆ F   ┆ 21  ┆ … ┆ Speed Skating ┆ Speed Skating    ┆ null  ┆ 23.959094 │\n",
      "│        ┆ Aaftink          ┆     ┆     ┆   ┆               ┆ Women's 500      ┆       ┆           │\n",
      "│        ┆                  ┆     ┆     ┆   ┆               ┆ metr…            ┆       ┆           │\n",
      "│ …      ┆ …                ┆ …   ┆ …   ┆ … ┆ …             ┆ …                ┆ …     ┆ …         │\n",
      "│ 135569 ┆ Andrzej ya       ┆ M   ┆ 29  ┆ … ┆ Luge          ┆ Luge Mixed       ┆ null  ┆ 27.776911 │\n",
      "│        ┆                  ┆     ┆     ┆   ┆               ┆ (Men)'s Doubles  ┆       ┆           │\n",
      "│ 135570 ┆ Piotr ya         ┆ M   ┆ 27  ┆ … ┆ Ski Jumping   ┆ Ski Jumping      ┆ null  ┆ 19.047004 │\n",
      "│        ┆                  ┆     ┆     ┆   ┆               ┆ Men's Large      ┆       ┆           │\n",
      "│        ┆                  ┆     ┆     ┆   ┆               ┆ Hill, …          ┆       ┆           │\n",
      "│ 135570 ┆ Piotr ya         ┆ M   ┆ 27  ┆ … ┆ Ski Jumping   ┆ Ski Jumping      ┆ null  ┆ 19.047004 │\n",
      "│        ┆                  ┆     ┆     ┆   ┆               ┆ Men's Large      ┆       ┆           │\n",
      "│        ┆                  ┆     ┆     ┆   ┆               ┆ Hill, …          ┆       ┆           │\n",
      "│ 135571 ┆ Tomasz Ireneusz  ┆ M   ┆ 30  ┆ … ┆ Bobsleigh     ┆ Bobsleigh Men's  ┆ null  ┆ 28.049671 │\n",
      "│        ┆ ya               ┆     ┆     ┆   ┆               ┆ Four             ┆       ┆           │\n",
      "│ 135571 ┆ Tomasz Ireneusz  ┆ M   ┆ 34  ┆ … ┆ Bobsleigh     ┆ Bobsleigh Men's  ┆ null  ┆ 28.049671 │\n",
      "│        ┆ ya               ┆     ┆     ┆   ┆               ┆ Four             ┆       ┆           │\n",
      "└────────┴──────────────────┴─────┴─────┴───┴───────────────┴──────────────────┴───────┴───────────┘\n"
     ]
    }
   ],
   "source": [
    "result = polars_df.with_columns(\n",
    "    BMI=pl.col(\"Weight\") / ((pl.col(\"Height\")/100) ** 2),\n",
    ")\n",
    "print(result)"
   ]
  },
  {
   "cell_type": "markdown",
   "metadata": {},
   "source": [
    "### Challenge:\n",
    "Compare the mean ages for athletes who competed before 1950 and athletes who competed in 1950 or later.  Don't worry about athletes that competed both before and after 1950 -- you can count them for each category."
   ]
  },
  {
   "cell_type": "code",
   "execution_count": 22,
   "metadata": {},
   "outputs": [
    {
     "data": {
      "text/html": [
       "<div><style>\n",
       ".dataframe > thead > tr,\n",
       ".dataframe > tbody > tr {\n",
       "  text-align: right;\n",
       "  white-space: pre-wrap;\n",
       "}\n",
       "</style>\n",
       "<small>shape: (2, 2)</small><table border=\"1\" class=\"dataframe\"><thead><tr><th>group</th><th>Age</th></tr><tr><td>str</td><td>f64</td></tr></thead><tbody><tr><td>&quot;after_1950&quot;</td><td>25.040514</td></tr><tr><td>&quot;before_1950&quot;</td><td>28.521954</td></tr></tbody></table></div>"
      ],
      "text/plain": [
       "shape: (2, 2)\n",
       "┌─────────────┬───────────┐\n",
       "│ group       ┆ Age       │\n",
       "│ ---         ┆ ---       │\n",
       "│ str         ┆ f64       │\n",
       "╞═════════════╪═══════════╡\n",
       "│ after_1950  ┆ 25.040514 │\n",
       "│ before_1950 ┆ 28.521954 │\n",
       "└─────────────┴───────────┘"
      ]
     },
     "execution_count": 22,
     "metadata": {},
     "output_type": "execute_result"
    }
   ],
   "source": [
    "# Calculate the mean ages who competed before 1950 and after 1950\n",
    "result = polars_df.with_columns(\n",
    "    pl.when(pl.col(\"Year\") < 1950).then(pl.lit(\"before_1950\")).otherwise(pl.lit(\"after_1950\")).alias(\"group\")\n",
    ")\n",
    "\n",
    "result = result.group_by(\"group\").agg(pl.col(\"Age\").mean())\n",
    "result"
   ]
  },
  {
   "cell_type": "markdown",
   "metadata": {},
   "source": [
    "### Challenge:\n",
    "Use `%%timeit` as the first line in a cell to generate estimates for how long that cell takes to run.  See if you can compare the times for code that uses `pandas` with times for code that uses `polars`.  Is `polars` faster?\n",
    "\n",
    "We have completed the next cell for you using a pandas example:"
   ]
  },
  {
   "cell_type": "code",
   "execution_count": 23,
   "metadata": {},
   "outputs": [
    {
     "name": "stdout",
     "output_type": "stream",
     "text": [
      "1.16 ms ± 71.3 µs per loop (mean ± std. dev. of 7 runs, 1,000 loops each)\n"
     ]
    }
   ],
   "source": [
    "%%timeit\n",
    "pandas_df['BMI'] = pandas_df['Weight'] / (pandas_df['Height']/100) ** 2"
   ]
  },
  {
   "cell_type": "code",
   "execution_count": 25,
   "metadata": {},
   "outputs": [
    {
     "name": "stdout",
     "output_type": "stream",
     "text": [
      "1.41 ms ± 37.3 µs per loop (mean ± std. dev. of 7 runs, 1,000 loops each)\n"
     ]
    }
   ],
   "source": [
    "%%timeit\n",
    "result = polars_df.with_columns(\n",
    "    BMI=pl.col(\"Weight\") / ((pl.col(\"Height\")/100) ** 2),\n",
    ")"
   ]
  },
  {
   "cell_type": "markdown",
   "metadata": {},
   "source": [
    "## Part 2: Hands-on with polars\n",
    "\n",
    "### Challenge:\n",
    "We show code in the next cell that uses pandas DataFrames. Re-implement the code using polars DataFrames."
   ]
  },
  {
   "cell_type": "code",
   "execution_count": 26,
   "metadata": {},
   "outputs": [],
   "source": [
    "# This uses pandas -- re-implement using polars\n",
    "dfs = []\n",
    "for i in range(10):\n",
    "    df = pd.read_csv(f\"199{i}.csv\")\n",
    "    dfs.append(df)\n",
    "df = pd.concat(dfs)"
   ]
  },
  {
   "cell_type": "code",
   "execution_count": null,
   "metadata": {},
   "outputs": [],
   "source": [
    "# Use ploars to implement "
   ]
  },
  {
   "cell_type": "markdown",
   "metadata": {},
   "source": [
    "### Challenge:\n",
    "How many rows do you have in the combined dataframe?"
   ]
  },
  {
   "cell_type": "code",
   "execution_count": null,
   "metadata": {},
   "outputs": [],
   "source": [
    "# Calculate the rows in polar"
   ]
  },
  {
   "cell_type": "markdown",
   "metadata": {},
   "source": [
    "### Challenge:\n",
    "Calculate the mean departure delay for each of the three airports.  Which airport is \"best\"?"
   ]
  },
  {
   "cell_type": "markdown",
   "metadata": {},
   "source": [
    "### Challenge:\n",
    "What percentage of flights are canceled from each New York airport?"
   ]
  },
  {
   "cell_type": "markdown",
   "metadata": {},
   "source": [
    "### Challenge:\n",
    "Which New York airport has shown the most improvement in reducing delays over the time period for which we have data (i.e., 1990-1999)?"
   ]
  },
  {
   "cell_type": "markdown",
   "metadata": {},
   "source": [
    "## Challenge: Lazy API"
   ]
  },
  {
   "cell_type": "markdown",
   "metadata": {},
   "source": [
    "If you have time, take a look at the documentation on the [Lazy API for polars](https://docs.pola.rs/user-guide/concepts/lazy-api/) and see if you can re-implement your solutions above using the Lazy API."
   ]
  },
  {
   "cell_type": "markdown",
   "metadata": {},
   "source": []
  }
 ],
 "metadata": {
  "kernelspec": {
   "display_name": ".venv",
   "language": "python",
   "name": "python3"
  },
  "language_info": {
   "codemirror_mode": {
    "name": "ipython",
    "version": 3
   },
   "file_extension": ".py",
   "mimetype": "text/x-python",
   "name": "python",
   "nbconvert_exporter": "python",
   "pygments_lexer": "ipython3",
   "version": "3.12.5"
  }
 },
 "nbformat": 4,
 "nbformat_minor": 2
}
