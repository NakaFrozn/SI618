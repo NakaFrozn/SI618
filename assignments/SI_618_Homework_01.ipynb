{
  "cells": [
    {
      "cell_type": "markdown",
      "metadata": {
        "id": "uIfBetH6W9jl"
      },
      "source": [
        "# **SI 618 - Homework #1: Dive into Data Manipulation**  \n",
        "*Version 2024.09.05.2.CT*\n",
        "\n",
        "---\n",
        "\n",
        "Welcome to your first homework assignment for **SI 618**! In this task, you'll explore the fundamentals of data manipulation, using real-world datasets to practice essential skills. Get ready to dive deep, solve some fun challenges, and level up your data wrangling game!"
      ]
    },
    {
      "cell_type": "markdown",
      "metadata": {
        "id": "lp5qbLWyW9jm"
      },
      "source": [
        "## **Background**  \n",
        "\n",
        "In this assignment, we’ll dive into some exciting **biometric data** and explore how exercise performance relates to key health metrics. 🚶‍♂️💪\n",
        "\n",
        "### Your Task:\n",
        "- You'll apply **data manipulation techniques** we've learned in class and from the readings.\n",
        "- Feel free to consult resources like:\n",
        "    - [**pandas documentation**](https://pandas.pydata.org/pandas-docs/stable/) 📘\n",
        "    - [**Stack Overflow**](https://stackoverflow.com/) 🌐\n",
        "    - [**Copilot**](https://github.com/features/copilot) (for code suggestions)\n",
        "\n",
        "Remember, the goal is to practice **real-world problem-solving** using data manipulation skills, so explore, test, and have fun with the data!"
      ]
    },
    {
      "cell_type": "markdown",
      "metadata": {
        "id": "oLWDooF4W9jn"
      },
      "source": [
        "### Scoring and Guidelines\n",
        "\n",
        "This assignment is worth a **total of 100 points**, with the breakdown of points shown beside each question. Please refer to the accompanying rubric on Canvas for more details.\n",
        "\n",
        "To earn **full points**, ensure the following:\n",
        "\n",
        "- Your code should conform to the [**PEP 8**](https://www.python.org/dev/peps/pep-0008/) style guidelines for Python. 🐍\n",
        "- Written responses should be:\n",
        "  - **Grammatically correct** and free of spelling errors.\n",
        "  - Following the [**Strunk & White**](https://drive.google.com/file/d/1L0P7xJwjUGBvyb49mL3dw1Bt7hzRTiTl/view) guidelines for clear and effective writing.\n",
        "\n",
        "### Code Structure\n",
        "\n",
        "- **Wrap your code in functions** wherever possible! This will make your code reusable for future assignments. 🔁\n",
        "- Don't forget to include:\n",
        "  - **Comments** (explain your thought process),\n",
        "  - **Docstrings** (describe your functions), and\n",
        "  - **Type hints** (specify the data types).\n",
        "  \n",
        "💡 **Reminder**: Undocumented code **will not** receive full credit."
      ]
    },
    {
      "cell_type": "markdown",
      "metadata": {
        "id": "8ywq05AEW9jn"
      },
      "source": [
        "### Important Notes for Submission\n",
        "\n",
        "- **Add as many cells as you need** to complete your work.  \n",
        "- Use:\n",
        "  - **\"Code\" cells** for writing your Python code, and\n",
        "  - **\"Markdown\" cells** for explanations, interpretations, and write-ups.\n",
        "  \n",
        "📝 **Pro tip**: After each question, insert new cells for your solutions and explanations!\n",
        "\n",
        "⚠️ **Note**: Please **do not remove** any of the existing cells in the notebook."
      ]
    },
    {
      "cell_type": "markdown",
      "metadata": {
        "id": "8EV1PilWtl0Z"
      },
      "source": [
        "## 📝 Answer the Following Questions\n",
        "\n",
        "Each question is worth a certain number of points, indicated beside the question.\n",
        "\n",
        "🔢 **Tip**: Make sure to provide detailed answers, and don't hesitate to use extra cells for your code and explanations!"
      ]
    },
    {
      "cell_type": "markdown",
      "metadata": {
        "id": "PfjXDtHoabcS",
        "tags": []
      },
      "source": [
        "### 🟢 Q1: Data Exploration with pandas (10 pts)\n",
        "\n",
        "This question focuses on writing code and exploring a pandas DataFrame. Note: **Biometric data is not required for this question.**\n",
        "\n",
        "#### 🔹 Q1a (2pt):\n",
        "List **5 methods or attributes** that can be used to explore a pandas DataFrame or Series. For each method/attribute, explain:\n",
        "- What it does, and\n",
        "- How it can help explore the data.\n",
        "\n",
        "Make sure to write **complete sentences** for your explanations.\n"
      ]
    },
    {
      "cell_type": "markdown",
      "metadata": {},
      "source": [
        "1. `describe()`: we can use `describe()` to get the basic descriptive statistics for a DataFrame, including $n$,. mean and standard deviation.\n",
        "\n",
        "2. `info()`: `info()` provides basic information including non-null values, data types and memory usage of a DataFrame. We can use `info()` to check the non-null values in each column and the data types of each column.\n",
        "\n",
        "3. `shape`: `shape` returns a tuple representing the dimensions of the DataFrame. We can use `shape` to check the number of rows and columns of a DataFrame.\n",
        "\n",
        "4. `head()`: `head()` returns the first $n$ rows of a DataFrame. We can use `head()` to check the first few rows of a DataFrame to get a basic sense of the data.\n",
        "\n",
        "5. `value_counts()`: `value_counts()` returns the frequencies of unique values in a column. We can use `value_counts()` to check the unique values of a column and the distribution.\n"
      ]
    },
    {
      "cell_type": "markdown",
      "metadata": {},
      "source": [
        "\n",
        "#### 🔹 Q1b (4pt):\n",
        "\n",
        "Write a function to generate a **pandas DataFrame** with the following parameters:\n",
        "1. **Number of rows**: The number of rows for the DataFrame.\n",
        "2. **Number of columns**: The number of columns for the DataFrame\n",
        "3. **Optional column names**: A list of column names (if not provided, default to integers starting from 0 up to number_of_columns - 1).\n",
        "4. **Optional row index values**: A list of row index values (if not provided, default to integers starting from 0 up to number_of_rows - 1).\n",
        "5. **Optional random seed**: default = 12345\n",
        "\n",
        "#### Example - DataFrame\n",
        "\n",
        "![image.png](data:image/png;base64,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)\n",
        "\n",
        "The DataFrame should be filled with **random values** between -1 and 1.\n"
      ]
    },
    {
      "cell_type": "markdown",
      "metadata": {},
      "source": [
        "\n",
        "#### 🔹 Q1c (4pt):\n",
        "Use the function you created to make a DataFrame with:\n",
        "- Columns: `['a', 'b', 'c']`\n",
        "- Index: `['x', 'y', 'z']`\n",
        "\n",
        "Apply the **5 methods/attributes** you listed in Q1a to explore this DataFrame. For each method, write a short explanation of what you learned from it."
      ]
    },
    {
      "cell_type": "code",
      "execution_count": 16,
      "metadata": {},
      "outputs": [],
      "source": [
        "# Prerequisites packages\n",
        "import pandas as pd\n",
        "import matplotlib.pyplot as plt"
      ]
    },
    {
      "cell_type": "code",
      "execution_count": 2,
      "metadata": {
        "id": "AzPzh-1OZMiR"
      },
      "outputs": [],
      "source": [
        "\n",
        "# Q1b\n",
        "def create_data_frame(nrows:int, ncols:int, col_names:list = None, row_index:list = None, random_seed:int = 12345) -> pd.DataFrame:\n",
        "    '''\n",
        "    Create a DataFrame containing random numbers range from [-1,1) with the specified number of rows and columns, column names, row index, and random seed.\n",
        "    \n",
        "    Parameters:\n",
        "    -----------\n",
        "    nrows: int - number of rows in the DataFrame\n",
        "    ncols: int - number of columns in the DataFrame\n",
        "    col_names: list - list of column names (if not provided, default to integers starting from 0 up to number_of_columns - 1)\n",
        "    row_index: list - list of row index (if not provided, default to integers starting from 0 up to number_of_rows - 1)\n",
        "    random_seed: int - random seed to set for generating random numbers. random_seed is set to 12345 by default\n",
        "    \n",
        "    Returns:\n",
        "    --------\n",
        "    pandas.DataFrame - DataFrame with the specified number of rows and columns, column names, row index, and random seed\n",
        "    '''\n",
        "    import numpy as np\n",
        "    np.random.seed(random_seed)\n",
        "    \n",
        "    if col_names is None:\n",
        "        col_names = list(range(ncols)) # generate the default column names\n",
        "\n",
        "    if row_index is None:\n",
        "        row_index = list(range(nrows)) # generate the default row index \n",
        "\n",
        "    df = pd.DataFrame(np.random.uniform(-1, 1, (nrows, ncols)), columns=col_names, index=row_index)\n",
        "    \n",
        "    return df\n"
      ]
    },
    {
      "cell_type": "code",
      "execution_count": 4,
      "metadata": {},
      "outputs": [
        {
          "data": {
            "text/html": [
              "<div>\n",
              "<style scoped>\n",
              "    .dataframe tbody tr th:only-of-type {\n",
              "        vertical-align: middle;\n",
              "    }\n",
              "\n",
              "    .dataframe tbody tr th {\n",
              "        vertical-align: top;\n",
              "    }\n",
              "\n",
              "    .dataframe thead th {\n",
              "        text-align: right;\n",
              "    }\n",
              "</style>\n",
              "<table border=\"1\" class=\"dataframe\">\n",
              "  <thead>\n",
              "    <tr style=\"text-align: right;\">\n",
              "      <th></th>\n",
              "      <th>a</th>\n",
              "      <th>b</th>\n",
              "      <th>c</th>\n",
              "    </tr>\n",
              "  </thead>\n",
              "  <tbody>\n",
              "    <tr>\n",
              "      <th>count</th>\n",
              "      <td>3.000000</td>\n",
              "      <td>3.000000</td>\n",
              "      <td>3.000000</td>\n",
              "    </tr>\n",
              "    <tr>\n",
              "      <th>mean</th>\n",
              "      <td>0.399127</td>\n",
              "      <td>0.024852</td>\n",
              "      <td>0.018913</td>\n",
              "    </tr>\n",
              "    <tr>\n",
              "      <th>std</th>\n",
              "      <td>0.858081</td>\n",
              "      <td>0.350156</td>\n",
              "      <td>0.584333</td>\n",
              "    </tr>\n",
              "    <tr>\n",
              "      <th>min</th>\n",
              "      <td>-0.590879</td>\n",
              "      <td>-0.367249</td>\n",
              "      <td>-0.632162</td>\n",
              "    </tr>\n",
              "    <tr>\n",
              "      <th>25%</th>\n",
              "      <td>0.134176</td>\n",
              "      <td>-0.115899</td>\n",
              "      <td>-0.220536</td>\n",
              "    </tr>\n",
              "    <tr>\n",
              "      <th>50%</th>\n",
              "      <td>0.859232</td>\n",
              "      <td>0.135450</td>\n",
              "      <td>0.191089</td>\n",
              "    </tr>\n",
              "    <tr>\n",
              "      <th>75%</th>\n",
              "      <td>0.894131</td>\n",
              "      <td>0.220902</td>\n",
              "      <td>0.344451</td>\n",
              "    </tr>\n",
              "    <tr>\n",
              "      <th>max</th>\n",
              "      <td>0.929029</td>\n",
              "      <td>0.306354</td>\n",
              "      <td>0.497813</td>\n",
              "    </tr>\n",
              "  </tbody>\n",
              "</table>\n",
              "</div>"
            ],
            "text/plain": [
              "              a         b         c\n",
              "count  3.000000  3.000000  3.000000\n",
              "mean   0.399127  0.024852  0.018913\n",
              "std    0.858081  0.350156  0.584333\n",
              "min   -0.590879 -0.367249 -0.632162\n",
              "25%    0.134176 -0.115899 -0.220536\n",
              "50%    0.859232  0.135450  0.191089\n",
              "75%    0.894131  0.220902  0.344451\n",
              "max    0.929029  0.306354  0.497813"
            ]
          },
          "execution_count": 4,
          "metadata": {},
          "output_type": "execute_result"
        }
      ],
      "source": [
        "# Q1c\n",
        "data = create_data_frame(3,3, col_names=['a', 'b', 'c'], row_index=['x', 'y', 'z']) # create the dataframe\n",
        "data.describe() # display the summary statistics of the dataframe"
      ]
    },
    {
      "cell_type": "markdown",
      "metadata": {},
      "source": [
        "The DataFrame has 3 columns and 3 rows with no missing values. All the values are between -1 and 1. The mean values of the three variables being close to 0. The standard deviations of three variables are a bit different. Variable `a` has a more sparse distribution."
      ]
    },
    {
      "cell_type": "markdown",
      "metadata": {
        "id": "Pr9WBUQyZY4V",
        "tags": []
      },
      "source": [
        "## 📥 Download the Data\n",
        "\n",
        "Please download the dataset from the following link:  \n",
        "[**Kaggle: Body Performance Data**](https://www.kaggle.com/kukuroo3/body-performance-data)\n",
        "\n",
        "💡 **Tip**: Make sure you're logged into your Kaggle account before downloading."
      ]
    },
    {
      "cell_type": "markdown",
      "metadata": {
        "id": "VOXQh4mIW9jo"
      },
      "source": [
        "### 🟢 Q2: Median Statistics (5 pt)\n",
        "\n",
        "Implement a function to calculate the **median age, height, and weight** of individuals in the dataset, **without** using `pd.DataFrame.describe()`.\n",
        "\n",
        "- **Rounding**: Round the results to the nearest whole number.\n",
        "- **Units**: Be sure to indicate the units for each variable in your write-up.\n",
        "\n",
        "#### 🔹 Summary:\n",
        "Write 1-2 sentences summarizing the output of your function, clearly stating the median values for age, height, and weight, and mentioning the units."
      ]
    },
    {
      "cell_type": "code",
      "execution_count": 6,
      "metadata": {
        "id": "itPqp1DebAkg"
      },
      "outputs": [
        {
          "name": "stdout",
          "output_type": "stream",
          "text": [
            "The median age is 32 years, the median height is 169 cm, and the median weight is 67 kg.\n",
            "All the results are rounded to the nearest whole number.\n"
          ]
        }
      ],
      "source": [
        "df_body = pd.read_csv(\"../data/bodyPerformance.csv\", header=0) # read in the body performance dataset\n",
        "median_age = round(df_body['age'].median()) # calculate the median age\n",
        "median_height = round(df_body['height_cm'].median()) # calculate the median height (cm)\n",
        "median_weight = round(df_body['weight_kg'].median()) # calculate the median weight (kg)\n",
        "print(f\"The median age is {median_age} years, the median height is {median_height} cm, and the median weight is {median_weight} kg.\") # display the results\n",
        "print(\"All the results are rounded to the nearest whole number.\")"
      ]
    },
    {
      "cell_type": "markdown",
      "metadata": {},
      "source": [
        "The median age is 32 years, the median height is 169 cm, and the median weight is 67 kg. (All the results are rounded to the nearest whole number.)"
      ]
    },
    {
      "cell_type": "markdown",
      "metadata": {
        "id": "LOq_nIfRW9jp"
      },
      "source": [
        "### 🟢 Q3: Detecting Anomalies (5 pt)\n",
        "\n",
        "Investigate the dataset for **anomalous data points**. Consider the following example:\n",
        "- **Diastolic blood pressure** being higher than **systolic blood pressure** is physiologically impossible.\n",
        "\n",
        "But don’t stop there! 🚩 Explore the data for other potential anomalies as well.\n",
        "\n",
        "Think about the following as you attempt the next task\n",
        " - Logical Indexing / Boolean Indexing\n",
        " - Filter using quantile values\n",
        "\n",
        "\n",
        "#### 🔹 Task:\n",
        "- Identify any other types of anomalies that might exist.\n",
        "- Write 1-2 sentences summarizing your findings and insights from the data.\n",
        "\n",
        "💡 **Hint**: Think about physiologically or statistically unusual values in the dataset."
      ]
    },
    {
      "cell_type": "code",
      "execution_count": 7,
      "metadata": {
        "id": "nD3fOdYIbCOF"
      },
      "outputs": [
        {
          "data": {
            "text/html": [
              "<div>\n",
              "<style scoped>\n",
              "    .dataframe tbody tr th:only-of-type {\n",
              "        vertical-align: middle;\n",
              "    }\n",
              "\n",
              "    .dataframe tbody tr th {\n",
              "        vertical-align: top;\n",
              "    }\n",
              "\n",
              "    .dataframe thead th {\n",
              "        text-align: right;\n",
              "    }\n",
              "</style>\n",
              "<table border=\"1\" class=\"dataframe\">\n",
              "  <thead>\n",
              "    <tr style=\"text-align: right;\">\n",
              "      <th></th>\n",
              "      <th>age</th>\n",
              "      <th>height_cm</th>\n",
              "      <th>weight_kg</th>\n",
              "      <th>body fat_%</th>\n",
              "      <th>diastolic</th>\n",
              "      <th>systolic</th>\n",
              "      <th>gripForce</th>\n",
              "      <th>sit and bend forward_cm</th>\n",
              "      <th>sit-ups counts</th>\n",
              "      <th>broad jump_cm</th>\n",
              "    </tr>\n",
              "  </thead>\n",
              "  <tbody>\n",
              "    <tr>\n",
              "      <th>count</th>\n",
              "      <td>13393.000000</td>\n",
              "      <td>13393.000000</td>\n",
              "      <td>13393.000000</td>\n",
              "      <td>13393.000000</td>\n",
              "      <td>13393.000000</td>\n",
              "      <td>13393.000000</td>\n",
              "      <td>13393.000000</td>\n",
              "      <td>13393.000000</td>\n",
              "      <td>13393.000000</td>\n",
              "      <td>13393.000000</td>\n",
              "    </tr>\n",
              "    <tr>\n",
              "      <th>mean</th>\n",
              "      <td>36.775106</td>\n",
              "      <td>168.559807</td>\n",
              "      <td>67.447316</td>\n",
              "      <td>23.240165</td>\n",
              "      <td>78.796842</td>\n",
              "      <td>130.234817</td>\n",
              "      <td>36.963877</td>\n",
              "      <td>15.209268</td>\n",
              "      <td>39.771224</td>\n",
              "      <td>190.129627</td>\n",
              "    </tr>\n",
              "    <tr>\n",
              "      <th>std</th>\n",
              "      <td>13.625639</td>\n",
              "      <td>8.426583</td>\n",
              "      <td>11.949666</td>\n",
              "      <td>7.256844</td>\n",
              "      <td>10.742033</td>\n",
              "      <td>14.713954</td>\n",
              "      <td>10.624864</td>\n",
              "      <td>8.456677</td>\n",
              "      <td>14.276698</td>\n",
              "      <td>39.868000</td>\n",
              "    </tr>\n",
              "    <tr>\n",
              "      <th>min</th>\n",
              "      <td>21.000000</td>\n",
              "      <td>125.000000</td>\n",
              "      <td>26.300000</td>\n",
              "      <td>3.000000</td>\n",
              "      <td>0.000000</td>\n",
              "      <td>0.000000</td>\n",
              "      <td>0.000000</td>\n",
              "      <td>-25.000000</td>\n",
              "      <td>0.000000</td>\n",
              "      <td>0.000000</td>\n",
              "    </tr>\n",
              "    <tr>\n",
              "      <th>25%</th>\n",
              "      <td>25.000000</td>\n",
              "      <td>162.400000</td>\n",
              "      <td>58.200000</td>\n",
              "      <td>18.000000</td>\n",
              "      <td>71.000000</td>\n",
              "      <td>120.000000</td>\n",
              "      <td>27.500000</td>\n",
              "      <td>10.900000</td>\n",
              "      <td>30.000000</td>\n",
              "      <td>162.000000</td>\n",
              "    </tr>\n",
              "    <tr>\n",
              "      <th>50%</th>\n",
              "      <td>32.000000</td>\n",
              "      <td>169.200000</td>\n",
              "      <td>67.400000</td>\n",
              "      <td>22.800000</td>\n",
              "      <td>79.000000</td>\n",
              "      <td>130.000000</td>\n",
              "      <td>37.900000</td>\n",
              "      <td>16.200000</td>\n",
              "      <td>41.000000</td>\n",
              "      <td>193.000000</td>\n",
              "    </tr>\n",
              "    <tr>\n",
              "      <th>75%</th>\n",
              "      <td>48.000000</td>\n",
              "      <td>174.800000</td>\n",
              "      <td>75.300000</td>\n",
              "      <td>28.000000</td>\n",
              "      <td>86.000000</td>\n",
              "      <td>141.000000</td>\n",
              "      <td>45.200000</td>\n",
              "      <td>20.700000</td>\n",
              "      <td>50.000000</td>\n",
              "      <td>221.000000</td>\n",
              "    </tr>\n",
              "    <tr>\n",
              "      <th>max</th>\n",
              "      <td>64.000000</td>\n",
              "      <td>193.800000</td>\n",
              "      <td>138.100000</td>\n",
              "      <td>78.400000</td>\n",
              "      <td>156.200000</td>\n",
              "      <td>201.000000</td>\n",
              "      <td>70.500000</td>\n",
              "      <td>213.000000</td>\n",
              "      <td>80.000000</td>\n",
              "      <td>303.000000</td>\n",
              "    </tr>\n",
              "  </tbody>\n",
              "</table>\n",
              "</div>"
            ],
            "text/plain": [
              "                age     height_cm     weight_kg    body fat_%     diastolic  \\\n",
              "count  13393.000000  13393.000000  13393.000000  13393.000000  13393.000000   \n",
              "mean      36.775106    168.559807     67.447316     23.240165     78.796842   \n",
              "std       13.625639      8.426583     11.949666      7.256844     10.742033   \n",
              "min       21.000000    125.000000     26.300000      3.000000      0.000000   \n",
              "25%       25.000000    162.400000     58.200000     18.000000     71.000000   \n",
              "50%       32.000000    169.200000     67.400000     22.800000     79.000000   \n",
              "75%       48.000000    174.800000     75.300000     28.000000     86.000000   \n",
              "max       64.000000    193.800000    138.100000     78.400000    156.200000   \n",
              "\n",
              "           systolic     gripForce  sit and bend forward_cm  sit-ups counts  \\\n",
              "count  13393.000000  13393.000000             13393.000000    13393.000000   \n",
              "mean     130.234817     36.963877                15.209268       39.771224   \n",
              "std       14.713954     10.624864                 8.456677       14.276698   \n",
              "min        0.000000      0.000000               -25.000000        0.000000   \n",
              "25%      120.000000     27.500000                10.900000       30.000000   \n",
              "50%      130.000000     37.900000                16.200000       41.000000   \n",
              "75%      141.000000     45.200000                20.700000       50.000000   \n",
              "max      201.000000     70.500000               213.000000       80.000000   \n",
              "\n",
              "       broad jump_cm  \n",
              "count   13393.000000  \n",
              "mean      190.129627  \n",
              "std        39.868000  \n",
              "min         0.000000  \n",
              "25%       162.000000  \n",
              "50%       193.000000  \n",
              "75%       221.000000  \n",
              "max       303.000000  "
            ]
          },
          "execution_count": 7,
          "metadata": {},
          "output_type": "execute_result"
        }
      ],
      "source": [
        "df_body.describe()"
      ]
    },
    {
      "cell_type": "code",
      "execution_count": 10,
      "metadata": {},
      "outputs": [
        {
          "data": {
            "text/html": [
              "<div>\n",
              "<style scoped>\n",
              "    .dataframe tbody tr th:only-of-type {\n",
              "        vertical-align: middle;\n",
              "    }\n",
              "\n",
              "    .dataframe tbody tr th {\n",
              "        vertical-align: top;\n",
              "    }\n",
              "\n",
              "    .dataframe thead th {\n",
              "        text-align: right;\n",
              "    }\n",
              "</style>\n",
              "<table border=\"1\" class=\"dataframe\">\n",
              "  <thead>\n",
              "    <tr style=\"text-align: right;\">\n",
              "      <th></th>\n",
              "      <th>age</th>\n",
              "      <th>height_cm</th>\n",
              "      <th>weight_kg</th>\n",
              "      <th>body fat_%</th>\n",
              "      <th>diastolic</th>\n",
              "      <th>systolic</th>\n",
              "      <th>gripForce</th>\n",
              "      <th>sit and bend forward_cm</th>\n",
              "      <th>sit-ups counts</th>\n",
              "      <th>broad jump_cm</th>\n",
              "    </tr>\n",
              "  </thead>\n",
              "  <tbody>\n",
              "    <tr>\n",
              "      <th>count</th>\n",
              "      <td>13378.000000</td>\n",
              "      <td>13378.000000</td>\n",
              "      <td>13378.000000</td>\n",
              "      <td>13378.000000</td>\n",
              "      <td>13378.000000</td>\n",
              "      <td>13378.000000</td>\n",
              "      <td>13378.000000</td>\n",
              "      <td>13378.000000</td>\n",
              "      <td>13378.000000</td>\n",
              "      <td>13378.000000</td>\n",
              "    </tr>\n",
              "    <tr>\n",
              "      <th>mean</th>\n",
              "      <td>36.768501</td>\n",
              "      <td>168.564255</td>\n",
              "      <td>67.447521</td>\n",
              "      <td>23.234708</td>\n",
              "      <td>78.801144</td>\n",
              "      <td>130.264090</td>\n",
              "      <td>36.970811</td>\n",
              "      <td>15.209309</td>\n",
              "      <td>39.786216</td>\n",
              "      <td>190.273367</td>\n",
              "    </tr>\n",
              "    <tr>\n",
              "      <th>std</th>\n",
              "      <td>13.622518</td>\n",
              "      <td>8.425821</td>\n",
              "      <td>11.947601</td>\n",
              "      <td>7.252437</td>\n",
              "      <td>10.694893</td>\n",
              "      <td>14.616208</td>\n",
              "      <td>10.618461</td>\n",
              "      <td>8.456743</td>\n",
              "      <td>14.257565</td>\n",
              "      <td>39.543671</td>\n",
              "    </tr>\n",
              "    <tr>\n",
              "      <th>min</th>\n",
              "      <td>21.000000</td>\n",
              "      <td>125.000000</td>\n",
              "      <td>26.300000</td>\n",
              "      <td>3.000000</td>\n",
              "      <td>6.000000</td>\n",
              "      <td>77.000000</td>\n",
              "      <td>0.000000</td>\n",
              "      <td>-25.000000</td>\n",
              "      <td>0.000000</td>\n",
              "      <td>20.000000</td>\n",
              "    </tr>\n",
              "    <tr>\n",
              "      <th>25%</th>\n",
              "      <td>25.000000</td>\n",
              "      <td>162.400000</td>\n",
              "      <td>58.200000</td>\n",
              "      <td>18.000000</td>\n",
              "      <td>71.000000</td>\n",
              "      <td>120.000000</td>\n",
              "      <td>27.500000</td>\n",
              "      <td>10.900000</td>\n",
              "      <td>30.000000</td>\n",
              "      <td>162.000000</td>\n",
              "    </tr>\n",
              "    <tr>\n",
              "      <th>50%</th>\n",
              "      <td>32.000000</td>\n",
              "      <td>169.200000</td>\n",
              "      <td>67.420000</td>\n",
              "      <td>22.800000</td>\n",
              "      <td>79.000000</td>\n",
              "      <td>130.000000</td>\n",
              "      <td>37.900000</td>\n",
              "      <td>16.200000</td>\n",
              "      <td>41.000000</td>\n",
              "      <td>193.000000</td>\n",
              "    </tr>\n",
              "    <tr>\n",
              "      <th>75%</th>\n",
              "      <td>48.000000</td>\n",
              "      <td>174.800000</td>\n",
              "      <td>75.300000</td>\n",
              "      <td>28.000000</td>\n",
              "      <td>86.000000</td>\n",
              "      <td>141.000000</td>\n",
              "      <td>45.200000</td>\n",
              "      <td>20.700000</td>\n",
              "      <td>50.000000</td>\n",
              "      <td>221.000000</td>\n",
              "    </tr>\n",
              "    <tr>\n",
              "      <th>max</th>\n",
              "      <td>64.000000</td>\n",
              "      <td>193.800000</td>\n",
              "      <td>138.100000</td>\n",
              "      <td>78.400000</td>\n",
              "      <td>126.000000</td>\n",
              "      <td>201.000000</td>\n",
              "      <td>70.500000</td>\n",
              "      <td>213.000000</td>\n",
              "      <td>80.000000</td>\n",
              "      <td>303.000000</td>\n",
              "    </tr>\n",
              "  </tbody>\n",
              "</table>\n",
              "</div>"
            ],
            "text/plain": [
              "                age     height_cm     weight_kg    body fat_%     diastolic  \\\n",
              "count  13378.000000  13378.000000  13378.000000  13378.000000  13378.000000   \n",
              "mean      36.768501    168.564255     67.447521     23.234708     78.801144   \n",
              "std       13.622518      8.425821     11.947601      7.252437     10.694893   \n",
              "min       21.000000    125.000000     26.300000      3.000000      6.000000   \n",
              "25%       25.000000    162.400000     58.200000     18.000000     71.000000   \n",
              "50%       32.000000    169.200000     67.420000     22.800000     79.000000   \n",
              "75%       48.000000    174.800000     75.300000     28.000000     86.000000   \n",
              "max       64.000000    193.800000    138.100000     78.400000    126.000000   \n",
              "\n",
              "           systolic     gripForce  sit and bend forward_cm  sit-ups counts  \\\n",
              "count  13378.000000  13378.000000             13378.000000    13378.000000   \n",
              "mean     130.264090     36.970811                15.209309       39.786216   \n",
              "std       14.616208     10.618461                 8.456743       14.257565   \n",
              "min       77.000000      0.000000               -25.000000        0.000000   \n",
              "25%      120.000000     27.500000                10.900000       30.000000   \n",
              "50%      130.000000     37.900000                16.200000       41.000000   \n",
              "75%      141.000000     45.200000                20.700000       50.000000   \n",
              "max      201.000000     70.500000               213.000000       80.000000   \n",
              "\n",
              "       broad jump_cm  \n",
              "count   13378.000000  \n",
              "mean      190.273367  \n",
              "std        39.543671  \n",
              "min        20.000000  \n",
              "25%       162.000000  \n",
              "50%       193.000000  \n",
              "75%       221.000000  \n",
              "max       303.000000  "
            ]
          },
          "execution_count": 10,
          "metadata": {},
          "output_type": "execute_result"
        }
      ],
      "source": [
        "df_body[(df_body.diastolic <= df_body.systolic) & \n",
        "        (df_body['broad jump_cm'] >0) & \n",
        "        (df_body.diastolic > 0) & \n",
        "        (df_body.systolic > 0) ].describe()"
      ]
    },
    {
      "cell_type": "markdown",
      "metadata": {},
      "source": [
        "Some anomalies data points:\n",
        "1. Some data points with diastolic blood pressure higher than systolic blood pressure.\n",
        "2. Some data points with 0 mmHg diastolic blood pressure or 0 mmHg systolic blood pressure.\n",
        "3. Filtering out these data points, some data points with too low diastolic blood pressure (lowest  6 mmHg)\n",
        "4. Some data points with 0 cm broad jump distance, which is quite not possible."
      ]
    },
    {
      "cell_type": "markdown",
      "metadata": {
        "id": "F1m7fnqYW9jp"
      },
      "source": [
        "### 🟢 Q4: Visualizing Age, Weight, and Height (10 pt)\n",
        "\n",
        "Your task is to generate **histogram plots** to visualize the differences in **age, weight, and height** between gender M and gender F participants.\n",
        "\n",
        "#### 🔹 Instructions:\n",
        "- Create the histograms using **only** the **matplotlib-pandas** integration (you cannot use Seaborn, Bokeh, or Plotly).\n",
        "- After generating the plots, write a brief description of each, pointing out any interesting observations or patterns you notice.\n",
        "\n",
        "💡 **Hint**: Look for differences in distribution, outliers, or trends between the genders."
      ]
    },
    {
      "cell_type": "code",
      "execution_count": 18,
      "metadata": {
        "id": "V5NzQrFjbED1"
      },
      "outputs": [
        {
          "data": {
            "text/plain": [
              "gender\n",
              "F    Axes(0.125,0.11;0.775x0.77)\n",
              "M    Axes(0.125,0.11;0.775x0.77)\n",
              "Name: age, dtype: object"
            ]
          },
          "execution_count": 18,
          "metadata": {},
          "output_type": "execute_result"
        },
        {
          "data": {
            "image/png": "[encoded data removed]",
            "text/plain": [
              "<Figure size 640x480 with 1 Axes>"
            ]
          },
          "metadata": {},
          "output_type": "display_data"
        }
      ],
      "source": [
        "df_body.groupby('gender')['age'].plot(kind='hist', alpha=0.5, legend=True, title='Age distributions for Female and Male Participants')"
      ]
    },
    {
      "cell_type": "markdown",
      "metadata": {},
      "source": [
        "For both genders, we have most respondents aged between 20 and 30 years. Generally we have more male participants than female participants, especially in the age group of 20-40 years old. "
      ]
    },
    {
      "cell_type": "markdown",
      "metadata": {
        "id": "0u5VM5ksbCTm"
      },
      "source": [
        "### 🟢 Q5: Understanding Blood Pressure Categories (15 pt)\n",
        "\n",
        "#### Background:\n",
        "Blood pressure is measured using two numbers:\n",
        "- **Systolic** (the upper number)\n",
        "- **Diastolic** (the lower number)\n",
        "\n",
        "For example, a blood pressure of **120/80** means the systolic pressure is **120 mm Hg** and the diastolic pressure is **80 mm Hg**. Blood pressure readings are important for identifying heart health and are classified into several categories. Here’s a quick summary of the categories:\n",
        "\n",
        "| Category              | Systolic (mm Hg) | Diastolic (mm Hg) |\n",
        "|-----------------------|------------------|-------------------|\n",
        "| **Normal**            | Below 120        | Below 80          |\n",
        "| **Elevated**          | 120-129          | Below 80          |\n",
        "| **Stage 1 Hypertension** | 130-139       | 80-89             |\n",
        "| **Stage 2 Hypertension** | 140 or higher | 90 or higher      |\n",
        "| **Hypertensive Crisis** | Higher than 180 | Higher than 120   |\n",
        "\n",
        "#### 🔹 Task:\n",
        "\n",
        "**Part A (8 pt):**  \n",
        "Using the categories above, report the **number of people** who fall into each blood pressure category in the dataset.\n",
        "\n",
        "**Part B (7 pt):**  \n",
        "In 2017, the blood pressure guidelines changed:\n",
        "- **Before 2017**, hypertension was defined as a systolic pressure of **140 mm Hg** or more for people younger than 65, and **150 mm Hg** or more for those aged 65 and older.\n",
        "- **After 2017**, hypertension is defined at a lower level (starting at 130/80 mm Hg).\n",
        "\n",
        "#### Your Job:\n",
        "1. Analyze how the **change in guidelines** affects the classification of individuals.\n",
        "    - For example: how many people were considered hypertensive before 2017, and how many are classified as hypertensive after the change?\n",
        "2. Make reasonable assumptions about how to use systolic and diastolic pressures for your analysis. Clearly state these assumptions in your write-up.\n",
        "\n",
        "💡 **Hint**: Consider analyzing the data for different age groups (<65 and 65+), and decide whether to base your categorization on systolic, diastolic, or both measures.\n",
        "\n",
        "#### 🔹 Summary:\n",
        "- Clearly report the number of people in each category.\n",
        "- Discuss how the new guidelines (post-2017) affect the classification compared to the old guidelines.\n",
        "Blood pressure measurements fall into several categories:\n",
        "\n",
        "**Normal Blood Pressure** - Your blood pressure is normal if it's below 120/80 mm Hg.\n",
        "\n",
        "**Elevated Blood Pressure** - Elevated blood pressure is a systolic pressure ranging from 120 to 129 mm Hg and a diastolic pressure below (not above) 80 mm Hg. Elevated blood pressure may also be called prehypertension.\n",
        "\n",
        "**Stage 1 Hypertension** - Stage 1 hypertension is a systolic pressure ranging from 130 to 139 mm Hg or a diastolic pressure ranging from 80 to 89 mm Hg.\n",
        "\n",
        "**Stage 2 Hypertension** - More-severe hypertension, stage 2 hypertension is a systolic pressure of 140 mm Hg or higher or a diastolic pressure of 90 mm Hg or higher.\n",
        "\n",
        "**Hypertensive Crisis** - A blood pressure measurement higher than 180/120 mm Hg is an emergency situation that requires urgent medical care.\n",
        "\n",
        "a) Report the number of people in each of those categories.\n",
        "\n",
        "b) The guidelines were recently changed: prior to 2017, the guidelines set the threshold at 140/90 mm Hg for people younger than age 65 and 150/80 mm Hg for those ages 65 and older to be diagnosed with hypertension. Create and implement analyses that allow you to demonstrate how the change in guidelines affects the categorization of people into the different categories.\n",
        "Make reasonable assumptions (and state them) about whether to use diastolic, systolic, both, or either of those measures when implementing your analysis.  Note that the new guidelines offer more categories than the older guidelines."
      ]
    },
    {
      "cell_type": "code",
      "execution_count": 56,
      "metadata": {},
      "outputs": [],
      "source": [
        "def categorize_blood_pressure(systolic, diastolic, age, new_rule = True):\n",
        "    '''\n",
        "        This function categorizes blood pressure based on the systolic and diastolic blood pressure data.\n",
        "        The function presumes using the new rule by default.\n",
        "    '''\n",
        "    if systolic < 120 and diastolic < 80:\n",
        "        return 'Normal'\n",
        "    elif 120 <= systolic <= 129 and diastolic < 80:\n",
        "        return 'Elevated'\n",
        "    elif 130 <= systolic <= 139 or 80 <= diastolic <= 89:\n",
        "        return 'Stage 1 Hypertension'\n",
        "    elif systolic >= 140 or diastolic >= 90:\n",
        "        return 'Stage 2 Hypertension'\n",
        "    elif systolic > 180 or diastolic > 120:\n",
        "        return 'Hypertensive Crisis'\n",
        "    else:\n",
        "        return 'Undefined'\n",
        "\n",
        "def categorize_hypertension(systolic, diastolic, age, new_rule = True):\n",
        "    '''\n",
        "        This function categorizes hypertension based on the systolic and diastolic blood pressure data.\n",
        "        The function presumes using the new rule by default.\n",
        "    '''\n",
        "    if new_rule:\n",
        "        if systolic >= 130 or diastolic >= 80:\n",
        "            return 'Hypertensive'\n",
        "        else:\n",
        "            return 'Non-Hypertensive'\n",
        "    else:\n",
        "        if systolic >= 140 and age<65:\n",
        "            return 'Hypertensive'\n",
        "        elif systolic >= 150 and age>=65:\n",
        "            return 'Hypertensive'\n",
        "        else: \n",
        "            return 'Non-Hypertensive'\n",
        "        \n",
        "def categorize_age(age):\n",
        "    if age < 55:\n",
        "        return 'Under 55'\n",
        "    else:    \n",
        "        return '55+'\n",
        "    "
      ]
    },
    {
      "cell_type": "code",
      "execution_count": 42,
      "metadata": {},
      "outputs": [
        {
          "name": "stdout",
          "output_type": "stream",
          "text": [
            "BP_Category\n",
            "Normal                  2898\n",
            "Elevated                2090\n",
            "Stage 1 Hypertension    5936\n",
            "Stage 2 Hypertension    2469\n",
            "Hypertensive Crisis        0\n",
            "Undefined                  0\n",
            "Name: count, dtype: int64\n"
          ]
        }
      ],
      "source": [
        "# Output the frequencies of each blood pressure category under the post-2017 rule\n",
        "categories_order = ['Normal', 'Elevated', 'Stage 1 Hypertension', 'Stage 2 Hypertension', 'Hypertensive Crisis', 'Undefined'] # ensure the order of the categories\n",
        "df_body['BP_Category'] = df_body.apply(lambda row: categorize_blood_pressure(row['systolic'], row['diastolic'], row['age']), axis=1)\n",
        "df_body['BP_Category'] = pd.Categorical(df_body['BP_Category'], categories=categories_order, ordered=True)\n",
        "category_counts = df_body['BP_Category'].value_counts().sort_index()\n",
        "\n",
        "print(category_counts)"
      ]
    },
    {
      "cell_type": "code",
      "execution_count": 43,
      "metadata": {},
      "outputs": [
        {
          "name": "stdout",
          "output_type": "stream",
          "text": [
            "Hypertension_pre\n",
            "Non-Hypertensive    9630\n",
            "Hypertensive        3763\n",
            "Name: count, dtype: int64\n",
            "Hypertension_post\n",
            "Hypertensive        8405\n",
            "Non-Hypertensive    4988\n",
            "Name: count, dtype: int64\n"
          ]
        }
      ],
      "source": [
        "# Calculate the frequencies of hypertension under the pre-2017 rule and post-2017 rule\n",
        "df_body['Hypertension_pre'] = df_body.apply(lambda row: categorize_hypertension(row['systolic'], row['diastolic'], row['age'], new_rule=False), axis=1)\n",
        "df_body['Hypertension_post'] = df_body.apply(lambda row: categorize_hypertension(row['systolic'], row['diastolic'], row['age'], new_rule=True), axis=1)\n",
        "\n",
        "hypertension_pre_counts = df_body['Hypertension_pre'].value_counts()\n",
        "hypertension_post_counts = df_body['Hypertension_post'].value_counts()\n",
        "\n",
        "print(hypertension_pre_counts)\n",
        "print(hypertension_post_counts)"
      ]
    },
    {
      "cell_type": "code",
      "execution_count": 57,
      "metadata": {},
      "outputs": [
        {
          "name": "stdout",
          "output_type": "stream",
          "text": [
            "age_category\n",
            "Under 55    11126\n",
            "55+          2267\n",
            "Name: count, dtype: int64\n"
          ]
        }
      ],
      "source": [
        "df_body['age_category'] = df_body['age'].apply(categorize_age)\n",
        "print(df_body['age_category'].value_counts())"
      ]
    },
    {
      "cell_type": "code",
      "execution_count": 59,
      "metadata": {},
      "outputs": [
        {
          "name": "stdout",
          "output_type": "stream",
          "text": [
            "age_category  Hypertension_pre  Hypertension_post\n",
            "55+           Hypertensive      Hypertensive         1005\n",
            "              Non-Hypertensive  Non-Hypertensive      636\n",
            "                                Hypertensive          626\n",
            "Under 55      Non-Hypertensive  Non-Hypertensive     4352\n",
            "                                Hypertensive         4016\n",
            "              Hypertensive      Hypertensive         2758\n",
            "Name: count, dtype: int64\n"
          ]
        }
      ],
      "source": [
        "hypertension_age = df_body.groupby('age_category')[['Hypertension_pre', 'Hypertension_post']].value_counts()\n",
        "print(hypertension_age)"
      ]
    },
    {
      "cell_type": "markdown",
      "metadata": {
        "id": "2wH5ikUcbb16",
        "tags": []
      },
      "source": [
        "### 🟢 Q6: Creating Age Categories and Analyzing Sit-Ups (10 pt)\n",
        "\n",
        "Your task is to create a new variable called **\"age_class\"** that groups people into the following categories:\n",
        "- **\"early\"**: Age < 40\n",
        "- **\"middle\"**: Age between 40 and 60 (inclusive)\n",
        "- **\"late\"**: Age > 60\n",
        "\n",
        "#### 🔹 Steps:\n",
        "1. Create the **\"age_class\"** variable based on the conditions above.\n",
        "2. For each age group (\"early\", \"middle\", \"late\"):\n",
        "    - Report the **mean** number of sit-ups performed.\n",
        "    - Report the **median** number of sit-ups performed.\n",
        "\n",
        "💡 **Hint**: Make sure to check your code for correctness by verifying the results for a few random individuals in the dataset."
      ]
    },
    {
      "cell_type": "code",
      "execution_count": null,
      "metadata": {
        "id": "9O0YEuAZbOQM"
      },
      "outputs": [],
      "source": [
        "# your code goes here"
      ]
    },
    {
      "cell_type": "markdown",
      "metadata": {
        "id": "c9LfA_gHW9jq"
      },
      "source": [
        "### 🟢 Q7: Calculating and Visualizing BMI (15 pt)\n",
        "\n",
        "#### 🔹 Part A: Calculating BMI\n",
        "You’ll need to implement a function to calculate each person's **Body Mass Index (BMI)** using the following formula:\n",
        "- **BMI formula (metric system)**:  \n",
        "   ![image.png](data:image/png;base64,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)\n",
        "\n",
        "1. Write a function that accepts **weight (kg)** and **height (cm)** as parameters and returns the **BMI**.\n",
        "2. Use this function to create a new column in your DataFrame called **'BMI'**.\n",
        "\n",
        "💡 **Note**: The CDC provides a detailed explanation of BMI calculation, which you can refer to [here](https://www.cdc.gov/nccdphp/dnpao/growthcharts/training/bmiage/page5_1.html).\n",
        "\n",
        "#### 🔹 Part B: Visualizing BMI\n",
        "Once you’ve added the BMI values to your DataFrame, create two histograms of the BMI using the **pandas-matplotlib integration**:\n",
        "- One histogram for **gender F**.\n",
        "- One histogram for **gender M**.\n",
        "\n",
        "#### 🔹 Part C: Analysis\n",
        "Compare the two histograms and describe:\n",
        "- Any **similarities** in the distributions.\n",
        "- Any **differences** between gender F and gender M.\n",
        "\n",
        "💡 **Hint**: Think about aspects like the **shape of the distribution**, the **spread of BMI values**, and any **outliers** in the data."
      ]
    },
    {
      "cell_type": "code",
      "execution_count": null,
      "metadata": {
        "id": "Wnpz-kNibQGM"
      },
      "outputs": [],
      "source": [
        "# your code goes here"
      ]
    },
    {
      "cell_type": "markdown",
      "metadata": {
        "id": "7n5ybXFQcR-g"
      },
      "source": [
        "### 🟢 Q8: Comparing Health Metrics by Gender (12 pt)\n",
        "\n",
        "Your task is to compare the **mean values** of the following health metrics between **gender F** and **gender M**:\n",
        "- **Height** (cm)\n",
        "- **Weight** (kg)\n",
        "- **Body fat %**\n",
        "- **Grip force** (kg)\n",
        "- **Sit and bend forward** (cm)\n",
        "- **Sit-ups count** (reps)\n",
        "\n",
        "#### 🔹 Steps:\n",
        "1. **Quantitative Analysis**:  \n",
        "   - Use pandas to calculate the **mean values** for each metric for both gender F and gender M.\n",
        "   - Make sure to include the **units** for each metric in your summary.\n",
        "\n",
        "2. **Visual Analysis**:  \n",
        "   - Create visualizations (e.g., bar plots, histograms) to compare the distribution of these metrics between the two genders. Use **matplotlib** to generate these plots.\n",
        "\n",
        "3. **Functionality**:  \n",
        "   - Where possible, implement **functions** to perform these comparisons (e.g., a function that calculates mean values for each gender).\n",
        "\n",
        "#### 🔹 Summary:\n",
        "Write a brief summary of your findings, discussing:\n",
        "- The differences in the mean values between gender F and gender M.\n",
        "- Any interesting observations or patterns you notice in the visualizations.\n",
        "- Ensure you mention the **units** for each metric in your write-up."
      ]
    },
    {
      "cell_type": "markdown",
      "metadata": {
        "id": "wGoiQk8XbqHw"
      },
      "source": [
        "### 🟢 Q9: Calculating Fitness Scores (18 pt)\n",
        "\n",
        "In this task, you will assess the fitness levels of individuals using the following three metrics:\n",
        "- **Grip Force** (a measure of strength)\n",
        "- **Sit and Bend Forward** (a measure of flexibility)\n",
        "- **Sit-ups Count** (a measure of strength and endurance of abdominal and hip-flexor muscles)\n",
        "\n",
        "#### 🔹 Steps:\n",
        "\n",
        "1. **Calculate Z-scores**:\n",
        "   - For each of the three metrics, calculate the z-score using the following formula:\n",
        "\n",
        "$$\n",
        "   z = \\frac{x - \\mu}{\\sigma}\n",
        "$$\n",
        "\n",
        "Where:\n",
        "- $x$ is the individual’s score,\n",
        "- $\\mu$ is the mean of the metric, and\n",
        "- $\\sigma$ is the standard deviation of the metric.\n",
        "\n",
        "2. **Create a Fitness Score**:\n",
        "   - Create an **overall fitness score** by adding the z-scores of the three metrics together for each individual.\n",
        "\n",
        "3. **Categorize Fitness Levels**:\n",
        "   - Use `pd.qcut()` to assign each individual to one of four categories, from the **lowest fitness score** to the **highest fitness score**.\n",
        "\n",
        "4. **Function Implementation**:\n",
        "   - Implement one or more functions to perform these calculations and categorization.\n",
        "\n",
        "#### 🔹 Part A (10 pt):\n",
        "- Report the **number of individuals** in each of the four fitness score categories.\n",
        "\n",
        "#### 🔹 Part B (8 pt):\n",
        "- Compare your fitness categories to the `class` column in the dataset.\n",
        "- Write a brief summary commenting on:\n",
        "  - How closely your fitness categories correspond to the `class` column.\n",
        "  - Any interesting observations or discrepancies between the two.\n",
        "\n",
        "💡 **Hint**: Remember to include units in your analysis and write-up."
      ]
    },
    {
      "cell_type": "code",
      "execution_count": null,
      "metadata": {
        "id": "7hS6bPHmbii8"
      },
      "outputs": [],
      "source": [
        "# your code goes here"
      ]
    },
    {
      "cell_type": "markdown",
      "metadata": {
        "id": "zKkwrNfbJ9zN"
      },
      "source": [
        "### 🟢 IMPORTANT: Final Checks\n",
        "\n",
        "Before you submit your notebook, please ensure that:\n",
        "- Your complete notebook **runs without errors** from top to bottom.  \n",
        "  💡 **Tip**: Use the \"Run All\" feature to quickly check this.\n",
        "  \n",
        "---\n",
        "\n",
        "## 📤 Submission Instructions\n",
        "\n",
        "Submit your completed assignment in both of the following formats:\n",
        "1. **.IPYNB** (Jupyter Notebook format)\n",
        "2. **.HTML** (Webpage format)\n",
        "\n",
        "Upload your files to **Canvas** before the deadline.  Be sure to check that you have uploaded the correct files (e.g., don't accidentally submit an in-class notebook as your homework assignment)."
      ]
    },
    {
      "cell_type": "markdown",
      "metadata": {},
      "source": []
    }
  ],
  "metadata": {
    "colab": {
      "provenance": []
    },
    "kernelspec": {
      "display_name": "Python 3 (ipykernel)",
      "language": "python",
      "name": "python3"
    },
    "language_info": {
      "codemirror_mode": {
        "name": "ipython",
        "version": 3
      },
      "file_extension": ".py",
      "mimetype": "text/x-python",
      "name": "python",
      "nbconvert_exporter": "python",
      "pygments_lexer": "ipython3",
      "version": "3.11.8"
    }
  },
  "nbformat": 4,
  "nbformat_minor": 0
}
